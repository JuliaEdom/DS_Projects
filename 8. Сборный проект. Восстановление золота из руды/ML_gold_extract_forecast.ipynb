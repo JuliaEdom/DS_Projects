{
 "cells": [
  {
   "cell_type": "markdown",
   "metadata": {},
   "source": [
    "# Восстановление золота из руды"
   ]
  },
  {
   "cell_type": "markdown",
   "metadata": {},
   "source": [
    "Необходимо подготовить прототип модели машинного обучения для «Цифры». Компания разрабатывает решения для эффективной работы промышленных предприятий.\n",
    "\n",
    "Модель должна предсказать коэффициент восстановления золота из золотосодержащей руды, используя данные с параметрами добычи и очистки. \n",
    "\n",
    "Модель поможет оптимизировать производство, чтобы не запускать предприятие с убыточными характеристиками.\n",
    "\n",
    "Технологический процесс включает в себя стадию флотации (обогащение), а также две стадии очистки. На выходе каждой стадии получают концентрат и отвальные хвосты."
   ]
  },
  {
   "cell_type": "markdown",
   "metadata": {},
   "source": [
    "**Описание данных**\n",
    "\n",
    "    Технологический процесс\n",
    "        - Rougher feed — исходное сырье\n",
    "        - Rougher additions (или reagent additions) — флотационные реагенты: Xanthate, Sulphate, Depressant\n",
    "        - Rougher process (англ. «грубый процесс») — флотация\n",
    "        - Rougher tails — отвальные хвосты\n",
    "        - Float banks — флотационная установка\n",
    "        - Cleaner process — очистка\n",
    "        - Rougher Au — черновой концентрат золота\n",
    "        - Final Au — финальный концентрат золота\n",
    "\n",
    "    Параметры этапов\n",
    "        - air amount — объём воздуха\n",
    "        - fluid levels — уровень жидкости\n",
    "        - feed size — размер гранул сырья\n",
    "        - feed rate — скорость подачи\n",
    "\n",
    "    Наименование признаков\n",
    "        \n",
    "        Наименование признаков должно быть такое:\n",
    "        [этап].[тип_параметра].[название_параметра]\n",
    "        Пример: rougher.input.feed_ag\n",
    "    \n",
    "    Возможные значения для блока [этап]:\n",
    "        - rougher — флотация\n",
    "        - primary_cleaner — первичная очистка\n",
    "        - secondary_cleaner — вторичная очистка\n",
    "        - final — финальные характеристики\n",
    "    \n",
    "    Возможные значения для блока [тип_параметра]:\n",
    "        - input — параметры сырья\n",
    "        - output — параметры продукта\n",
    "        - state — параметры, характеризующие текущее состояние этапа\n",
    "        - calculation — расчётные характеристики"
   ]
  },
  {
   "cell_type": "markdown",
   "metadata": {},
   "source": [
    "Модель необходимо оценить на основании метрики качества — sMAPE (англ. Symmetric Mean Absolute Percentage Error, «симметричное среднее абсолютное процентное отклонение»)"
   ]
  },
  {
   "cell_type": "markdown",
   "metadata": {},
   "source": [
    "**План проекта**\n",
    "    \n",
    "    1.Подготовка данных\n",
    "          Посмотрим на исходные данные\n",
    "          Проверим расчет эффективночти обогащения\n",
    "          Признаки, недоступные в тестовой выборке\n",
    "          Предобработка данных\n",
    "    2. Анализ данных\n",
    "          Изменение концентрации металлов (Au, Ag, Pb) на различных этапах очистки\n",
    "          Сравнение распределения размеров гранул сырья на обучающей и тестовой выборках\n",
    "          Исследование суммарной концентрации всех веществ на разных стадиях: в сырье, в черновом и финальном концентратах\n",
    "    3. Модель\n",
    "          Подготовим признаки для обучения и тестирования\n",
    "          Определим функцию sMAPE, которая считает метрику качества модели\n",
    "          Масштабирование данных\n",
    "          Оценка качества моделей\n",
    "          Тестирование моделей\n",
    "    Заключение"
   ]
  },
  {
   "cell_type": "markdown",
   "metadata": {},
   "source": [
    "## 1. Подготовка данных"
   ]
  },
  {
   "cell_type": "markdown",
   "metadata": {},
   "source": [
    "### Посмотрим на исходные данные"
   ]
  },
  {
   "cell_type": "code",
   "execution_count": 1,
   "metadata": {
    "scrolled": true
   },
   "outputs": [
    {
     "name": "stdout",
     "output_type": "stream",
     "text": [
      "Requirement already satisfied: catboost in c:\\users\\julia\\anaconda3\\lib\\site-packages (1.0.4)\n",
      "Requirement already satisfied: graphviz in c:\\users\\julia\\anaconda3\\lib\\site-packages (from catboost) (0.19.1)\n",
      "Requirement already satisfied: numpy>=1.16.0 in c:\\users\\julia\\anaconda3\\lib\\site-packages (from catboost) (1.20.1)\n",
      "Requirement already satisfied: scipy in c:\\users\\julia\\anaconda3\\lib\\site-packages (from catboost) (1.6.2)\n",
      "Requirement already satisfied: matplotlib in c:\\users\\julia\\anaconda3\\lib\\site-packages (from catboost) (3.4.2)\n",
      "Requirement already satisfied: six in c:\\users\\julia\\anaconda3\\lib\\site-packages (from catboost) (1.15.0)\n",
      "Requirement already satisfied: plotly in c:\\users\\julia\\appdata\\roaming\\python\\python38\\site-packages (from catboost) (5.6.0)\n",
      "Requirement already satisfied: pandas>=0.24.0 in c:\\users\\julia\\anaconda3\\lib\\site-packages (from catboost) (1.2.4)\n",
      "Requirement already satisfied: pytz>=2017.3 in c:\\users\\julia\\anaconda3\\lib\\site-packages (from pandas>=0.24.0->catboost) (2021.1)\n",
      "Requirement already satisfied: python-dateutil>=2.7.3 in c:\\users\\julia\\anaconda3\\lib\\site-packages (from pandas>=0.24.0->catboost) (2.8.1)\n",
      "Requirement already satisfied: cycler>=0.10 in c:\\users\\julia\\anaconda3\\lib\\site-packages (from matplotlib->catboost) (0.10.0)\n",
      "Requirement already satisfied: pyparsing>=2.2.1 in c:\\users\\julia\\anaconda3\\lib\\site-packages (from matplotlib->catboost) (2.4.7)\n",
      "Requirement already satisfied: kiwisolver>=1.0.1 in c:\\users\\julia\\anaconda3\\lib\\site-packages (from matplotlib->catboost) (1.3.1)\n",
      "Requirement already satisfied: pillow>=6.2.0 in c:\\users\\julia\\anaconda3\\lib\\site-packages (from matplotlib->catboost) (8.2.0)\n",
      "Requirement already satisfied: tenacity>=6.2.0 in c:\\users\\julia\\anaconda3\\lib\\site-packages (from plotly->catboost) (8.0.1)\n"
     ]
    }
   ],
   "source": [
    "!pip install catboost\n",
    "import pandas as pd\n",
    "import numpy as np\n",
    "from scipy import stats as st\n",
    "import matplotlib.pyplot as plt\n",
    "import seaborn as sns\n",
    "from IPython.display import display\n",
    "from numpy.random import RandomState\n",
    "\n",
    "from sklearn.preprocessing import StandardScaler\n",
    "from sklearn.model_selection import cross_val_score, GridSearchCV\n",
    "from sklearn.linear_model import LinearRegression\n",
    "from sklearn.ensemble import RandomForestRegressor\n",
    "from sklearn.metrics import make_scorer, mean_absolute_error\n",
    "from sklearn.dummy import DummyRegressor\n",
    "\n",
    "from catboost import CatBoostRegressor\n",
    "\n",
    "import warnings\n",
    "warnings.filterwarnings(\"ignore\")\n",
    "%config InlineBackend.figure_format='retina'"
   ]
  },
  {
   "cell_type": "code",
   "execution_count": 2,
   "metadata": {},
   "outputs": [],
   "source": [
    "full = pd.read_csv('/datasets/gold_recovery_full_new.csv')\n",
    "test = pd.read_csv('/datasets/gold_recovery_test_new.csv')\n",
    "train = pd.read_csv('/datasets/gold_recovery_train_new.csv')"
   ]
  },
  {
   "cell_type": "code",
   "execution_count": 3,
   "metadata": {},
   "outputs": [],
   "source": [
    "def eda(data):\n",
    "    print(f'Shape: {data.shape}')\n",
    "    print()\n",
    "    print('NaNs q-ty:')\n",
    "    display(data.isna().sum().to_frame().sort_values(by=0, ascending=False).head(10))\n",
    "    print('% записей с пропусками: ', round(100*(len(data[data.isna().any(axis=1)]) / len(data))))\n",
    "    print('duplicates:', data.duplicated().sum())\n",
    "    print()"
   ]
  },
  {
   "cell_type": "code",
   "execution_count": 4,
   "metadata": {},
   "outputs": [
    {
     "name": "stdout",
     "output_type": "stream",
     "text": [
      "Shape: (19439, 87)\n",
      "\n",
      "NaNs q-ty:\n"
     ]
    },
    {
     "data": {
      "text/html": [
       "<div>\n",
       "<style scoped>\n",
       "    .dataframe tbody tr th:only-of-type {\n",
       "        vertical-align: middle;\n",
       "    }\n",
       "\n",
       "    .dataframe tbody tr th {\n",
       "        vertical-align: top;\n",
       "    }\n",
       "\n",
       "    .dataframe thead th {\n",
       "        text-align: right;\n",
       "    }\n",
       "</style>\n",
       "<table border=\"1\" class=\"dataframe\">\n",
       "  <thead>\n",
       "    <tr style=\"text-align: right;\">\n",
       "      <th></th>\n",
       "      <th>0</th>\n",
       "    </tr>\n",
       "  </thead>\n",
       "  <tbody>\n",
       "    <tr>\n",
       "      <th>secondary_cleaner.output.tail_sol</th>\n",
       "      <td>1748</td>\n",
       "    </tr>\n",
       "    <tr>\n",
       "      <th>rougher.input.floatbank11_xanthate</th>\n",
       "      <td>453</td>\n",
       "    </tr>\n",
       "    <tr>\n",
       "      <th>rougher.state.floatbank10_e_air</th>\n",
       "      <td>436</td>\n",
       "    </tr>\n",
       "    <tr>\n",
       "      <th>primary_cleaner.output.concentrate_sol</th>\n",
       "      <td>370</td>\n",
       "    </tr>\n",
       "    <tr>\n",
       "      <th>secondary_cleaner.state.floatbank2_a_air</th>\n",
       "      <td>220</td>\n",
       "    </tr>\n",
       "    <tr>\n",
       "      <th>final.output.concentrate_sol</th>\n",
       "      <td>211</td>\n",
       "    </tr>\n",
       "    <tr>\n",
       "      <th>rougher.input.feed_size</th>\n",
       "      <td>145</td>\n",
       "    </tr>\n",
       "    <tr>\n",
       "      <th>primary_cleaner.output.concentrate_pb</th>\n",
       "      <td>116</td>\n",
       "    </tr>\n",
       "    <tr>\n",
       "      <th>primary_cleaner.input.xanthate</th>\n",
       "      <td>104</td>\n",
       "    </tr>\n",
       "    <tr>\n",
       "      <th>final.output.tail_pb</th>\n",
       "      <td>101</td>\n",
       "    </tr>\n",
       "  </tbody>\n",
       "</table>\n",
       "</div>"
      ],
      "text/plain": [
       "                                             0\n",
       "secondary_cleaner.output.tail_sol         1748\n",
       "rougher.input.floatbank11_xanthate         453\n",
       "rougher.state.floatbank10_e_air            436\n",
       "primary_cleaner.output.concentrate_sol     370\n",
       "secondary_cleaner.state.floatbank2_a_air   220\n",
       "final.output.concentrate_sol               211\n",
       "rougher.input.feed_size                    145\n",
       "primary_cleaner.output.concentrate_pb      116\n",
       "primary_cleaner.input.xanthate             104\n",
       "final.output.tail_pb                       101"
      ]
     },
     "metadata": {},
     "output_type": "display_data"
    },
    {
     "name": "stdout",
     "output_type": "stream",
     "text": [
      "% записей с пропусками:  17\n",
      "duplicates: 0\n",
      "\n"
     ]
    }
   ],
   "source": [
    "eda(full)"
   ]
  },
  {
   "cell_type": "code",
   "execution_count": 5,
   "metadata": {
    "scrolled": false
   },
   "outputs": [
    {
     "name": "stdout",
     "output_type": "stream",
     "text": [
      "Shape: (14149, 87)\n",
      "\n",
      "NaNs q-ty:\n"
     ]
    },
    {
     "data": {
      "text/html": [
       "<div>\n",
       "<style scoped>\n",
       "    .dataframe tbody tr th:only-of-type {\n",
       "        vertical-align: middle;\n",
       "    }\n",
       "\n",
       "    .dataframe tbody tr th {\n",
       "        vertical-align: top;\n",
       "    }\n",
       "\n",
       "    .dataframe thead th {\n",
       "        text-align: right;\n",
       "    }\n",
       "</style>\n",
       "<table border=\"1\" class=\"dataframe\">\n",
       "  <thead>\n",
       "    <tr style=\"text-align: right;\">\n",
       "      <th></th>\n",
       "      <th>0</th>\n",
       "    </tr>\n",
       "  </thead>\n",
       "  <tbody>\n",
       "    <tr>\n",
       "      <th>secondary_cleaner.output.tail_sol</th>\n",
       "      <td>1605</td>\n",
       "    </tr>\n",
       "    <tr>\n",
       "      <th>rougher.state.floatbank10_e_air</th>\n",
       "      <td>436</td>\n",
       "    </tr>\n",
       "    <tr>\n",
       "      <th>rougher.input.floatbank11_xanthate</th>\n",
       "      <td>428</td>\n",
       "    </tr>\n",
       "    <tr>\n",
       "      <th>primary_cleaner.output.concentrate_sol</th>\n",
       "      <td>286</td>\n",
       "    </tr>\n",
       "    <tr>\n",
       "      <th>secondary_cleaner.state.floatbank2_a_air</th>\n",
       "      <td>217</td>\n",
       "    </tr>\n",
       "    <tr>\n",
       "      <th>final.output.concentrate_sol</th>\n",
       "      <td>211</td>\n",
       "    </tr>\n",
       "    <tr>\n",
       "      <th>rougher.input.feed_size</th>\n",
       "      <td>144</td>\n",
       "    </tr>\n",
       "    <tr>\n",
       "      <th>primary_cleaner.input.xanthate</th>\n",
       "      <td>100</td>\n",
       "    </tr>\n",
       "    <tr>\n",
       "      <th>rougher.input.feed_pb</th>\n",
       "      <td>100</td>\n",
       "    </tr>\n",
       "    <tr>\n",
       "      <th>final.output.tail_pb</th>\n",
       "      <td>100</td>\n",
       "    </tr>\n",
       "  </tbody>\n",
       "</table>\n",
       "</div>"
      ],
      "text/plain": [
       "                                             0\n",
       "secondary_cleaner.output.tail_sol         1605\n",
       "rougher.state.floatbank10_e_air            436\n",
       "rougher.input.floatbank11_xanthate         428\n",
       "primary_cleaner.output.concentrate_sol     286\n",
       "secondary_cleaner.state.floatbank2_a_air   217\n",
       "final.output.concentrate_sol               211\n",
       "rougher.input.feed_size                    144\n",
       "primary_cleaner.input.xanthate             100\n",
       "rougher.input.feed_pb                      100\n",
       "final.output.tail_pb                       100"
      ]
     },
     "metadata": {},
     "output_type": "display_data"
    },
    {
     "name": "stdout",
     "output_type": "stream",
     "text": [
      "% записей с пропусками:  22\n",
      "duplicates: 0\n",
      "\n"
     ]
    }
   ],
   "source": [
    "eda(train)"
   ]
  },
  {
   "cell_type": "code",
   "execution_count": 6,
   "metadata": {
    "scrolled": true
   },
   "outputs": [
    {
     "name": "stdout",
     "output_type": "stream",
     "text": [
      "Shape: (5290, 53)\n",
      "\n",
      "NaNs q-ty:\n"
     ]
    },
    {
     "data": {
      "text/html": [
       "<div>\n",
       "<style scoped>\n",
       "    .dataframe tbody tr th:only-of-type {\n",
       "        vertical-align: middle;\n",
       "    }\n",
       "\n",
       "    .dataframe tbody tr th {\n",
       "        vertical-align: top;\n",
       "    }\n",
       "\n",
       "    .dataframe thead th {\n",
       "        text-align: right;\n",
       "    }\n",
       "</style>\n",
       "<table border=\"1\" class=\"dataframe\">\n",
       "  <thead>\n",
       "    <tr style=\"text-align: right;\">\n",
       "      <th></th>\n",
       "      <th>0</th>\n",
       "    </tr>\n",
       "  </thead>\n",
       "  <tbody>\n",
       "    <tr>\n",
       "      <th>rougher.input.floatbank11_xanthate</th>\n",
       "      <td>25</td>\n",
       "    </tr>\n",
       "    <tr>\n",
       "      <th>rougher.input.feed_sol</th>\n",
       "      <td>21</td>\n",
       "    </tr>\n",
       "    <tr>\n",
       "      <th>secondary_cleaner.state.floatbank3_a_air</th>\n",
       "      <td>9</td>\n",
       "    </tr>\n",
       "    <tr>\n",
       "      <th>rougher.input.floatbank11_sulfate</th>\n",
       "      <td>8</td>\n",
       "    </tr>\n",
       "    <tr>\n",
       "      <th>primary_cleaner.input.depressant</th>\n",
       "      <td>5</td>\n",
       "    </tr>\n",
       "    <tr>\n",
       "      <th>rougher.input.floatbank10_sulfate</th>\n",
       "      <td>5</td>\n",
       "    </tr>\n",
       "    <tr>\n",
       "      <th>primary_cleaner.input.xanthate</th>\n",
       "      <td>4</td>\n",
       "    </tr>\n",
       "    <tr>\n",
       "      <th>primary_cleaner.input.sulfate</th>\n",
       "      <td>4</td>\n",
       "    </tr>\n",
       "    <tr>\n",
       "      <th>rougher.input.feed_rate</th>\n",
       "      <td>3</td>\n",
       "    </tr>\n",
       "    <tr>\n",
       "      <th>secondary_cleaner.state.floatbank2_a_air</th>\n",
       "      <td>3</td>\n",
       "    </tr>\n",
       "  </tbody>\n",
       "</table>\n",
       "</div>"
      ],
      "text/plain": [
       "                                           0\n",
       "rougher.input.floatbank11_xanthate        25\n",
       "rougher.input.feed_sol                    21\n",
       "secondary_cleaner.state.floatbank3_a_air   9\n",
       "rougher.input.floatbank11_sulfate          8\n",
       "primary_cleaner.input.depressant           5\n",
       "rougher.input.floatbank10_sulfate          5\n",
       "primary_cleaner.input.xanthate             4\n",
       "primary_cleaner.input.sulfate              4\n",
       "rougher.input.feed_rate                    3\n",
       "secondary_cleaner.state.floatbank2_a_air   3"
      ]
     },
     "metadata": {},
     "output_type": "display_data"
    },
    {
     "name": "stdout",
     "output_type": "stream",
     "text": [
      "% записей с пропусками:  1\n",
      "duplicates: 0\n",
      "\n"
     ]
    }
   ],
   "source": [
    "eda(test)"
   ]
  },
  {
   "cell_type": "code",
   "execution_count": 7,
   "metadata": {},
   "outputs": [],
   "source": [
    "def graph(data, col):\n",
    "\n",
    "    sns.set()\n",
    "    fig, axes = plt.subplots(1, 2, figsize=(16, 5))\n",
    "    axes[0].set_title(col, fontsize=18)\n",
    "    axes[1].set_title(col, fontsize=18)\n",
    "    sns.histplot(data[col], bins=50, kde=True, ax=axes[0])\n",
    "    axes[0].set(xlabel=None)\n",
    "    axes[0].set(ylabel=None)\n",
    "    sns.boxplot(data=data[col], ax=axes[1])\n",
    "    axes[1].set(xlabel=None)\n",
    "    plt.show()"
   ]
  },
  {
   "cell_type": "code",
   "execution_count": 8,
   "metadata": {
    "scrolled": true
   },
   "outputs": [],
   "source": [
    "# вывод графиков убран с целью облегчения файла\n",
    "#for col in full.columns[1:]:\n",
    "#    graph(full, col)"
   ]
  },
  {
   "cell_type": "markdown",
   "metadata": {},
   "source": [
    "Распределения признаков крайне вариативны, имеются выбросы, также разнится масштаб признаков"
   ]
  },
  {
   "cell_type": "markdown",
   "metadata": {},
   "source": [
    "### Проверим расчет эффективночти обогащения"
   ]
  },
  {
   "cell_type": "markdown",
   "metadata": {},
   "source": [
    "Проверим эффективность обогащения рассчитана правильно."
   ]
  },
  {
   "cell_type": "markdown",
   "metadata": {},
   "source": [
    "**Recovery = 100 * C x (F - T)  /  F x (C - T)** "
   ]
  },
  {
   "cell_type": "code",
   "execution_count": 9,
   "metadata": {},
   "outputs": [],
   "source": [
    "C = train.loc[~train['rougher.output.recovery'].isna(), 'rougher.output.concentrate_au']\n",
    "F = train.loc[~train['rougher.output.recovery'].isna(), 'rougher.input.feed_au']\n",
    "T = train.loc[~train['rougher.output.recovery'].isna(), 'rougher.output.tail_au']\n",
    "y_ = C * (F - T) / (F * (C - T)) * 100\n",
    "y = train.loc[~train['rougher.output.recovery'].isna(), 'rougher.output.recovery']"
   ]
  },
  {
   "cell_type": "markdown",
   "metadata": {},
   "source": [
    "**sMAPE = 100 * (1/len(y) * abs(y - y_) / 0,5*(abs(y) - abs(y_))**"
   ]
  },
  {
   "cell_type": "code",
   "execution_count": 10,
   "metadata": {},
   "outputs": [
    {
     "name": "stdout",
     "output_type": "stream",
     "text": [
      "sMAPE : 1.1598012478556472e-14\n"
     ]
    }
   ],
   "source": [
    "numerator = abs(y - y_)\n",
    "denominator = (abs(y) + abs(y_))*0.5\n",
    "l = 1/len(y)\n",
    "\n",
    "sMAPE = l * np.sum(100 * numerator / denominator)\n",
    "print('sMAPE :', sMAPE)"
   ]
  },
  {
   "cell_type": "markdown",
   "metadata": {},
   "source": [
    "Значение sMAPE (англ. Symmetric Mean Absolute Percentage Error, «симметричное среднее абсолютное процентное отклонение») очень мало"
   ]
  },
  {
   "cell_type": "code",
   "execution_count": 11,
   "metadata": {},
   "outputs": [
    {
     "data": {
      "text/plain": [
       "9.73512347450521e-15"
      ]
     },
     "execution_count": 11,
     "metadata": {},
     "output_type": "execute_result"
    }
   ],
   "source": [
    "mae = mean_absolute_error(y_, y)\n",
    "mae"
   ]
  },
  {
   "cell_type": "markdown",
   "metadata": {},
   "source": [
    "Значение MAE также очень мало. Значит в исходных данных признак rougher.output.recovery приведен верно"
   ]
  },
  {
   "cell_type": "markdown",
   "metadata": {},
   "source": [
    "### Признаки, недоступные в тестовой выборке"
   ]
  },
  {
   "cell_type": "markdown",
   "metadata": {},
   "source": [
    "Посмотрим на  32 (87 -53 -2) признака, которые отсутствуют в тестовой выборке"
   ]
  },
  {
   "cell_type": "code",
   "execution_count": 12,
   "metadata": {
    "scrolled": true
   },
   "outputs": [
    {
     "data": {
      "text/plain": [
       "['final.output.concentrate_ag',\n",
       " 'final.output.concentrate_pb',\n",
       " 'final.output.concentrate_sol',\n",
       " 'final.output.concentrate_au',\n",
       " 'final.output.tail_ag',\n",
       " 'final.output.tail_pb',\n",
       " 'final.output.tail_sol',\n",
       " 'final.output.tail_au',\n",
       " 'primary_cleaner.output.concentrate_ag',\n",
       " 'primary_cleaner.output.concentrate_pb',\n",
       " 'primary_cleaner.output.concentrate_sol',\n",
       " 'primary_cleaner.output.concentrate_au',\n",
       " 'primary_cleaner.output.tail_ag',\n",
       " 'primary_cleaner.output.tail_pb',\n",
       " 'primary_cleaner.output.tail_sol',\n",
       " 'primary_cleaner.output.tail_au',\n",
       " 'rougher.calculation.sulfate_to_au_concentrate',\n",
       " 'rougher.calculation.floatbank10_sulfate_to_au_feed',\n",
       " 'rougher.calculation.floatbank11_sulfate_to_au_feed',\n",
       " 'rougher.calculation.au_pb_ratio',\n",
       " 'rougher.output.concentrate_ag',\n",
       " 'rougher.output.concentrate_pb',\n",
       " 'rougher.output.concentrate_sol',\n",
       " 'rougher.output.concentrate_au',\n",
       " 'rougher.output.tail_ag',\n",
       " 'rougher.output.tail_pb',\n",
       " 'rougher.output.tail_sol',\n",
       " 'rougher.output.tail_au',\n",
       " 'secondary_cleaner.output.tail_ag',\n",
       " 'secondary_cleaner.output.tail_pb',\n",
       " 'secondary_cleaner.output.tail_sol',\n",
       " 'secondary_cleaner.output.tail_au']"
      ]
     },
     "execution_count": 12,
     "metadata": {},
     "output_type": "execute_result"
    }
   ],
   "source": [
    "ex = [x for x in train.columns if x not in test.columns and x not in ['rougher.output.recovery','final.output.recovery']]\n",
    "ex"
   ]
  },
  {
   "cell_type": "markdown",
   "metadata": {},
   "source": [
    "Отсутствующие в тестовой выборке признаки - это выходные пареметры продукта на разных этапах, а также несколько расчетных характеристик, это числовые признаки. Не будем учитывать данные признаки при моделировании, так мы знаем, что некоторые параметры недоступны, потому что замеряются и/или рассчитываются значительно позже."
   ]
  },
  {
   "cell_type": "markdown",
   "metadata": {},
   "source": [
    "### Предобработка данных"
   ]
  },
  {
   "cell_type": "code",
   "execution_count": 13,
   "metadata": {
    "scrolled": false
   },
   "outputs": [
    {
     "data": {
      "text/plain": [
       "<AxesSubplot:>"
      ]
     },
     "execution_count": 13,
     "metadata": {},
     "output_type": "execute_result"
    },
    {
     "data": {
      "image/png": "[encoded data removed]",
      "text/plain": [
       "<Figure size 1440x1440 with 2 Axes>"
      ]
     },
     "metadata": {
      "image/png": {
       "height": 1331,
       "width": 1274
      },
      "needs_background": "light"
     },
     "output_type": "display_data"
    }
   ],
   "source": [
    "ind_to_w = [x for x in train.columns if x not in ex]\n",
    "plt.figure(figsize=(20, 20))\n",
    "sns.heatmap(train[ind_to_w].corr(), annot=False)"
   ]
  },
  {
   "cell_type": "markdown",
   "metadata": {},
   "source": [
    "выделим 16 признаков с выраженной корреляцией, данные признаки характеризуют состояния промежуточных этапов. Не будем включать эти признаки при обучении модели"
   ]
  },
  {
   "cell_type": "code",
   "execution_count": 14,
   "metadata": {},
   "outputs": [],
   "source": [
    "cols_with_corr = ['rougher.state.floatbank10_b_air', 'rougher.state.floatbank10_b_level',\n",
    "                  'rougher.state.floatbank10_c_air', 'rougher.state.floatbank10_c_level',\n",
    "                  'rougher.state.floatbank10_d_air', 'rougher.state.floatbank10_d_level',\n",
    "                  'rougher.state.floatbank10_e_air', 'rougher.state.floatbank10_e_level',\n",
    "                  'rougher.state.floatbank10_f_air', 'rougher.state.floatbank10_f_level',\n",
    "                  'primary_cleaner.state.floatbank8_a_air',\n",
    "                  'primary_cleaner.state.floatbank8_a_level',\n",
    "                  'primary_cleaner.state.floatbank8_b_air',\n",
    "                  'primary_cleaner.state.floatbank8_b_level',\n",
    "                  'primary_cleaner.state.floatbank8_c_air',\n",
    "                  'primary_cleaner.state.floatbank8_c_level']"
   ]
  },
  {
   "cell_type": "code",
   "execution_count": 15,
   "metadata": {},
   "outputs": [],
   "source": [
    "train = train.drop(cols_with_corr, axis=1)"
   ]
  },
  {
   "cell_type": "code",
   "execution_count": 16,
   "metadata": {
    "scrolled": true
   },
   "outputs": [
    {
     "name": "stdout",
     "output_type": "stream",
     "text": [
      "0\n",
      "0\n"
     ]
    }
   ],
   "source": [
    "print(train['rougher.output.recovery'].isna().sum())\n",
    "print(train['final.output.recovery'].isna().sum())"
   ]
  },
  {
   "cell_type": "markdown",
   "metadata": {},
   "source": [
    "Пропуски отсутствуют в целевом признаке"
   ]
  },
  {
   "cell_type": "markdown",
   "metadata": {},
   "source": [
    "Мы знаем, что соседние по времени параметры часто похожи. Запомним пропуски методом ffill"
   ]
  },
  {
   "cell_type": "code",
   "execution_count": 17,
   "metadata": {},
   "outputs": [],
   "source": [
    "train = train.fillna(method='ffill')\n",
    "test = test.fillna(method='ffill')\n",
    "full = full.fillna(method='ffill')"
   ]
  },
  {
   "cell_type": "code",
   "execution_count": 18,
   "metadata": {
    "scrolled": false
   },
   "outputs": [
    {
     "name": "stdout",
     "output_type": "stream",
     "text": [
      "0\n",
      "0\n",
      "0\n"
     ]
    }
   ],
   "source": [
    "print(train.isna().sum().sum())\n",
    "print(test.isna().sum().sum())\n",
    "print(full.isna().sum().sum())"
   ]
  },
  {
   "cell_type": "markdown",
   "metadata": {},
   "source": [
    "## 2. Анализ данных"
   ]
  },
  {
   "cell_type": "markdown",
   "metadata": {},
   "source": [
    "### Изменение концентрации металлов (Au, Ag, Pb) на различных этапах очистки"
   ]
  },
  {
   "cell_type": "code",
   "execution_count": 19,
   "metadata": {},
   "outputs": [],
   "source": [
    "def graph_(data, col0, col1, col2, col3, title):\n",
    "    \n",
    "    df0 = data[['date', col0]].rename(columns={col0:'Tap'})\n",
    "    df0['step'] = 'input'\n",
    "    df1 = data[['date', col1]].rename(columns={col1:'Tap'})\n",
    "    df1['step'] = 'rougher'\n",
    "    df2 = data[['date', col2]].rename(columns={col2:'Tap'})\n",
    "    df2['step'] = 'primary_cleaner'\n",
    "    df3 = data[['date', col3]].rename(columns={col3:'Tap'})\n",
    "    df3['step'] = 'final'\n",
    "    df=pd.concat([df0,df1,df2,df3]).reset_index()\n",
    "    \n",
    "    fig, ax = plt.subplots(1, 1, figsize=(20, 7))\n",
    "    sns.lineplot(x=df['date'], y=df['Tap'], hue=df['step'], ax=ax)\n",
    "    ax.set(ylabel=None)\n",
    "    ax.set_title(title, fontsize=24)\n",
    "    plt.show()"
   ]
  },
  {
   "cell_type": "code",
   "execution_count": 20,
   "metadata": {},
   "outputs": [],
   "source": [
    "# вывод графиков убран с целью облегчения файла\n",
    "#graph_(full, 'rougher.input.feed_au', 'rougher.output.concentrate_au', 'primary_cleaner.output.concentrate_au', \n",
    "#       'final.output.concentrate_au', 'Концентрация Au, full')\n",
    "#graph_(full, 'rougher.input.feed_ag', 'rougher.output.concentrate_ag', 'primary_cleaner.output.concentrate_ag', \n",
    "#     'final.output.concentrate_ag', 'Концентрация Ag, full')\n",
    "#graph_(full, 'rougher.input.feed_pb', 'rougher.output.concentrate_pb', 'primary_cleaner.output.concentrate_pb', \n",
    "#       'final.output.concentrate_pb', 'Концентрация Pb, full')"
   ]
  },
  {
   "cell_type": "code",
   "execution_count": 21,
   "metadata": {
    "scrolled": false
   },
   "outputs": [],
   "source": [
    "# вывод графиков убран с целью облегчения файла\n",
    "#graph_(train, 'rougher.input.feed_au', 'rougher.output.concentrate_au', 'primary_cleaner.output.concentrate_au', \n",
    "#       'final.output.concentrate_au', 'Концентрация Au, train')\n",
    "#graph_(train, 'rougher.input.feed_ag', 'rougher.output.concentrate_ag', 'primary_cleaner.output.concentrate_ag', \n",
    "#     'final.output.concentrate_ag', 'Концентрация Ag, train')\n",
    "#graph_(train, 'rougher.input.feed_pb', 'rougher.output.concentrate_pb', 'primary_cleaner.output.concentrate_pb', \n",
    "#       'final.output.concentrate_pb', 'Концентрация Pb, train')\n"
   ]
  },
  {
   "cell_type": "markdown",
   "metadata": {},
   "source": [
    "Концентрация золота растет, серебра падает, свинца чаще растет по мере продвижения по технологическому процессу."
   ]
  },
  {
   "cell_type": "markdown",
   "metadata": {},
   "source": [
    "### Сравнение распределения размеров гранул сырья на обучающей и тестовой выборках"
   ]
  },
  {
   "cell_type": "code",
   "execution_count": 22,
   "metadata": {},
   "outputs": [
    {
     "name": "stdout",
     "output_type": "stream",
     "text": [
      "primary_cleaner.input.feed_size\n",
      "rougher.input.feed_size\n"
     ]
    }
   ],
   "source": [
    "for col in train.columns:\n",
    "    if 'feed_size' in col:\n",
    "        print(col)"
   ]
  },
  {
   "cell_type": "code",
   "execution_count": 23,
   "metadata": {
    "scrolled": false
   },
   "outputs": [
    {
     "data": {
      "image/png": "[encoded data removed]",
      "text/plain": [
       "<Figure size 1296x504 with 1 Axes>"
      ]
     },
     "metadata": {
      "image/png": {
       "height": 425,
       "width": 1061
      },
      "needs_background": "light"
     },
     "output_type": "display_data"
    }
   ],
   "source": [
    "f, ax = plt.subplots(1, 1, figsize=(18, 7))\n",
    "sns.distplot(train[train['rougher.input.feed_size'] < 150]['rougher.input.feed_size'], bins=30, label='train')\n",
    "sns.distplot(test[test['rougher.input.feed_size'] < 150]['rougher.input.feed_size'], bins=30, label='test')\n",
    "ax.legend()\n",
    "plt.show()"
   ]
  },
  {
   "cell_type": "code",
   "execution_count": 24,
   "metadata": {},
   "outputs": [
    {
     "data": {
      "text/plain": [
       "0.9921549226093717"
      ]
     },
     "execution_count": 24,
     "metadata": {},
     "output_type": "execute_result"
    }
   ],
   "source": [
    "len(train[train['rougher.input.feed_size'] < 150]) / len(train)"
   ]
  },
  {
   "cell_type": "code",
   "execution_count": 25,
   "metadata": {
    "scrolled": true
   },
   "outputs": [
    {
     "data": {
      "text/plain": [
       "0.997164461247637"
      ]
     },
     "execution_count": 25,
     "metadata": {},
     "output_type": "execute_result"
    }
   ],
   "source": [
    "len(test[test['rougher.input.feed_size'] < 150]) / len(test)"
   ]
  },
  {
   "cell_type": "markdown",
   "metadata": {},
   "source": [
    "Гистограммы распределений говорят о схожести распределений. Не учтенные выбросы составляют не более 1,01% рассмотренных объемов"
   ]
  },
  {
   "cell_type": "markdown",
   "metadata": {},
   "source": [
    "### Исследование суммарной концентрации всех веществ на разных стадиях: в сырье, в черновом и финальном концентратах"
   ]
  },
  {
   "cell_type": "code",
   "execution_count": 26,
   "metadata": {
    "scrolled": true
   },
   "outputs": [],
   "source": [
    "def graph_con(data, title):    \n",
    "    conc = []\n",
    "\n",
    "    for col in data:\n",
    "        if 'concentrate' in col and 'calculation' not in col:\n",
    "            conc.append(col)\n",
    "\n",
    "    concentrate = train[conc]\n",
    "\n",
    "    concentrate['final'] = concentrate[conc[:4]].sum(axis=1)\n",
    "    concentrate['primary_cleaner'] = concentrate[conc[4:8]].sum(axis=1)\n",
    "    concentrate['rougher'] = concentrate[conc[8:]].sum(axis=1)\n",
    "    concentrate = concentrate.drop(conc, axis=1)\n",
    "\n",
    "    concentrate['date'] = train['date']  \n",
    "\n",
    "    fig, ax = plt.subplots(1, 1, figsize=(20, 7))\n",
    "    sns.lineplot(x=concentrate['date'], y=concentrate['rougher'], label='rougher', ax=ax)\n",
    "    sns.lineplot(x=concentrate['date'], y=concentrate['primary_cleaner'], label='primary_cleaner', ax=ax)\n",
    "    sns.lineplot(x=concentrate['date'], y=concentrate['final'], label='final', ax=ax)\n",
    "\n",
    "    ax.legend()\n",
    "    ax.set(ylabel=None)\n",
    "    ax.set_title('Суммарная концентрация всех веществ, '+title, fontsize=24)\n",
    "    plt.show()"
   ]
  },
  {
   "cell_type": "code",
   "execution_count": 27,
   "metadata": {
    "scrolled": true
   },
   "outputs": [],
   "source": [
    "# вывод графиков убран с целью облегчения файла\n",
    "#graph_con(full, 'full')\n",
    "#graph_con(train, 'train')"
   ]
  },
  {
   "cell_type": "markdown",
   "metadata": {},
   "source": [
    "Ссумарная концентрация всех веществ в начале технологического процесса выше, чем после его завершения. "
   ]
  },
  {
   "cell_type": "markdown",
   "metadata": {},
   "source": [
    "Уберем из всех выборок записи для которых суммарная концентрация всех веществ составляет меньше 20 для этапов - rougher, primary_cleaner, final"
   ]
  },
  {
   "cell_type": "code",
   "execution_count": 28,
   "metadata": {},
   "outputs": [
    {
     "name": "stdout",
     "output_type": "stream",
     "text": [
      "19439\n"
     ]
    }
   ],
   "source": [
    "print(len(full))"
   ]
  },
  {
   "cell_type": "code",
   "execution_count": 29,
   "metadata": {
    "scrolled": true
   },
   "outputs": [
    {
     "name": "stdout",
     "output_type": "stream",
     "text": [
      "Записей для исключения из full:  848\n",
      "% условных выбросов, full:  4.4\n"
     ]
    }
   ],
   "source": [
    "cons_cols = [x for x in full if 'concentrate' in x and 'calculation' not in x]\n",
    "\n",
    "len_or = len(full) \n",
    "len_n = len(full[(full[cons_cols[:4]].sum(axis=1)>20)&(full[cons_cols[4:8]].sum(axis=1)>20)&(full[cons_cols[8:]].sum(axis=1)>20)])\n",
    "loss = 100*(len_or - len_n) / len_or\n",
    "print('Записей для исключения из full: ', len_or - len_n)\n",
    "print('% условных выбросов, full: ', round(loss, 1))"
   ]
  },
  {
   "cell_type": "code",
   "execution_count": 30,
   "metadata": {
    "scrolled": true
   },
   "outputs": [],
   "source": [
    "dates_to_exclude = \\\n",
    "full[~((full[cons_cols[:4]].sum(axis=1)>20)&(full[cons_cols[4:8]].sum(axis=1)>20)&   \\\n",
    "                                                         (full[cons_cols[8:]].sum(axis=1)>20))]['date']"
   ]
  },
  {
   "cell_type": "code",
   "execution_count": 31,
   "metadata": {
    "scrolled": true
   },
   "outputs": [
    {
     "name": "stdout",
     "output_type": "stream",
     "text": [
      "Записей для исключения из test:  198\n",
      "% условных выбросов, test:  3.7\n"
     ]
    }
   ],
   "source": [
    "l = len(test) - len(test.query('date not in @dates_to_exclude'))\n",
    "print('Записей для исключения из test: ',  l)\n",
    "print('% условных выбросов, test: ', round(100*l / len(test), 1))"
   ]
  },
  {
   "cell_type": "code",
   "execution_count": 32,
   "metadata": {},
   "outputs": [
    {
     "name": "stdout",
     "output_type": "stream",
     "text": [
      "Записей для исключения из train:  650\n",
      "% условных выбросов, train:  4.6\n"
     ]
    }
   ],
   "source": [
    "l = len(train) - len(train.query('date not in @dates_to_exclude'))\n",
    "print('Записей для исключения из train: ',  l)\n",
    "print('% условных выбросов, train: ', round(100*l / len(train), 1))"
   ]
  },
  {
   "cell_type": "code",
   "execution_count": 33,
   "metadata": {},
   "outputs": [],
   "source": [
    "full = full.query('date not in @dates_to_exclude')\n",
    "test = test.query('date not in @dates_to_exclude')\n",
    "train = train.query('date not in @dates_to_exclude')"
   ]
  },
  {
   "cell_type": "code",
   "execution_count": 34,
   "metadata": {},
   "outputs": [],
   "source": [
    "# вывод графиков убран с целью облегчения файла\n",
    "#graph_con(full, 'full')\n",
    "#graph_con(train, 'train')"
   ]
  },
  {
   "cell_type": "markdown",
   "metadata": {},
   "source": [
    "## 3. Модель"
   ]
  },
  {
   "cell_type": "markdown",
   "metadata": {},
   "source": [
    "### Подготовим признаки для обучения и тестирования"
   ]
  },
  {
   "cell_type": "markdown",
   "metadata": {},
   "source": [
    "cols_with_corr - 16 признаков с высокой корреляцией"
   ]
  },
  {
   "cell_type": "code",
   "execution_count": 35,
   "metadata": {},
   "outputs": [
    {
     "name": "stdout",
     "output_type": "stream",
     "text": [
      "(13499, 36)\n",
      "(13499,)\n"
     ]
    }
   ],
   "source": [
    "ind_m = test.drop(cols_with_corr, axis=1).columns\n",
    "feature_f = train[ind_m]\n",
    "feature_f = feature_f.drop('date', axis=1)\n",
    "target_f = train['final.output.recovery']\n",
    "print(feature_f.shape)\n",
    "print(target_f.shape)"
   ]
  },
  {
   "cell_type": "code",
   "execution_count": 36,
   "metadata": {},
   "outputs": [],
   "source": [
    "cols_rougher = pd.Series([x for x in ind_m if 'rougher' in x])"
   ]
  },
  {
   "cell_type": "code",
   "execution_count": 37,
   "metadata": {
    "scrolled": true
   },
   "outputs": [
    {
     "name": "stdout",
     "output_type": "stream",
     "text": [
      "(13499, 12)\n",
      "(13499,)\n"
     ]
    }
   ],
   "source": [
    "feature_r = train[cols_rougher]\n",
    "target_r = train['rougher.output.recovery']\n",
    "print(feature_r.shape)\n",
    "print(target_r.shape)"
   ]
  },
  {
   "cell_type": "code",
   "execution_count": 38,
   "metadata": {
    "scrolled": false
   },
   "outputs": [
    {
     "name": "stdout",
     "output_type": "stream",
     "text": [
      "(5092, 36)\n",
      "(5092, 12)\n"
     ]
    }
   ],
   "source": [
    "test_feature_f = test[ind_m]\n",
    "test_feature_r = test[cols_rougher]\n",
    "test_feature_f = test_feature_f.drop('date', axis=1)\n",
    "print(test_feature_f.shape)\n",
    "print(test_feature_r.shape)"
   ]
  },
  {
   "cell_type": "code",
   "execution_count": 39,
   "metadata": {},
   "outputs": [],
   "source": [
    "test_true_r = test.merge(full, on='date')['rougher.output.recovery']\n",
    "test_true_f = test.merge(full, on='date')['final.output.recovery']"
   ]
  },
  {
   "cell_type": "markdown",
   "metadata": {},
   "source": [
    "### Определим функцию sMAPE, которая считает метрику качества модели"
   ]
  },
  {
   "cell_type": "code",
   "execution_count": 40,
   "metadata": {},
   "outputs": [],
   "source": [
    "def smape(true, predict):\n",
    "    return 1 / len(true) * sum( abs(true - predict) / ( (abs(true) + abs(predict)) * 0.5) ) * 100\n",
    "\n",
    "def final_smape(smape_r, smape_f):\n",
    "    return 0.25 * smape_r + 0.75 * smape_f"
   ]
  },
  {
   "cell_type": "markdown",
   "metadata": {},
   "source": [
    "### Масштабирование данных"
   ]
  },
  {
   "cell_type": "code",
   "execution_count": 41,
   "metadata": {},
   "outputs": [],
   "source": [
    "cols_r = feature_r.columns\n",
    "cols_f = feature_f.columns\n",
    "\n",
    "scaler_r = StandardScaler()\n",
    "scaler_f = StandardScaler()\n",
    "scaler_r.fit(feature_r)\n",
    "scaler_f.fit(feature_f)\n",
    "\n",
    "feature_r = pd.DataFrame(scaler_r.transform(feature_r), columns=cols_r)\n",
    "feature_f = pd.DataFrame(scaler_f.transform(feature_f), columns=cols_f)\n",
    "\n",
    "test_feature_f = pd.DataFrame(scaler_f.transform(test_feature_f), columns=cols_f)\n",
    "test_feature_r = pd.DataFrame(scaler_r.transform(test_feature_r), columns=cols_r)"
   ]
  },
  {
   "cell_type": "markdown",
   "metadata": {},
   "source": [
    "### Оценка качества моделей"
   ]
  },
  {
   "cell_type": "markdown",
   "metadata": {},
   "source": [
    "**LinearRegression**"
   ]
  },
  {
   "cell_type": "code",
   "execution_count": 42,
   "metadata": {},
   "outputs": [
    {
     "name": "stdout",
     "output_type": "stream",
     "text": [
      "sMAPE, rougher : 6.38\n",
      "sMAPE, end : 10.19\n",
      "final sMAPE : 9.24\n"
     ]
    }
   ],
   "source": [
    "lr_r = LinearRegression()\n",
    "smape_lr_r = cross_val_score(lr_r, feature_r, target_r, scoring = make_scorer(smape), cv = 5, n_jobs = -1).mean()\n",
    "print('sMAPE, rougher :', round(smape_lr_r, 2))\n",
    "\n",
    "lr_f = LinearRegression()\n",
    "smape_lr_f = cross_val_score(lr_f, feature_f, target_f, scoring = make_scorer(smape), cv = 5, n_jobs = -1).mean()\n",
    "print('sMAPE, end :', round(smape_lr_f, 2))\n",
    "print('final sMAPE :', round(final_smape(smape_lr_r, smape_lr_f),2))"
   ]
  },
  {
   "cell_type": "markdown",
   "metadata": {},
   "source": [
    "**RandomForestRegressor**"
   ]
  },
  {
   "cell_type": "code",
   "execution_count": 43,
   "metadata": {},
   "outputs": [
    {
     "name": "stdout",
     "output_type": "stream",
     "text": [
      "sMAPE, rougher : 6.18\n",
      "sMAPE, end : 8.83\n",
      "final sMAPE : 8.17\n"
     ]
    }
   ],
   "source": [
    "rf_r = RandomForestRegressor(random_state=12345, n_estimators=5, max_depth=3, min_samples_leaf=2)\n",
    "smape_rf_r = cross_val_score(rf_r, feature_r, target_r, scoring = make_scorer(smape), cv = 5, n_jobs = -1).mean()\n",
    "print('sMAPE, rougher :', round(smape_rf_r, 2))\n",
    "\n",
    "rf_f = RandomForestRegressor(random_state=12345, n_estimators=5, max_depth=3, min_samples_leaf=2)\n",
    "smape_rf_f = cross_val_score(rf_f, feature_f, target_f, scoring = make_scorer(smape), cv = 5, n_jobs = -1).mean()\n",
    "print('sMAPE, end :', round(smape_rf_f, 2))\n",
    "print('final sMAPE :', round(final_smape(smape_rf_r, smape_rf_f),2))"
   ]
  },
  {
   "cell_type": "markdown",
   "metadata": {},
   "source": [
    "**CatBoostRegressor**"
   ]
  },
  {
   "cell_type": "code",
   "execution_count": 44,
   "metadata": {
    "scrolled": true
   },
   "outputs": [
    {
     "name": "stdout",
     "output_type": "stream",
     "text": [
      "sMAPE, rougher : 5.77\n",
      "sMAPE, end : 8.89\n",
      "final sMAPE : 8.11\n"
     ]
    }
   ],
   "source": [
    "catb_r = CatBoostRegressor(iterations=3, verbose=False, random_state=12345)\n",
    "smape_catb_r = cross_val_score(catb_r, feature_r, target_r, scoring = make_scorer(smape), cv = 5, n_jobs = -1).mean()\n",
    "print('sMAPE, rougher :', round(smape_catb_r, 2))\n",
    "\n",
    "catb_f = CatBoostRegressor(iterations=3, verbose=False, random_state=12345)\n",
    "smape_catb_f = cross_val_score(catb_f, feature_f, target_f, scoring = make_scorer(smape), cv = 5, n_jobs = -1).mean()\n",
    "print('sMAPE, end :', round(smape_catb_f, 2))\n",
    "print('final sMAPE :', round(final_smape(smape_catb_r, smape_catb_f),2))"
   ]
  },
  {
   "cell_type": "markdown",
   "metadata": {},
   "source": [
    "При обучении на кросс валидации лучшую итоговую метрику показывает модель CatBoostRegressor"
   ]
  },
  {
   "cell_type": "markdown",
   "metadata": {},
   "source": [
    "**DummyRegressor**"
   ]
  },
  {
   "cell_type": "code",
   "execution_count": 45,
   "metadata": {},
   "outputs": [
    {
     "name": "stdout",
     "output_type": "stream",
     "text": [
      "sMAPE, rougher : 7.71\n",
      "sMAPE, end : 10.19\n",
      "final sMAPE : 9.57\n"
     ]
    }
   ],
   "source": [
    "dummy_r = DummyRegressor()\n",
    "smape_dummy_r = cross_val_score(dummy_r, feature_r, target_r, scoring = make_scorer(smape), cv = 5, n_jobs = -1).mean()\n",
    "print('sMAPE, rougher :', round(smape_dummy_r, 2))\n",
    "\n",
    "dummy_f = DummyRegressor()\n",
    "smape_dummy_f = cross_val_score(dummy_f, feature_f, target_f, scoring = make_scorer(smape), cv = 5, n_jobs = -1).mean()\n",
    "print('sMAPE, end :', round(smape_dummy_f, 2))\n",
    "print('final sMAPE :', round(final_smape(smape_dummy_r, smape_dummy_f),2))"
   ]
  },
  {
   "cell_type": "markdown",
   "metadata": {},
   "source": [
    "Подберем гиперпараметры для CatBoostRegressor"
   ]
  },
  {
   "cell_type": "code",
   "execution_count": 46,
   "metadata": {},
   "outputs": [],
   "source": [
    "score = make_scorer(smape, greater_is_better=False)"
   ]
  },
  {
   "cell_type": "code",
   "execution_count": 47,
   "metadata": {},
   "outputs": [
    {
     "name": "stdout",
     "output_type": "stream",
     "text": [
      "{'depth': 4, 'iterations': 6, 'l2_leaf_reg': 0.3, 'learning_rate': 0.4}\n"
     ]
    }
   ],
   "source": [
    "grid = {'iterations': [x for x in range(2, 7)],  'learning_rate': [0.15, 0.25, 0.3, 0.4, 0.5, 0.6], \n",
    "         'depth':[x for x in range(2,5)],  'l2_leaf_reg': [0.3, 0.4, 0.5, 0.7, 0.8, 0.9, 1]}\n",
    "                                         \n",
    "model = CatBoostRegressor(random_state=12345, verbose=False)\n",
    "\n",
    "grid_search = GridSearchCV(model, grid, scoring=score, cv=5)\n",
    "\n",
    "grid_search.fit(feature_f, target_f)\n",
    "\n",
    "print(grid_search.best_params_)"
   ]
  },
  {
   "cell_type": "markdown",
   "metadata": {},
   "source": [
    "### Тестирование моделей"
   ]
  },
  {
   "cell_type": "markdown",
   "metadata": {},
   "source": [
    "**LinearRegression**"
   ]
  },
  {
   "cell_type": "code",
   "execution_count": 48,
   "metadata": {},
   "outputs": [
    {
     "name": "stdout",
     "output_type": "stream",
     "text": [
      "sMAPE, rougher : 4.45\n",
      "sMAPE, end : 7.83\n",
      "final sMAPE : 6.98\n"
     ]
    }
   ],
   "source": [
    "mod_r = LinearRegression()\n",
    "mod_r.fit(feature_r, target_r)\n",
    "predict_r = pd.Series(mod_r.predict(test_feature_r))\n",
    "print('sMAPE, rougher :', round(smape(test_true_r, predict_r), 2))\n",
    "\n",
    "mod_f = LinearRegression()\n",
    "mod_f.fit(feature_f, target_f)\n",
    "predict_f = mod_f.predict(test_feature_f)\n",
    "print('sMAPE, end :', round(smape(test_true_f, predict_f), 2))\n",
    "print('final sMAPE :', round(final_smape(smape(test_true_r, predict_r), smape(test_true_f, predict_f)),2))\n"
   ]
  },
  {
   "cell_type": "markdown",
   "metadata": {},
   "source": [
    "**RandomForestRegressor**"
   ]
  },
  {
   "cell_type": "code",
   "execution_count": 49,
   "metadata": {},
   "outputs": [
    {
     "name": "stdout",
     "output_type": "stream",
     "text": [
      "sMAPE, rougher : 4.82\n",
      "sMAPE, end : 7.97\n",
      "final sMAPE : 7.18\n"
     ]
    }
   ],
   "source": [
    "mod_r = RandomForestRegressor(random_state=12345, n_estimators=5, max_depth=3, min_samples_leaf=2)\n",
    "mod_r.fit(feature_r, target_r)\n",
    "predict_r = mod_r.predict(test_feature_r)\n",
    "print('sMAPE, rougher :', round(smape(test_true_r, predict_r), 2))\n",
    "\n",
    "mod_f = RandomForestRegressor(random_state=12345, n_estimators=5, max_depth=3, min_samples_leaf=2)\n",
    "mod_f.fit(feature_f, target_f)\n",
    "predict_f = mod_f.predict(test_feature_f)\n",
    "print('sMAPE, end :', round(smape(test_true_f, predict_f), 2))\n",
    "print('final sMAPE :', round(final_smape(smape(test_true_r, predict_r), smape(test_true_f, predict_f)),2))\n"
   ]
  },
  {
   "cell_type": "markdown",
   "metadata": {},
   "source": [
    "**CatBoostRegressor**"
   ]
  },
  {
   "cell_type": "code",
   "execution_count": 50,
   "metadata": {
    "scrolled": true
   },
   "outputs": [
    {
     "name": "stdout",
     "output_type": "stream",
     "text": [
      "sMAPE, rougher : 4.1\n",
      "sMAPE, end : 7.44\n",
      "final sMAPE : 6.61\n"
     ]
    }
   ],
   "source": [
    "mod_r = CatBoostRegressor(iterations=3, verbose=False, random_state=12345)\n",
    "mod_r.fit(feature_r, target_r)\n",
    "predict_r = mod_r.predict(test_feature_r)\n",
    "print('sMAPE, rougher :', round(smape(test_true_r, predict_r), 2))\n",
    "\n",
    "mod_f = CatBoostRegressor(iterations=3, verbose=False, random_state=12345)\n",
    "mod_f.fit(feature_f, target_f)\n",
    "predict_f = mod_f.predict(test_feature_f)\n",
    "print('sMAPE, end :', round(smape(test_true_f, predict_f), 2))\n",
    "print('final sMAPE :', round(final_smape(smape(test_true_r, predict_r), smape(test_true_f, predict_f)),2))"
   ]
  },
  {
   "cell_type": "markdown",
   "metadata": {},
   "source": [
    "**DummyRegressor**"
   ]
  },
  {
   "cell_type": "code",
   "execution_count": 51,
   "metadata": {
    "scrolled": true
   },
   "outputs": [
    {
     "name": "stdout",
     "output_type": "stream",
     "text": [
      "sMAPE, rougher : 5.23\n",
      "sMAPE, end : 8.53\n",
      "final sMAPE : 7.71\n"
     ]
    }
   ],
   "source": [
    "mod_r = DummyRegressor()\n",
    "mod_r.fit(feature_r, target_r)\n",
    "predict_r = mod_r.predict(test_feature_r)\n",
    "print('sMAPE, rougher :', round(smape(test_true_r, predict_r), 2))\n",
    "\n",
    "mod_f = DummyRegressor()\n",
    "mod_f.fit(feature_f, target_f)\n",
    "predict_f = mod_f.predict(test_feature_f)\n",
    "print('sMAPE, end :', round(smape(test_true_f, predict_f), 2))\n",
    "print('final sMAPE :', round(final_smape(smape(test_true_r, predict_r), smape(test_true_f, predict_f)),2))"
   ]
  },
  {
   "cell_type": "markdown",
   "metadata": {},
   "source": [
    "**Посмотрим на результаты CatBoostRegressor c подобранными гиперпараметрами**"
   ]
  },
  {
   "cell_type": "markdown",
   "metadata": {},
   "source": [
    "Обучение"
   ]
  },
  {
   "cell_type": "code",
   "execution_count": 52,
   "metadata": {},
   "outputs": [
    {
     "name": "stdout",
     "output_type": "stream",
     "text": [
      "sMAPE, rougher : 5.64\n",
      "sMAPE, end : 8.66\n",
      "final sMAPE : 7.91\n"
     ]
    }
   ],
   "source": [
    "catb_r = CatBoostRegressor(iterations=6, depth=4, l2_leaf_reg=0.3, verbose=False, learning_rate=0.4, random_state=12345)\n",
    "smape_catb_r = cross_val_score(catb_r, feature_r, target_r, scoring = score, cv = 5, n_jobs = -1).mean()\n",
    "print('sMAPE, rougher :', abs(round(smape_catb_r, 2)))\n",
    "\n",
    "catb_f = CatBoostRegressor(iterations=6, depth=4, l2_leaf_reg=0.3, verbose=False, learning_rate=0.4, random_state=12345)\n",
    "smape_catb_f = cross_val_score(catb_f, feature_f, target_f, scoring = score, cv = 5, n_jobs = -1).mean()\n",
    "print('sMAPE, end :', abs(round(smape_catb_f, 2)))\n",
    "print('final sMAPE :', abs(round(final_smape(smape_catb_r, smape_catb_f),2)))"
   ]
  },
  {
   "cell_type": "markdown",
   "metadata": {},
   "source": [
    "Тестирование"
   ]
  },
  {
   "cell_type": "code",
   "execution_count": 53,
   "metadata": {},
   "outputs": [
    {
     "name": "stdout",
     "output_type": "stream",
     "text": [
      "sMAPE, rougher : 3.89\n",
      "sMAPE, end : 6.96\n",
      "final sMAPE : 6.19\n"
     ]
    }
   ],
   "source": [
    "mod_r = CatBoostRegressor(iterations=6, depth=4, l2_leaf_reg=0.3, verbose=False, learning_rate=0.4, random_state=12345)\n",
    "mod_r.fit(feature_r, target_r)\n",
    "predict_r = mod_r.predict(test_feature_r)\n",
    "print('sMAPE, rougher :', round(smape(test_true_r, predict_r), 2))\n",
    "\n",
    "mod_f = CatBoostRegressor(iterations=6, depth=4, l2_leaf_reg=0.3, verbose=False, learning_rate=0.4, random_state=12345)\n",
    "mod_f.fit(feature_f, target_f)\n",
    "predict_f = mod_f.predict(test_feature_f)\n",
    "print('sMAPE, end :', round(smape(test_true_f, predict_f), 2))\n",
    "print('final sMAPE :', round(final_smape(smape(test_true_r, predict_r), smape(test_true_f, predict_f)),2))"
   ]
  },
  {
   "cell_type": "markdown",
   "metadata": {},
   "source": [
    "## Заключение"
   ]
  },
  {
   "cell_type": "markdown",
   "metadata": {},
   "source": [
    "Рассмотрены три модели LinearRegression, RandomForestRegressor, CatBoostRegressor. Все три модели выдают результат лучший, чем константная модель. Лучший показатель sMAPE получен на модели CatBoostRegressor - 7,91 и 6,19 на тренировочной и тестовой выборках соответственно."
   ]
  }
 ],
 "metadata": {
  "ExecuteTimeLog": [
   {
    "duration": 2972,
    "start_time": "2022-03-21T09:34:30.868Z"
   },
   {
    "duration": 5291,
    "start_time": "2022-03-21T09:36:30.516Z"
   },
   {
    "duration": 270,
    "start_time": "2022-03-21T09:40:34.027Z"
   },
   {
    "duration": 17,
    "start_time": "2022-03-21T09:40:37.678Z"
   },
   {
    "duration": 1691,
    "start_time": "2022-03-21T09:40:51.101Z"
   },
   {
    "duration": 54,
    "start_time": "2022-03-21T09:40:53.124Z"
   },
   {
    "duration": 5,
    "start_time": "2022-03-21T09:45:41.715Z"
   },
   {
    "duration": 219,
    "start_time": "2022-03-21T09:45:57.708Z"
   },
   {
    "duration": 6,
    "start_time": "2022-03-21T09:46:21.076Z"
   },
   {
    "duration": 884,
    "start_time": "2022-03-21T09:46:24.175Z"
   },
   {
    "duration": 44,
    "start_time": "2022-03-21T09:49:21.850Z"
   },
   {
    "duration": 5,
    "start_time": "2022-03-21T09:50:18.558Z"
   },
   {
    "duration": 1541,
    "start_time": "2022-03-21T09:50:24.329Z"
   },
   {
    "duration": 6,
    "start_time": "2022-03-21T09:51:04.863Z"
   },
   {
    "duration": 1089,
    "start_time": "2022-03-21T09:51:09.460Z"
   },
   {
    "duration": 5,
    "start_time": "2022-03-21T10:00:01.017Z"
   },
   {
    "duration": 774,
    "start_time": "2022-03-21T10:00:04.036Z"
   },
   {
    "duration": 659,
    "start_time": "2022-03-21T10:00:42.512Z"
   },
   {
    "duration": 250,
    "start_time": "2022-03-21T10:01:01.473Z"
   },
   {
    "duration": 7,
    "start_time": "2022-03-21T10:22:49.728Z"
   },
   {
    "duration": 765,
    "start_time": "2022-03-21T10:22:54.109Z"
   },
   {
    "duration": 6,
    "start_time": "2022-03-21T10:23:13.801Z"
   },
   {
    "duration": 777,
    "start_time": "2022-03-21T10:23:19.351Z"
   },
   {
    "duration": 7,
    "start_time": "2022-03-21T10:24:03.445Z"
   },
   {
    "duration": 771,
    "start_time": "2022-03-21T10:24:06.166Z"
   },
   {
    "duration": 6,
    "start_time": "2022-03-21T10:25:20.008Z"
   },
   {
    "duration": 226,
    "start_time": "2022-03-21T10:25:25.515Z"
   },
   {
    "duration": 5,
    "start_time": "2022-03-21T10:26:08.594Z"
   },
   {
    "duration": 231,
    "start_time": "2022-03-21T10:26:11.571Z"
   },
   {
    "duration": 6,
    "start_time": "2022-03-21T10:26:35.211Z"
   },
   {
    "duration": 240,
    "start_time": "2022-03-21T10:26:37.451Z"
   },
   {
    "duration": 8,
    "start_time": "2022-03-21T10:27:06.140Z"
   },
   {
    "duration": 188,
    "start_time": "2022-03-21T10:27:07.937Z"
   },
   {
    "duration": 7,
    "start_time": "2022-03-21T10:29:05.304Z"
   },
   {
    "duration": 186,
    "start_time": "2022-03-21T10:29:08.268Z"
   },
   {
    "duration": 171,
    "start_time": "2022-03-21T10:30:03.506Z"
   },
   {
    "duration": 168,
    "start_time": "2022-03-21T10:30:12.618Z"
   },
   {
    "duration": 173,
    "start_time": "2022-03-21T10:30:19.253Z"
   },
   {
    "duration": 6,
    "start_time": "2022-03-21T10:30:53.334Z"
   },
   {
    "duration": 1120,
    "start_time": "2022-03-21T10:30:55.781Z"
   },
   {
    "duration": 6,
    "start_time": "2022-03-21T10:31:15.774Z"
   },
   {
    "duration": 770,
    "start_time": "2022-03-21T10:31:18.367Z"
   },
   {
    "duration": 7,
    "start_time": "2022-03-21T10:31:30.217Z"
   },
   {
    "duration": 23,
    "start_time": "2022-03-21T10:31:33.352Z"
   },
   {
    "duration": 13,
    "start_time": "2022-03-21T10:32:32.360Z"
   },
   {
    "duration": 18,
    "start_time": "2022-03-21T10:32:39.827Z"
   },
   {
    "duration": 24,
    "start_time": "2022-03-21T10:32:50.955Z"
   },
   {
    "duration": 23,
    "start_time": "2022-03-21T10:33:05.289Z"
   },
   {
    "duration": 26,
    "start_time": "2022-03-21T10:33:10.014Z"
   },
   {
    "duration": 18,
    "start_time": "2022-03-21T10:33:21.380Z"
   },
   {
    "duration": 7,
    "start_time": "2022-03-21T10:34:15.328Z"
   },
   {
    "duration": 951,
    "start_time": "2022-03-21T10:34:17.363Z"
   },
   {
    "duration": 838,
    "start_time": "2022-03-21T10:35:25.217Z"
   },
   {
    "duration": 281,
    "start_time": "2022-03-21T10:36:17.489Z"
   },
   {
    "duration": 7,
    "start_time": "2022-03-21T11:03:40.146Z"
   },
   {
    "duration": 11,
    "start_time": "2022-03-21T11:10:11.825Z"
   },
   {
    "duration": 5,
    "start_time": "2022-03-21T11:10:17.530Z"
   },
   {
    "duration": 752,
    "start_time": "2022-03-21T11:10:19.573Z"
   },
   {
    "duration": 5,
    "start_time": "2022-03-21T11:10:52.730Z"
   },
   {
    "duration": 168175,
    "start_time": "2022-03-21T11:10:55.171Z"
   },
   {
    "duration": 12,
    "start_time": "2022-03-21T11:14:12.131Z"
   },
   {
    "duration": 13,
    "start_time": "2022-03-21T11:14:22.503Z"
   },
   {
    "duration": 1,
    "start_time": "2022-03-21T11:17:00.667Z"
   },
   {
    "duration": 0,
    "start_time": "2022-03-21T11:17:00.669Z"
   },
   {
    "duration": 6,
    "start_time": "2022-03-21T11:17:04.760Z"
   },
   {
    "duration": 0,
    "start_time": "2022-03-21T11:19:32.936Z"
   },
   {
    "duration": 0,
    "start_time": "2022-03-21T11:19:32.938Z"
   },
   {
    "duration": 840,
    "start_time": "2022-03-21T11:21:03.246Z"
   },
   {
    "duration": 1970,
    "start_time": "2022-03-21T11:22:06.537Z"
   },
   {
    "duration": 2777,
    "start_time": "2022-03-21T11:22:49.434Z"
   },
   {
    "duration": 932,
    "start_time": "2022-03-21T11:24:09.830Z"
   },
   {
    "duration": 1035,
    "start_time": "2022-03-21T11:26:27.972Z"
   },
   {
    "duration": 1567,
    "start_time": "2022-03-21T11:26:40.687Z"
   },
   {
    "duration": 1569,
    "start_time": "2022-03-21T11:26:58.435Z"
   },
   {
    "duration": 2034,
    "start_time": "2022-03-21T11:27:11.934Z"
   },
   {
    "duration": 1516,
    "start_time": "2022-03-21T11:28:30.113Z"
   },
   {
    "duration": 1920,
    "start_time": "2022-03-21T11:31:31.862Z"
   },
   {
    "duration": 2046,
    "start_time": "2022-03-21T11:31:44.990Z"
   },
   {
    "duration": 1348,
    "start_time": "2022-03-21T11:32:43.064Z"
   },
   {
    "duration": 1400,
    "start_time": "2022-03-21T11:33:56.227Z"
   },
   {
    "duration": 2054,
    "start_time": "2022-03-21T11:34:13.634Z"
   },
   {
    "duration": 1418,
    "start_time": "2022-03-21T11:36:13.028Z"
   },
   {
    "duration": 7,
    "start_time": "2022-03-21T11:39:46.336Z"
   },
   {
    "duration": 0,
    "start_time": "2022-03-21T11:43:00.213Z"
   },
   {
    "duration": 0,
    "start_time": "2022-03-21T11:43:00.215Z"
   },
   {
    "duration": 7,
    "start_time": "2022-03-21T11:43:08.059Z"
   },
   {
    "duration": 106105,
    "start_time": "2022-03-21T11:43:12.494Z"
   },
   {
    "duration": 8,
    "start_time": "2022-03-21T11:53:11.495Z"
   },
   {
    "duration": 0,
    "start_time": "2022-03-21T11:54:14.394Z"
   },
   {
    "duration": 0,
    "start_time": "2022-03-21T11:54:14.396Z"
   },
   {
    "duration": 10,
    "start_time": "2022-03-21T11:54:17.091Z"
   },
   {
    "duration": 0,
    "start_time": "2022-03-21T11:55:56.805Z"
   },
   {
    "duration": 0,
    "start_time": "2022-03-21T11:55:56.808Z"
   },
   {
    "duration": 7,
    "start_time": "2022-03-21T11:55:58.788Z"
   },
   {
    "duration": 101774,
    "start_time": "2022-03-21T11:56:00.660Z"
   },
   {
    "duration": 7,
    "start_time": "2022-03-21T11:58:15.148Z"
   },
   {
    "duration": 0,
    "start_time": "2022-03-21T11:59:45.251Z"
   },
   {
    "duration": 0,
    "start_time": "2022-03-21T11:59:45.253Z"
   },
   {
    "duration": 10,
    "start_time": "2022-03-21T11:59:48.264Z"
   },
   {
    "duration": 0,
    "start_time": "2022-03-21T12:00:53.228Z"
   },
   {
    "duration": 0,
    "start_time": "2022-03-21T12:00:53.230Z"
   },
   {
    "duration": 7,
    "start_time": "2022-03-21T12:01:02.143Z"
   },
   {
    "duration": 0,
    "start_time": "2022-03-21T12:01:38.389Z"
   },
   {
    "duration": 0,
    "start_time": "2022-03-21T12:01:38.391Z"
   },
   {
    "duration": 8,
    "start_time": "2022-03-21T12:01:42.798Z"
   },
   {
    "duration": 105566,
    "start_time": "2022-03-21T12:01:46.003Z"
   },
   {
    "duration": 226,
    "start_time": "2022-03-21T12:03:59.567Z"
   },
   {
    "duration": 7,
    "start_time": "2022-03-21T12:04:32.636Z"
   },
   {
    "duration": 91667,
    "start_time": "2022-03-21T12:04:40.264Z"
   },
   {
    "duration": 8,
    "start_time": "2022-03-21T12:06:37.263Z"
   },
   {
    "duration": 775,
    "start_time": "2022-03-21T12:06:44.084Z"
   },
   {
    "duration": 7,
    "start_time": "2022-03-21T12:07:07.148Z"
   },
   {
    "duration": 653,
    "start_time": "2022-03-21T12:07:09.703Z"
   },
   {
    "duration": 7,
    "start_time": "2022-03-21T12:07:27.796Z"
   },
   {
    "duration": 681,
    "start_time": "2022-03-21T12:07:30.078Z"
   },
   {
    "duration": 7,
    "start_time": "2022-03-21T12:13:12.871Z"
   },
   {
    "duration": 0,
    "start_time": "2022-03-21T12:13:59.719Z"
   },
   {
    "duration": 0,
    "start_time": "2022-03-21T12:13:59.721Z"
   },
   {
    "duration": 8,
    "start_time": "2022-03-21T12:14:02.528Z"
   },
   {
    "duration": 7,
    "start_time": "2022-03-21T12:15:45.342Z"
   },
   {
    "duration": 99145,
    "start_time": "2022-03-21T12:15:45.351Z"
   },
   {
    "duration": 167,
    "start_time": "2022-03-21T13:08:28.840Z"
   },
   {
    "duration": 113,
    "start_time": "2022-03-21T13:19:41.783Z"
   },
   {
    "duration": 128,
    "start_time": "2022-03-21T13:19:52.819Z"
   },
   {
    "duration": 140,
    "start_time": "2022-03-21T13:20:00.851Z"
   },
   {
    "duration": 12,
    "start_time": "2022-03-21T13:20:08.440Z"
   },
   {
    "duration": 136,
    "start_time": "2022-03-21T13:20:32.939Z"
   },
   {
    "duration": 7,
    "start_time": "2022-03-21T13:20:52.540Z"
   },
   {
    "duration": 135,
    "start_time": "2022-03-21T13:21:28.738Z"
   },
   {
    "duration": 12,
    "start_time": "2022-03-21T13:21:35.385Z"
   },
   {
    "duration": 11,
    "start_time": "2022-03-21T13:26:10.224Z"
   },
   {
    "duration": 16,
    "start_time": "2022-03-21T13:26:23.295Z"
   },
   {
    "duration": 10,
    "start_time": "2022-03-21T13:26:30.154Z"
   },
   {
    "duration": 10,
    "start_time": "2022-03-21T13:26:34.243Z"
   },
   {
    "duration": 12,
    "start_time": "2022-03-21T13:26:40.271Z"
   },
   {
    "duration": 11,
    "start_time": "2022-03-21T13:26:49.065Z"
   },
   {
    "duration": 19,
    "start_time": "2022-03-21T13:28:02.372Z"
   },
   {
    "duration": 18,
    "start_time": "2022-03-21T13:28:13.615Z"
   },
   {
    "duration": 6,
    "start_time": "2022-03-21T13:29:15.729Z"
   },
   {
    "duration": 7,
    "start_time": "2022-03-21T13:29:20.560Z"
   },
   {
    "duration": 124,
    "start_time": "2022-03-21T13:29:25.241Z"
   },
   {
    "duration": 12,
    "start_time": "2022-03-21T13:29:31.542Z"
   },
   {
    "duration": 11,
    "start_time": "2022-03-21T13:30:11.382Z"
   },
   {
    "duration": 9,
    "start_time": "2022-03-21T13:34:25.769Z"
   },
   {
    "duration": 11,
    "start_time": "2022-03-21T13:34:29.815Z"
   },
   {
    "duration": 9,
    "start_time": "2022-03-21T13:34:41.514Z"
   },
   {
    "duration": 9,
    "start_time": "2022-03-21T13:36:07.909Z"
   },
   {
    "duration": 9,
    "start_time": "2022-03-21T13:38:12.838Z"
   },
   {
    "duration": 11,
    "start_time": "2022-03-21T13:44:03.012Z"
   },
   {
    "duration": 14,
    "start_time": "2022-03-21T13:44:27.653Z"
   },
   {
    "duration": 9,
    "start_time": "2022-03-21T13:44:31.464Z"
   },
   {
    "duration": 7,
    "start_time": "2022-03-21T13:44:37.816Z"
   },
   {
    "duration": 7,
    "start_time": "2022-03-21T13:45:07.935Z"
   },
   {
    "duration": 6,
    "start_time": "2022-03-21T13:45:27.899Z"
   },
   {
    "duration": 8,
    "start_time": "2022-03-21T13:45:43.206Z"
   },
   {
    "duration": 10,
    "start_time": "2022-03-21T14:22:57.362Z"
   },
   {
    "duration": 12,
    "start_time": "2022-03-21T14:23:09.055Z"
   },
   {
    "duration": 10,
    "start_time": "2022-03-21T14:23:31.870Z"
   },
   {
    "duration": 41,
    "start_time": "2022-03-21T14:24:42.299Z"
   },
   {
    "duration": 48,
    "start_time": "2022-03-21T14:25:21.604Z"
   },
   {
    "duration": 62,
    "start_time": "2022-03-21T14:26:19.129Z"
   },
   {
    "duration": 235,
    "start_time": "2022-03-21T14:26:28.167Z"
   },
   {
    "duration": 20716,
    "start_time": "2022-03-21T14:26:59.806Z"
   },
   {
    "duration": 125,
    "start_time": "2022-03-21T14:29:09.764Z"
   },
   {
    "duration": 141,
    "start_time": "2022-03-21T14:29:22.277Z"
   },
   {
    "duration": 30540,
    "start_time": "2022-03-21T14:31:50.082Z"
   },
   {
    "duration": 11576,
    "start_time": "2022-03-21T14:33:21.979Z"
   },
   {
    "duration": 28,
    "start_time": "2022-03-21T15:12:59.467Z"
   },
   {
    "duration": 30,
    "start_time": "2022-03-21T15:14:13.958Z"
   },
   {
    "duration": 132,
    "start_time": "2022-03-21T15:15:23.834Z"
   },
   {
    "duration": 18,
    "start_time": "2022-03-21T15:15:37.814Z"
   },
   {
    "duration": 134,
    "start_time": "2022-03-21T15:16:03.258Z"
   },
   {
    "duration": 20,
    "start_time": "2022-03-21T15:17:07.720Z"
   },
   {
    "duration": 16,
    "start_time": "2022-03-21T15:17:38.590Z"
   },
   {
    "duration": 128,
    "start_time": "2022-03-21T15:17:48.727Z"
   },
   {
    "duration": 19,
    "start_time": "2022-03-21T15:17:53.112Z"
   },
   {
    "duration": 1274,
    "start_time": "2022-03-21T15:20:02.788Z"
   },
   {
    "duration": 26,
    "start_time": "2022-03-21T15:20:17.507Z"
   },
   {
    "duration": 7,
    "start_time": "2022-03-21T15:22:10.226Z"
   },
   {
    "duration": 5,
    "start_time": "2022-03-21T15:22:30.932Z"
   },
   {
    "duration": 16,
    "start_time": "2022-03-21T15:23:52.274Z"
   },
   {
    "duration": 11701,
    "start_time": "2022-03-21T15:23:58.891Z"
   },
   {
    "duration": 8,
    "start_time": "2022-03-21T15:29:12.885Z"
   },
   {
    "duration": 49,
    "start_time": "2022-03-21T15:29:21.311Z"
   },
   {
    "duration": 18,
    "start_time": "2022-03-21T15:30:33.840Z"
   },
   {
    "duration": 15,
    "start_time": "2022-03-21T15:31:15.316Z"
   },
   {
    "duration": 11,
    "start_time": "2022-03-21T15:31:23.575Z"
   },
   {
    "duration": 11,
    "start_time": "2022-03-21T15:31:41.353Z"
   },
   {
    "duration": 11,
    "start_time": "2022-03-21T15:31:54.872Z"
   },
   {
    "duration": 7,
    "start_time": "2022-03-21T15:38:02.659Z"
   },
   {
    "duration": 6105,
    "start_time": "2022-03-22T08:07:21.879Z"
   },
   {
    "duration": 1935,
    "start_time": "2022-03-22T08:07:27.987Z"
   },
   {
    "duration": 4,
    "start_time": "2022-03-22T08:07:29.924Z"
   },
   {
    "duration": 712,
    "start_time": "2022-03-22T08:07:29.930Z"
   },
   {
    "duration": 637,
    "start_time": "2022-03-22T08:07:30.644Z"
   },
   {
    "duration": 248,
    "start_time": "2022-03-22T08:07:31.283Z"
   },
   {
    "duration": 5,
    "start_time": "2022-03-22T08:07:31.533Z"
   },
   {
    "duration": 61669,
    "start_time": "2022-03-22T08:07:31.540Z"
   },
   {
    "duration": 9,
    "start_time": "2022-03-22T08:08:33.211Z"
   },
   {
    "duration": 20,
    "start_time": "2022-03-22T08:08:33.222Z"
   },
   {
    "duration": 13,
    "start_time": "2022-03-22T08:08:33.244Z"
   },
   {
    "duration": 22,
    "start_time": "2022-03-22T08:08:33.259Z"
   },
   {
    "duration": 7318,
    "start_time": "2022-03-22T08:08:33.282Z"
   },
   {
    "duration": 9,
    "start_time": "2022-03-22T08:08:40.602Z"
   },
   {
    "duration": 7,
    "start_time": "2022-03-22T08:08:40.613Z"
   },
   {
    "duration": 6,
    "start_time": "2022-03-22T08:10:33.871Z"
   },
   {
    "duration": 5,
    "start_time": "2022-03-22T08:11:02.482Z"
   },
   {
    "duration": 102,
    "start_time": "2022-03-22T09:03:24.731Z"
   },
   {
    "duration": 5,
    "start_time": "2022-03-22T09:03:28.445Z"
   },
   {
    "duration": 10,
    "start_time": "2022-03-22T09:05:59.598Z"
   },
   {
    "duration": 3,
    "start_time": "2022-03-22T09:06:03.620Z"
   },
   {
    "duration": 5,
    "start_time": "2022-03-22T09:06:05.613Z"
   },
   {
    "duration": 26,
    "start_time": "2022-03-22T09:29:04.487Z"
   },
   {
    "duration": 11,
    "start_time": "2022-03-22T09:32:35.417Z"
   },
   {
    "duration": 9,
    "start_time": "2022-03-22T09:32:44.243Z"
   },
   {
    "duration": 25,
    "start_time": "2022-03-22T09:33:45.219Z"
   },
   {
    "duration": 41,
    "start_time": "2022-03-22T09:34:13.611Z"
   },
   {
    "duration": 23,
    "start_time": "2022-03-22T09:35:03.570Z"
   },
   {
    "duration": 28,
    "start_time": "2022-03-22T09:35:18.812Z"
   },
   {
    "duration": 30,
    "start_time": "2022-03-22T09:38:44.872Z"
   },
   {
    "duration": 15,
    "start_time": "2022-03-22T09:39:40.158Z"
   },
   {
    "duration": 29,
    "start_time": "2022-03-22T09:39:46.419Z"
   },
   {
    "duration": 10,
    "start_time": "2022-03-22T09:41:34.058Z"
   },
   {
    "duration": 264,
    "start_time": "2022-03-22T09:43:11.014Z"
   },
   {
    "duration": 4,
    "start_time": "2022-03-22T09:43:24.645Z"
   },
   {
    "duration": 110,
    "start_time": "2022-03-22T09:43:37.568Z"
   },
   {
    "duration": 5,
    "start_time": "2022-03-22T09:43:57.283Z"
   },
   {
    "duration": 108,
    "start_time": "2022-03-22T09:43:59.949Z"
   },
   {
    "duration": 4,
    "start_time": "2022-03-22T09:44:24.417Z"
   },
   {
    "duration": 105,
    "start_time": "2022-03-22T09:44:26.353Z"
   },
   {
    "duration": 121,
    "start_time": "2022-03-22T09:45:12.656Z"
   },
   {
    "duration": 132,
    "start_time": "2022-03-22T09:45:34.578Z"
   },
   {
    "duration": 5,
    "start_time": "2022-03-22T09:46:08.999Z"
   },
   {
    "duration": 109,
    "start_time": "2022-03-22T09:46:11.146Z"
   },
   {
    "duration": 177,
    "start_time": "2022-03-22T09:46:20.008Z"
   },
   {
    "duration": 33,
    "start_time": "2022-03-22T09:46:26.804Z"
   },
   {
    "duration": 4,
    "start_time": "2022-03-22T09:48:47.883Z"
   },
   {
    "duration": 101,
    "start_time": "2022-03-22T09:48:50.580Z"
   },
   {
    "duration": 146,
    "start_time": "2022-03-22T09:49:01.564Z"
   },
   {
    "duration": 32,
    "start_time": "2022-03-22T09:49:06.386Z"
   },
   {
    "duration": 30,
    "start_time": "2022-03-22T09:49:22.136Z"
   },
   {
    "duration": 2732,
    "start_time": "2022-03-22T09:59:50.550Z"
   },
   {
    "duration": 5,
    "start_time": "2022-03-22T10:02:12.503Z"
   },
   {
    "duration": 5,
    "start_time": "2022-03-22T10:02:16.945Z"
   },
   {
    "duration": 19,
    "start_time": "2022-03-22T10:05:07.367Z"
   },
   {
    "duration": 15,
    "start_time": "2022-03-22T10:05:30.514Z"
   },
   {
    "duration": 171,
    "start_time": "2022-03-22T10:06:43.704Z"
   },
   {
    "duration": 8,
    "start_time": "2022-03-22T10:15:42.387Z"
   },
   {
    "duration": 7,
    "start_time": "2022-03-22T10:16:21.434Z"
   },
   {
    "duration": 13,
    "start_time": "2022-03-22T10:17:41.300Z"
   },
   {
    "duration": 29,
    "start_time": "2022-03-22T10:17:56.163Z"
   },
   {
    "duration": 7,
    "start_time": "2022-03-22T10:18:10.030Z"
   },
   {
    "duration": 8,
    "start_time": "2022-03-22T10:22:41.391Z"
   },
   {
    "duration": 6,
    "start_time": "2022-03-22T10:22:49.550Z"
   },
   {
    "duration": 414,
    "start_time": "2022-03-22T10:24:54.186Z"
   },
   {
    "duration": 24,
    "start_time": "2022-03-22T10:25:02.411Z"
   },
   {
    "duration": 46,
    "start_time": "2022-03-22T10:25:07.573Z"
   },
   {
    "duration": 316,
    "start_time": "2022-03-22T10:26:53.808Z"
   },
   {
    "duration": 47,
    "start_time": "2022-03-22T10:27:02.299Z"
   },
   {
    "duration": 46,
    "start_time": "2022-03-22T10:27:03.998Z"
   },
   {
    "duration": 38,
    "start_time": "2022-03-22T10:27:14.932Z"
   },
   {
    "duration": 1817,
    "start_time": "2022-03-22T10:27:45.412Z"
   },
   {
    "duration": 1797,
    "start_time": "2022-03-22T10:28:01.169Z"
   },
   {
    "duration": 1840,
    "start_time": "2022-03-22T10:28:42.896Z"
   },
   {
    "duration": 1786,
    "start_time": "2022-03-22T10:29:00.416Z"
   },
   {
    "duration": 18,
    "start_time": "2022-03-22T10:31:15.317Z"
   },
   {
    "duration": 31,
    "start_time": "2022-03-22T10:32:39.403Z"
   },
   {
    "duration": 6,
    "start_time": "2022-03-22T10:32:52.129Z"
   },
   {
    "duration": 4,
    "start_time": "2022-03-22T10:35:27.723Z"
   },
   {
    "duration": 1821,
    "start_time": "2022-03-22T10:36:57.656Z"
   },
   {
    "duration": 1702,
    "start_time": "2022-03-22T10:37:17.543Z"
   },
   {
    "duration": 1749,
    "start_time": "2022-03-22T10:37:32.171Z"
   },
   {
    "duration": 1751,
    "start_time": "2022-03-22T10:38:13.142Z"
   },
   {
    "duration": 1824,
    "start_time": "2022-03-22T10:38:48.679Z"
   },
   {
    "duration": 18,
    "start_time": "2022-03-22T10:53:33.752Z"
   },
   {
    "duration": 5601,
    "start_time": "2022-03-22T10:53:55.751Z"
   },
   {
    "duration": 2096,
    "start_time": "2022-03-22T10:54:01.354Z"
   },
   {
    "duration": 4,
    "start_time": "2022-03-22T10:54:03.452Z"
   },
   {
    "duration": 162,
    "start_time": "2022-03-22T10:54:03.458Z"
   },
   {
    "duration": 164,
    "start_time": "2022-03-22T10:54:03.623Z"
   },
   {
    "duration": 37,
    "start_time": "2022-03-22T10:54:03.789Z"
   },
   {
    "duration": 4,
    "start_time": "2022-03-22T10:54:03.829Z"
   },
   {
    "duration": 59139,
    "start_time": "2022-03-22T10:54:03.835Z"
   },
   {
    "duration": 11,
    "start_time": "2022-03-22T10:55:02.977Z"
   },
   {
    "duration": 9,
    "start_time": "2022-03-22T10:55:02.990Z"
   },
   {
    "duration": 8,
    "start_time": "2022-03-22T10:55:03.001Z"
   },
   {
    "duration": 6,
    "start_time": "2022-03-22T10:55:03.011Z"
   },
   {
    "duration": 6864,
    "start_time": "2022-03-22T10:55:03.019Z"
   },
   {
    "duration": 3,
    "start_time": "2022-03-22T10:55:09.885Z"
   },
   {
    "duration": 7,
    "start_time": "2022-03-22T10:55:09.890Z"
   },
   {
    "duration": 80,
    "start_time": "2022-03-22T10:55:09.898Z"
   },
   {
    "duration": 5,
    "start_time": "2022-03-22T10:55:09.979Z"
   },
   {
    "duration": 7,
    "start_time": "2022-03-22T10:55:09.986Z"
   },
   {
    "duration": 3448,
    "start_time": "2022-03-22T10:55:09.995Z"
   },
   {
    "duration": 19,
    "start_time": "2022-03-22T10:55:13.445Z"
   },
   {
    "duration": 43,
    "start_time": "2022-03-22T10:55:13.466Z"
   },
   {
    "duration": 6,
    "start_time": "2022-03-22T11:24:29.358Z"
   },
   {
    "duration": 6,
    "start_time": "2022-03-22T11:24:49.594Z"
   },
   {
    "duration": 6,
    "start_time": "2022-03-22T11:25:12.299Z"
   },
   {
    "duration": 4,
    "start_time": "2022-03-22T11:36:16.448Z"
   },
   {
    "duration": 3,
    "start_time": "2022-03-22T11:36:25.482Z"
   },
   {
    "duration": 6,
    "start_time": "2022-03-22T11:36:57.093Z"
   },
   {
    "duration": 4,
    "start_time": "2022-03-22T11:39:22.173Z"
   },
   {
    "duration": 4,
    "start_time": "2022-03-22T11:40:32.952Z"
   },
   {
    "duration": 4,
    "start_time": "2022-03-22T11:41:10.094Z"
   },
   {
    "duration": 5,
    "start_time": "2022-03-22T11:41:44.929Z"
   },
   {
    "duration": 4,
    "start_time": "2022-03-22T11:41:58.868Z"
   },
   {
    "duration": 5,
    "start_time": "2022-03-22T11:42:05.471Z"
   },
   {
    "duration": 4,
    "start_time": "2022-03-22T11:43:29.516Z"
   },
   {
    "duration": 109,
    "start_time": "2022-03-22T11:52:55.502Z"
   },
   {
    "duration": 6788,
    "start_time": "2022-03-22T11:57:11.475Z"
   },
   {
    "duration": 342957,
    "start_time": "2022-03-22T11:57:24.443Z"
   },
   {
    "duration": 6,
    "start_time": "2022-03-22T12:03:24.227Z"
   },
   {
    "duration": 5,
    "start_time": "2022-03-22T12:03:30.816Z"
   },
   {
    "duration": 66878,
    "start_time": "2022-03-22T12:06:25.098Z"
   },
   {
    "duration": 0,
    "start_time": "2022-03-22T12:07:31.979Z"
   },
   {
    "duration": 17,
    "start_time": "2022-03-22T12:07:49.098Z"
   },
   {
    "duration": 6,
    "start_time": "2022-03-22T12:11:09.473Z"
   },
   {
    "duration": 957,
    "start_time": "2022-03-22T12:11:13.462Z"
   },
   {
    "duration": 4,
    "start_time": "2022-03-22T12:24:59.121Z"
   },
   {
    "duration": 16,
    "start_time": "2022-03-22T12:26:18.859Z"
   },
   {
    "duration": 5,
    "start_time": "2022-03-22T12:26:42.561Z"
   },
   {
    "duration": 21,
    "start_time": "2022-03-22T12:26:45.534Z"
   },
   {
    "duration": 9,
    "start_time": "2022-03-22T12:27:46.317Z"
   },
   {
    "duration": 4,
    "start_time": "2022-03-22T12:28:29.050Z"
   },
   {
    "duration": 1989,
    "start_time": "2022-03-22T12:28:44.940Z"
   },
   {
    "duration": 19,
    "start_time": "2022-03-22T12:35:46.163Z"
   },
   {
    "duration": 4,
    "start_time": "2022-03-22T12:36:32.677Z"
   },
   {
    "duration": 13,
    "start_time": "2022-03-22T12:36:36.890Z"
   },
   {
    "duration": 19,
    "start_time": "2022-03-22T12:36:43.456Z"
   },
   {
    "duration": 185,
    "start_time": "2022-03-22T12:50:51.428Z"
   },
   {
    "duration": 4,
    "start_time": "2022-03-22T12:51:51.174Z"
   },
   {
    "duration": 5,
    "start_time": "2022-03-22T12:53:01.628Z"
   },
   {
    "duration": 3971,
    "start_time": "2022-03-22T12:53:01.635Z"
   },
   {
    "duration": 5,
    "start_time": "2022-03-22T12:53:41.382Z"
   },
   {
    "duration": 380,
    "start_time": "2022-03-22T12:53:43.893Z"
   },
   {
    "duration": 4,
    "start_time": "2022-03-22T12:55:30.644Z"
   },
   {
    "duration": 18,
    "start_time": "2022-03-22T12:55:33.479Z"
   },
   {
    "duration": 5,
    "start_time": "2022-03-22T12:56:37.153Z"
   },
   {
    "duration": 387,
    "start_time": "2022-03-22T12:56:39.905Z"
   },
   {
    "duration": 5,
    "start_time": "2022-03-22T12:57:35.461Z"
   },
   {
    "duration": 452,
    "start_time": "2022-03-22T12:57:37.304Z"
   },
   {
    "duration": 4,
    "start_time": "2022-03-22T12:58:02.696Z"
   },
   {
    "duration": 17,
    "start_time": "2022-03-22T12:58:06.264Z"
   },
   {
    "duration": 4,
    "start_time": "2022-03-22T12:59:06.105Z"
   },
   {
    "duration": 18,
    "start_time": "2022-03-22T12:59:08.515Z"
   },
   {
    "duration": 5,
    "start_time": "2022-03-22T12:59:22.502Z"
   },
   {
    "duration": 536,
    "start_time": "2022-03-22T12:59:24.887Z"
   },
   {
    "duration": 5,
    "start_time": "2022-03-22T13:00:05.433Z"
   },
   {
    "duration": 2328,
    "start_time": "2022-03-22T13:00:07.302Z"
   },
   {
    "duration": 6,
    "start_time": "2022-03-22T13:02:25.419Z"
   },
   {
    "duration": 2129,
    "start_time": "2022-03-22T13:02:27.653Z"
   },
   {
    "duration": 5,
    "start_time": "2022-03-22T13:02:57.561Z"
   },
   {
    "duration": 4,
    "start_time": "2022-03-22T13:03:02.884Z"
   },
   {
    "duration": 2285,
    "start_time": "2022-03-22T13:03:04.728Z"
   },
   {
    "duration": 5,
    "start_time": "2022-03-22T13:04:55.798Z"
   },
   {
    "duration": 22,
    "start_time": "2022-03-22T13:04:58.017Z"
   },
   {
    "duration": 5,
    "start_time": "2022-03-22T13:05:19.516Z"
   },
   {
    "duration": 25,
    "start_time": "2022-03-22T13:05:21.500Z"
   },
   {
    "duration": 5,
    "start_time": "2022-03-22T13:06:20.488Z"
   },
   {
    "duration": 2125,
    "start_time": "2022-03-22T13:06:21.891Z"
   },
   {
    "duration": 5,
    "start_time": "2022-03-22T13:09:45.501Z"
   },
   {
    "duration": 2867,
    "start_time": "2022-03-22T13:10:01.443Z"
   },
   {
    "duration": 6,
    "start_time": "2022-03-22T13:10:29.953Z"
   },
   {
    "duration": 2104,
    "start_time": "2022-03-22T13:10:31.631Z"
   },
   {
    "duration": 6,
    "start_time": "2022-03-22T13:13:22.622Z"
   },
   {
    "duration": 9,
    "start_time": "2022-03-22T13:13:24.315Z"
   },
   {
    "duration": 10,
    "start_time": "2022-03-22T13:15:49.538Z"
   },
   {
    "duration": 11,
    "start_time": "2022-03-22T13:16:35.992Z"
   },
   {
    "duration": 11,
    "start_time": "2022-03-22T13:16:46.505Z"
   },
   {
    "duration": 5,
    "start_time": "2022-03-22T13:16:51.427Z"
   },
   {
    "duration": 6233,
    "start_time": "2022-03-22T13:16:51.780Z"
   },
   {
    "duration": 8553,
    "start_time": "2022-03-22T13:25:31.918Z"
   },
   {
    "duration": 4,
    "start_time": "2022-03-22T13:41:28.447Z"
   },
   {
    "duration": 4,
    "start_time": "2022-03-22T13:44:44.288Z"
   },
   {
    "duration": 629,
    "start_time": "2022-03-22T13:45:02.664Z"
   },
   {
    "duration": 978,
    "start_time": "2022-03-22T13:45:25.601Z"
   },
   {
    "duration": 1017,
    "start_time": "2022-03-22T13:46:15.888Z"
   },
   {
    "duration": 507,
    "start_time": "2022-03-22T13:48:12.159Z"
   },
   {
    "duration": 32,
    "start_time": "2022-03-22T13:48:46.337Z"
   },
   {
    "duration": 11,
    "start_time": "2022-03-22T13:49:02.244Z"
   },
   {
    "duration": 10,
    "start_time": "2022-03-22T13:49:38.878Z"
   },
   {
    "duration": 766,
    "start_time": "2022-03-22T13:51:06.691Z"
   },
   {
    "duration": 741,
    "start_time": "2022-03-22T13:51:33.680Z"
   },
   {
    "duration": 696,
    "start_time": "2022-03-22T13:51:51.378Z"
   },
   {
    "duration": 821,
    "start_time": "2022-03-22T13:52:01.700Z"
   },
   {
    "duration": 9,
    "start_time": "2022-03-22T13:53:33.155Z"
   },
   {
    "duration": 7,
    "start_time": "2022-03-22T13:54:05.747Z"
   },
   {
    "duration": 7,
    "start_time": "2022-03-22T13:57:22.135Z"
   },
   {
    "duration": 11,
    "start_time": "2022-03-22T14:03:34.261Z"
   },
   {
    "duration": 11,
    "start_time": "2022-03-22T14:03:49.347Z"
   },
   {
    "duration": 11,
    "start_time": "2022-03-22T14:04:11.651Z"
   },
   {
    "duration": 11,
    "start_time": "2022-03-22T14:04:32.146Z"
   },
   {
    "duration": 11,
    "start_time": "2022-03-22T14:07:00.788Z"
   },
   {
    "duration": 29,
    "start_time": "2022-03-22T14:31:52.114Z"
   },
   {
    "duration": 4595,
    "start_time": "2022-03-22T15:12:01.110Z"
   },
   {
    "duration": 2137,
    "start_time": "2022-03-22T15:12:05.707Z"
   },
   {
    "duration": 4,
    "start_time": "2022-03-22T15:12:07.845Z"
   },
   {
    "duration": 132,
    "start_time": "2022-03-22T15:12:07.851Z"
   },
   {
    "duration": 164,
    "start_time": "2022-03-22T15:12:07.985Z"
   },
   {
    "duration": 44,
    "start_time": "2022-03-22T15:12:08.151Z"
   },
   {
    "duration": 5,
    "start_time": "2022-03-22T15:12:08.197Z"
   },
   {
    "duration": 58706,
    "start_time": "2022-03-22T15:12:08.204Z"
   },
   {
    "duration": 12,
    "start_time": "2022-03-22T15:13:06.912Z"
   },
   {
    "duration": 9,
    "start_time": "2022-03-22T15:13:06.926Z"
   },
   {
    "duration": 28,
    "start_time": "2022-03-22T15:13:06.936Z"
   },
   {
    "duration": 13,
    "start_time": "2022-03-22T15:13:06.966Z"
   },
   {
    "duration": 6663,
    "start_time": "2022-03-22T15:13:06.981Z"
   },
   {
    "duration": 3,
    "start_time": "2022-03-22T15:13:13.647Z"
   },
   {
    "duration": 4,
    "start_time": "2022-03-22T15:13:13.663Z"
   },
   {
    "duration": 9,
    "start_time": "2022-03-22T15:13:13.669Z"
   },
   {
    "duration": 12,
    "start_time": "2022-03-22T15:13:13.680Z"
   },
   {
    "duration": 7,
    "start_time": "2022-03-22T15:13:13.693Z"
   },
   {
    "duration": 1910,
    "start_time": "2022-03-22T15:13:13.702Z"
   },
   {
    "duration": 6,
    "start_time": "2022-03-22T15:13:15.614Z"
   },
   {
    "duration": 48,
    "start_time": "2022-03-22T15:13:15.622Z"
   },
   {
    "duration": 5,
    "start_time": "2022-03-22T15:13:15.672Z"
   },
   {
    "duration": 15,
    "start_time": "2022-03-22T15:13:15.678Z"
   },
   {
    "duration": 9,
    "start_time": "2022-03-22T15:13:15.695Z"
   },
   {
    "duration": 7,
    "start_time": "2022-03-22T15:13:15.705Z"
   },
   {
    "duration": 1776894,
    "start_time": "2022-03-22T15:13:15.713Z"
   },
   {
    "duration": 10,
    "start_time": "2022-03-22T15:42:52.609Z"
   },
   {
    "duration": 13,
    "start_time": "2022-03-22T15:42:52.621Z"
   },
   {
    "duration": 654,
    "start_time": "2022-03-22T15:42:52.662Z"
   },
   {
    "duration": 10,
    "start_time": "2022-03-22T15:42:53.319Z"
   },
   {
    "duration": 8,
    "start_time": "2022-03-22T15:42:53.331Z"
   },
   {
    "duration": 5,
    "start_time": "2022-03-22T17:51:51.268Z"
   },
   {
    "duration": 5,
    "start_time": "2022-03-22T17:54:37.477Z"
   },
   {
    "duration": 3,
    "start_time": "2022-03-22T17:54:57.624Z"
   },
   {
    "duration": 103,
    "start_time": "2022-03-22T17:55:08.845Z"
   },
   {
    "duration": 18,
    "start_time": "2022-03-22T17:55:20.271Z"
   },
   {
    "duration": 5,
    "start_time": "2022-03-22T18:00:52.473Z"
   },
   {
    "duration": 5,
    "start_time": "2022-03-22T18:00:54.779Z"
   },
   {
    "duration": 20,
    "start_time": "2022-03-22T18:01:00.791Z"
   },
   {
    "duration": 164,
    "start_time": "2022-03-22T18:01:38.006Z"
   },
   {
    "duration": 6,
    "start_time": "2022-03-22T18:01:50.263Z"
   },
   {
    "duration": 3919,
    "start_time": "2022-03-22T18:03:29.321Z"
   },
   {
    "duration": 31,
    "start_time": "2022-03-22T18:03:45.469Z"
   },
   {
    "duration": 184,
    "start_time": "2022-03-22T18:05:12.392Z"
   },
   {
    "duration": 30,
    "start_time": "2022-03-22T18:05:31.079Z"
   },
   {
    "duration": 29,
    "start_time": "2022-03-22T18:06:17.163Z"
   },
   {
    "duration": 35,
    "start_time": "2022-03-22T18:06:40.160Z"
   },
   {
    "duration": 22,
    "start_time": "2022-03-22T18:07:24.575Z"
   },
   {
    "duration": 22,
    "start_time": "2022-03-22T18:08:01.557Z"
   },
   {
    "duration": 22,
    "start_time": "2022-03-22T18:08:07.404Z"
   },
   {
    "duration": 23,
    "start_time": "2022-03-22T18:15:59.444Z"
   },
   {
    "duration": 26,
    "start_time": "2022-03-22T18:16:23.359Z"
   },
   {
    "duration": 7,
    "start_time": "2022-03-22T18:16:37.425Z"
   },
   {
    "duration": 22,
    "start_time": "2022-03-22T18:16:39.975Z"
   },
   {
    "duration": 8,
    "start_time": "2022-03-22T18:18:35.494Z"
   },
   {
    "duration": 19,
    "start_time": "2022-03-22T18:18:37.555Z"
   },
   {
    "duration": 22,
    "start_time": "2022-03-22T18:18:53.575Z"
   },
   {
    "duration": 9,
    "start_time": "2022-03-22T18:33:06.154Z"
   },
   {
    "duration": 5,
    "start_time": "2022-03-22T18:33:11.968Z"
   },
   {
    "duration": 6,
    "start_time": "2022-03-22T18:33:12.224Z"
   },
   {
    "duration": 3,
    "start_time": "2022-03-22T18:34:53.462Z"
   },
   {
    "duration": 3,
    "start_time": "2022-03-22T18:35:29.016Z"
   },
   {
    "duration": 4,
    "start_time": "2022-03-22T18:36:03.833Z"
   },
   {
    "duration": 3,
    "start_time": "2022-03-22T18:36:34.690Z"
   },
   {
    "duration": 4,
    "start_time": "2022-03-22T18:36:36.897Z"
   },
   {
    "duration": 429,
    "start_time": "2022-03-22T18:38:19.243Z"
   },
   {
    "duration": 17,
    "start_time": "2022-03-22T19:00:02.363Z"
   },
   {
    "duration": 15,
    "start_time": "2022-03-22T19:00:37.036Z"
   },
   {
    "duration": 15,
    "start_time": "2022-03-22T19:00:46.515Z"
   },
   {
    "duration": 4314,
    "start_time": "2022-03-22T19:02:05.411Z"
   },
   {
    "duration": 1769,
    "start_time": "2022-03-22T19:02:09.727Z"
   },
   {
    "duration": 4,
    "start_time": "2022-03-22T19:02:11.498Z"
   },
   {
    "duration": 136,
    "start_time": "2022-03-22T19:02:11.503Z"
   },
   {
    "duration": 156,
    "start_time": "2022-03-22T19:02:11.641Z"
   },
   {
    "duration": 32,
    "start_time": "2022-03-22T19:02:11.799Z"
   },
   {
    "duration": 4,
    "start_time": "2022-03-22T19:02:11.833Z"
   },
   {
    "duration": 3,
    "start_time": "2022-03-22T19:02:11.863Z"
   },
   {
    "duration": 17,
    "start_time": "2022-03-22T19:02:11.867Z"
   },
   {
    "duration": 7,
    "start_time": "2022-03-22T19:02:11.885Z"
   },
   {
    "duration": 6,
    "start_time": "2022-03-22T19:02:11.893Z"
   },
   {
    "duration": 8,
    "start_time": "2022-03-22T19:02:11.901Z"
   },
   {
    "duration": 4466,
    "start_time": "2022-03-22T19:02:11.911Z"
   },
   {
    "duration": 3,
    "start_time": "2022-03-22T19:02:16.381Z"
   },
   {
    "duration": 11,
    "start_time": "2022-03-22T19:02:16.386Z"
   },
   {
    "duration": 14,
    "start_time": "2022-03-22T19:02:16.398Z"
   },
   {
    "duration": 6,
    "start_time": "2022-03-22T19:02:16.414Z"
   },
   {
    "duration": 5,
    "start_time": "2022-03-22T19:02:16.421Z"
   },
   {
    "duration": 1790,
    "start_time": "2022-03-22T19:02:16.427Z"
   },
   {
    "duration": 6,
    "start_time": "2022-03-22T19:02:18.219Z"
   },
   {
    "duration": 55,
    "start_time": "2022-03-22T19:02:18.226Z"
   },
   {
    "duration": 11,
    "start_time": "2022-03-22T19:02:18.282Z"
   },
   {
    "duration": 40,
    "start_time": "2022-03-22T19:02:18.294Z"
   },
   {
    "duration": 34,
    "start_time": "2022-03-22T19:02:18.337Z"
   },
   {
    "duration": 6,
    "start_time": "2022-03-22T19:02:18.373Z"
   },
   {
    "duration": 192507,
    "start_time": "2022-03-22T19:02:18.381Z"
   },
   {
    "duration": 0,
    "start_time": "2022-03-22T19:05:30.890Z"
   },
   {
    "duration": 0,
    "start_time": "2022-03-22T19:05:30.891Z"
   },
   {
    "duration": 0,
    "start_time": "2022-03-22T19:05:30.892Z"
   },
   {
    "duration": 0,
    "start_time": "2022-03-22T19:05:30.893Z"
   },
   {
    "duration": 0,
    "start_time": "2022-03-22T19:05:30.894Z"
   },
   {
    "duration": 0,
    "start_time": "2022-03-22T19:05:30.895Z"
   },
   {
    "duration": 0,
    "start_time": "2022-03-22T19:05:30.896Z"
   },
   {
    "duration": 0,
    "start_time": "2022-03-22T19:05:30.897Z"
   },
   {
    "duration": 21,
    "start_time": "2022-03-22T19:05:46.135Z"
   },
   {
    "duration": 23,
    "start_time": "2022-03-22T19:06:24.838Z"
   },
   {
    "duration": 848,
    "start_time": "2022-03-22T19:06:41.265Z"
   },
   {
    "duration": 9,
    "start_time": "2022-03-22T19:07:00.497Z"
   },
   {
    "duration": 8,
    "start_time": "2022-03-22T19:07:05.989Z"
   },
   {
    "duration": 15,
    "start_time": "2022-03-22T19:07:30.345Z"
   },
   {
    "duration": 6,
    "start_time": "2022-03-22T19:13:03.207Z"
   },
   {
    "duration": 329013,
    "start_time": "2022-03-22T19:13:06.655Z"
   },
   {
    "duration": 650561,
    "start_time": "2022-03-22T19:18:54.022Z"
   },
   {
    "duration": 11,
    "start_time": "2022-03-22T19:32:48.552Z"
   },
   {
    "duration": 4,
    "start_time": "2022-03-22T19:33:00.491Z"
   },
   {
    "duration": 758,
    "start_time": "2022-03-22T19:33:07.093Z"
   },
   {
    "duration": 13,
    "start_time": "2022-03-22T19:33:26.996Z"
   },
   {
    "duration": 7,
    "start_time": "2022-03-22T19:33:29.640Z"
   },
   {
    "duration": 256,
    "start_time": "2022-03-22T19:34:32.356Z"
   },
   {
    "duration": 697,
    "start_time": "2022-03-22T19:34:40.482Z"
   },
   {
    "duration": 912,
    "start_time": "2022-03-22T19:36:46.001Z"
   },
   {
    "duration": 922,
    "start_time": "2022-03-22T19:36:56.086Z"
   },
   {
    "duration": 987,
    "start_time": "2022-03-22T19:37:03.611Z"
   },
   {
    "duration": 740,
    "start_time": "2022-03-22T19:37:49.863Z"
   },
   {
    "duration": 798,
    "start_time": "2022-03-22T19:38:33.829Z"
   },
   {
    "duration": 5,
    "start_time": "2022-03-22T20:03:39.623Z"
   },
   {
    "duration": 4,
    "start_time": "2022-03-22T20:04:41.888Z"
   },
   {
    "duration": 4,
    "start_time": "2022-03-22T20:06:10.805Z"
   },
   {
    "duration": 30,
    "start_time": "2022-03-22T20:06:15.145Z"
   },
   {
    "duration": 13,
    "start_time": "2022-03-22T20:06:30.568Z"
   },
   {
    "duration": 6,
    "start_time": "2022-03-22T20:06:34.508Z"
   },
   {
    "duration": 7,
    "start_time": "2022-03-22T20:06:48.160Z"
   },
   {
    "duration": 6,
    "start_time": "2022-03-22T20:07:28.915Z"
   },
   {
    "duration": 7,
    "start_time": "2022-03-22T20:07:38.473Z"
   },
   {
    "duration": 5,
    "start_time": "2022-03-22T20:26:34.251Z"
   },
   {
    "duration": 19,
    "start_time": "2022-03-22T20:26:36.373Z"
   },
   {
    "duration": 35,
    "start_time": "2022-03-22T20:26:45.280Z"
   },
   {
    "duration": 5,
    "start_time": "2022-03-22T21:02:18.182Z"
   },
   {
    "duration": 35,
    "start_time": "2022-03-22T21:02:29.779Z"
   },
   {
    "duration": 17,
    "start_time": "2022-03-22T21:03:28.069Z"
   },
   {
    "duration": 34,
    "start_time": "2022-03-22T21:03:34.472Z"
   },
   {
    "duration": 4,
    "start_time": "2022-03-22T21:04:40.147Z"
   },
   {
    "duration": 23,
    "start_time": "2022-03-22T21:04:41.571Z"
   },
   {
    "duration": 18,
    "start_time": "2022-03-22T21:04:59.405Z"
   },
   {
    "duration": 16,
    "start_time": "2022-03-22T21:05:17.135Z"
   },
   {
    "duration": 5,
    "start_time": "2022-03-22T21:06:02.774Z"
   },
   {
    "duration": 25,
    "start_time": "2022-03-22T21:06:05.154Z"
   },
   {
    "duration": 14,
    "start_time": "2022-03-22T21:08:00.421Z"
   },
   {
    "duration": 15,
    "start_time": "2022-03-22T21:08:58.255Z"
   },
   {
    "duration": 5,
    "start_time": "2022-03-22T21:09:26.183Z"
   },
   {
    "duration": 0,
    "start_time": "2022-03-22T21:13:01.680Z"
   },
   {
    "duration": 14,
    "start_time": "2022-03-22T21:14:23.952Z"
   },
   {
    "duration": 12,
    "start_time": "2022-03-22T21:14:40.860Z"
   },
   {
    "duration": 14,
    "start_time": "2022-03-22T21:15:38.296Z"
   },
   {
    "duration": 214632,
    "start_time": "2022-03-22T21:15:47.759Z"
   },
   {
    "duration": 215867,
    "start_time": "2022-03-22T21:19:59.507Z"
   },
   {
    "duration": 3,
    "start_time": "2022-03-22T21:25:13.034Z"
   },
   {
    "duration": 21,
    "start_time": "2022-03-22T21:27:18.996Z"
   },
   {
    "duration": 15,
    "start_time": "2022-03-22T21:27:33.419Z"
   },
   {
    "duration": 9,
    "start_time": "2022-03-22T21:28:26.644Z"
   },
   {
    "duration": 11,
    "start_time": "2022-03-22T21:29:21.546Z"
   },
   {
    "duration": 6,
    "start_time": "2022-03-22T21:29:30.769Z"
   },
   {
    "duration": 17,
    "start_time": "2022-03-22T21:29:50.288Z"
   },
   {
    "duration": 4,
    "start_time": "2022-03-22T21:32:33.192Z"
   },
   {
    "duration": 8,
    "start_time": "2022-03-22T21:34:37.884Z"
   },
   {
    "duration": 3,
    "start_time": "2022-03-22T21:34:39.838Z"
   },
   {
    "duration": 4,
    "start_time": "2022-03-22T21:34:42.179Z"
   },
   {
    "duration": 4,
    "start_time": "2022-03-22T21:34:57.045Z"
   },
   {
    "duration": 18,
    "start_time": "2022-03-22T21:35:36.418Z"
   },
   {
    "duration": 2,
    "start_time": "2022-03-22T21:41:43.966Z"
   },
   {
    "duration": 3,
    "start_time": "2022-03-22T21:47:20.255Z"
   },
   {
    "duration": 101442,
    "start_time": "2022-03-23T07:12:33.872Z"
   },
   {
    "duration": 2565,
    "start_time": "2022-03-23T07:14:15.316Z"
   },
   {
    "duration": 4,
    "start_time": "2022-03-23T07:14:17.883Z"
   },
   {
    "duration": 131,
    "start_time": "2022-03-23T07:14:17.889Z"
   },
   {
    "duration": 149,
    "start_time": "2022-03-23T07:14:18.021Z"
   },
   {
    "duration": 30,
    "start_time": "2022-03-23T07:14:18.172Z"
   },
   {
    "duration": 4,
    "start_time": "2022-03-23T07:14:18.204Z"
   },
   {
    "duration": 8,
    "start_time": "2022-03-23T07:14:18.209Z"
   },
   {
    "duration": 14,
    "start_time": "2022-03-23T07:14:18.233Z"
   },
   {
    "duration": 9,
    "start_time": "2022-03-23T07:14:18.249Z"
   },
   {
    "duration": 6,
    "start_time": "2022-03-23T07:14:18.260Z"
   },
   {
    "duration": 5,
    "start_time": "2022-03-23T07:14:18.268Z"
   },
   {
    "duration": 6615,
    "start_time": "2022-03-23T07:14:18.274Z"
   },
   {
    "duration": 3,
    "start_time": "2022-03-23T07:14:24.891Z"
   },
   {
    "duration": 12,
    "start_time": "2022-03-23T07:14:24.895Z"
   },
   {
    "duration": 9,
    "start_time": "2022-03-23T07:14:24.909Z"
   },
   {
    "duration": 16,
    "start_time": "2022-03-23T07:14:24.920Z"
   },
   {
    "duration": 24,
    "start_time": "2022-03-23T07:14:24.938Z"
   },
   {
    "duration": 18,
    "start_time": "2022-03-23T07:14:24.964Z"
   },
   {
    "duration": 5,
    "start_time": "2022-03-23T07:14:24.984Z"
   },
   {
    "duration": 1624965,
    "start_time": "2022-03-23T07:14:24.990Z"
   },
   {
    "duration": 4,
    "start_time": "2022-03-23T07:41:29.956Z"
   },
   {
    "duration": 725,
    "start_time": "2022-03-23T07:41:29.962Z"
   },
   {
    "duration": 8,
    "start_time": "2022-03-23T07:41:30.688Z"
   },
   {
    "duration": 11,
    "start_time": "2022-03-23T07:41:30.697Z"
   },
   {
    "duration": 35,
    "start_time": "2022-03-23T07:41:30.710Z"
   },
   {
    "duration": 569463,
    "start_time": "2022-03-23T07:41:30.746Z"
   },
   {
    "duration": 28,
    "start_time": "2022-03-23T07:51:00.213Z"
   },
   {
    "duration": 46,
    "start_time": "2022-03-23T07:51:00.242Z"
   },
   {
    "duration": 7,
    "start_time": "2022-03-23T07:51:00.289Z"
   },
   {
    "duration": 29,
    "start_time": "2022-03-23T07:51:00.297Z"
   },
   {
    "duration": 16,
    "start_time": "2022-03-23T07:51:00.328Z"
   },
   {
    "duration": 100106,
    "start_time": "2022-03-23T07:54:52.818Z"
   },
   {
    "duration": 5,
    "start_time": "2022-03-23T08:10:43.288Z"
   },
   {
    "duration": 7,
    "start_time": "2022-03-23T08:11:41.189Z"
   },
   {
    "duration": 28,
    "start_time": "2022-03-23T08:12:01.507Z"
   },
   {
    "duration": 122,
    "start_time": "2022-03-23T08:14:36.309Z"
   },
   {
    "duration": 31,
    "start_time": "2022-03-23T08:15:08.917Z"
   },
   {
    "duration": 67,
    "start_time": "2022-03-23T08:15:41.073Z"
   },
   {
    "duration": 4,
    "start_time": "2022-03-23T08:18:53.268Z"
   },
   {
    "duration": 28,
    "start_time": "2022-03-23T08:19:32.813Z"
   },
   {
    "duration": 6,
    "start_time": "2022-03-23T08:19:49.451Z"
   },
   {
    "duration": 5,
    "start_time": "2022-03-23T08:20:36.222Z"
   },
   {
    "duration": 4,
    "start_time": "2022-03-23T08:20:56.168Z"
   },
   {
    "duration": 4,
    "start_time": "2022-03-23T08:21:37.640Z"
   },
   {
    "duration": 6,
    "start_time": "2022-03-23T08:21:46.085Z"
   },
   {
    "duration": 27,
    "start_time": "2022-03-23T08:21:55.071Z"
   },
   {
    "duration": 41,
    "start_time": "2022-03-23T08:22:10.179Z"
   },
   {
    "duration": 12,
    "start_time": "2022-03-23T08:22:38.022Z"
   },
   {
    "duration": 19,
    "start_time": "2022-03-23T08:23:05.515Z"
   },
   {
    "duration": 8,
    "start_time": "2022-03-23T08:23:24.288Z"
   },
   {
    "duration": 24,
    "start_time": "2022-03-23T08:33:49.295Z"
   },
   {
    "duration": 720,
    "start_time": "2022-03-23T08:36:15.923Z"
   },
   {
    "duration": 226,
    "start_time": "2022-03-23T08:37:13.012Z"
   },
   {
    "duration": 1617,
    "start_time": "2022-03-23T08:39:16.815Z"
   },
   {
    "duration": 1257,
    "start_time": "2022-03-23T08:48:13.880Z"
   },
   {
    "duration": 100,
    "start_time": "2022-03-23T08:48:26.467Z"
   },
   {
    "duration": 1444,
    "start_time": "2022-03-23T08:48:31.088Z"
   },
   {
    "duration": 1518,
    "start_time": "2022-03-23T08:51:26.817Z"
   },
   {
    "duration": 16,
    "start_time": "2022-03-23T08:54:32.226Z"
   },
   {
    "duration": 1095,
    "start_time": "2022-03-23T08:54:58.637Z"
   },
   {
    "duration": 34,
    "start_time": "2022-03-23T08:55:36.270Z"
   },
   {
    "duration": 35,
    "start_time": "2022-03-23T08:56:04.334Z"
   },
   {
    "duration": 97,
    "start_time": "2022-03-23T09:04:22.800Z"
   },
   {
    "duration": 91626,
    "start_time": "2022-03-23T09:04:29.713Z"
   },
   {
    "duration": 81997,
    "start_time": "2022-03-23T09:08:07.167Z"
   },
   {
    "duration": 17893,
    "start_time": "2022-03-23T09:11:14.132Z"
   },
   {
    "duration": 74140,
    "start_time": "2022-03-23T09:11:44.647Z"
   },
   {
    "duration": 83,
    "start_time": "2022-03-23T09:12:58.789Z"
   },
   {
    "duration": 104328,
    "start_time": "2022-03-23T09:13:10.063Z"
   },
   {
    "duration": 73141,
    "start_time": "2022-03-23T09:15:49.557Z"
   },
   {
    "duration": 12409,
    "start_time": "2022-03-23T09:17:07.377Z"
   },
   {
    "duration": 32641,
    "start_time": "2022-03-23T09:19:11.648Z"
   },
   {
    "duration": 71904,
    "start_time": "2022-03-23T09:19:56.917Z"
   },
   {
    "duration": 108033,
    "start_time": "2022-03-23T09:24:49.223Z"
   },
   {
    "duration": 3775,
    "start_time": "2022-03-23T09:28:23.924Z"
   },
   {
    "duration": 8796,
    "start_time": "2022-03-23T09:28:53.434Z"
   },
   {
    "duration": 11372,
    "start_time": "2022-03-23T09:31:10.149Z"
   },
   {
    "duration": 10364,
    "start_time": "2022-03-23T09:31:34.941Z"
   },
   {
    "duration": 13732,
    "start_time": "2022-03-23T09:31:57.192Z"
   },
   {
    "duration": 15098,
    "start_time": "2022-03-23T09:32:30.967Z"
   },
   {
    "duration": 11258,
    "start_time": "2022-03-23T09:32:53.765Z"
   },
   {
    "duration": 10872,
    "start_time": "2022-03-23T09:33:14.853Z"
   },
   {
    "duration": 11142,
    "start_time": "2022-03-23T09:33:38.440Z"
   },
   {
    "duration": 12,
    "start_time": "2022-03-23T09:35:32.699Z"
   },
   {
    "duration": 1591,
    "start_time": "2022-03-23T09:35:48.542Z"
   },
   {
    "duration": 13635,
    "start_time": "2022-03-23T09:36:04.199Z"
   },
   {
    "duration": 12815,
    "start_time": "2022-03-23T09:36:23.948Z"
   },
   {
    "duration": 1347,
    "start_time": "2022-03-23T09:42:30.094Z"
   },
   {
    "duration": 1458,
    "start_time": "2022-03-23T09:44:20.377Z"
   },
   {
    "duration": 161,
    "start_time": "2022-03-23T09:44:36.669Z"
   },
   {
    "duration": 110675,
    "start_time": "2022-03-23T09:44:41.589Z"
   },
   {
    "duration": 1501,
    "start_time": "2022-03-23T09:48:54.332Z"
   },
   {
    "duration": 109424,
    "start_time": "2022-03-23T09:51:53.908Z"
   },
   {
    "duration": 5,
    "start_time": "2022-03-23T09:57:44.453Z"
   },
   {
    "duration": 9,
    "start_time": "2022-03-23T09:57:47.977Z"
   },
   {
    "duration": 10,
    "start_time": "2022-03-23T09:57:51.821Z"
   },
   {
    "duration": 10,
    "start_time": "2022-03-23T09:57:56.809Z"
   },
   {
    "duration": 9,
    "start_time": "2022-03-23T09:58:13.598Z"
   },
   {
    "duration": 5,
    "start_time": "2022-03-23T09:58:17.230Z"
   },
   {
    "duration": 4,
    "start_time": "2022-03-23T09:58:33.821Z"
   },
   {
    "duration": 13,
    "start_time": "2022-03-23T09:58:57.573Z"
   },
   {
    "duration": 26,
    "start_time": "2022-03-23T09:59:14.486Z"
   },
   {
    "duration": 4,
    "start_time": "2022-03-23T10:04:27.144Z"
   },
   {
    "duration": 27,
    "start_time": "2022-03-23T10:05:18.189Z"
   },
   {
    "duration": 78,
    "start_time": "2022-03-23T10:12:17.447Z"
   },
   {
    "duration": 77,
    "start_time": "2022-03-23T10:13:03.350Z"
   },
   {
    "duration": 17,
    "start_time": "2022-03-23T10:15:53.242Z"
   },
   {
    "duration": 4,
    "start_time": "2022-03-23T10:16:37.716Z"
   },
   {
    "duration": 9,
    "start_time": "2022-03-23T10:16:45.031Z"
   },
   {
    "duration": 10,
    "start_time": "2022-03-23T10:16:48.950Z"
   },
   {
    "duration": 5,
    "start_time": "2022-03-23T10:16:51.281Z"
   },
   {
    "duration": 4,
    "start_time": "2022-03-23T10:18:14.995Z"
   },
   {
    "duration": 34,
    "start_time": "2022-03-23T10:18:18.620Z"
   },
   {
    "duration": 8,
    "start_time": "2022-03-23T10:22:17.953Z"
   },
   {
    "duration": 4,
    "start_time": "2022-03-23T10:23:39.271Z"
   },
   {
    "duration": 7,
    "start_time": "2022-03-23T10:23:46.217Z"
   },
   {
    "duration": 5,
    "start_time": "2022-03-23T10:25:27.421Z"
   },
   {
    "duration": 81,
    "start_time": "2022-03-23T10:30:46.738Z"
   },
   {
    "duration": 11,
    "start_time": "2022-03-23T10:36:49.424Z"
   },
   {
    "duration": 6,
    "start_time": "2022-03-23T10:37:05.634Z"
   },
   {
    "duration": 97,
    "start_time": "2022-03-23T10:40:37.580Z"
   },
   {
    "duration": 18,
    "start_time": "2022-03-23T10:40:41.920Z"
   },
   {
    "duration": 5,
    "start_time": "2022-03-23T10:41:17.613Z"
   },
   {
    "duration": 4,
    "start_time": "2022-03-23T10:42:05.463Z"
   },
   {
    "duration": 1644,
    "start_time": "2022-03-23T10:42:20.092Z"
   },
   {
    "duration": 5,
    "start_time": "2022-03-23T10:42:50.171Z"
   },
   {
    "duration": 5,
    "start_time": "2022-03-23T10:42:56.019Z"
   },
   {
    "duration": 5,
    "start_time": "2022-03-23T10:43:39.717Z"
   },
   {
    "duration": 18,
    "start_time": "2022-03-23T10:44:26.413Z"
   },
   {
    "duration": 76,
    "start_time": "2022-03-23T10:44:53.279Z"
   },
   {
    "duration": 18,
    "start_time": "2022-03-23T10:45:13.949Z"
   },
   {
    "duration": 1637,
    "start_time": "2022-03-23T10:45:19.097Z"
   },
   {
    "duration": 24,
    "start_time": "2022-03-23T10:45:30.791Z"
   },
   {
    "duration": 21,
    "start_time": "2022-03-23T10:45:59.810Z"
   },
   {
    "duration": 9,
    "start_time": "2022-03-23T10:47:46.111Z"
   },
   {
    "duration": 23,
    "start_time": "2022-03-23T10:47:53.935Z"
   },
   {
    "duration": 23,
    "start_time": "2022-03-23T10:48:18.899Z"
   },
   {
    "duration": 3,
    "start_time": "2022-03-23T10:49:55.146Z"
   },
   {
    "duration": 6,
    "start_time": "2022-03-23T10:50:06.316Z"
   },
   {
    "duration": 18,
    "start_time": "2022-03-23T10:50:12.388Z"
   },
   {
    "duration": 25,
    "start_time": "2022-03-23T10:54:57.334Z"
   },
   {
    "duration": 1560,
    "start_time": "2022-03-23T10:55:02.978Z"
   },
   {
    "duration": 115145,
    "start_time": "2022-03-23T10:55:07.515Z"
   },
   {
    "duration": 126401,
    "start_time": "2022-03-23T10:57:49.288Z"
   },
   {
    "duration": 25,
    "start_time": "2022-03-23T11:05:23.546Z"
   },
   {
    "duration": 26,
    "start_time": "2022-03-23T11:05:40.708Z"
   },
   {
    "duration": 17,
    "start_time": "2022-03-23T11:05:49.100Z"
   },
   {
    "duration": 7,
    "start_time": "2022-03-23T11:06:58.429Z"
   },
   {
    "duration": 25,
    "start_time": "2022-03-23T11:07:14.209Z"
   },
   {
    "duration": 8,
    "start_time": "2022-03-23T11:07:25.078Z"
   },
   {
    "duration": 12,
    "start_time": "2022-03-23T11:07:31.895Z"
   },
   {
    "duration": 6,
    "start_time": "2022-03-23T11:07:59.787Z"
   },
   {
    "duration": 12,
    "start_time": "2022-03-23T11:08:16.570Z"
   },
   {
    "duration": 10,
    "start_time": "2022-03-23T11:08:27.909Z"
   },
   {
    "duration": 10,
    "start_time": "2022-03-23T11:08:32.082Z"
   },
   {
    "duration": 14,
    "start_time": "2022-03-23T11:11:46.894Z"
   },
   {
    "duration": 420,
    "start_time": "2022-03-23T11:13:46.822Z"
   },
   {
    "duration": 313,
    "start_time": "2022-03-23T11:14:29.821Z"
   },
   {
    "duration": 101509,
    "start_time": "2022-03-23T11:17:29.018Z"
   },
   {
    "duration": 92557,
    "start_time": "2022-03-23T11:19:53.113Z"
   },
   {
    "duration": 121479,
    "start_time": "2022-03-23T11:21:44.459Z"
   },
   {
    "duration": 69156,
    "start_time": "2022-03-23T11:23:47.905Z"
   },
   {
    "duration": 123363,
    "start_time": "2022-03-23T11:25:39.272Z"
   },
   {
    "duration": 78,
    "start_time": "2022-03-23T11:27:42.637Z"
   },
   {
    "duration": 107906,
    "start_time": "2022-03-23T11:27:59.018Z"
   },
   {
    "duration": 78284,
    "start_time": "2022-03-23T11:30:05.914Z"
   },
   {
    "duration": 68259,
    "start_time": "2022-03-23T11:32:19.360Z"
   },
   {
    "duration": 93682,
    "start_time": "2022-03-23T11:34:33.470Z"
   },
   {
    "duration": 16460,
    "start_time": "2022-03-23T11:36:14.543Z"
   },
   {
    "duration": 310,
    "start_time": "2022-03-23T11:37:50.825Z"
   },
   {
    "duration": 10422,
    "start_time": "2022-03-23T11:38:02.917Z"
   },
   {
    "duration": 39781,
    "start_time": "2022-03-23T11:43:50.257Z"
   },
   {
    "duration": 3457,
    "start_time": "2022-03-23T11:47:30.781Z"
   },
   {
    "duration": 18996,
    "start_time": "2022-03-23T11:57:10.386Z"
   },
   {
    "duration": 2695,
    "start_time": "2022-03-23T11:57:29.384Z"
   },
   {
    "duration": 4,
    "start_time": "2022-03-23T11:57:32.084Z"
   },
   {
    "duration": 186,
    "start_time": "2022-03-23T11:57:32.090Z"
   },
   {
    "duration": 156,
    "start_time": "2022-03-23T11:57:32.278Z"
   },
   {
    "duration": 32,
    "start_time": "2022-03-23T11:57:32.436Z"
   },
   {
    "duration": 5,
    "start_time": "2022-03-23T11:57:32.469Z"
   },
   {
    "duration": 8,
    "start_time": "2022-03-23T11:57:32.475Z"
   },
   {
    "duration": 12,
    "start_time": "2022-03-23T11:57:32.484Z"
   },
   {
    "duration": 6,
    "start_time": "2022-03-23T11:57:32.498Z"
   },
   {
    "duration": 6,
    "start_time": "2022-03-23T11:57:32.533Z"
   },
   {
    "duration": 32,
    "start_time": "2022-03-23T11:57:32.541Z"
   },
   {
    "duration": 6605,
    "start_time": "2022-03-23T11:57:32.576Z"
   },
   {
    "duration": 2,
    "start_time": "2022-03-23T11:57:39.184Z"
   },
   {
    "duration": 6,
    "start_time": "2022-03-23T11:57:39.188Z"
   },
   {
    "duration": 18,
    "start_time": "2022-03-23T11:57:39.196Z"
   },
   {
    "duration": 8,
    "start_time": "2022-03-23T11:57:39.216Z"
   },
   {
    "duration": 26,
    "start_time": "2022-03-23T11:57:39.226Z"
   },
   {
    "duration": 15,
    "start_time": "2022-03-23T11:57:39.254Z"
   },
   {
    "duration": 6,
    "start_time": "2022-03-23T11:57:39.271Z"
   },
   {
    "duration": 56634,
    "start_time": "2022-03-23T11:57:39.279Z"
   },
   {
    "duration": 0,
    "start_time": "2022-03-23T11:58:35.915Z"
   },
   {
    "duration": 0,
    "start_time": "2022-03-23T11:58:35.917Z"
   },
   {
    "duration": 0,
    "start_time": "2022-03-23T11:58:35.918Z"
   },
   {
    "duration": 0,
    "start_time": "2022-03-23T11:58:35.919Z"
   },
   {
    "duration": 0,
    "start_time": "2022-03-23T11:58:35.920Z"
   },
   {
    "duration": 0,
    "start_time": "2022-03-23T11:58:35.933Z"
   },
   {
    "duration": 0,
    "start_time": "2022-03-23T11:58:35.934Z"
   },
   {
    "duration": 0,
    "start_time": "2022-03-23T11:58:35.935Z"
   },
   {
    "duration": 0,
    "start_time": "2022-03-23T11:58:35.936Z"
   },
   {
    "duration": 0,
    "start_time": "2022-03-23T11:58:35.937Z"
   },
   {
    "duration": 0,
    "start_time": "2022-03-23T11:58:35.939Z"
   },
   {
    "duration": 0,
    "start_time": "2022-03-23T11:58:35.940Z"
   },
   {
    "duration": 0,
    "start_time": "2022-03-23T11:58:35.941Z"
   },
   {
    "duration": 0,
    "start_time": "2022-03-23T11:58:35.943Z"
   },
   {
    "duration": 0,
    "start_time": "2022-03-23T11:58:35.944Z"
   },
   {
    "duration": 0,
    "start_time": "2022-03-23T11:58:35.945Z"
   },
   {
    "duration": 0,
    "start_time": "2022-03-23T11:58:35.946Z"
   },
   {
    "duration": 0,
    "start_time": "2022-03-23T11:58:35.949Z"
   },
   {
    "duration": 0,
    "start_time": "2022-03-23T11:58:35.952Z"
   },
   {
    "duration": 0,
    "start_time": "2022-03-23T11:58:35.954Z"
   },
   {
    "duration": 0,
    "start_time": "2022-03-23T11:58:35.956Z"
   },
   {
    "duration": 67433,
    "start_time": "2022-03-23T12:01:49.749Z"
   },
   {
    "duration": 2791,
    "start_time": "2022-03-23T12:02:57.185Z"
   },
   {
    "duration": 4,
    "start_time": "2022-03-23T12:02:59.978Z"
   },
   {
    "duration": 136,
    "start_time": "2022-03-23T12:02:59.984Z"
   },
   {
    "duration": 153,
    "start_time": "2022-03-23T12:03:00.122Z"
   },
   {
    "duration": 30,
    "start_time": "2022-03-23T12:03:00.277Z"
   },
   {
    "duration": 26,
    "start_time": "2022-03-23T12:03:00.309Z"
   },
   {
    "duration": 23,
    "start_time": "2022-03-23T12:03:00.337Z"
   },
   {
    "duration": 41,
    "start_time": "2022-03-23T12:03:00.362Z"
   },
   {
    "duration": 21,
    "start_time": "2022-03-23T12:03:00.406Z"
   },
   {
    "duration": 34,
    "start_time": "2022-03-23T12:03:00.429Z"
   },
   {
    "duration": 17,
    "start_time": "2022-03-23T12:03:00.465Z"
   },
   {
    "duration": 6516,
    "start_time": "2022-03-23T12:03:00.485Z"
   },
   {
    "duration": 2,
    "start_time": "2022-03-23T12:03:07.004Z"
   },
   {
    "duration": 7,
    "start_time": "2022-03-23T12:03:07.007Z"
   },
   {
    "duration": 13,
    "start_time": "2022-03-23T12:03:07.016Z"
   },
   {
    "duration": 11,
    "start_time": "2022-03-23T12:03:07.030Z"
   },
   {
    "duration": 23,
    "start_time": "2022-03-23T12:03:07.043Z"
   },
   {
    "duration": 15,
    "start_time": "2022-03-23T12:03:07.068Z"
   },
   {
    "duration": 5,
    "start_time": "2022-03-23T12:03:07.085Z"
   },
   {
    "duration": 1655247,
    "start_time": "2022-03-23T12:03:07.092Z"
   },
   {
    "duration": 5,
    "start_time": "2022-03-23T12:30:42.341Z"
   },
   {
    "duration": 738,
    "start_time": "2022-03-23T12:30:42.348Z"
   },
   {
    "duration": 8,
    "start_time": "2022-03-23T12:30:43.088Z"
   },
   {
    "duration": 16,
    "start_time": "2022-03-23T12:30:43.097Z"
   },
   {
    "duration": 22,
    "start_time": "2022-03-23T12:30:43.115Z"
   },
   {
    "duration": 566220,
    "start_time": "2022-03-23T12:30:43.139Z"
   },
   {
    "duration": 14,
    "start_time": "2022-03-23T12:40:09.363Z"
   },
   {
    "duration": 14,
    "start_time": "2022-03-23T12:40:09.379Z"
   },
   {
    "duration": 8,
    "start_time": "2022-03-23T12:40:09.394Z"
   },
   {
    "duration": 31,
    "start_time": "2022-03-23T12:40:09.404Z"
   },
   {
    "duration": 13,
    "start_time": "2022-03-23T12:40:09.437Z"
   },
   {
    "duration": 52,
    "start_time": "2022-03-23T12:40:09.452Z"
   },
   {
    "duration": 3,
    "start_time": "2022-03-23T12:40:09.506Z"
   },
   {
    "duration": 10,
    "start_time": "2022-03-23T12:40:09.510Z"
   },
   {
    "duration": 34,
    "start_time": "2022-03-23T12:40:09.522Z"
   },
   {
    "duration": 1679,
    "start_time": "2022-03-23T12:40:09.558Z"
   },
   {
    "duration": 94238,
    "start_time": "2022-03-23T12:40:11.238Z"
   },
   {
    "duration": 16678,
    "start_time": "2022-03-23T12:41:45.477Z"
   },
   {
    "duration": 288,
    "start_time": "2022-03-23T12:42:02.157Z"
   },
   {
    "duration": 0,
    "start_time": "2022-03-23T12:42:02.447Z"
   },
   {
    "duration": 0,
    "start_time": "2022-03-23T12:42:02.448Z"
   },
   {
    "duration": 9,
    "start_time": "2022-03-23T12:48:00.999Z"
   },
   {
    "duration": 371,
    "start_time": "2022-03-23T12:50:20.572Z"
   },
   {
    "duration": 288,
    "start_time": "2022-03-23T12:50:32.448Z"
   },
   {
    "duration": 845,
    "start_time": "2022-03-23T12:51:03.528Z"
   },
   {
    "duration": 348,
    "start_time": "2022-03-23T12:51:30.287Z"
   },
   {
    "duration": 357,
    "start_time": "2022-03-23T12:51:58.777Z"
   },
   {
    "duration": 9,
    "start_time": "2022-03-23T12:53:34.911Z"
   },
   {
    "duration": 8,
    "start_time": "2022-03-23T12:53:37.983Z"
   },
   {
    "duration": 37,
    "start_time": "2022-03-23T12:53:46.350Z"
   },
   {
    "duration": 6,
    "start_time": "2022-03-23T12:53:51.548Z"
   },
   {
    "duration": 37,
    "start_time": "2022-03-23T12:54:00.388Z"
   },
   {
    "duration": 525,
    "start_time": "2022-03-23T12:54:22.308Z"
   },
   {
    "duration": 336,
    "start_time": "2022-03-23T12:54:30.099Z"
   },
   {
    "duration": 406,
    "start_time": "2022-03-23T12:54:41.930Z"
   },
   {
    "duration": 40749,
    "start_time": "2022-03-23T12:54:53.694Z"
   },
   {
    "duration": 3525,
    "start_time": "2022-03-23T12:55:42.588Z"
   },
   {
    "duration": 32145,
    "start_time": "2022-03-23T12:56:31.013Z"
   },
   {
    "duration": 4024,
    "start_time": "2022-03-23T12:57:54.945Z"
   },
   {
    "duration": 3102,
    "start_time": "2022-03-23T12:58:13.066Z"
   },
   {
    "duration": 2876,
    "start_time": "2022-03-23T12:58:34.775Z"
   },
   {
    "duration": 2511,
    "start_time": "2022-03-23T12:59:44.405Z"
   },
   {
    "duration": 3294,
    "start_time": "2022-03-23T12:59:58.920Z"
   },
   {
    "duration": 2927,
    "start_time": "2022-03-23T13:00:12.963Z"
   },
   {
    "duration": 99,
    "start_time": "2022-03-23T13:13:30.283Z"
   },
   {
    "duration": 10,
    "start_time": "2022-03-23T13:23:05.872Z"
   },
   {
    "duration": 0,
    "start_time": "2022-03-23T13:29:32.696Z"
   },
   {
    "duration": 101406,
    "start_time": "2022-03-23T13:34:01.872Z"
   },
   {
    "duration": 2669,
    "start_time": "2022-03-23T13:35:43.280Z"
   },
   {
    "duration": 4,
    "start_time": "2022-03-23T13:35:45.951Z"
   },
   {
    "duration": 126,
    "start_time": "2022-03-23T13:35:45.956Z"
   },
   {
    "duration": 150,
    "start_time": "2022-03-23T13:35:46.083Z"
   },
   {
    "duration": 33,
    "start_time": "2022-03-23T13:35:46.235Z"
   },
   {
    "duration": 4,
    "start_time": "2022-03-23T13:35:46.270Z"
   },
   {
    "duration": 56201,
    "start_time": "2022-03-23T13:35:46.276Z"
   },
   {
    "duration": 8,
    "start_time": "2022-03-23T13:36:42.479Z"
   },
   {
    "duration": 6,
    "start_time": "2022-03-23T13:36:42.490Z"
   },
   {
    "duration": 5,
    "start_time": "2022-03-23T13:36:42.498Z"
   },
   {
    "duration": 8,
    "start_time": "2022-03-23T13:36:42.505Z"
   },
   {
    "duration": 6686,
    "start_time": "2022-03-23T13:36:42.514Z"
   },
   {
    "duration": 3,
    "start_time": "2022-03-23T13:36:49.202Z"
   },
   {
    "duration": 30,
    "start_time": "2022-03-23T13:36:49.206Z"
   },
   {
    "duration": 11,
    "start_time": "2022-03-23T13:36:49.237Z"
   },
   {
    "duration": 21,
    "start_time": "2022-03-23T13:36:49.249Z"
   },
   {
    "duration": 13,
    "start_time": "2022-03-23T13:36:49.272Z"
   },
   {
    "duration": 5,
    "start_time": "2022-03-23T13:36:49.287Z"
   },
   {
    "duration": 1661325,
    "start_time": "2022-03-23T13:36:49.293Z"
   },
   {
    "duration": 15,
    "start_time": "2022-03-23T14:04:30.619Z"
   },
   {
    "duration": 696,
    "start_time": "2022-03-23T14:04:30.636Z"
   },
   {
    "duration": 9,
    "start_time": "2022-03-23T14:04:31.334Z"
   },
   {
    "duration": 10,
    "start_time": "2022-03-23T14:04:31.345Z"
   },
   {
    "duration": 19,
    "start_time": "2022-03-23T14:04:31.357Z"
   },
   {
    "duration": 564120,
    "start_time": "2022-03-23T14:04:31.377Z"
   },
   {
    "duration": 10,
    "start_time": "2022-03-23T14:13:55.499Z"
   },
   {
    "duration": 21,
    "start_time": "2022-03-23T14:13:55.512Z"
   },
   {
    "duration": 19,
    "start_time": "2022-03-23T14:13:55.535Z"
   },
   {
    "duration": 12,
    "start_time": "2022-03-23T14:13:55.556Z"
   },
   {
    "duration": 48,
    "start_time": "2022-03-23T14:13:55.569Z"
   },
   {
    "duration": 3,
    "start_time": "2022-03-23T14:13:55.619Z"
   },
   {
    "duration": 30,
    "start_time": "2022-03-23T14:13:55.624Z"
   },
   {
    "duration": 1680,
    "start_time": "2022-03-23T14:13:55.655Z"
   },
   {
    "duration": 93903,
    "start_time": "2022-03-23T14:13:57.336Z"
   },
   {
    "duration": 15393,
    "start_time": "2022-03-23T14:15:31.240Z"
   },
   {
    "duration": 302,
    "start_time": "2022-03-23T14:15:46.634Z"
   },
   {
    "duration": 33473,
    "start_time": "2022-03-23T14:15:46.938Z"
   },
   {
    "duration": 3000,
    "start_time": "2022-03-23T14:16:20.413Z"
   },
   {
    "duration": 7765,
    "start_time": "2022-03-23T18:10:53.407Z"
   },
   {
    "duration": 99,
    "start_time": "2022-03-23T18:45:12.783Z"
   },
   {
    "duration": 8,
    "start_time": "2022-03-23T18:46:32.328Z"
   },
   {
    "duration": 6702,
    "start_time": "2022-03-23T19:11:42.813Z"
   },
   {
    "duration": 3703,
    "start_time": "2022-03-23T19:11:49.518Z"
   },
   {
    "duration": 7,
    "start_time": "2022-03-23T19:11:53.224Z"
   },
   {
    "duration": 227,
    "start_time": "2022-03-23T19:11:53.234Z"
   },
   {
    "duration": 242,
    "start_time": "2022-03-23T19:11:53.465Z"
   },
   {
    "duration": 90,
    "start_time": "2022-03-23T19:11:53.709Z"
   },
   {
    "duration": 9,
    "start_time": "2022-03-23T19:11:53.801Z"
   },
   {
    "duration": 6001,
    "start_time": "2022-03-23T20:23:25.452Z"
   },
   {
    "duration": 3533,
    "start_time": "2022-03-23T20:23:31.456Z"
   },
   {
    "duration": 7,
    "start_time": "2022-03-23T20:23:34.992Z"
   },
   {
    "duration": 227,
    "start_time": "2022-03-23T20:23:35.002Z"
   },
   {
    "duration": 243,
    "start_time": "2022-03-23T20:23:35.232Z"
   },
   {
    "duration": 54,
    "start_time": "2022-03-23T20:23:35.484Z"
   },
   {
    "duration": 7,
    "start_time": "2022-03-23T20:23:35.541Z"
   },
   {
    "duration": 103526,
    "start_time": "2022-03-23T20:23:35.550Z"
   },
   {
    "duration": 13,
    "start_time": "2022-03-23T20:25:19.078Z"
   },
   {
    "duration": 9,
    "start_time": "2022-03-23T20:25:19.095Z"
   },
   {
    "duration": 9,
    "start_time": "2022-03-23T20:25:19.107Z"
   },
   {
    "duration": 8,
    "start_time": "2022-03-23T20:25:19.118Z"
   },
   {
    "duration": 8854,
    "start_time": "2022-03-23T20:25:34.177Z"
   },
   {
    "duration": 3306,
    "start_time": "2022-03-23T20:25:43.034Z"
   },
   {
    "duration": 6,
    "start_time": "2022-03-23T20:25:46.342Z"
   },
   {
    "duration": 200,
    "start_time": "2022-03-23T20:25:46.351Z"
   },
   {
    "duration": 224,
    "start_time": "2022-03-23T20:25:46.553Z"
   },
   {
    "duration": 54,
    "start_time": "2022-03-23T20:25:46.780Z"
   },
   {
    "duration": 6,
    "start_time": "2022-03-23T20:25:46.837Z"
   },
   {
    "duration": 7311,
    "start_time": "2022-03-23T20:26:40.104Z"
   },
   {
    "duration": 2790,
    "start_time": "2022-03-23T20:26:47.418Z"
   },
   {
    "duration": 6,
    "start_time": "2022-03-23T20:26:50.210Z"
   },
   {
    "duration": 225,
    "start_time": "2022-03-23T20:26:50.220Z"
   },
   {
    "duration": 231,
    "start_time": "2022-03-23T20:26:50.447Z"
   },
   {
    "duration": 52,
    "start_time": "2022-03-23T20:26:50.684Z"
   },
   {
    "duration": 7,
    "start_time": "2022-03-23T20:26:50.738Z"
   },
   {
    "duration": 103805,
    "start_time": "2022-03-23T20:26:50.748Z"
   },
   {
    "duration": 29,
    "start_time": "2022-03-23T20:28:34.555Z"
   },
   {
    "duration": 10,
    "start_time": "2022-03-23T20:28:34.589Z"
   },
   {
    "duration": 31,
    "start_time": "2022-03-23T20:28:34.601Z"
   },
   {
    "duration": 22,
    "start_time": "2022-03-23T20:28:34.634Z"
   },
   {
    "duration": 11825,
    "start_time": "2022-03-23T20:28:34.658Z"
   },
   {
    "duration": 4,
    "start_time": "2022-03-23T20:28:46.486Z"
   },
   {
    "duration": 18,
    "start_time": "2022-03-23T20:28:46.495Z"
   },
   {
    "duration": 8,
    "start_time": "2022-03-23T20:28:46.516Z"
   },
   {
    "duration": 65,
    "start_time": "2022-03-23T20:28:46.528Z"
   },
   {
    "duration": 20,
    "start_time": "2022-03-23T20:28:46.599Z"
   },
   {
    "duration": 10,
    "start_time": "2022-03-23T20:28:46.621Z"
   },
   {
    "duration": 3001287,
    "start_time": "2022-03-23T20:28:46.633Z"
   },
   {
    "duration": 4,
    "start_time": "2022-03-23T21:18:47.923Z"
   },
   {
    "duration": 1322,
    "start_time": "2022-03-23T21:18:47.930Z"
   },
   {
    "duration": 13,
    "start_time": "2022-03-23T21:18:49.254Z"
   },
   {
    "duration": 9,
    "start_time": "2022-03-23T21:18:49.283Z"
   },
   {
    "duration": 22,
    "start_time": "2022-03-23T21:18:49.295Z"
   },
   {
    "duration": 1014389,
    "start_time": "2022-03-23T21:18:49.319Z"
   },
   {
    "duration": 16,
    "start_time": "2022-03-23T21:35:43.712Z"
   },
   {
    "duration": 13,
    "start_time": "2022-03-23T21:35:43.736Z"
   },
   {
    "duration": 39,
    "start_time": "2022-03-23T21:35:43.752Z"
   },
   {
    "duration": 23,
    "start_time": "2022-03-23T21:35:43.794Z"
   },
   {
    "duration": 102,
    "start_time": "2022-03-23T21:35:43.821Z"
   },
   {
    "duration": 6,
    "start_time": "2022-03-23T21:35:43.927Z"
   },
   {
    "duration": 58,
    "start_time": "2022-03-23T21:35:43.937Z"
   },
   {
    "duration": 2587,
    "start_time": "2022-03-23T21:35:43.999Z"
   },
   {
    "duration": 129011,
    "start_time": "2022-03-23T21:35:46.590Z"
   },
   {
    "duration": 25317,
    "start_time": "2022-03-23T21:37:55.604Z"
   },
   {
    "duration": 567,
    "start_time": "2022-03-23T21:38:20.924Z"
   },
   {
    "duration": 45095,
    "start_time": "2022-03-23T21:38:21.494Z"
   },
   {
    "duration": 4269,
    "start_time": "2022-03-23T21:39:06.592Z"
   },
   {
    "duration": 180,
    "start_time": "2022-03-24T09:59:47.164Z"
   },
   {
    "duration": 6751,
    "start_time": "2022-03-24T10:34:38.061Z"
   },
   {
    "duration": 3016,
    "start_time": "2022-03-24T10:34:44.815Z"
   },
   {
    "duration": 5,
    "start_time": "2022-03-24T10:34:47.833Z"
   },
   {
    "duration": 215,
    "start_time": "2022-03-24T10:34:47.843Z"
   },
   {
    "duration": 227,
    "start_time": "2022-03-24T10:34:48.062Z"
   },
   {
    "duration": 66,
    "start_time": "2022-03-24T10:34:48.291Z"
   },
   {
    "duration": 6,
    "start_time": "2022-03-24T10:34:48.359Z"
   },
   {
    "duration": 94725,
    "start_time": "2022-03-24T10:34:48.367Z"
   },
   {
    "duration": 11,
    "start_time": "2022-03-24T10:36:23.094Z"
   },
   {
    "duration": 10,
    "start_time": "2022-03-24T10:36:23.107Z"
   },
   {
    "duration": 26,
    "start_time": "2022-03-24T10:36:23.119Z"
   },
   {
    "duration": 9,
    "start_time": "2022-03-24T10:36:23.147Z"
   },
   {
    "duration": 10986,
    "start_time": "2022-03-24T10:36:23.158Z"
   },
   {
    "duration": 5,
    "start_time": "2022-03-24T10:36:34.150Z"
   },
   {
    "duration": 11,
    "start_time": "2022-03-24T10:36:34.157Z"
   },
   {
    "duration": 9,
    "start_time": "2022-03-24T10:36:34.171Z"
   },
   {
    "duration": 78,
    "start_time": "2022-03-24T10:36:34.182Z"
   },
   {
    "duration": 20,
    "start_time": "2022-03-24T10:36:34.262Z"
   },
   {
    "duration": 9,
    "start_time": "2022-03-24T10:36:34.284Z"
   },
   {
    "duration": 2084248,
    "start_time": "2022-03-24T10:36:34.295Z"
   },
   {
    "duration": 0,
    "start_time": "2022-03-24T11:11:18.546Z"
   },
   {
    "duration": 0,
    "start_time": "2022-03-24T11:11:18.548Z"
   },
   {
    "duration": 0,
    "start_time": "2022-03-24T11:11:18.549Z"
   },
   {
    "duration": 0,
    "start_time": "2022-03-24T11:11:18.551Z"
   },
   {
    "duration": 0,
    "start_time": "2022-03-24T11:11:18.552Z"
   },
   {
    "duration": 0,
    "start_time": "2022-03-24T11:11:18.554Z"
   },
   {
    "duration": 0,
    "start_time": "2022-03-24T11:11:18.556Z"
   },
   {
    "duration": 0,
    "start_time": "2022-03-24T11:11:18.558Z"
   },
   {
    "duration": 0,
    "start_time": "2022-03-24T11:11:18.560Z"
   },
   {
    "duration": 0,
    "start_time": "2022-03-24T11:11:18.562Z"
   },
   {
    "duration": 0,
    "start_time": "2022-03-24T11:11:18.564Z"
   },
   {
    "duration": 0,
    "start_time": "2022-03-24T11:11:18.570Z"
   },
   {
    "duration": 0,
    "start_time": "2022-03-24T11:11:18.571Z"
   },
   {
    "duration": 0,
    "start_time": "2022-03-24T11:11:18.573Z"
   },
   {
    "duration": 0,
    "start_time": "2022-03-24T11:11:18.575Z"
   },
   {
    "duration": 0,
    "start_time": "2022-03-24T11:11:18.576Z"
   },
   {
    "duration": 0,
    "start_time": "2022-03-24T11:11:18.577Z"
   },
   {
    "duration": 0,
    "start_time": "2022-03-24T11:11:18.579Z"
   },
   {
    "duration": 0,
    "start_time": "2022-03-24T11:11:18.580Z"
   },
   {
    "duration": 6098,
    "start_time": "2022-03-24T11:26:38.168Z"
   },
   {
    "duration": 3023,
    "start_time": "2022-03-24T11:26:44.269Z"
   },
   {
    "duration": 6,
    "start_time": "2022-03-24T11:26:47.294Z"
   },
   {
    "duration": 222,
    "start_time": "2022-03-24T11:26:47.302Z"
   },
   {
    "duration": 230,
    "start_time": "2022-03-24T11:26:47.527Z"
   },
   {
    "duration": 52,
    "start_time": "2022-03-24T11:26:47.759Z"
   },
   {
    "duration": 31,
    "start_time": "2022-03-24T11:26:47.813Z"
   },
   {
    "duration": 94411,
    "start_time": "2022-03-24T11:26:47.847Z"
   },
   {
    "duration": 11,
    "start_time": "2022-03-24T11:28:22.260Z"
   },
   {
    "duration": 8,
    "start_time": "2022-03-24T11:28:22.273Z"
   },
   {
    "duration": 6,
    "start_time": "2022-03-24T11:28:22.283Z"
   },
   {
    "duration": 10,
    "start_time": "2022-03-24T11:28:22.291Z"
   },
   {
    "duration": 11306,
    "start_time": "2022-03-24T11:28:22.303Z"
   },
   {
    "duration": 4,
    "start_time": "2022-03-24T11:28:33.614Z"
   },
   {
    "duration": 29,
    "start_time": "2022-03-24T11:28:33.621Z"
   },
   {
    "duration": 9,
    "start_time": "2022-03-24T11:28:33.653Z"
   },
   {
    "duration": 25,
    "start_time": "2022-03-24T11:28:33.665Z"
   },
   {
    "duration": 64,
    "start_time": "2022-03-24T11:28:33.692Z"
   },
   {
    "duration": 9,
    "start_time": "2022-03-24T11:28:33.758Z"
   },
   {
    "duration": 222,
    "start_time": "2022-03-24T11:28:33.770Z"
   },
   {
    "duration": 0,
    "start_time": "2022-03-24T11:28:33.996Z"
   },
   {
    "duration": 0,
    "start_time": "2022-03-24T11:28:33.997Z"
   },
   {
    "duration": 0,
    "start_time": "2022-03-24T11:28:34.000Z"
   },
   {
    "duration": 0,
    "start_time": "2022-03-24T11:28:34.002Z"
   },
   {
    "duration": 0,
    "start_time": "2022-03-24T11:28:34.004Z"
   },
   {
    "duration": 0,
    "start_time": "2022-03-24T11:28:34.007Z"
   },
   {
    "duration": 0,
    "start_time": "2022-03-24T11:28:34.009Z"
   },
   {
    "duration": 0,
    "start_time": "2022-03-24T11:28:34.042Z"
   },
   {
    "duration": 0,
    "start_time": "2022-03-24T11:28:34.044Z"
   },
   {
    "duration": 0,
    "start_time": "2022-03-24T11:28:34.047Z"
   },
   {
    "duration": 0,
    "start_time": "2022-03-24T11:28:34.048Z"
   },
   {
    "duration": 0,
    "start_time": "2022-03-24T11:28:34.050Z"
   },
   {
    "duration": 0,
    "start_time": "2022-03-24T11:28:34.052Z"
   },
   {
    "duration": 0,
    "start_time": "2022-03-24T11:28:34.054Z"
   },
   {
    "duration": 0,
    "start_time": "2022-03-24T11:28:34.055Z"
   },
   {
    "duration": 0,
    "start_time": "2022-03-24T11:28:34.057Z"
   },
   {
    "duration": 0,
    "start_time": "2022-03-24T11:28:34.058Z"
   },
   {
    "duration": 0,
    "start_time": "2022-03-24T11:28:34.060Z"
   },
   {
    "duration": 0,
    "start_time": "2022-03-24T11:28:34.061Z"
   },
   {
    "duration": 0,
    "start_time": "2022-03-24T11:28:34.062Z"
   },
   {
    "duration": 5606,
    "start_time": "2022-03-24T11:29:24.637Z"
   },
   {
    "duration": 2845,
    "start_time": "2022-03-24T11:29:30.246Z"
   },
   {
    "duration": 6,
    "start_time": "2022-03-24T11:29:33.093Z"
   },
   {
    "duration": 218,
    "start_time": "2022-03-24T11:29:33.102Z"
   },
   {
    "duration": 238,
    "start_time": "2022-03-24T11:29:33.323Z"
   },
   {
    "duration": 52,
    "start_time": "2022-03-24T11:29:33.563Z"
   },
   {
    "duration": 27,
    "start_time": "2022-03-24T11:29:33.617Z"
   },
   {
    "duration": 92625,
    "start_time": "2022-03-24T11:29:33.646Z"
   },
   {
    "duration": 11,
    "start_time": "2022-03-24T11:31:06.274Z"
   },
   {
    "duration": 9,
    "start_time": "2022-03-24T11:31:06.289Z"
   },
   {
    "duration": 43,
    "start_time": "2022-03-24T11:31:06.301Z"
   },
   {
    "duration": 7,
    "start_time": "2022-03-24T11:31:06.346Z"
   },
   {
    "duration": 11263,
    "start_time": "2022-03-24T11:31:06.356Z"
   },
   {
    "duration": 5,
    "start_time": "2022-03-24T11:31:17.622Z"
   },
   {
    "duration": 23,
    "start_time": "2022-03-24T11:31:17.644Z"
   },
   {
    "duration": 16,
    "start_time": "2022-03-24T11:31:17.670Z"
   },
   {
    "duration": 31,
    "start_time": "2022-03-24T11:31:17.689Z"
   },
   {
    "duration": 35,
    "start_time": "2022-03-24T11:31:17.723Z"
   },
   {
    "duration": 8,
    "start_time": "2022-03-24T11:31:17.761Z"
   },
   {
    "duration": 210,
    "start_time": "2022-03-24T11:31:17.772Z"
   },
   {
    "duration": 0,
    "start_time": "2022-03-24T11:31:17.986Z"
   },
   {
    "duration": 0,
    "start_time": "2022-03-24T11:31:17.987Z"
   },
   {
    "duration": 0,
    "start_time": "2022-03-24T11:31:17.989Z"
   },
   {
    "duration": 0,
    "start_time": "2022-03-24T11:31:17.990Z"
   },
   {
    "duration": 0,
    "start_time": "2022-03-24T11:31:17.992Z"
   },
   {
    "duration": 0,
    "start_time": "2022-03-24T11:31:17.994Z"
   },
   {
    "duration": 0,
    "start_time": "2022-03-24T11:31:17.995Z"
   },
   {
    "duration": 0,
    "start_time": "2022-03-24T11:31:17.997Z"
   },
   {
    "duration": 0,
    "start_time": "2022-03-24T11:31:18.000Z"
   },
   {
    "duration": 0,
    "start_time": "2022-03-24T11:31:18.001Z"
   },
   {
    "duration": 0,
    "start_time": "2022-03-24T11:31:18.003Z"
   },
   {
    "duration": 0,
    "start_time": "2022-03-24T11:31:18.006Z"
   },
   {
    "duration": 0,
    "start_time": "2022-03-24T11:31:18.043Z"
   },
   {
    "duration": 0,
    "start_time": "2022-03-24T11:31:18.044Z"
   },
   {
    "duration": 0,
    "start_time": "2022-03-24T11:31:18.046Z"
   },
   {
    "duration": 0,
    "start_time": "2022-03-24T11:31:18.047Z"
   },
   {
    "duration": 0,
    "start_time": "2022-03-24T11:31:18.049Z"
   },
   {
    "duration": 0,
    "start_time": "2022-03-24T11:31:18.051Z"
   },
   {
    "duration": 0,
    "start_time": "2022-03-24T11:31:18.053Z"
   },
   {
    "duration": 0,
    "start_time": "2022-03-24T11:31:18.054Z"
   },
   {
    "duration": 45,
    "start_time": "2022-03-24T11:32:49.954Z"
   },
   {
    "duration": 13,
    "start_time": "2022-03-24T11:33:11.254Z"
   },
   {
    "duration": 7,
    "start_time": "2022-03-24T11:33:14.049Z"
   },
   {
    "duration": 6034,
    "start_time": "2022-03-24T11:35:00.652Z"
   },
   {
    "duration": 3569,
    "start_time": "2022-03-24T11:35:06.689Z"
   },
   {
    "duration": 5,
    "start_time": "2022-03-24T11:35:10.261Z"
   },
   {
    "duration": 214,
    "start_time": "2022-03-24T11:35:10.269Z"
   },
   {
    "duration": 230,
    "start_time": "2022-03-24T11:35:10.485Z"
   },
   {
    "duration": 69,
    "start_time": "2022-03-24T11:35:10.717Z"
   },
   {
    "duration": 6,
    "start_time": "2022-03-24T11:35:10.789Z"
   },
   {
    "duration": 93086,
    "start_time": "2022-03-24T11:35:10.797Z"
   },
   {
    "duration": 11,
    "start_time": "2022-03-24T11:36:43.885Z"
   },
   {
    "duration": 8,
    "start_time": "2022-03-24T11:36:43.901Z"
   },
   {
    "duration": 35,
    "start_time": "2022-03-24T11:36:43.912Z"
   },
   {
    "duration": 8,
    "start_time": "2022-03-24T11:36:43.949Z"
   },
   {
    "duration": 11350,
    "start_time": "2022-03-24T11:36:43.959Z"
   },
   {
    "duration": 5,
    "start_time": "2022-03-24T11:36:55.311Z"
   },
   {
    "duration": 29,
    "start_time": "2022-03-24T11:36:55.318Z"
   },
   {
    "duration": 6,
    "start_time": "2022-03-24T11:36:55.350Z"
   },
   {
    "duration": 22,
    "start_time": "2022-03-24T11:36:55.359Z"
   },
   {
    "duration": 60,
    "start_time": "2022-03-24T11:36:55.383Z"
   },
   {
    "duration": 9,
    "start_time": "2022-03-24T11:36:55.445Z"
   },
   {
    "duration": 204,
    "start_time": "2022-03-24T11:36:55.456Z"
   },
   {
    "duration": 0,
    "start_time": "2022-03-24T11:36:55.663Z"
   },
   {
    "duration": 0,
    "start_time": "2022-03-24T11:36:55.664Z"
   },
   {
    "duration": 0,
    "start_time": "2022-03-24T11:36:55.666Z"
   },
   {
    "duration": 0,
    "start_time": "2022-03-24T11:36:55.667Z"
   },
   {
    "duration": 0,
    "start_time": "2022-03-24T11:36:55.669Z"
   },
   {
    "duration": 0,
    "start_time": "2022-03-24T11:36:55.671Z"
   },
   {
    "duration": 0,
    "start_time": "2022-03-24T11:36:55.672Z"
   },
   {
    "duration": 0,
    "start_time": "2022-03-24T11:36:55.674Z"
   },
   {
    "duration": 0,
    "start_time": "2022-03-24T11:36:55.675Z"
   },
   {
    "duration": 0,
    "start_time": "2022-03-24T11:36:55.677Z"
   },
   {
    "duration": 0,
    "start_time": "2022-03-24T11:36:55.678Z"
   },
   {
    "duration": 0,
    "start_time": "2022-03-24T11:36:55.679Z"
   },
   {
    "duration": 0,
    "start_time": "2022-03-24T11:36:55.681Z"
   },
   {
    "duration": 0,
    "start_time": "2022-03-24T11:36:55.682Z"
   },
   {
    "duration": 0,
    "start_time": "2022-03-24T11:36:55.683Z"
   },
   {
    "duration": 0,
    "start_time": "2022-03-24T11:36:55.684Z"
   },
   {
    "duration": 0,
    "start_time": "2022-03-24T11:36:55.685Z"
   },
   {
    "duration": 0,
    "start_time": "2022-03-24T11:36:55.687Z"
   },
   {
    "duration": 0,
    "start_time": "2022-03-24T11:36:55.689Z"
   },
   {
    "duration": 0,
    "start_time": "2022-03-24T11:36:55.690Z"
   },
   {
    "duration": 5656,
    "start_time": "2022-03-24T11:39:02.964Z"
   },
   {
    "duration": 1798,
    "start_time": "2022-03-24T11:39:08.623Z"
   },
   {
    "duration": 6,
    "start_time": "2022-03-24T11:39:10.423Z"
   },
   {
    "duration": 203,
    "start_time": "2022-03-24T11:39:10.444Z"
   },
   {
    "duration": 229,
    "start_time": "2022-03-24T11:39:10.649Z"
   },
   {
    "duration": 71,
    "start_time": "2022-03-24T11:39:10.880Z"
   },
   {
    "duration": 6,
    "start_time": "2022-03-24T11:39:10.953Z"
   },
   {
    "duration": 91831,
    "start_time": "2022-03-24T11:39:10.961Z"
   },
   {
    "duration": 11,
    "start_time": "2022-03-24T11:40:42.794Z"
   },
   {
    "duration": 7,
    "start_time": "2022-03-24T11:40:42.809Z"
   },
   {
    "duration": 7,
    "start_time": "2022-03-24T11:40:42.818Z"
   },
   {
    "duration": 17,
    "start_time": "2022-03-24T11:40:42.828Z"
   },
   {
    "duration": 12176,
    "start_time": "2022-03-24T11:40:42.847Z"
   },
   {
    "duration": 5,
    "start_time": "2022-03-24T11:40:55.025Z"
   },
   {
    "duration": 38,
    "start_time": "2022-03-24T11:40:55.032Z"
   },
   {
    "duration": 29,
    "start_time": "2022-03-24T11:40:55.072Z"
   },
   {
    "duration": 38,
    "start_time": "2022-03-24T11:40:55.104Z"
   },
   {
    "duration": 21,
    "start_time": "2022-03-24T11:40:55.144Z"
   },
   {
    "duration": 16,
    "start_time": "2022-03-24T11:40:55.168Z"
   },
   {
    "duration": 3500535,
    "start_time": "2022-03-24T11:40:55.186Z"
   },
   {
    "duration": 0,
    "start_time": "2022-03-24T12:39:15.725Z"
   },
   {
    "duration": 0,
    "start_time": "2022-03-24T12:39:15.726Z"
   },
   {
    "duration": 0,
    "start_time": "2022-03-24T12:39:15.727Z"
   },
   {
    "duration": 0,
    "start_time": "2022-03-24T12:39:15.729Z"
   },
   {
    "duration": 0,
    "start_time": "2022-03-24T12:39:15.730Z"
   },
   {
    "duration": 0,
    "start_time": "2022-03-24T12:39:15.743Z"
   },
   {
    "duration": 0,
    "start_time": "2022-03-24T12:39:15.744Z"
   },
   {
    "duration": 0,
    "start_time": "2022-03-24T12:39:15.746Z"
   },
   {
    "duration": 0,
    "start_time": "2022-03-24T12:39:15.748Z"
   },
   {
    "duration": 0,
    "start_time": "2022-03-24T12:39:15.749Z"
   },
   {
    "duration": 0,
    "start_time": "2022-03-24T12:39:15.752Z"
   },
   {
    "duration": 0,
    "start_time": "2022-03-24T12:39:15.753Z"
   },
   {
    "duration": 0,
    "start_time": "2022-03-24T12:39:15.754Z"
   },
   {
    "duration": 0,
    "start_time": "2022-03-24T12:39:15.756Z"
   },
   {
    "duration": 0,
    "start_time": "2022-03-24T12:39:15.757Z"
   },
   {
    "duration": 0,
    "start_time": "2022-03-24T12:39:15.758Z"
   },
   {
    "duration": 0,
    "start_time": "2022-03-24T12:39:15.759Z"
   },
   {
    "duration": 0,
    "start_time": "2022-03-24T12:39:15.761Z"
   },
   {
    "duration": 0,
    "start_time": "2022-03-24T12:39:15.763Z"
   },
   {
    "duration": 0,
    "start_time": "2022-03-24T12:39:15.764Z"
   },
   {
    "duration": 2054,
    "start_time": "2022-03-24T12:39:56.414Z"
   },
   {
    "duration": 3293,
    "start_time": "2022-03-24T12:39:58.471Z"
   },
   {
    "duration": 6,
    "start_time": "2022-03-24T12:40:01.766Z"
   },
   {
    "duration": 226,
    "start_time": "2022-03-24T12:40:01.776Z"
   },
   {
    "duration": 228,
    "start_time": "2022-03-24T12:40:02.005Z"
   },
   {
    "duration": 51,
    "start_time": "2022-03-24T12:40:02.243Z"
   },
   {
    "duration": 6,
    "start_time": "2022-03-24T12:40:02.296Z"
   },
   {
    "duration": 92469,
    "start_time": "2022-03-24T12:40:02.304Z"
   },
   {
    "duration": 12,
    "start_time": "2022-03-24T12:41:34.775Z"
   },
   {
    "duration": 9,
    "start_time": "2022-03-24T12:41:34.792Z"
   },
   {
    "duration": 7,
    "start_time": "2022-03-24T12:41:34.804Z"
   },
   {
    "duration": 6,
    "start_time": "2022-03-24T12:41:34.844Z"
   },
   {
    "duration": 11000,
    "start_time": "2022-03-24T12:41:34.853Z"
   },
   {
    "duration": 4,
    "start_time": "2022-03-24T12:41:45.855Z"
   },
   {
    "duration": 15,
    "start_time": "2022-03-24T12:41:45.861Z"
   },
   {
    "duration": 7,
    "start_time": "2022-03-24T12:41:45.879Z"
   },
   {
    "duration": 61,
    "start_time": "2022-03-24T12:41:45.888Z"
   },
   {
    "duration": 20,
    "start_time": "2022-03-24T12:41:45.951Z"
   },
   {
    "duration": 8,
    "start_time": "2022-03-24T12:41:45.973Z"
   },
   {
    "duration": 3665524,
    "start_time": "2022-03-24T12:41:45.984Z"
   },
   {
    "duration": 2703267,
    "start_time": "2022-03-24T13:42:51.510Z"
   },
   {
    "duration": 5,
    "start_time": "2022-03-24T14:27:54.780Z"
   },
   {
    "duration": 1292,
    "start_time": "2022-03-24T14:27:54.787Z"
   },
   {
    "duration": 12,
    "start_time": "2022-03-24T14:27:56.082Z"
   },
   {
    "duration": 9,
    "start_time": "2022-03-24T14:27:56.097Z"
   },
   {
    "duration": 38,
    "start_time": "2022-03-24T14:27:56.109Z"
   },
   {
    "duration": 178,
    "start_time": "2022-03-24T14:27:56.150Z"
   },
   {
    "duration": 0,
    "start_time": "2022-03-24T14:27:56.332Z"
   },
   {
    "duration": 0,
    "start_time": "2022-03-24T14:27:56.333Z"
   },
   {
    "duration": 0,
    "start_time": "2022-03-24T14:27:56.334Z"
   },
   {
    "duration": 0,
    "start_time": "2022-03-24T14:27:56.337Z"
   },
   {
    "duration": 0,
    "start_time": "2022-03-24T14:27:56.338Z"
   },
   {
    "duration": 0,
    "start_time": "2022-03-24T14:27:56.340Z"
   },
   {
    "duration": 0,
    "start_time": "2022-03-24T14:27:56.341Z"
   },
   {
    "duration": 0,
    "start_time": "2022-03-24T14:27:56.343Z"
   },
   {
    "duration": 0,
    "start_time": "2022-03-24T14:27:56.345Z"
   },
   {
    "duration": 0,
    "start_time": "2022-03-24T14:27:56.346Z"
   },
   {
    "duration": 0,
    "start_time": "2022-03-24T14:27:56.348Z"
   },
   {
    "duration": 0,
    "start_time": "2022-03-24T14:27:56.350Z"
   },
   {
    "duration": 0,
    "start_time": "2022-03-24T14:27:56.351Z"
   },
   {
    "duration": 177,
    "start_time": "2022-03-24T14:29:45.782Z"
   },
   {
    "duration": 11,
    "start_time": "2022-03-24T14:31:07.896Z"
   },
   {
    "duration": 174,
    "start_time": "2022-03-24T14:31:07.910Z"
   },
   {
    "duration": 9,
    "start_time": "2022-03-24T14:31:46.217Z"
   },
   {
    "duration": 174,
    "start_time": "2022-03-24T14:31:49.293Z"
   },
   {
    "duration": 3,
    "start_time": "2022-03-24T14:32:22.158Z"
   },
   {
    "duration": 8,
    "start_time": "2022-03-24T14:32:29.283Z"
   },
   {
    "duration": 1889142,
    "start_time": "2022-03-24T14:32:56.903Z"
   },
   {
    "duration": 182,
    "start_time": "2022-03-24T16:28:55.622Z"
   },
   {
    "duration": 6,
    "start_time": "2022-03-24T16:29:04.287Z"
   },
   {
    "duration": 6,
    "start_time": "2022-03-24T16:31:23.518Z"
   },
   {
    "duration": 187,
    "start_time": "2022-03-24T16:47:53.059Z"
   },
   {
    "duration": 19,
    "start_time": "2022-03-24T16:48:08.377Z"
   },
   {
    "duration": 18,
    "start_time": "2022-03-24T16:48:17.090Z"
   },
   {
    "duration": 13,
    "start_time": "2022-03-24T16:48:52.505Z"
   },
   {
    "duration": 28,
    "start_time": "2022-03-24T16:49:12.772Z"
   },
   {
    "duration": 10,
    "start_time": "2022-03-24T16:49:22.769Z"
   },
   {
    "duration": 18,
    "start_time": "2022-03-24T16:49:58.515Z"
   },
   {
    "duration": 12,
    "start_time": "2022-03-24T16:50:22.827Z"
   },
   {
    "duration": 13,
    "start_time": "2022-03-24T16:50:28.995Z"
   },
   {
    "duration": 57,
    "start_time": "2022-03-24T16:50:53.098Z"
   },
   {
    "duration": 61,
    "start_time": "2022-03-24T16:51:06.935Z"
   },
   {
    "duration": 61,
    "start_time": "2022-03-24T16:52:55.745Z"
   },
   {
    "duration": 5,
    "start_time": "2022-03-24T17:01:00.460Z"
   },
   {
    "duration": 60,
    "start_time": "2022-03-24T17:08:10.678Z"
   },
   {
    "duration": 184,
    "start_time": "2022-03-24T17:12:06.267Z"
   },
   {
    "duration": 28,
    "start_time": "2022-03-24T17:12:12.223Z"
   },
   {
    "duration": 34,
    "start_time": "2022-03-24T17:12:47.167Z"
   },
   {
    "duration": 8,
    "start_time": "2022-03-24T17:12:59.333Z"
   },
   {
    "duration": 22,
    "start_time": "2022-03-24T17:13:14.574Z"
   },
   {
    "duration": 30,
    "start_time": "2022-03-24T17:13:43.917Z"
   },
   {
    "duration": 26,
    "start_time": "2022-03-24T17:15:25.184Z"
   },
   {
    "duration": 30,
    "start_time": "2022-03-24T17:17:26.156Z"
   },
   {
    "duration": 25,
    "start_time": "2022-03-24T17:17:34.086Z"
   },
   {
    "duration": 23,
    "start_time": "2022-03-24T17:18:31.374Z"
   },
   {
    "duration": 9,
    "start_time": "2022-03-24T17:18:56.905Z"
   },
   {
    "duration": 62,
    "start_time": "2022-03-24T17:19:12.971Z"
   },
   {
    "duration": 46,
    "start_time": "2022-03-24T17:26:53.178Z"
   },
   {
    "duration": 72,
    "start_time": "2022-03-24T17:27:38.105Z"
   },
   {
    "duration": 42,
    "start_time": "2022-03-24T17:28:11.093Z"
   },
   {
    "duration": 25,
    "start_time": "2022-03-24T17:28:16.495Z"
   },
   {
    "duration": 29,
    "start_time": "2022-03-24T17:28:37.693Z"
   },
   {
    "duration": 24,
    "start_time": "2022-03-24T17:28:59.486Z"
   },
   {
    "duration": 89,
    "start_time": "2022-03-24T17:29:23.993Z"
   },
   {
    "duration": 23,
    "start_time": "2022-03-24T17:30:25.453Z"
   },
   {
    "duration": 3074,
    "start_time": "2022-03-24T17:37:19.645Z"
   },
   {
    "duration": 24,
    "start_time": "2022-03-24T17:37:37.997Z"
   },
   {
    "duration": 166,
    "start_time": "2022-03-24T17:38:07.658Z"
   },
   {
    "duration": 184,
    "start_time": "2022-03-24T17:38:11.771Z"
   },
   {
    "duration": 20,
    "start_time": "2022-03-24T17:38:16.341Z"
   },
   {
    "duration": 17,
    "start_time": "2022-03-24T17:38:47.975Z"
   },
   {
    "duration": 84,
    "start_time": "2022-03-24T17:39:04.789Z"
   },
   {
    "duration": 51,
    "start_time": "2022-03-24T17:39:23.740Z"
   },
   {
    "duration": 6,
    "start_time": "2022-03-24T17:39:56.346Z"
   },
   {
    "duration": 135,
    "start_time": "2022-03-24T17:40:31.441Z"
   },
   {
    "duration": 56,
    "start_time": "2022-03-24T17:40:37.632Z"
   },
   {
    "duration": 26,
    "start_time": "2022-03-24T17:41:08.980Z"
   },
   {
    "duration": 25,
    "start_time": "2022-03-24T17:41:16.615Z"
   },
   {
    "duration": 15,
    "start_time": "2022-03-24T17:43:47.585Z"
   },
   {
    "duration": 73,
    "start_time": "2022-03-24T17:45:34.114Z"
   },
   {
    "duration": 76,
    "start_time": "2022-03-24T17:45:43.716Z"
   },
   {
    "duration": 19,
    "start_time": "2022-03-24T17:45:59.311Z"
   },
   {
    "duration": 21,
    "start_time": "2022-03-24T17:46:01.391Z"
   },
   {
    "duration": 37,
    "start_time": "2022-03-24T17:47:39.516Z"
   },
   {
    "duration": 189,
    "start_time": "2022-03-24T17:49:34.150Z"
   },
   {
    "duration": 111,
    "start_time": "2022-03-24T17:51:13.180Z"
   },
   {
    "duration": 59,
    "start_time": "2022-03-24T17:51:38.201Z"
   },
   {
    "duration": 59417,
    "start_time": "2022-03-24T17:52:04.902Z"
   },
   {
    "duration": 14,
    "start_time": "2022-03-24T17:54:03.586Z"
   },
   {
    "duration": 16,
    "start_time": "2022-03-24T17:54:15.178Z"
   },
   {
    "duration": 9,
    "start_time": "2022-03-24T17:54:21.347Z"
   },
   {
    "duration": 7,
    "start_time": "2022-03-24T17:54:23.332Z"
   },
   {
    "duration": 11,
    "start_time": "2022-03-24T17:54:32.589Z"
   },
   {
    "duration": 55,
    "start_time": "2022-03-24T17:54:36.270Z"
   },
   {
    "duration": 6,
    "start_time": "2022-03-24T17:54:45.930Z"
   },
   {
    "duration": 34,
    "start_time": "2022-03-24T17:54:53.289Z"
   },
   {
    "duration": 3098,
    "start_time": "2022-03-24T17:55:00.164Z"
   },
   {
    "duration": 29367,
    "start_time": "2022-03-24T17:55:13.074Z"
   },
   {
    "duration": 16906,
    "start_time": "2022-03-24T17:58:17.090Z"
   },
   {
    "duration": 13484,
    "start_time": "2022-03-24T17:59:05.369Z"
   },
   {
    "duration": 7650,
    "start_time": "2022-03-24T17:59:34.997Z"
   },
   {
    "duration": 4624,
    "start_time": "2022-03-24T17:59:55.577Z"
   },
   {
    "duration": 3341,
    "start_time": "2022-03-24T18:00:19.239Z"
   },
   {
    "duration": 4444,
    "start_time": "2022-03-24T18:00:36.886Z"
   },
   {
    "duration": 15380,
    "start_time": "2022-03-24T18:01:13.921Z"
   },
   {
    "duration": 17861,
    "start_time": "2022-03-24T18:01:39.686Z"
   },
   {
    "duration": 14005,
    "start_time": "2022-03-24T18:02:09.579Z"
   },
   {
    "duration": 15819,
    "start_time": "2022-03-24T18:03:37.417Z"
   },
   {
    "duration": 13014,
    "start_time": "2022-03-24T18:04:09.702Z"
   },
   {
    "duration": 13339,
    "start_time": "2022-03-24T18:04:40.029Z"
   },
   {
    "duration": 156415,
    "start_time": "2022-03-24T18:05:52.481Z"
   },
   {
    "duration": 16899,
    "start_time": "2022-03-24T18:10:39.920Z"
   },
   {
    "duration": 527,
    "start_time": "2022-03-24T18:29:25.422Z"
   },
   {
    "duration": 809,
    "start_time": "2022-03-24T18:29:51.456Z"
   },
   {
    "duration": 2317,
    "start_time": "2022-03-24T18:30:21.331Z"
   },
   {
    "duration": 15,
    "start_time": "2022-03-24T18:44:57.180Z"
   },
   {
    "duration": 28,
    "start_time": "2022-03-24T18:46:15.865Z"
   },
   {
    "duration": 28,
    "start_time": "2022-03-24T18:46:20.833Z"
   },
   {
    "duration": 125642,
    "start_time": "2022-03-24T18:46:32.981Z"
   },
   {
    "duration": 20,
    "start_time": "2022-03-24T18:50:22.467Z"
   },
   {
    "duration": 6,
    "start_time": "2022-03-24T18:51:01.981Z"
   },
   {
    "duration": 124763,
    "start_time": "2022-03-24T18:51:20.320Z"
   },
   {
    "duration": 125845,
    "start_time": "2022-03-24T18:56:01.654Z"
   },
   {
    "duration": 502735,
    "start_time": "2022-03-24T18:58:19.538Z"
   },
   {
    "duration": 17,
    "start_time": "2022-03-24T19:07:49.780Z"
   },
   {
    "duration": 79,
    "start_time": "2022-03-24T19:08:34.181Z"
   },
   {
    "duration": 23,
    "start_time": "2022-03-24T19:08:59.029Z"
   },
   {
    "duration": 2455,
    "start_time": "2022-03-24T19:10:14.762Z"
   },
   {
    "duration": 3740,
    "start_time": "2022-03-24T19:10:17.220Z"
   },
   {
    "duration": 6,
    "start_time": "2022-03-24T19:10:20.962Z"
   },
   {
    "duration": 287,
    "start_time": "2022-03-24T19:10:20.971Z"
   },
   {
    "duration": 301,
    "start_time": "2022-03-24T19:10:21.264Z"
   },
   {
    "duration": 75,
    "start_time": "2022-03-24T19:10:21.568Z"
   },
   {
    "duration": 7,
    "start_time": "2022-03-24T19:10:21.645Z"
   },
   {
    "duration": 101040,
    "start_time": "2022-03-24T19:10:21.655Z"
   },
   {
    "duration": 11,
    "start_time": "2022-03-24T19:12:02.698Z"
   },
   {
    "duration": 14,
    "start_time": "2022-03-24T19:12:02.712Z"
   },
   {
    "duration": 8,
    "start_time": "2022-03-24T19:12:02.745Z"
   },
   {
    "duration": 8,
    "start_time": "2022-03-24T19:12:02.756Z"
   },
   {
    "duration": 12065,
    "start_time": "2022-03-24T19:12:02.766Z"
   },
   {
    "duration": 6,
    "start_time": "2022-03-24T19:12:14.847Z"
   },
   {
    "duration": 21,
    "start_time": "2022-03-24T19:12:14.857Z"
   },
   {
    "duration": 12,
    "start_time": "2022-03-24T19:12:14.881Z"
   },
   {
    "duration": 59,
    "start_time": "2022-03-24T19:12:14.895Z"
   },
   {
    "duration": 21,
    "start_time": "2022-03-24T19:12:14.957Z"
   },
   {
    "duration": 10,
    "start_time": "2022-03-24T19:12:14.980Z"
   },
   {
    "duration": 4635178,
    "start_time": "2022-03-24T19:12:14.992Z"
   },
   {
    "duration": 3367837,
    "start_time": "2022-03-24T20:29:30.173Z"
   },
   {
    "duration": 7,
    "start_time": "2022-03-24T21:25:38.013Z"
   },
   {
    "duration": 1333,
    "start_time": "2022-03-24T21:25:38.022Z"
   },
   {
    "duration": 18,
    "start_time": "2022-03-24T21:25:39.363Z"
   },
   {
    "duration": 22,
    "start_time": "2022-03-24T21:25:39.389Z"
   },
   {
    "duration": 18,
    "start_time": "2022-03-24T21:25:39.420Z"
   },
   {
    "duration": 2123797,
    "start_time": "2022-03-24T21:25:39.441Z"
   },
   {
    "duration": 6,
    "start_time": "2022-03-24T22:01:03.244Z"
   },
   {
    "duration": 28,
    "start_time": "2022-03-24T22:01:03.252Z"
   },
   {
    "duration": 14,
    "start_time": "2022-03-24T22:01:03.282Z"
   },
   {
    "duration": 29,
    "start_time": "2022-03-24T22:01:03.344Z"
   },
   {
    "duration": 35,
    "start_time": "2022-03-24T22:01:03.376Z"
   },
   {
    "duration": 83,
    "start_time": "2022-03-24T22:01:03.414Z"
   },
   {
    "duration": 2038106,
    "start_time": "2022-03-24T22:01:03.500Z"
   },
   {
    "duration": 14,
    "start_time": "2022-03-24T22:35:01.608Z"
   },
   {
    "duration": 4,
    "start_time": "2022-03-24T22:35:01.644Z"
   },
   {
    "duration": 13,
    "start_time": "2022-03-24T22:35:01.650Z"
   },
   {
    "duration": 18,
    "start_time": "2022-03-24T22:35:01.666Z"
   },
   {
    "duration": 93,
    "start_time": "2022-03-24T22:35:01.687Z"
   },
   {
    "duration": 7,
    "start_time": "2022-03-24T22:35:01.783Z"
   },
   {
    "duration": 67,
    "start_time": "2022-03-24T22:35:01.798Z"
   },
   {
    "duration": 2682,
    "start_time": "2022-03-24T22:35:01.868Z"
   },
   {
    "duration": 4534,
    "start_time": "2022-03-24T22:35:04.552Z"
   },
   {
    "duration": 32247,
    "start_time": "2022-03-24T22:35:09.089Z"
   },
   {
    "duration": 66,
    "start_time": "2022-03-24T22:35:41.338Z"
   },
   {
    "duration": 7086933,
    "start_time": "2022-03-24T22:35:41.407Z"
   },
   {
    "duration": 0,
    "start_time": "2022-03-25T00:33:48.343Z"
   },
   {
    "duration": 0,
    "start_time": "2022-03-25T00:33:48.344Z"
   },
   {
    "duration": 0,
    "start_time": "2022-03-25T00:33:48.346Z"
   },
   {
    "duration": 0,
    "start_time": "2022-03-25T00:33:48.348Z"
   },
   {
    "duration": 514338,
    "start_time": "2022-03-25T00:34:51.930Z"
   },
   {
    "duration": 2461,
    "start_time": "2022-03-25T00:43:36.093Z"
   },
   {
    "duration": 3553,
    "start_time": "2022-03-25T00:43:38.556Z"
   },
   {
    "duration": 8,
    "start_time": "2022-03-25T00:43:42.111Z"
   },
   {
    "duration": 232,
    "start_time": "2022-03-25T00:43:42.122Z"
   },
   {
    "duration": 303,
    "start_time": "2022-03-25T00:43:42.356Z"
   },
   {
    "duration": 89,
    "start_time": "2022-03-25T00:43:42.662Z"
   },
   {
    "duration": 9,
    "start_time": "2022-03-25T00:43:42.754Z"
   },
   {
    "duration": 103405,
    "start_time": "2022-03-25T00:43:42.766Z"
   },
   {
    "duration": 11,
    "start_time": "2022-03-25T00:45:26.173Z"
   },
   {
    "duration": 17,
    "start_time": "2022-03-25T00:45:26.188Z"
   },
   {
    "duration": 35,
    "start_time": "2022-03-25T00:45:26.208Z"
   },
   {
    "duration": 9,
    "start_time": "2022-03-25T00:45:26.245Z"
   },
   {
    "duration": 11339,
    "start_time": "2022-03-25T00:45:26.257Z"
   },
   {
    "duration": 5,
    "start_time": "2022-03-25T00:45:37.598Z"
   },
   {
    "duration": 39,
    "start_time": "2022-03-25T00:45:37.605Z"
   },
   {
    "duration": 18,
    "start_time": "2022-03-25T00:45:37.646Z"
   },
   {
    "duration": 42,
    "start_time": "2022-03-25T00:45:37.666Z"
   },
   {
    "duration": 53,
    "start_time": "2022-03-25T00:45:37.710Z"
   },
   {
    "duration": 11,
    "start_time": "2022-03-25T00:45:37.766Z"
   },
   {
    "duration": 3782441,
    "start_time": "2022-03-25T00:45:37.781Z"
   },
   {
    "duration": 2628384,
    "start_time": "2022-03-25T01:48:40.225Z"
   },
   {
    "duration": 5,
    "start_time": "2022-03-25T02:32:28.612Z"
   },
   {
    "duration": 1160,
    "start_time": "2022-03-25T02:32:28.620Z"
   },
   {
    "duration": 11,
    "start_time": "2022-03-25T02:32:29.783Z"
   },
   {
    "duration": 8,
    "start_time": "2022-03-25T02:32:29.796Z"
   },
   {
    "duration": 10,
    "start_time": "2022-03-25T02:32:29.806Z"
   },
   {
    "duration": 1983202,
    "start_time": "2022-03-25T02:32:29.819Z"
   },
   {
    "duration": 18,
    "start_time": "2022-03-25T03:05:33.029Z"
   },
   {
    "duration": 23,
    "start_time": "2022-03-25T03:05:33.049Z"
   },
   {
    "duration": 12,
    "start_time": "2022-03-25T03:05:33.075Z"
   },
   {
    "duration": 57,
    "start_time": "2022-03-25T03:05:33.090Z"
   },
   {
    "duration": 26,
    "start_time": "2022-03-25T03:05:33.149Z"
   },
   {
    "duration": 78,
    "start_time": "2022-03-25T03:05:33.177Z"
   },
   {
    "duration": 47,
    "start_time": "2022-03-25T08:05:50.084Z"
   },
   {
    "duration": 1595,
    "start_time": "2022-03-25T08:06:00.976Z"
   },
   {
    "duration": 744215,
    "start_time": "2022-03-25T08:06:02.573Z"
   },
   {
    "duration": 0,
    "start_time": "2022-03-25T08:18:26.792Z"
   },
   {
    "duration": 0,
    "start_time": "2022-03-25T08:18:26.794Z"
   },
   {
    "duration": 0,
    "start_time": "2022-03-25T08:18:26.796Z"
   },
   {
    "duration": 0,
    "start_time": "2022-03-25T08:18:26.797Z"
   },
   {
    "duration": 0,
    "start_time": "2022-03-25T08:18:26.799Z"
   },
   {
    "duration": 0,
    "start_time": "2022-03-25T08:18:26.800Z"
   },
   {
    "duration": 0,
    "start_time": "2022-03-25T08:18:26.801Z"
   },
   {
    "duration": 0,
    "start_time": "2022-03-25T08:18:26.803Z"
   },
   {
    "duration": 0,
    "start_time": "2022-03-25T08:18:26.804Z"
   },
   {
    "duration": 0,
    "start_time": "2022-03-25T08:18:26.805Z"
   },
   {
    "duration": 0,
    "start_time": "2022-03-25T08:18:26.806Z"
   },
   {
    "duration": 0,
    "start_time": "2022-03-25T08:18:26.807Z"
   },
   {
    "duration": 0,
    "start_time": "2022-03-25T08:18:26.808Z"
   },
   {
    "duration": 0,
    "start_time": "2022-03-25T08:18:26.809Z"
   },
   {
    "duration": 0,
    "start_time": "2022-03-25T08:18:26.810Z"
   },
   {
    "duration": 0,
    "start_time": "2022-03-25T08:18:26.811Z"
   },
   {
    "duration": 0,
    "start_time": "2022-03-25T08:18:26.837Z"
   },
   {
    "duration": 0,
    "start_time": "2022-03-25T08:18:26.838Z"
   },
   {
    "duration": 0,
    "start_time": "2022-03-25T08:18:26.839Z"
   },
   {
    "duration": 0,
    "start_time": "2022-03-25T08:18:26.840Z"
   },
   {
    "duration": 0,
    "start_time": "2022-03-25T08:18:26.841Z"
   },
   {
    "duration": 0,
    "start_time": "2022-03-25T08:18:26.842Z"
   },
   {
    "duration": 0,
    "start_time": "2022-03-25T08:18:26.843Z"
   },
   {
    "duration": 0,
    "start_time": "2022-03-25T08:18:26.844Z"
   },
   {
    "duration": 0,
    "start_time": "2022-03-25T08:18:26.845Z"
   },
   {
    "duration": 0,
    "start_time": "2022-03-25T08:18:26.846Z"
   },
   {
    "duration": 0,
    "start_time": "2022-03-25T08:18:26.847Z"
   },
   {
    "duration": 0,
    "start_time": "2022-03-25T08:18:26.848Z"
   },
   {
    "duration": 0,
    "start_time": "2022-03-25T08:18:26.849Z"
   },
   {
    "duration": 0,
    "start_time": "2022-03-25T08:18:26.851Z"
   },
   {
    "duration": 0,
    "start_time": "2022-03-25T08:18:26.851Z"
   },
   {
    "duration": 1,
    "start_time": "2022-03-25T08:18:26.852Z"
   },
   {
    "duration": 0,
    "start_time": "2022-03-25T08:18:26.853Z"
   },
   {
    "duration": 0,
    "start_time": "2022-03-25T08:18:26.854Z"
   },
   {
    "duration": 0,
    "start_time": "2022-03-25T08:18:26.856Z"
   },
   {
    "duration": 0,
    "start_time": "2022-03-25T08:18:26.857Z"
   },
   {
    "duration": 0,
    "start_time": "2022-03-25T08:18:26.858Z"
   },
   {
    "duration": 0,
    "start_time": "2022-03-25T08:18:26.859Z"
   },
   {
    "duration": 0,
    "start_time": "2022-03-25T08:18:26.860Z"
   },
   {
    "duration": 0,
    "start_time": "2022-03-25T08:18:26.861Z"
   },
   {
    "duration": 0,
    "start_time": "2022-03-25T08:18:26.862Z"
   },
   {
    "duration": 0,
    "start_time": "2022-03-25T08:18:26.864Z"
   },
   {
    "duration": 0,
    "start_time": "2022-03-25T08:18:26.864Z"
   },
   {
    "duration": 0,
    "start_time": "2022-03-25T08:18:26.865Z"
   },
   {
    "duration": 0,
    "start_time": "2022-03-25T08:18:26.866Z"
   },
   {
    "duration": 0,
    "start_time": "2022-03-25T08:18:26.868Z"
   },
   {
    "duration": 0,
    "start_time": "2022-03-25T08:18:26.868Z"
   },
   {
    "duration": 0,
    "start_time": "2022-03-25T08:18:26.869Z"
   },
   {
    "duration": 1535,
    "start_time": "2022-03-25T08:18:42.930Z"
   },
   {
    "duration": 3646,
    "start_time": "2022-03-25T08:18:44.467Z"
   },
   {
    "duration": 5,
    "start_time": "2022-03-25T08:18:48.115Z"
   },
   {
    "duration": 138,
    "start_time": "2022-03-25T08:18:48.123Z"
   },
   {
    "duration": 140,
    "start_time": "2022-03-25T08:18:48.263Z"
   },
   {
    "duration": 52,
    "start_time": "2022-03-25T08:18:48.406Z"
   },
   {
    "duration": 5,
    "start_time": "2022-03-25T08:18:48.460Z"
   },
   {
    "duration": 57837,
    "start_time": "2022-03-25T08:18:48.466Z"
   },
   {
    "duration": 9,
    "start_time": "2022-03-25T08:19:46.304Z"
   },
   {
    "duration": 7,
    "start_time": "2022-03-25T08:19:46.315Z"
   },
   {
    "duration": 5,
    "start_time": "2022-03-25T08:19:46.337Z"
   },
   {
    "duration": 10,
    "start_time": "2022-03-25T08:19:46.343Z"
   },
   {
    "duration": 6761,
    "start_time": "2022-03-25T08:19:46.354Z"
   },
   {
    "duration": 3,
    "start_time": "2022-03-25T08:19:53.117Z"
   },
   {
    "duration": 38,
    "start_time": "2022-03-25T08:19:53.121Z"
   },
   {
    "duration": 10,
    "start_time": "2022-03-25T08:19:53.161Z"
   },
   {
    "duration": 23,
    "start_time": "2022-03-25T08:19:53.172Z"
   },
   {
    "duration": 14,
    "start_time": "2022-03-25T08:19:53.197Z"
   },
   {
    "duration": 6,
    "start_time": "2022-03-25T08:19:53.212Z"
   },
   {
    "duration": 2529958,
    "start_time": "2022-03-25T08:19:53.220Z"
   },
   {
    "duration": 1884382,
    "start_time": "2022-03-25T09:02:03.180Z"
   },
   {
    "duration": 3,
    "start_time": "2022-03-25T09:33:27.564Z"
   },
   {
    "duration": 763,
    "start_time": "2022-03-25T09:33:27.569Z"
   },
   {
    "duration": 11,
    "start_time": "2022-03-25T09:33:28.337Z"
   },
   {
    "duration": 11,
    "start_time": "2022-03-25T09:33:28.351Z"
   },
   {
    "duration": 7,
    "start_time": "2022-03-25T09:33:28.364Z"
   },
   {
    "duration": 1294703,
    "start_time": "2022-03-25T09:33:28.372Z"
   },
   {
    "duration": 3,
    "start_time": "2022-03-25T09:55:03.080Z"
   },
   {
    "duration": 23,
    "start_time": "2022-03-25T09:55:03.085Z"
   },
   {
    "duration": 32,
    "start_time": "2022-03-25T09:55:03.109Z"
   },
   {
    "duration": 17,
    "start_time": "2022-03-25T09:55:03.143Z"
   },
   {
    "duration": 20,
    "start_time": "2022-03-25T09:55:03.162Z"
   },
   {
    "duration": 37,
    "start_time": "2022-03-25T09:55:03.184Z"
   },
   {
    "duration": 1193536,
    "start_time": "2022-03-25T09:55:03.223Z"
   },
   {
    "duration": 11,
    "start_time": "2022-03-25T10:14:56.762Z"
   },
   {
    "duration": 5,
    "start_time": "2022-03-25T10:14:56.775Z"
   },
   {
    "duration": 8,
    "start_time": "2022-03-25T10:14:56.781Z"
   },
   {
    "duration": 13,
    "start_time": "2022-03-25T10:14:56.790Z"
   },
   {
    "duration": 70,
    "start_time": "2022-03-25T10:14:56.805Z"
   },
   {
    "duration": 5,
    "start_time": "2022-03-25T10:14:56.877Z"
   },
   {
    "duration": 37,
    "start_time": "2022-03-25T10:14:56.883Z"
   },
   {
    "duration": 1919,
    "start_time": "2022-03-25T10:14:56.922Z"
   },
   {
    "duration": 2659,
    "start_time": "2022-03-25T10:14:58.843Z"
   },
   {
    "duration": 7473,
    "start_time": "2022-03-25T10:15:01.504Z"
   },
   {
    "duration": 43,
    "start_time": "2022-03-25T10:15:08.979Z"
   },
   {
    "duration": 662531,
    "start_time": "2022-03-25T10:15:09.023Z"
   },
   {
    "duration": 287,
    "start_time": "2022-03-25T10:26:11.556Z"
   },
   {
    "duration": 717,
    "start_time": "2022-03-25T10:26:11.846Z"
   },
   {
    "duration": 1288,
    "start_time": "2022-03-25T10:26:12.565Z"
   },
   {
    "duration": 13,
    "start_time": "2022-03-25T10:26:13.855Z"
   },
   {
    "duration": 88,
    "start_time": "2022-03-25T10:32:12.218Z"
   },
   {
    "duration": 6452,
    "start_time": "2022-03-25T10:32:23.349Z"
   },
   {
    "duration": 1274,
    "start_time": "2022-03-25T10:34:06.422Z"
   },
   {
    "duration": 68,
    "start_time": "2022-03-25T20:53:12.010Z"
   },
   {
    "duration": 2196,
    "start_time": "2022-03-25T20:54:43.236Z"
   },
   {
    "duration": 5339,
    "start_time": "2022-03-25T20:54:45.435Z"
   },
   {
    "duration": 6,
    "start_time": "2022-03-25T20:54:50.776Z"
   },
   {
    "duration": 219,
    "start_time": "2022-03-25T20:54:50.786Z"
   },
   {
    "duration": 212,
    "start_time": "2022-03-25T20:54:51.007Z"
   },
   {
    "duration": 71,
    "start_time": "2022-03-25T20:54:51.221Z"
   },
   {
    "duration": 7,
    "start_time": "2022-03-25T20:54:51.294Z"
   },
   {
    "duration": 89670,
    "start_time": "2022-03-25T20:54:51.303Z"
   },
   {
    "duration": 12,
    "start_time": "2022-03-25T20:56:20.976Z"
   },
   {
    "duration": 9,
    "start_time": "2022-03-25T20:56:20.991Z"
   },
   {
    "duration": 6,
    "start_time": "2022-03-25T20:56:21.003Z"
   },
   {
    "duration": 7,
    "start_time": "2022-03-25T20:56:21.012Z"
   },
   {
    "duration": 11288,
    "start_time": "2022-03-25T20:56:21.021Z"
   },
   {
    "duration": 4,
    "start_time": "2022-03-25T20:56:32.311Z"
   },
   {
    "duration": 10,
    "start_time": "2022-03-25T20:56:32.317Z"
   },
   {
    "duration": 39,
    "start_time": "2022-03-25T20:56:32.329Z"
   },
   {
    "duration": 21,
    "start_time": "2022-03-25T20:56:32.371Z"
   },
   {
    "duration": 19,
    "start_time": "2022-03-25T20:56:32.394Z"
   },
   {
    "duration": 7,
    "start_time": "2022-03-25T20:56:32.415Z"
   },
   {
    "duration": 3501708,
    "start_time": "2022-03-25T20:56:32.424Z"
   },
   {
    "duration": 2530874,
    "start_time": "2022-03-25T21:54:54.134Z"
   },
   {
    "duration": 6,
    "start_time": "2022-03-25T22:37:05.011Z"
   },
   {
    "duration": 1253,
    "start_time": "2022-03-25T22:37:05.019Z"
   },
   {
    "duration": 12,
    "start_time": "2022-03-25T22:37:06.275Z"
   },
   {
    "duration": 9,
    "start_time": "2022-03-25T22:37:06.292Z"
   },
   {
    "duration": 10,
    "start_time": "2022-03-25T22:37:06.303Z"
   },
   {
    "duration": 1663490,
    "start_time": "2022-03-25T22:37:06.315Z"
   },
   {
    "duration": 4,
    "start_time": "2022-03-25T23:04:49.810Z"
   },
   {
    "duration": 23,
    "start_time": "2022-03-25T23:04:49.817Z"
   },
   {
    "duration": 13,
    "start_time": "2022-03-25T23:04:49.867Z"
   },
   {
    "duration": 20,
    "start_time": "2022-03-25T23:04:49.883Z"
   },
   {
    "duration": 23,
    "start_time": "2022-03-25T23:04:49.905Z"
   },
   {
    "duration": 84,
    "start_time": "2022-03-25T23:04:49.931Z"
   },
   {
    "duration": 1596141,
    "start_time": "2022-03-25T23:04:50.017Z"
   },
   {
    "duration": 13,
    "start_time": "2022-03-25T23:31:26.167Z"
   },
   {
    "duration": 4,
    "start_time": "2022-03-25T23:31:26.183Z"
   },
   {
    "duration": 8,
    "start_time": "2022-03-25T23:31:26.189Z"
   },
   {
    "duration": 11,
    "start_time": "2022-03-25T23:31:26.200Z"
   },
   {
    "duration": 91,
    "start_time": "2022-03-25T23:31:26.213Z"
   },
   {
    "duration": 6,
    "start_time": "2022-03-25T23:31:26.307Z"
   },
   {
    "duration": 55,
    "start_time": "2022-03-25T23:31:26.315Z"
   },
   {
    "duration": 5,
    "start_time": "2022-03-25T23:31:26.372Z"
   },
   {
    "duration": 2193,
    "start_time": "2022-03-25T23:31:26.380Z"
   },
   {
    "duration": 3758,
    "start_time": "2022-03-25T23:31:28.578Z"
   },
   {
    "duration": 8637,
    "start_time": "2022-03-25T23:31:32.338Z"
   },
   {
    "duration": 55,
    "start_time": "2022-03-25T23:31:40.977Z"
   },
   {
    "duration": 783720,
    "start_time": "2022-03-25T23:31:41.034Z"
   },
   {
    "duration": 426,
    "start_time": "2022-03-25T23:44:44.756Z"
   },
   {
    "duration": 844,
    "start_time": "2022-03-25T23:44:45.269Z"
   },
   {
    "duration": 1640,
    "start_time": "2022-03-25T23:44:46.116Z"
   },
   {
    "duration": 19,
    "start_time": "2022-03-25T23:44:47.759Z"
   },
   {
    "duration": 8000,
    "start_time": "2022-03-25T23:44:47.780Z"
   },
   {
    "duration": 1644,
    "start_time": "2022-03-25T23:44:55.783Z"
   },
   {
    "duration": 9060,
    "start_time": "2022-03-25T23:57:59.513Z"
   },
   {
    "duration": 1753,
    "start_time": "2022-03-25T23:58:17.282Z"
   }
  ],
  "kernelspec": {
   "display_name": "Python 3",
   "language": "python",
   "name": "python3"
  },
  "language_info": {
   "codemirror_mode": {
    "name": "ipython",
    "version": 3
   },
   "file_extension": ".py",
   "mimetype": "text/x-python",
   "name": "python",
   "nbconvert_exporter": "python",
   "pygments_lexer": "ipython3",
   "version": "3.8.8"
  },
  "toc": {
   "base_numbering": 1,
   "nav_menu": {},
   "number_sections": true,
   "sideBar": true,
   "skip_h1_title": true,
   "title_cell": "Содержание",
   "title_sidebar": "Contents",
   "toc_cell": true,
   "toc_position": {
    "height": "calc(100% - 180px)",
    "left": "10px",
    "top": "150px",
    "width": "190px"
   },
   "toc_section_display": true,
   "toc_window_display": true
  }
 },
 "nbformat": 4,
 "nbformat_minor": 2
}
