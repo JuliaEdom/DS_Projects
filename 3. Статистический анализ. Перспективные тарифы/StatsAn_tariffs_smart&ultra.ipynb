{
 "cells": [
  {
   "cell_type": "markdown",
   "metadata": {},
   "source": [
    "# Определение перспективного тарифа для телеком-компании\n",
    "\n",
    "Компания «Мегалайн», федеральный оператор сотовой связи, предлагает клиентам два тарифных плана: «Смарт» и «Ультра». Неообходимо оценить, какой тариф приносит больше денег по небольшой выборке клиентов из 500 пользователей «Мегалайна» за 2018 год. Нужно проанализировать поведение клиентов и сделать вывод — какой тариф лучше."
   ]
  },
  {
   "cell_type": "markdown",
   "metadata": {},
   "source": [
    "**Описание данных**\n",
    "    \n",
    "    Таблица users (информация о пользователях):\n",
    "        \n",
    "            user_id — уникальный идентификатор пользователя\n",
    "            first_name — имя пользователя\n",
    "            last_name — фамилия пользователя\n",
    "            age — возраст пользователя (годы)\n",
    "            reg_date — дата подключения тарифа (день, месяц, год)\n",
    "            churn_date — дата прекращения пользования тарифом (если значение пропущено, то тариф ещё действовал на момент выгрузки данных)\n",
    "            city — город проживания пользователя\n",
    "            tariff — название тарифного плана\n",
    "        \n",
    "    Таблица calls (информация о звонках):\n",
    "        \n",
    "            id — уникальный номер звонка\n",
    "            call_date — дата звонка\n",
    "            duration — длительность звонка в минутах\n",
    "            user_id — идентификатор пользователя, сделавшего звонок\n",
    "            \n",
    "    Таблица messages (информация о сообщениях):\n",
    "        \n",
    "            id — уникальный номер сообщения\n",
    "            message_date — дата сообщения\n",
    "            user_id — идентификатор пользователя, отправившего сообщение\n",
    "            \n",
    "    Таблица internet (информация об интернет-сессиях):\n",
    "        \n",
    "            id — уникальный номер сессии\n",
    "            mb_used — объём потраченного за сессию интернет-трафика (в мегабайтах)\n",
    "            session_date — дата интернет-сессии\n",
    "            user_id — идентификатор пользователя\n",
    "            \n",
    "    Таблица tariffs (информация о тарифах):\n",
    "    \n",
    "            tariff_name — название тарифа\n",
    "            rub_monthly_fee — ежемесячная абонентская плата в рублях\n",
    "            minutes_included — количество минут разговора в месяц, включённых в абонентскую плату\n",
    "            messages_included — количество сообщений в месяц, включённых в абонентскую плату\n",
    "            mb_per_month_included — объём интернет-трафика, включённого в абонентскую плату (в мегабайтах)\n",
    "            rub_per_minute — стоимость минуты разговора сверх тарифного пакета (например, если в тарифе 100 минут разговора в месяц, то со 101 минуты будет взиматься плата)\n",
    "            rub_per_message — стоимость отправки сообщения сверх тарифного пакета\n",
    "            rub_per_gb — стоимость дополнительного гигабайта интернет-трафика сверх тарифного пакета (1 гигабайт = 1024 мегабайта)"
   ]
  },
  {
   "cell_type": "markdown",
   "metadata": {},
   "source": [
    "**План проекта**\n",
    "\n",
    "    1. Исходные данные, общая информация\n",
    "    2. Обработка данных\n",
    "    3. Поведение клиентов оператора\n",
    "    4. Проверка \n",
    "    Заключение"
   ]
  },
  {
   "cell_type": "markdown",
   "metadata": {},
   "source": [
    "## 1. Исходные данные, общая информация"
   ]
  },
  {
   "cell_type": "code",
   "execution_count": 1,
   "metadata": {},
   "outputs": [
    {
     "name": "stdout",
     "output_type": "stream",
     "text": [
      "Requirement already satisfied: seaborn==0.11.2 in c:\\users\\julia\\appdata\\roaming\\python\\python38\\site-packages (0.11.2)\n",
      "Requirement already satisfied: matplotlib>=2.2 in c:\\users\\julia\\anaconda3\\lib\\site-packages (from seaborn==0.11.2) (3.4.2)\n",
      "Requirement already satisfied: scipy>=1.0 in c:\\users\\julia\\anaconda3\\lib\\site-packages (from seaborn==0.11.2) (1.6.2)\n",
      "Requirement already satisfied: pandas>=0.23 in c:\\users\\julia\\anaconda3\\lib\\site-packages (from seaborn==0.11.2) (1.2.4)\n",
      "Requirement already satisfied: numpy>=1.15 in c:\\users\\julia\\anaconda3\\lib\\site-packages (from seaborn==0.11.2) (1.20.1)\n",
      "Requirement already satisfied: kiwisolver>=1.0.1 in c:\\users\\julia\\anaconda3\\lib\\site-packages (from matplotlib>=2.2->seaborn==0.11.2) (1.3.1)\n",
      "Requirement already satisfied: cycler>=0.10 in c:\\users\\julia\\anaconda3\\lib\\site-packages (from matplotlib>=2.2->seaborn==0.11.2) (0.10.0)\n",
      "Requirement already satisfied: python-dateutil>=2.7 in c:\\users\\julia\\anaconda3\\lib\\site-packages (from matplotlib>=2.2->seaborn==0.11.2) (2.8.1)\n",
      "Requirement already satisfied: pyparsing>=2.2.1 in c:\\users\\julia\\anaconda3\\lib\\site-packages (from matplotlib>=2.2->seaborn==0.11.2) (2.4.7)\n",
      "Requirement already satisfied: pillow>=6.2.0 in c:\\users\\julia\\anaconda3\\lib\\site-packages (from matplotlib>=2.2->seaborn==0.11.2) (8.2.0)\n",
      "Requirement already satisfied: six in c:\\users\\julia\\anaconda3\\lib\\site-packages (from cycler>=0.10->matplotlib>=2.2->seaborn==0.11.2) (1.15.0)\n",
      "Requirement already satisfied: pytz>=2017.3 in c:\\users\\julia\\anaconda3\\lib\\site-packages (from pandas>=0.23->seaborn==0.11.2) (2021.1)\n"
     ]
    }
   ],
   "source": [
    "!pip install seaborn==0.11.2\n",
    "import pandas as pd\n",
    "import numpy as np\n",
    "import matplotlib.pyplot as plt\n",
    "import seaborn as sns\n",
    "from scipy import stats as st\n",
    "%matplotlib inline\n",
    "%config InlineBackend.figure_format='retina'"
   ]
  },
  {
   "cell_type": "code",
   "execution_count": 2,
   "metadata": {},
   "outputs": [],
   "source": [
    "calls = pd.read_csv('/datasets/calls.csv')\n",
    "internet = pd.read_csv('/datasets/internet.csv')\n",
    "messages = pd.read_csv('/datasets/messages.csv')\n",
    "tariffs = pd.read_csv('/datasets/tariffs.csv')\n",
    "users = pd.read_csv('/datasets/users.csv')"
   ]
  },
  {
   "cell_type": "code",
   "execution_count": 3,
   "metadata": {},
   "outputs": [
    {
     "name": "stdout",
     "output_type": "stream",
     "text": [
      "<class 'pandas.core.frame.DataFrame'>\n",
      "RangeIndex: 202607 entries, 0 to 202606\n",
      "Data columns (total 4 columns):\n",
      " #   Column     Non-Null Count   Dtype  \n",
      "---  ------     --------------   -----  \n",
      " 0   id         202607 non-null  object \n",
      " 1   call_date  202607 non-null  object \n",
      " 2   duration   202607 non-null  float64\n",
      " 3   user_id    202607 non-null  int64  \n",
      "dtypes: float64(1), int64(1), object(2)\n",
      "memory usage: 6.2+ MB\n"
     ]
    }
   ],
   "source": [
    "calls.info()"
   ]
  },
  {
   "cell_type": "code",
   "execution_count": 4,
   "metadata": {},
   "outputs": [
    {
     "name": "stdout",
     "output_type": "stream",
     "text": [
      "<class 'pandas.core.frame.DataFrame'>\n",
      "RangeIndex: 149396 entries, 0 to 149395\n",
      "Data columns (total 5 columns):\n",
      " #   Column        Non-Null Count   Dtype  \n",
      "---  ------        --------------   -----  \n",
      " 0   Unnamed: 0    149396 non-null  int64  \n",
      " 1   id            149396 non-null  object \n",
      " 2   mb_used       149396 non-null  float64\n",
      " 3   session_date  149396 non-null  object \n",
      " 4   user_id       149396 non-null  int64  \n",
      "dtypes: float64(1), int64(2), object(2)\n",
      "memory usage: 5.7+ MB\n"
     ]
    }
   ],
   "source": [
    "internet.info()"
   ]
  },
  {
   "cell_type": "code",
   "execution_count": 5,
   "metadata": {},
   "outputs": [
    {
     "name": "stdout",
     "output_type": "stream",
     "text": [
      "<class 'pandas.core.frame.DataFrame'>\n",
      "RangeIndex: 123036 entries, 0 to 123035\n",
      "Data columns (total 3 columns):\n",
      " #   Column        Non-Null Count   Dtype \n",
      "---  ------        --------------   ----- \n",
      " 0   id            123036 non-null  object\n",
      " 1   message_date  123036 non-null  object\n",
      " 2   user_id       123036 non-null  int64 \n",
      "dtypes: int64(1), object(2)\n",
      "memory usage: 2.8+ MB\n"
     ]
    }
   ],
   "source": [
    "messages.info()"
   ]
  },
  {
   "cell_type": "code",
   "execution_count": 6,
   "metadata": {},
   "outputs": [
    {
     "name": "stdout",
     "output_type": "stream",
     "text": [
      "<class 'pandas.core.frame.DataFrame'>\n",
      "RangeIndex: 2 entries, 0 to 1\n",
      "Data columns (total 8 columns):\n",
      " #   Column                 Non-Null Count  Dtype \n",
      "---  ------                 --------------  ----- \n",
      " 0   messages_included      2 non-null      int64 \n",
      " 1   mb_per_month_included  2 non-null      int64 \n",
      " 2   minutes_included       2 non-null      int64 \n",
      " 3   rub_monthly_fee        2 non-null      int64 \n",
      " 4   rub_per_gb             2 non-null      int64 \n",
      " 5   rub_per_message        2 non-null      int64 \n",
      " 6   rub_per_minute         2 non-null      int64 \n",
      " 7   tariff_name            2 non-null      object\n",
      "dtypes: int64(7), object(1)\n",
      "memory usage: 256.0+ bytes\n"
     ]
    }
   ],
   "source": [
    "tariffs.info()"
   ]
  },
  {
   "cell_type": "code",
   "execution_count": 7,
   "metadata": {},
   "outputs": [
    {
     "name": "stdout",
     "output_type": "stream",
     "text": [
      "<class 'pandas.core.frame.DataFrame'>\n",
      "RangeIndex: 500 entries, 0 to 499\n",
      "Data columns (total 8 columns):\n",
      " #   Column      Non-Null Count  Dtype \n",
      "---  ------      --------------  ----- \n",
      " 0   user_id     500 non-null    int64 \n",
      " 1   age         500 non-null    int64 \n",
      " 2   churn_date  38 non-null     object\n",
      " 3   city        500 non-null    object\n",
      " 4   first_name  500 non-null    object\n",
      " 5   last_name   500 non-null    object\n",
      " 6   reg_date    500 non-null    object\n",
      " 7   tariff      500 non-null    object\n",
      "dtypes: int64(2), object(6)\n",
      "memory usage: 31.4+ KB\n"
     ]
    }
   ],
   "source": [
    "users.info()"
   ]
  },
  {
   "cell_type": "code",
   "execution_count": 8,
   "metadata": {
    "scrolled": false
   },
   "outputs": [
    {
     "data": {
      "text/html": [
       "<div>\n",
       "<style scoped>\n",
       "    .dataframe tbody tr th:only-of-type {\n",
       "        vertical-align: middle;\n",
       "    }\n",
       "\n",
       "    .dataframe tbody tr th {\n",
       "        vertical-align: top;\n",
       "    }\n",
       "\n",
       "    .dataframe thead th {\n",
       "        text-align: right;\n",
       "    }\n",
       "</style>\n",
       "<table border=\"1\" class=\"dataframe\">\n",
       "  <thead>\n",
       "    <tr style=\"text-align: right;\">\n",
       "      <th></th>\n",
       "      <th>id</th>\n",
       "      <th>call_date</th>\n",
       "      <th>duration</th>\n",
       "      <th>user_id</th>\n",
       "    </tr>\n",
       "  </thead>\n",
       "  <tbody>\n",
       "    <tr>\n",
       "      <th>0</th>\n",
       "      <td>1000_0</td>\n",
       "      <td>2018-07-25</td>\n",
       "      <td>0.00</td>\n",
       "      <td>1000</td>\n",
       "    </tr>\n",
       "    <tr>\n",
       "      <th>1</th>\n",
       "      <td>1000_1</td>\n",
       "      <td>2018-08-17</td>\n",
       "      <td>0.00</td>\n",
       "      <td>1000</td>\n",
       "    </tr>\n",
       "    <tr>\n",
       "      <th>2</th>\n",
       "      <td>1000_2</td>\n",
       "      <td>2018-06-11</td>\n",
       "      <td>2.85</td>\n",
       "      <td>1000</td>\n",
       "    </tr>\n",
       "    <tr>\n",
       "      <th>3</th>\n",
       "      <td>1000_3</td>\n",
       "      <td>2018-09-21</td>\n",
       "      <td>13.80</td>\n",
       "      <td>1000</td>\n",
       "    </tr>\n",
       "    <tr>\n",
       "      <th>4</th>\n",
       "      <td>1000_4</td>\n",
       "      <td>2018-12-15</td>\n",
       "      <td>5.18</td>\n",
       "      <td>1000</td>\n",
       "    </tr>\n",
       "  </tbody>\n",
       "</table>\n",
       "</div>"
      ],
      "text/plain": [
       "       id   call_date  duration  user_id\n",
       "0  1000_0  2018-07-25      0.00     1000\n",
       "1  1000_1  2018-08-17      0.00     1000\n",
       "2  1000_2  2018-06-11      2.85     1000\n",
       "3  1000_3  2018-09-21     13.80     1000\n",
       "4  1000_4  2018-12-15      5.18     1000"
      ]
     },
     "execution_count": 8,
     "metadata": {},
     "output_type": "execute_result"
    }
   ],
   "source": [
    "calls.head()"
   ]
  },
  {
   "cell_type": "code",
   "execution_count": 9,
   "metadata": {
    "scrolled": true
   },
   "outputs": [
    {
     "data": {
      "text/html": [
       "<div>\n",
       "<style scoped>\n",
       "    .dataframe tbody tr th:only-of-type {\n",
       "        vertical-align: middle;\n",
       "    }\n",
       "\n",
       "    .dataframe tbody tr th {\n",
       "        vertical-align: top;\n",
       "    }\n",
       "\n",
       "    .dataframe thead th {\n",
       "        text-align: right;\n",
       "    }\n",
       "</style>\n",
       "<table border=\"1\" class=\"dataframe\">\n",
       "  <thead>\n",
       "    <tr style=\"text-align: right;\">\n",
       "      <th></th>\n",
       "      <th>count</th>\n",
       "      <th>mean</th>\n",
       "      <th>std</th>\n",
       "      <th>min</th>\n",
       "      <th>25%</th>\n",
       "      <th>50%</th>\n",
       "      <th>75%</th>\n",
       "      <th>max</th>\n",
       "    </tr>\n",
       "  </thead>\n",
       "  <tbody>\n",
       "    <tr>\n",
       "      <th>duration</th>\n",
       "      <td>202607.0</td>\n",
       "      <td>6.755887</td>\n",
       "      <td>5.843365</td>\n",
       "      <td>0.0</td>\n",
       "      <td>1.3</td>\n",
       "      <td>6.0</td>\n",
       "      <td>10.7</td>\n",
       "      <td>38.0</td>\n",
       "    </tr>\n",
       "    <tr>\n",
       "      <th>user_id</th>\n",
       "      <td>202607.0</td>\n",
       "      <td>1253.940619</td>\n",
       "      <td>144.722751</td>\n",
       "      <td>1000.0</td>\n",
       "      <td>1126.0</td>\n",
       "      <td>1260.0</td>\n",
       "      <td>1379.0</td>\n",
       "      <td>1499.0</td>\n",
       "    </tr>\n",
       "  </tbody>\n",
       "</table>\n",
       "</div>"
      ],
      "text/plain": [
       "             count         mean         std     min     25%     50%     75%  \\\n",
       "duration  202607.0     6.755887    5.843365     0.0     1.3     6.0    10.7   \n",
       "user_id   202607.0  1253.940619  144.722751  1000.0  1126.0  1260.0  1379.0   \n",
       "\n",
       "             max  \n",
       "duration    38.0  \n",
       "user_id   1499.0  "
      ]
     },
     "execution_count": 9,
     "metadata": {},
     "output_type": "execute_result"
    }
   ],
   "source": [
    "calls.describe().T"
   ]
  },
  {
   "cell_type": "code",
   "execution_count": 10,
   "metadata": {},
   "outputs": [
    {
     "data": {
      "text/plain": [
       "0"
      ]
     },
     "execution_count": 10,
     "metadata": {},
     "output_type": "execute_result"
    }
   ],
   "source": [
    "calls.duplicated().sum()"
   ]
  },
  {
   "cell_type": "code",
   "execution_count": 11,
   "metadata": {
    "scrolled": true
   },
   "outputs": [
    {
     "data": {
      "text/html": [
       "<div>\n",
       "<style scoped>\n",
       "    .dataframe tbody tr th:only-of-type {\n",
       "        vertical-align: middle;\n",
       "    }\n",
       "\n",
       "    .dataframe tbody tr th {\n",
       "        vertical-align: top;\n",
       "    }\n",
       "\n",
       "    .dataframe thead th {\n",
       "        text-align: right;\n",
       "    }\n",
       "</style>\n",
       "<table border=\"1\" class=\"dataframe\">\n",
       "  <thead>\n",
       "    <tr style=\"text-align: right;\">\n",
       "      <th></th>\n",
       "      <th>Unnamed: 0</th>\n",
       "      <th>id</th>\n",
       "      <th>mb_used</th>\n",
       "      <th>session_date</th>\n",
       "      <th>user_id</th>\n",
       "    </tr>\n",
       "  </thead>\n",
       "  <tbody>\n",
       "    <tr>\n",
       "      <th>0</th>\n",
       "      <td>0</td>\n",
       "      <td>1000_0</td>\n",
       "      <td>112.95</td>\n",
       "      <td>2018-11-25</td>\n",
       "      <td>1000</td>\n",
       "    </tr>\n",
       "    <tr>\n",
       "      <th>1</th>\n",
       "      <td>1</td>\n",
       "      <td>1000_1</td>\n",
       "      <td>1052.81</td>\n",
       "      <td>2018-09-07</td>\n",
       "      <td>1000</td>\n",
       "    </tr>\n",
       "    <tr>\n",
       "      <th>2</th>\n",
       "      <td>2</td>\n",
       "      <td>1000_2</td>\n",
       "      <td>1197.26</td>\n",
       "      <td>2018-06-25</td>\n",
       "      <td>1000</td>\n",
       "    </tr>\n",
       "    <tr>\n",
       "      <th>3</th>\n",
       "      <td>3</td>\n",
       "      <td>1000_3</td>\n",
       "      <td>550.27</td>\n",
       "      <td>2018-08-22</td>\n",
       "      <td>1000</td>\n",
       "    </tr>\n",
       "    <tr>\n",
       "      <th>4</th>\n",
       "      <td>4</td>\n",
       "      <td>1000_4</td>\n",
       "      <td>302.56</td>\n",
       "      <td>2018-09-24</td>\n",
       "      <td>1000</td>\n",
       "    </tr>\n",
       "  </tbody>\n",
       "</table>\n",
       "</div>"
      ],
      "text/plain": [
       "   Unnamed: 0      id  mb_used session_date  user_id\n",
       "0           0  1000_0   112.95   2018-11-25     1000\n",
       "1           1  1000_1  1052.81   2018-09-07     1000\n",
       "2           2  1000_2  1197.26   2018-06-25     1000\n",
       "3           3  1000_3   550.27   2018-08-22     1000\n",
       "4           4  1000_4   302.56   2018-09-24     1000"
      ]
     },
     "execution_count": 11,
     "metadata": {},
     "output_type": "execute_result"
    }
   ],
   "source": [
    "internet.head()"
   ]
  },
  {
   "cell_type": "code",
   "execution_count": 12,
   "metadata": {
    "scrolled": true
   },
   "outputs": [
    {
     "data": {
      "text/html": [
       "<div>\n",
       "<style scoped>\n",
       "    .dataframe tbody tr th:only-of-type {\n",
       "        vertical-align: middle;\n",
       "    }\n",
       "\n",
       "    .dataframe tbody tr th {\n",
       "        vertical-align: top;\n",
       "    }\n",
       "\n",
       "    .dataframe thead th {\n",
       "        text-align: right;\n",
       "    }\n",
       "</style>\n",
       "<table border=\"1\" class=\"dataframe\">\n",
       "  <thead>\n",
       "    <tr style=\"text-align: right;\">\n",
       "      <th></th>\n",
       "      <th>count</th>\n",
       "      <th>mean</th>\n",
       "      <th>std</th>\n",
       "      <th>min</th>\n",
       "      <th>25%</th>\n",
       "      <th>50%</th>\n",
       "      <th>75%</th>\n",
       "      <th>max</th>\n",
       "    </tr>\n",
       "  </thead>\n",
       "  <tbody>\n",
       "    <tr>\n",
       "      <th>Unnamed: 0</th>\n",
       "      <td>149396.0</td>\n",
       "      <td>74697.500000</td>\n",
       "      <td>43127.054745</td>\n",
       "      <td>0.0</td>\n",
       "      <td>37348.7500</td>\n",
       "      <td>74697.500</td>\n",
       "      <td>112046.2500</td>\n",
       "      <td>149395.00</td>\n",
       "    </tr>\n",
       "    <tr>\n",
       "      <th>mb_used</th>\n",
       "      <td>149396.0</td>\n",
       "      <td>370.192426</td>\n",
       "      <td>278.300951</td>\n",
       "      <td>0.0</td>\n",
       "      <td>138.1875</td>\n",
       "      <td>348.015</td>\n",
       "      <td>559.5525</td>\n",
       "      <td>1724.83</td>\n",
       "    </tr>\n",
       "    <tr>\n",
       "      <th>user_id</th>\n",
       "      <td>149396.0</td>\n",
       "      <td>1252.099842</td>\n",
       "      <td>144.050823</td>\n",
       "      <td>1000.0</td>\n",
       "      <td>1130.0000</td>\n",
       "      <td>1251.000</td>\n",
       "      <td>1380.0000</td>\n",
       "      <td>1499.00</td>\n",
       "    </tr>\n",
       "  </tbody>\n",
       "</table>\n",
       "</div>"
      ],
      "text/plain": [
       "               count          mean           std     min         25%  \\\n",
       "Unnamed: 0  149396.0  74697.500000  43127.054745     0.0  37348.7500   \n",
       "mb_used     149396.0    370.192426    278.300951     0.0    138.1875   \n",
       "user_id     149396.0   1252.099842    144.050823  1000.0   1130.0000   \n",
       "\n",
       "                  50%          75%        max  \n",
       "Unnamed: 0  74697.500  112046.2500  149395.00  \n",
       "mb_used       348.015     559.5525    1724.83  \n",
       "user_id      1251.000    1380.0000    1499.00  "
      ]
     },
     "execution_count": 12,
     "metadata": {},
     "output_type": "execute_result"
    }
   ],
   "source": [
    "internet.describe().T"
   ]
  },
  {
   "cell_type": "code",
   "execution_count": 13,
   "metadata": {},
   "outputs": [
    {
     "data": {
      "text/plain": [
       "0"
      ]
     },
     "execution_count": 13,
     "metadata": {},
     "output_type": "execute_result"
    }
   ],
   "source": [
    "internet.duplicated().sum()"
   ]
  },
  {
   "cell_type": "code",
   "execution_count": 14,
   "metadata": {},
   "outputs": [
    {
     "data": {
      "text/html": [
       "<div>\n",
       "<style scoped>\n",
       "    .dataframe tbody tr th:only-of-type {\n",
       "        vertical-align: middle;\n",
       "    }\n",
       "\n",
       "    .dataframe tbody tr th {\n",
       "        vertical-align: top;\n",
       "    }\n",
       "\n",
       "    .dataframe thead th {\n",
       "        text-align: right;\n",
       "    }\n",
       "</style>\n",
       "<table border=\"1\" class=\"dataframe\">\n",
       "  <thead>\n",
       "    <tr style=\"text-align: right;\">\n",
       "      <th></th>\n",
       "      <th>id</th>\n",
       "      <th>message_date</th>\n",
       "      <th>user_id</th>\n",
       "    </tr>\n",
       "  </thead>\n",
       "  <tbody>\n",
       "    <tr>\n",
       "      <th>0</th>\n",
       "      <td>1000_0</td>\n",
       "      <td>2018-06-27</td>\n",
       "      <td>1000</td>\n",
       "    </tr>\n",
       "    <tr>\n",
       "      <th>1</th>\n",
       "      <td>1000_1</td>\n",
       "      <td>2018-10-08</td>\n",
       "      <td>1000</td>\n",
       "    </tr>\n",
       "    <tr>\n",
       "      <th>2</th>\n",
       "      <td>1000_2</td>\n",
       "      <td>2018-08-04</td>\n",
       "      <td>1000</td>\n",
       "    </tr>\n",
       "    <tr>\n",
       "      <th>3</th>\n",
       "      <td>1000_3</td>\n",
       "      <td>2018-06-16</td>\n",
       "      <td>1000</td>\n",
       "    </tr>\n",
       "    <tr>\n",
       "      <th>4</th>\n",
       "      <td>1000_4</td>\n",
       "      <td>2018-12-05</td>\n",
       "      <td>1000</td>\n",
       "    </tr>\n",
       "  </tbody>\n",
       "</table>\n",
       "</div>"
      ],
      "text/plain": [
       "       id message_date  user_id\n",
       "0  1000_0   2018-06-27     1000\n",
       "1  1000_1   2018-10-08     1000\n",
       "2  1000_2   2018-08-04     1000\n",
       "3  1000_3   2018-06-16     1000\n",
       "4  1000_4   2018-12-05     1000"
      ]
     },
     "execution_count": 14,
     "metadata": {},
     "output_type": "execute_result"
    }
   ],
   "source": [
    "messages.head()"
   ]
  },
  {
   "cell_type": "code",
   "execution_count": 15,
   "metadata": {
    "scrolled": true
   },
   "outputs": [
    {
     "data": {
      "text/html": [
       "<div>\n",
       "<style scoped>\n",
       "    .dataframe tbody tr th:only-of-type {\n",
       "        vertical-align: middle;\n",
       "    }\n",
       "\n",
       "    .dataframe tbody tr th {\n",
       "        vertical-align: top;\n",
       "    }\n",
       "\n",
       "    .dataframe thead th {\n",
       "        text-align: right;\n",
       "    }\n",
       "</style>\n",
       "<table border=\"1\" class=\"dataframe\">\n",
       "  <thead>\n",
       "    <tr style=\"text-align: right;\">\n",
       "      <th></th>\n",
       "      <th>count</th>\n",
       "      <th>mean</th>\n",
       "      <th>std</th>\n",
       "      <th>min</th>\n",
       "      <th>25%</th>\n",
       "      <th>50%</th>\n",
       "      <th>75%</th>\n",
       "      <th>max</th>\n",
       "    </tr>\n",
       "  </thead>\n",
       "  <tbody>\n",
       "    <tr>\n",
       "      <th>user_id</th>\n",
       "      <td>123036.0</td>\n",
       "      <td>1256.98941</td>\n",
       "      <td>143.523967</td>\n",
       "      <td>1000.0</td>\n",
       "      <td>1134.0</td>\n",
       "      <td>1271.0</td>\n",
       "      <td>1381.0</td>\n",
       "      <td>1499.0</td>\n",
       "    </tr>\n",
       "  </tbody>\n",
       "</table>\n",
       "</div>"
      ],
      "text/plain": [
       "            count        mean         std     min     25%     50%     75%  \\\n",
       "user_id  123036.0  1256.98941  143.523967  1000.0  1134.0  1271.0  1381.0   \n",
       "\n",
       "            max  \n",
       "user_id  1499.0  "
      ]
     },
     "execution_count": 15,
     "metadata": {},
     "output_type": "execute_result"
    }
   ],
   "source": [
    "messages.describe().T"
   ]
  },
  {
   "cell_type": "code",
   "execution_count": 16,
   "metadata": {},
   "outputs": [
    {
     "data": {
      "text/plain": [
       "0"
      ]
     },
     "execution_count": 16,
     "metadata": {},
     "output_type": "execute_result"
    }
   ],
   "source": [
    "messages.duplicated().sum()"
   ]
  },
  {
   "cell_type": "code",
   "execution_count": 17,
   "metadata": {},
   "outputs": [
    {
     "data": {
      "text/html": [
       "<div>\n",
       "<style scoped>\n",
       "    .dataframe tbody tr th:only-of-type {\n",
       "        vertical-align: middle;\n",
       "    }\n",
       "\n",
       "    .dataframe tbody tr th {\n",
       "        vertical-align: top;\n",
       "    }\n",
       "\n",
       "    .dataframe thead th {\n",
       "        text-align: right;\n",
       "    }\n",
       "</style>\n",
       "<table border=\"1\" class=\"dataframe\">\n",
       "  <thead>\n",
       "    <tr style=\"text-align: right;\">\n",
       "      <th></th>\n",
       "      <th>messages_included</th>\n",
       "      <th>mb_per_month_included</th>\n",
       "      <th>minutes_included</th>\n",
       "      <th>rub_monthly_fee</th>\n",
       "      <th>rub_per_gb</th>\n",
       "      <th>rub_per_message</th>\n",
       "      <th>rub_per_minute</th>\n",
       "      <th>tariff_name</th>\n",
       "    </tr>\n",
       "  </thead>\n",
       "  <tbody>\n",
       "    <tr>\n",
       "      <th>0</th>\n",
       "      <td>50</td>\n",
       "      <td>15360</td>\n",
       "      <td>500</td>\n",
       "      <td>550</td>\n",
       "      <td>200</td>\n",
       "      <td>3</td>\n",
       "      <td>3</td>\n",
       "      <td>smart</td>\n",
       "    </tr>\n",
       "    <tr>\n",
       "      <th>1</th>\n",
       "      <td>1000</td>\n",
       "      <td>30720</td>\n",
       "      <td>3000</td>\n",
       "      <td>1950</td>\n",
       "      <td>150</td>\n",
       "      <td>1</td>\n",
       "      <td>1</td>\n",
       "      <td>ultra</td>\n",
       "    </tr>\n",
       "  </tbody>\n",
       "</table>\n",
       "</div>"
      ],
      "text/plain": [
       "   messages_included  mb_per_month_included  minutes_included  \\\n",
       "0                 50                  15360               500   \n",
       "1               1000                  30720              3000   \n",
       "\n",
       "   rub_monthly_fee  rub_per_gb  rub_per_message  rub_per_minute tariff_name  \n",
       "0              550         200                3               3       smart  \n",
       "1             1950         150                1               1       ultra  "
      ]
     },
     "execution_count": 17,
     "metadata": {},
     "output_type": "execute_result"
    }
   ],
   "source": [
    "tariffs"
   ]
  },
  {
   "cell_type": "code",
   "execution_count": 18,
   "metadata": {
    "scrolled": true
   },
   "outputs": [
    {
     "data": {
      "text/html": [
       "<div>\n",
       "<style scoped>\n",
       "    .dataframe tbody tr th:only-of-type {\n",
       "        vertical-align: middle;\n",
       "    }\n",
       "\n",
       "    .dataframe tbody tr th {\n",
       "        vertical-align: top;\n",
       "    }\n",
       "\n",
       "    .dataframe thead th {\n",
       "        text-align: right;\n",
       "    }\n",
       "</style>\n",
       "<table border=\"1\" class=\"dataframe\">\n",
       "  <thead>\n",
       "    <tr style=\"text-align: right;\">\n",
       "      <th></th>\n",
       "      <th>user_id</th>\n",
       "      <th>age</th>\n",
       "      <th>churn_date</th>\n",
       "      <th>city</th>\n",
       "      <th>first_name</th>\n",
       "      <th>last_name</th>\n",
       "      <th>reg_date</th>\n",
       "      <th>tariff</th>\n",
       "    </tr>\n",
       "  </thead>\n",
       "  <tbody>\n",
       "    <tr>\n",
       "      <th>0</th>\n",
       "      <td>1000</td>\n",
       "      <td>52</td>\n",
       "      <td>NaN</td>\n",
       "      <td>Краснодар</td>\n",
       "      <td>Рафаил</td>\n",
       "      <td>Верещагин</td>\n",
       "      <td>2018-05-25</td>\n",
       "      <td>ultra</td>\n",
       "    </tr>\n",
       "    <tr>\n",
       "      <th>1</th>\n",
       "      <td>1001</td>\n",
       "      <td>41</td>\n",
       "      <td>NaN</td>\n",
       "      <td>Москва</td>\n",
       "      <td>Иван</td>\n",
       "      <td>Ежов</td>\n",
       "      <td>2018-11-01</td>\n",
       "      <td>smart</td>\n",
       "    </tr>\n",
       "    <tr>\n",
       "      <th>2</th>\n",
       "      <td>1002</td>\n",
       "      <td>59</td>\n",
       "      <td>NaN</td>\n",
       "      <td>Стерлитамак</td>\n",
       "      <td>Евгений</td>\n",
       "      <td>Абрамович</td>\n",
       "      <td>2018-06-17</td>\n",
       "      <td>smart</td>\n",
       "    </tr>\n",
       "    <tr>\n",
       "      <th>3</th>\n",
       "      <td>1003</td>\n",
       "      <td>23</td>\n",
       "      <td>NaN</td>\n",
       "      <td>Москва</td>\n",
       "      <td>Белла</td>\n",
       "      <td>Белякова</td>\n",
       "      <td>2018-08-17</td>\n",
       "      <td>ultra</td>\n",
       "    </tr>\n",
       "    <tr>\n",
       "      <th>4</th>\n",
       "      <td>1004</td>\n",
       "      <td>68</td>\n",
       "      <td>NaN</td>\n",
       "      <td>Новокузнецк</td>\n",
       "      <td>Татьяна</td>\n",
       "      <td>Авдеенко</td>\n",
       "      <td>2018-05-14</td>\n",
       "      <td>ultra</td>\n",
       "    </tr>\n",
       "  </tbody>\n",
       "</table>\n",
       "</div>"
      ],
      "text/plain": [
       "   user_id  age churn_date         city first_name  last_name    reg_date  \\\n",
       "0     1000   52        NaN    Краснодар     Рафаил  Верещагин  2018-05-25   \n",
       "1     1001   41        NaN       Москва       Иван       Ежов  2018-11-01   \n",
       "2     1002   59        NaN  Стерлитамак    Евгений  Абрамович  2018-06-17   \n",
       "3     1003   23        NaN       Москва      Белла   Белякова  2018-08-17   \n",
       "4     1004   68        NaN  Новокузнецк    Татьяна   Авдеенко  2018-05-14   \n",
       "\n",
       "  tariff  \n",
       "0  ultra  \n",
       "1  smart  \n",
       "2  smart  \n",
       "3  ultra  \n",
       "4  ultra  "
      ]
     },
     "execution_count": 18,
     "metadata": {},
     "output_type": "execute_result"
    }
   ],
   "source": [
    "users.head()"
   ]
  },
  {
   "cell_type": "code",
   "execution_count": 19,
   "metadata": {
    "scrolled": true
   },
   "outputs": [
    {
     "data": {
      "text/html": [
       "<div>\n",
       "<style scoped>\n",
       "    .dataframe tbody tr th:only-of-type {\n",
       "        vertical-align: middle;\n",
       "    }\n",
       "\n",
       "    .dataframe tbody tr th {\n",
       "        vertical-align: top;\n",
       "    }\n",
       "\n",
       "    .dataframe thead th {\n",
       "        text-align: right;\n",
       "    }\n",
       "</style>\n",
       "<table border=\"1\" class=\"dataframe\">\n",
       "  <thead>\n",
       "    <tr style=\"text-align: right;\">\n",
       "      <th></th>\n",
       "      <th>count</th>\n",
       "      <th>mean</th>\n",
       "      <th>std</th>\n",
       "      <th>min</th>\n",
       "      <th>25%</th>\n",
       "      <th>50%</th>\n",
       "      <th>75%</th>\n",
       "      <th>max</th>\n",
       "    </tr>\n",
       "  </thead>\n",
       "  <tbody>\n",
       "    <tr>\n",
       "      <th>user_id</th>\n",
       "      <td>500.0</td>\n",
       "      <td>1249.500</td>\n",
       "      <td>144.481833</td>\n",
       "      <td>1000.0</td>\n",
       "      <td>1124.75</td>\n",
       "      <td>1249.5</td>\n",
       "      <td>1374.25</td>\n",
       "      <td>1499.0</td>\n",
       "    </tr>\n",
       "    <tr>\n",
       "      <th>age</th>\n",
       "      <td>500.0</td>\n",
       "      <td>46.588</td>\n",
       "      <td>16.667630</td>\n",
       "      <td>18.0</td>\n",
       "      <td>32.00</td>\n",
       "      <td>46.0</td>\n",
       "      <td>62.00</td>\n",
       "      <td>75.0</td>\n",
       "    </tr>\n",
       "  </tbody>\n",
       "</table>\n",
       "</div>"
      ],
      "text/plain": [
       "         count      mean         std     min      25%     50%      75%     max\n",
       "user_id  500.0  1249.500  144.481833  1000.0  1124.75  1249.5  1374.25  1499.0\n",
       "age      500.0    46.588   16.667630    18.0    32.00    46.0    62.00    75.0"
      ]
     },
     "execution_count": 19,
     "metadata": {},
     "output_type": "execute_result"
    }
   ],
   "source": [
    "users.describe().T"
   ]
  },
  {
   "cell_type": "code",
   "execution_count": 20,
   "metadata": {},
   "outputs": [
    {
     "data": {
      "text/plain": [
       "0"
      ]
     },
     "execution_count": 20,
     "metadata": {},
     "output_type": "execute_result"
    }
   ],
   "source": [
    "users.duplicated().sum()"
   ]
  },
  {
   "cell_type": "markdown",
   "metadata": {},
   "source": [
    "**Вывод**"
   ]
  },
  {
   "cell_type": "markdown",
   "metadata": {},
   "source": [
    "Исходные данные представлены в виде 5-ти массивов с данными о пользователях, тарифах, минутах, интернет трафике, сообщениях за 2018 год. В указанных массивах отсутствуют идентичные строки, описательные статистики позволяют доверять предоставленным данным. В данных по интернет трафику есть столбец, дублирующий индексы. Даты имеют формат не даты."
   ]
  },
  {
   "cell_type": "markdown",
   "metadata": {},
   "source": [
    "## 2. Обработка данных "
   ]
  },
  {
   "cell_type": "markdown",
   "metadata": {},
   "source": [
    "- приведем даты к формату даты\n",
    "- создадим новый столбец с номером месяца\n",
    "- посмотрим на распределение ежедневного кол-ва потребленных услуг\n",
    "- округлим продолжительность звонков до большего целого\n",
    "- создадим сводную таблицу с данными по услугам в разрезе пользователя и месяца\n",
    "- добавим столбцы с объемами услуг сверх тарифа, общей и дополнительной выручкой\n",
    "- выведем среднее и медиану выручки по возрастным группам и городам"
   ]
  },
  {
   "cell_type": "code",
   "execution_count": 21,
   "metadata": {},
   "outputs": [],
   "source": [
    "# приведем даты к формату даты, создадим новый столбец с месяцем \n",
    "\n",
    "calls['call_date'] = pd.to_datetime(calls['call_date'])\n",
    "calls['month'] =calls.call_date.dt.month \n",
    "\n",
    "internet['session_date'] = pd.to_datetime(internet['session_date'])\n",
    "internet['month'] =internet.session_date.dt.month\n",
    "\n",
    "messages['message_date'] = pd.to_datetime(messages['message_date'])\n",
    "messages = messages.groupby(['user_id', 'message_date']).agg(mes_num = ('user_id', 'count')).reset_index()\n",
    "messages['month'] =messages.message_date.dt.month\n",
    "\n",
    "users['reg_date'] = pd.to_datetime(users['reg_date'])"
   ]
  },
  {
   "cell_type": "code",
   "execution_count": 22,
   "metadata": {},
   "outputs": [
    {
     "data": {
      "image/png": "[encoded data removed]",
      "text/plain": [
       "<Figure size 1440x432 with 3 Axes>"
      ]
     },
     "metadata": {
      "image/png": {
       "height": 387,
       "width": 1163
      },
      "needs_background": "light"
     },
     "output_type": "display_data"
    }
   ],
   "source": [
    "# посмотрим, как распрделены ежедневные объемы услуг\n",
    "\n",
    "fig = plt.figure(figsize=(20,6))\n",
    "ax1 = fig.add_subplot(1,3,1)\n",
    "ax2 = fig.add_subplot(1,3,2)\n",
    "ax3 = fig.add_subplot(1,3,3)\n",
    "\n",
    "sns.scatterplot(x='month', y='duration', data=calls, ax=ax1)\n",
    "ax1.set_title('Распределение продолжительности звонка')\n",
    "ax1.title.set_size(14)\n",
    "\n",
    "sns.scatterplot(x='month', y='mes_num', data=messages, ax=ax2)\n",
    "ax2.set_title('Распределение кол-ва смс в день')\n",
    "ax2.title.set_size(14)\n",
    "\n",
    "sns.scatterplot(x='month', y='mb_used', data=internet, ax=ax3)\n",
    "ax3.set_title('Распределение интернет трафика')\n",
    "ax3.title.set_size(14)\n",
    "\n",
    "plt.show()"
   ]
  },
  {
   "cell_type": "code",
   "execution_count": 23,
   "metadata": {
    "scrolled": true
   },
   "outputs": [
    {
     "data": {
      "text/html": [
       "<div>\n",
       "<style scoped>\n",
       "    .dataframe tbody tr th:only-of-type {\n",
       "        vertical-align: middle;\n",
       "    }\n",
       "\n",
       "    .dataframe tbody tr th {\n",
       "        vertical-align: top;\n",
       "    }\n",
       "\n",
       "    .dataframe thead th {\n",
       "        text-align: right;\n",
       "    }\n",
       "</style>\n",
       "<table border=\"1\" class=\"dataframe\">\n",
       "  <thead>\n",
       "    <tr style=\"text-align: right;\">\n",
       "      <th></th>\n",
       "      <th>user_id</th>\n",
       "      <th>message_date</th>\n",
       "      <th>mes_num</th>\n",
       "      <th>month</th>\n",
       "    </tr>\n",
       "  </thead>\n",
       "  <tbody>\n",
       "    <tr>\n",
       "      <th>13996</th>\n",
       "      <td>1140</td>\n",
       "      <td>2018-12-31</td>\n",
       "      <td>31</td>\n",
       "      <td>12</td>\n",
       "    </tr>\n",
       "    <tr>\n",
       "      <th>34336</th>\n",
       "      <td>1336</td>\n",
       "      <td>2018-12-31</td>\n",
       "      <td>20</td>\n",
       "      <td>12</td>\n",
       "    </tr>\n",
       "    <tr>\n",
       "      <th>46731</th>\n",
       "      <td>1445</td>\n",
       "      <td>2018-12-29</td>\n",
       "      <td>32</td>\n",
       "      <td>12</td>\n",
       "    </tr>\n",
       "    <tr>\n",
       "      <th>46732</th>\n",
       "      <td>1445</td>\n",
       "      <td>2018-12-30</td>\n",
       "      <td>24</td>\n",
       "      <td>12</td>\n",
       "    </tr>\n",
       "    <tr>\n",
       "      <th>46733</th>\n",
       "      <td>1445</td>\n",
       "      <td>2018-12-31</td>\n",
       "      <td>19</td>\n",
       "      <td>12</td>\n",
       "    </tr>\n",
       "    <tr>\n",
       "      <th>51307</th>\n",
       "      <td>1485</td>\n",
       "      <td>2018-12-29</td>\n",
       "      <td>42</td>\n",
       "      <td>12</td>\n",
       "    </tr>\n",
       "    <tr>\n",
       "      <th>51308</th>\n",
       "      <td>1485</td>\n",
       "      <td>2018-12-30</td>\n",
       "      <td>59</td>\n",
       "      <td>12</td>\n",
       "    </tr>\n",
       "    <tr>\n",
       "      <th>51309</th>\n",
       "      <td>1485</td>\n",
       "      <td>2018-12-31</td>\n",
       "      <td>54</td>\n",
       "      <td>12</td>\n",
       "    </tr>\n",
       "  </tbody>\n",
       "</table>\n",
       "</div>"
      ],
      "text/plain": [
       "       user_id message_date  mes_num  month\n",
       "13996     1140   2018-12-31       31     12\n",
       "34336     1336   2018-12-31       20     12\n",
       "46731     1445   2018-12-29       32     12\n",
       "46732     1445   2018-12-30       24     12\n",
       "46733     1445   2018-12-31       19     12\n",
       "51307     1485   2018-12-29       42     12\n",
       "51308     1485   2018-12-30       59     12\n",
       "51309     1485   2018-12-31       54     12"
      ]
     },
     "execution_count": 23,
     "metadata": {},
     "output_type": "execute_result"
    }
   ],
   "source": [
    "messages[messages.mes_num > 15]"
   ]
  },
  {
   "cell_type": "markdown",
   "metadata": {},
   "source": [
    "Данные по ежедневному потреблению услуг не вызывают вопросов. Исключительная активность клиентов по смс приходится на последние дни года, что объяснимо"
   ]
  },
  {
   "cell_type": "code",
   "execution_count": 24,
   "metadata": {},
   "outputs": [
    {
     "name": "stdout",
     "output_type": "stream",
     "text": [
      "<class 'pandas.core.frame.DataFrame'>\n",
      "MultiIndex: 3214 entries, (1000, 5) to (1499, 12)\n",
      "Data columns (total 12 columns):\n",
      " #   Column      Non-Null Count  Dtype         \n",
      "---  ------      --------------  -----         \n",
      " 0   mb_used     3203 non-null   float64       \n",
      " 1   duration    3174 non-null   float64       \n",
      " 2   calls_num   3174 non-null   float64       \n",
      " 3   mes         2717 non-null   float64       \n",
      " 4   user_id     3214 non-null   int64         \n",
      " 5   age         3214 non-null   int64         \n",
      " 6   churn_date  187 non-null    object        \n",
      " 7   city        3214 non-null   object        \n",
      " 8   first_name  3214 non-null   object        \n",
      " 9   last_name   3214 non-null   object        \n",
      " 10  reg_date    3214 non-null   datetime64[ns]\n",
      " 11  tariff      3214 non-null   object        \n",
      "dtypes: datetime64[ns](1), float64(4), int64(2), object(5)\n",
      "memory usage: 331.3+ KB\n"
     ]
    }
   ],
   "source": [
    "# округлим продолжительность звонков до большего целого\n",
    "# создадим таблицу, в которой будут собраны данные о пользователых, зврнках, интернет трафике, смс,  \n",
    "# сгрупированные по пользователям и месяцам\n",
    "\n",
    "calls['duration'] = calls['duration'].apply(np.ceil)\n",
    "\n",
    "inernet_pivot = internet.groupby(['user_id', 'month']).agg({'mb_used': 'sum'})\n",
    "calls_pivot_1 = calls.groupby(['user_id', 'month']).agg({'duration': 'sum'})\n",
    "calls_pivot_2 = calls.groupby(['user_id', 'month']).agg(calls_num=('duration', 'count'))\n",
    "calls_pivot = calls_pivot_1.join(calls_pivot_2)\n",
    "mes_pivot = messages.groupby(['user_id', 'month']).agg(mes=('user_id', 'count'))\n",
    "\n",
    "users.index = users.user_id\n",
    "\n",
    "tab = (inernet_pivot.join(calls_pivot, how = 'outer')).join(mes_pivot, how = 'outer')\n",
    "\n",
    "tab = tab.join(users)\n",
    "\n",
    "tab.info()"
   ]
  },
  {
   "cell_type": "code",
   "execution_count": 25,
   "metadata": {},
   "outputs": [
    {
     "data": {
      "text/html": [
       "<div>\n",
       "<style scoped>\n",
       "    .dataframe tbody tr th:only-of-type {\n",
       "        vertical-align: middle;\n",
       "    }\n",
       "\n",
       "    .dataframe tbody tr th {\n",
       "        vertical-align: top;\n",
       "    }\n",
       "\n",
       "    .dataframe thead th {\n",
       "        text-align: right;\n",
       "    }\n",
       "</style>\n",
       "<table border=\"1\" class=\"dataframe\">\n",
       "  <thead>\n",
       "    <tr style=\"text-align: right;\">\n",
       "      <th></th>\n",
       "      <th></th>\n",
       "      <th>mb_used</th>\n",
       "      <th>duration</th>\n",
       "      <th>calls_num</th>\n",
       "      <th>mes</th>\n",
       "      <th>user_id</th>\n",
       "      <th>age</th>\n",
       "      <th>churn_date</th>\n",
       "      <th>city</th>\n",
       "      <th>first_name</th>\n",
       "      <th>last_name</th>\n",
       "      <th>reg_date</th>\n",
       "      <th>tariff</th>\n",
       "    </tr>\n",
       "    <tr>\n",
       "      <th>user_id</th>\n",
       "      <th>month</th>\n",
       "      <th></th>\n",
       "      <th></th>\n",
       "      <th></th>\n",
       "      <th></th>\n",
       "      <th></th>\n",
       "      <th></th>\n",
       "      <th></th>\n",
       "      <th></th>\n",
       "      <th></th>\n",
       "      <th></th>\n",
       "      <th></th>\n",
       "      <th></th>\n",
       "    </tr>\n",
       "  </thead>\n",
       "  <tbody>\n",
       "    <tr>\n",
       "      <th rowspan=\"5\" valign=\"top\">1000</th>\n",
       "      <th>5</th>\n",
       "      <td>2253.49</td>\n",
       "      <td>159.0</td>\n",
       "      <td>22.0</td>\n",
       "      <td>6.0</td>\n",
       "      <td>1000</td>\n",
       "      <td>52</td>\n",
       "      <td>NaN</td>\n",
       "      <td>Краснодар</td>\n",
       "      <td>Рафаил</td>\n",
       "      <td>Верещагин</td>\n",
       "      <td>2018-05-25</td>\n",
       "      <td>ultra</td>\n",
       "    </tr>\n",
       "    <tr>\n",
       "      <th>6</th>\n",
       "      <td>23233.77</td>\n",
       "      <td>172.0</td>\n",
       "      <td>43.0</td>\n",
       "      <td>25.0</td>\n",
       "      <td>1000</td>\n",
       "      <td>52</td>\n",
       "      <td>NaN</td>\n",
       "      <td>Краснодар</td>\n",
       "      <td>Рафаил</td>\n",
       "      <td>Верещагин</td>\n",
       "      <td>2018-05-25</td>\n",
       "      <td>ultra</td>\n",
       "    </tr>\n",
       "    <tr>\n",
       "      <th>7</th>\n",
       "      <td>14003.64</td>\n",
       "      <td>340.0</td>\n",
       "      <td>47.0</td>\n",
       "      <td>29.0</td>\n",
       "      <td>1000</td>\n",
       "      <td>52</td>\n",
       "      <td>NaN</td>\n",
       "      <td>Краснодар</td>\n",
       "      <td>Рафаил</td>\n",
       "      <td>Верещагин</td>\n",
       "      <td>2018-05-25</td>\n",
       "      <td>ultra</td>\n",
       "    </tr>\n",
       "    <tr>\n",
       "      <th>8</th>\n",
       "      <td>14055.93</td>\n",
       "      <td>408.0</td>\n",
       "      <td>52.0</td>\n",
       "      <td>27.0</td>\n",
       "      <td>1000</td>\n",
       "      <td>52</td>\n",
       "      <td>NaN</td>\n",
       "      <td>Краснодар</td>\n",
       "      <td>Рафаил</td>\n",
       "      <td>Верещагин</td>\n",
       "      <td>2018-05-25</td>\n",
       "      <td>ultra</td>\n",
       "    </tr>\n",
       "    <tr>\n",
       "      <th>9</th>\n",
       "      <td>14568.91</td>\n",
       "      <td>466.0</td>\n",
       "      <td>58.0</td>\n",
       "      <td>25.0</td>\n",
       "      <td>1000</td>\n",
       "      <td>52</td>\n",
       "      <td>NaN</td>\n",
       "      <td>Краснодар</td>\n",
       "      <td>Рафаил</td>\n",
       "      <td>Верещагин</td>\n",
       "      <td>2018-05-25</td>\n",
       "      <td>ultra</td>\n",
       "    </tr>\n",
       "    <tr>\n",
       "      <th>...</th>\n",
       "      <th>...</th>\n",
       "      <td>...</td>\n",
       "      <td>...</td>\n",
       "      <td>...</td>\n",
       "      <td>...</td>\n",
       "      <td>...</td>\n",
       "      <td>...</td>\n",
       "      <td>...</td>\n",
       "      <td>...</td>\n",
       "      <td>...</td>\n",
       "      <td>...</td>\n",
       "      <td>...</td>\n",
       "      <td>...</td>\n",
       "    </tr>\n",
       "    <tr>\n",
       "      <th>1498</th>\n",
       "      <th>10</th>\n",
       "      <td>20579.36</td>\n",
       "      <td>247.0</td>\n",
       "      <td>41.0</td>\n",
       "      <td>21.0</td>\n",
       "      <td>1498</td>\n",
       "      <td>68</td>\n",
       "      <td>2018-10-25</td>\n",
       "      <td>Владикавказ</td>\n",
       "      <td>Всеволод</td>\n",
       "      <td>Акимчин</td>\n",
       "      <td>2018-07-19</td>\n",
       "      <td>smart</td>\n",
       "    </tr>\n",
       "    <tr>\n",
       "      <th rowspan=\"4\" valign=\"top\">1499</th>\n",
       "      <th>9</th>\n",
       "      <td>1845.75</td>\n",
       "      <td>70.0</td>\n",
       "      <td>9.0</td>\n",
       "      <td>4.0</td>\n",
       "      <td>1499</td>\n",
       "      <td>35</td>\n",
       "      <td>NaN</td>\n",
       "      <td>Пермь</td>\n",
       "      <td>Гектор</td>\n",
       "      <td>Корнилов</td>\n",
       "      <td>2018-09-27</td>\n",
       "      <td>smart</td>\n",
       "    </tr>\n",
       "    <tr>\n",
       "      <th>10</th>\n",
       "      <td>17788.51</td>\n",
       "      <td>449.0</td>\n",
       "      <td>68.0</td>\n",
       "      <td>23.0</td>\n",
       "      <td>1499</td>\n",
       "      <td>35</td>\n",
       "      <td>NaN</td>\n",
       "      <td>Пермь</td>\n",
       "      <td>Гектор</td>\n",
       "      <td>Корнилов</td>\n",
       "      <td>2018-09-27</td>\n",
       "      <td>smart</td>\n",
       "    </tr>\n",
       "    <tr>\n",
       "      <th>11</th>\n",
       "      <td>17963.31</td>\n",
       "      <td>612.0</td>\n",
       "      <td>74.0</td>\n",
       "      <td>25.0</td>\n",
       "      <td>1499</td>\n",
       "      <td>35</td>\n",
       "      <td>NaN</td>\n",
       "      <td>Пермь</td>\n",
       "      <td>Гектор</td>\n",
       "      <td>Корнилов</td>\n",
       "      <td>2018-09-27</td>\n",
       "      <td>smart</td>\n",
       "    </tr>\n",
       "    <tr>\n",
       "      <th>12</th>\n",
       "      <td>13055.58</td>\n",
       "      <td>492.0</td>\n",
       "      <td>69.0</td>\n",
       "      <td>29.0</td>\n",
       "      <td>1499</td>\n",
       "      <td>35</td>\n",
       "      <td>NaN</td>\n",
       "      <td>Пермь</td>\n",
       "      <td>Гектор</td>\n",
       "      <td>Корнилов</td>\n",
       "      <td>2018-09-27</td>\n",
       "      <td>smart</td>\n",
       "    </tr>\n",
       "  </tbody>\n",
       "</table>\n",
       "<p>3214 rows × 12 columns</p>\n",
       "</div>"
      ],
      "text/plain": [
       "                mb_used  duration  calls_num   mes  user_id  age  churn_date  \\\n",
       "user_id month                                                                  \n",
       "1000    5       2253.49     159.0       22.0   6.0     1000   52         NaN   \n",
       "        6      23233.77     172.0       43.0  25.0     1000   52         NaN   \n",
       "        7      14003.64     340.0       47.0  29.0     1000   52         NaN   \n",
       "        8      14055.93     408.0       52.0  27.0     1000   52         NaN   \n",
       "        9      14568.91     466.0       58.0  25.0     1000   52         NaN   \n",
       "...                 ...       ...        ...   ...      ...  ...         ...   \n",
       "1498    10     20579.36     247.0       41.0  21.0     1498   68  2018-10-25   \n",
       "1499    9       1845.75      70.0        9.0   4.0     1499   35         NaN   \n",
       "        10     17788.51     449.0       68.0  23.0     1499   35         NaN   \n",
       "        11     17963.31     612.0       74.0  25.0     1499   35         NaN   \n",
       "        12     13055.58     492.0       69.0  29.0     1499   35         NaN   \n",
       "\n",
       "                      city first_name  last_name   reg_date tariff  \n",
       "user_id month                                                       \n",
       "1000    5        Краснодар     Рафаил  Верещагин 2018-05-25  ultra  \n",
       "        6        Краснодар     Рафаил  Верещагин 2018-05-25  ultra  \n",
       "        7        Краснодар     Рафаил  Верещагин 2018-05-25  ultra  \n",
       "        8        Краснодар     Рафаил  Верещагин 2018-05-25  ultra  \n",
       "        9        Краснодар     Рафаил  Верещагин 2018-05-25  ultra  \n",
       "...                    ...        ...        ...        ...    ...  \n",
       "1498    10     Владикавказ   Всеволод    Акимчин 2018-07-19  smart  \n",
       "1499    9            Пермь     Гектор   Корнилов 2018-09-27  smart  \n",
       "        10           Пермь     Гектор   Корнилов 2018-09-27  smart  \n",
       "        11           Пермь     Гектор   Корнилов 2018-09-27  smart  \n",
       "        12           Пермь     Гектор   Корнилов 2018-09-27  smart  \n",
       "\n",
       "[3214 rows x 12 columns]"
      ]
     },
     "execution_count": 25,
     "metadata": {},
     "output_type": "execute_result"
    }
   ],
   "source": [
    "tab"
   ]
  },
  {
   "cell_type": "code",
   "execution_count": 26,
   "metadata": {},
   "outputs": [],
   "source": [
    "# добавим столбец с интернет трафиком сверх лимита тарифа\n",
    "\n",
    "mb_lim_smart = tariffs.mb_per_month_included[0]\n",
    "mb_lim_ultra = tariffs.mb_per_month_included[1]\n",
    "\n",
    "def gb_to_pay(row):\n",
    "               \n",
    "    if row['tariff'] == 'ultra':\n",
    "        if row['mb_used'] - mb_lim_ultra > 0:\n",
    "            return np.ceil((row['mb_used'] - mb_lim_ultra) / 1024)\n",
    "        else:\n",
    "            return 0\n",
    "    else:\n",
    "        if row['mb_used'] - mb_lim_smart > 0:\n",
    "            return np.ceil((row['mb_used'] - mb_lim_smart) / 1024)\n",
    "        else:\n",
    "            return 0\n",
    "\n",
    "tab['gb_pay'] = tab.apply(gb_to_pay, axis=1)"
   ]
  },
  {
   "cell_type": "code",
   "execution_count": 27,
   "metadata": {},
   "outputs": [],
   "source": [
    "# добавим столбец с количеством минут сверх лимита тарифа\n",
    "\n",
    "min_lim_smart = tariffs.minutes_included[0]\n",
    "min_lim_ultra = tariffs.minutes_included[1]\n",
    "\n",
    "def min_to_pay(row):\n",
    "               \n",
    "    if row['tariff'] == 'ultra':\n",
    "        if row['duration'] - min_lim_ultra > 0:\n",
    "            return row['duration'] - min_lim_ultra\n",
    "        else:\n",
    "            return 0\n",
    "    else:\n",
    "        if row['duration'] - min_lim_smart > 0:\n",
    "            return row['duration'] - min_lim_smart\n",
    "        else:\n",
    "            return 0\n",
    "\n",
    "tab['min_pay'] = tab.apply(min_to_pay, axis=1)"
   ]
  },
  {
   "cell_type": "code",
   "execution_count": 28,
   "metadata": {},
   "outputs": [],
   "source": [
    "# добавим столбец с количеством сообщений сверх лимита тарифа\n",
    "\n",
    "mes_lim_smart = tariffs.messages_included[0]\n",
    "mes_lim_ultra = tariffs.messages_included[1]\n",
    "\n",
    "def mes_to_pay(row):\n",
    "               \n",
    "    if row['tariff'] == 'ultra':\n",
    "        if row['mes'] - mes_lim_ultra > 0:\n",
    "            return row['mes'] - mes_lim_ultra\n",
    "        else:\n",
    "            return 0\n",
    "    else:\n",
    "        if row['mes'] - mes_lim_smart > 0:\n",
    "            return row['mes'] - mes_lim_smart\n",
    "        else:\n",
    "            return 0\n",
    "\n",
    "tab['mes_pay'] = tab.apply(mes_to_pay, axis=1)"
   ]
  },
  {
   "cell_type": "code",
   "execution_count": 29,
   "metadata": {},
   "outputs": [],
   "source": [
    "# добавим столбец с общей выручкой по каждому клиенту и выручкой сверх ежемесячного платежа\n",
    "\n",
    "min_price_smart = tariffs.rub_per_minute[0]\n",
    "min_price_ultra = tariffs.rub_per_minute[1]\n",
    "\n",
    "mes_price_smart = tariffs.rub_per_message[0]\n",
    "mes_price_ultra = tariffs.rub_per_message[1]\n",
    "\n",
    "gb_price_smart = tariffs.rub_per_gb[0]\n",
    "gb_price_ultra = tariffs.rub_per_gb[1]\n",
    "\n",
    "month_fee_smart = tariffs.rub_monthly_fee[0]\n",
    "month_fee_ultra = tariffs.rub_monthly_fee[1]\n",
    "\n",
    "def get_revenue(row):\n",
    "    if row['tariff'] == 'smart':\n",
    "        return month_fee_smart + row['min_pay']*min_price_smart + row['gb_pay']*gb_price_smart +   \\\n",
    "                                                                        row['mes_pay']*mes_price_smart\n",
    "  \n",
    "    else:\n",
    "        return month_fee_ultra + row['min_pay']*min_price_ultra + row['gb_pay']*gb_price_ultra +    \\\n",
    "                                                                         row['mes_pay']*mes_price_ultra         \n",
    "\n",
    "tab['revenue'] = tab.apply(get_revenue, axis=1)\n",
    "\n",
    "\n",
    "def get_rev(row):\n",
    "    if row['tariff'] == 'smart':\n",
    "        return row['revenue'] - 550\n",
    "    else:\n",
    "        return row['revenue'] - 1950\n",
    "\n",
    "tab['revenue'] = tab.apply(get_revenue, axis=1)\n",
    "tab['rev'] = tab.apply(get_rev, axis=1)"
   ]
  },
  {
   "cell_type": "code",
   "execution_count": 30,
   "metadata": {},
   "outputs": [],
   "source": [
    "# доббавим столбец с возрастной категорией\n",
    "\n",
    "def get_age_cat(row):\n",
    "    if row['age'] < 32:\n",
    "        return 'до 32 лет'\n",
    "    elif 32 <= row['age'] <= 47:\n",
    "        return '32-47 лет'\n",
    "    elif 48 <= row['age'] <= 62:\n",
    "        return '48-62 лет'\n",
    "    else:\n",
    "        return '63 года и cтарше'\n",
    "\n",
    "tab['age_cat'] = pd.Series(tab.apply(get_age_cat, axis=1))   "
   ]
  },
  {
   "cell_type": "code",
   "execution_count": 31,
   "metadata": {},
   "outputs": [
    {
     "data": {
      "text/html": [
       "<div>\n",
       "<style scoped>\n",
       "    .dataframe tbody tr th:only-of-type {\n",
       "        vertical-align: middle;\n",
       "    }\n",
       "\n",
       "    .dataframe tbody tr th {\n",
       "        vertical-align: top;\n",
       "    }\n",
       "\n",
       "    .dataframe thead th {\n",
       "        text-align: right;\n",
       "    }\n",
       "</style>\n",
       "<table border=\"1\" class=\"dataframe\">\n",
       "  <thead>\n",
       "    <tr style=\"text-align: right;\">\n",
       "      <th></th>\n",
       "      <th>revenue_mean</th>\n",
       "      <th>revenue_median</th>\n",
       "    </tr>\n",
       "    <tr>\n",
       "      <th>age_cat</th>\n",
       "      <th></th>\n",
       "      <th></th>\n",
       "    </tr>\n",
       "  </thead>\n",
       "  <tbody>\n",
       "    <tr>\n",
       "      <th>32-47 лет</th>\n",
       "      <td>1510.113966</td>\n",
       "      <td>1622.0</td>\n",
       "    </tr>\n",
       "    <tr>\n",
       "      <th>48-62 лет</th>\n",
       "      <td>1463.508632</td>\n",
       "      <td>1550.0</td>\n",
       "    </tr>\n",
       "    <tr>\n",
       "      <th>63 года и cтарше</th>\n",
       "      <td>1542.140283</td>\n",
       "      <td>1750.0</td>\n",
       "    </tr>\n",
       "    <tr>\n",
       "      <th>до 32 лет</th>\n",
       "      <td>1551.140684</td>\n",
       "      <td>1750.0</td>\n",
       "    </tr>\n",
       "  </tbody>\n",
       "</table>\n",
       "</div>"
      ],
      "text/plain": [
       "                  revenue_mean  revenue_median\n",
       "age_cat                                       \n",
       "32-47 лет          1510.113966          1622.0\n",
       "48-62 лет          1463.508632          1550.0\n",
       "63 года и cтарше   1542.140283          1750.0\n",
       "до 32 лет          1551.140684          1750.0"
      ]
     },
     "execution_count": 31,
     "metadata": {},
     "output_type": "execute_result"
    }
   ],
   "source": [
    "# посмотрим на медиану и среднее выручки по возрастным группам\n",
    "\n",
    "tab.groupby('age_cat').agg(revenue_mean =('revenue', 'mean')).join(   \\\n",
    "                   tab.groupby('age_cat').agg(revenue_median = ('revenue', 'median')))"
   ]
  },
  {
   "cell_type": "code",
   "execution_count": 32,
   "metadata": {},
   "outputs": [],
   "source": [
    "tab1 = tab[tab.tariff == 'smart']\n",
    "tab2 = tab[tab.tariff == 'ultra']"
   ]
  },
  {
   "cell_type": "code",
   "execution_count": 33,
   "metadata": {
    "scrolled": true
   },
   "outputs": [
    {
     "data": {
      "text/html": [
       "<div>\n",
       "<style scoped>\n",
       "    .dataframe tbody tr th:only-of-type {\n",
       "        vertical-align: middle;\n",
       "    }\n",
       "\n",
       "    .dataframe tbody tr th {\n",
       "        vertical-align: top;\n",
       "    }\n",
       "\n",
       "    .dataframe thead th {\n",
       "        text-align: right;\n",
       "    }\n",
       "</style>\n",
       "<table border=\"1\" class=\"dataframe\">\n",
       "  <thead>\n",
       "    <tr style=\"text-align: right;\">\n",
       "      <th></th>\n",
       "      <th>revenue_mean</th>\n",
       "      <th>revenue_median</th>\n",
       "    </tr>\n",
       "    <tr>\n",
       "      <th>age_cat</th>\n",
       "      <th></th>\n",
       "      <th></th>\n",
       "    </tr>\n",
       "  </thead>\n",
       "  <tbody>\n",
       "    <tr>\n",
       "      <th>32-47 лет</th>\n",
       "      <td>1276.987302</td>\n",
       "      <td>950.0</td>\n",
       "    </tr>\n",
       "    <tr>\n",
       "      <th>48-62 лет</th>\n",
       "      <td>1281.939068</td>\n",
       "      <td>1150.0</td>\n",
       "    </tr>\n",
       "    <tr>\n",
       "      <th>63 года и cтарше</th>\n",
       "      <td>1268.772994</td>\n",
       "      <td>1030.0</td>\n",
       "    </tr>\n",
       "    <tr>\n",
       "      <th>до 32 лет</th>\n",
       "      <td>1261.132075</td>\n",
       "      <td>950.0</td>\n",
       "    </tr>\n",
       "  </tbody>\n",
       "</table>\n",
       "</div>"
      ],
      "text/plain": [
       "                  revenue_mean  revenue_median\n",
       "age_cat                                       \n",
       "32-47 лет          1276.987302           950.0\n",
       "48-62 лет          1281.939068          1150.0\n",
       "63 года и cтарше   1268.772994          1030.0\n",
       "до 32 лет          1261.132075           950.0"
      ]
     },
     "execution_count": 33,
     "metadata": {},
     "output_type": "execute_result"
    }
   ],
   "source": [
    "# посмотрим на медиану и среднее выручки по возрастным группам, тариф \"Смарт\"\n",
    "\n",
    "tab1.groupby('age_cat').agg(revenue_mean =('revenue', 'mean')).join(   \\\n",
    "                   tab1.groupby('age_cat').agg(revenue_median = ('revenue', 'median')))"
   ]
  },
  {
   "cell_type": "code",
   "execution_count": 34,
   "metadata": {
    "scrolled": false
   },
   "outputs": [
    {
     "data": {
      "text/html": [
       "<div>\n",
       "<style scoped>\n",
       "    .dataframe tbody tr th:only-of-type {\n",
       "        vertical-align: middle;\n",
       "    }\n",
       "\n",
       "    .dataframe tbody tr th {\n",
       "        vertical-align: top;\n",
       "    }\n",
       "\n",
       "    .dataframe thead th {\n",
       "        text-align: right;\n",
       "    }\n",
       "</style>\n",
       "<table border=\"1\" class=\"dataframe\">\n",
       "  <thead>\n",
       "    <tr style=\"text-align: right;\">\n",
       "      <th></th>\n",
       "      <th>revenue_mean</th>\n",
       "      <th>revenue_median</th>\n",
       "    </tr>\n",
       "    <tr>\n",
       "      <th>age_cat</th>\n",
       "      <th></th>\n",
       "      <th></th>\n",
       "    </tr>\n",
       "  </thead>\n",
       "  <tbody>\n",
       "    <tr>\n",
       "      <th>32-47 лет</th>\n",
       "      <td>2064.339623</td>\n",
       "      <td>1950.0</td>\n",
       "    </tr>\n",
       "    <tr>\n",
       "      <th>48-62 лет</th>\n",
       "      <td>1983.076923</td>\n",
       "      <td>1950.0</td>\n",
       "    </tr>\n",
       "    <tr>\n",
       "      <th>63 года и cтарше</th>\n",
       "      <td>2067.293233</td>\n",
       "      <td>1950.0</td>\n",
       "    </tr>\n",
       "    <tr>\n",
       "      <th>до 32 лет</th>\n",
       "      <td>2144.594595</td>\n",
       "      <td>1950.0</td>\n",
       "    </tr>\n",
       "  </tbody>\n",
       "</table>\n",
       "</div>"
      ],
      "text/plain": [
       "                  revenue_mean  revenue_median\n",
       "age_cat                                       \n",
       "32-47 лет          2064.339623          1950.0\n",
       "48-62 лет          1983.076923          1950.0\n",
       "63 года и cтарше   2067.293233          1950.0\n",
       "до 32 лет          2144.594595          1950.0"
      ]
     },
     "execution_count": 34,
     "metadata": {},
     "output_type": "execute_result"
    }
   ],
   "source": [
    "# посмотрим на медиану и среднее выручки по возрастным группам, тариф \"Ультра\"\n",
    "\n",
    "tab2.groupby('age_cat').agg(revenue_mean =('revenue', 'mean')).join(   \\\n",
    "                   tab2.groupby('age_cat').agg(revenue_median = ('revenue', 'median')))"
   ]
  },
  {
   "cell_type": "markdown",
   "metadata": {},
   "source": [
    "Существенных различий по выручке (медиана, среднее) по возрастным категориям нет"
   ]
  },
  {
   "cell_type": "code",
   "execution_count": 35,
   "metadata": {},
   "outputs": [],
   "source": [
    "# посмотрим на медиану и срреднее выручки по городам\n",
    "\n",
    "cities_revenue =  tab.groupby('city').agg(revenue_mean =('revenue', 'mean')).join(   \\\n",
    "                      tab.groupby('city').agg(revenue_median=('revenue', 'median')))"
   ]
  },
  {
   "cell_type": "code",
   "execution_count": 36,
   "metadata": {
    "scrolled": true
   },
   "outputs": [
    {
     "data": {
      "text/html": [
       "<div>\n",
       "<style scoped>\n",
       "    .dataframe tbody tr th:only-of-type {\n",
       "        vertical-align: middle;\n",
       "    }\n",
       "\n",
       "    .dataframe tbody tr th {\n",
       "        vertical-align: top;\n",
       "    }\n",
       "\n",
       "    .dataframe thead th {\n",
       "        text-align: right;\n",
       "    }\n",
       "</style>\n",
       "<table border=\"1\" class=\"dataframe\">\n",
       "  <thead>\n",
       "    <tr style=\"text-align: right;\">\n",
       "      <th></th>\n",
       "      <th>revenue_mean</th>\n",
       "      <th>revenue_median</th>\n",
       "    </tr>\n",
       "    <tr>\n",
       "      <th>city</th>\n",
       "      <th></th>\n",
       "      <th></th>\n",
       "    </tr>\n",
       "  </thead>\n",
       "  <tbody>\n",
       "    <tr>\n",
       "      <th>Тамбов</th>\n",
       "      <td>596.478261</td>\n",
       "      <td>550.0</td>\n",
       "    </tr>\n",
       "    <tr>\n",
       "      <th>Химки</th>\n",
       "      <td>638.400000</td>\n",
       "      <td>550.0</td>\n",
       "    </tr>\n",
       "    <tr>\n",
       "      <th>Белгород</th>\n",
       "      <td>737.400000</td>\n",
       "      <td>550.0</td>\n",
       "    </tr>\n",
       "    <tr>\n",
       "      <th>Новороссийск</th>\n",
       "      <td>813.538462</td>\n",
       "      <td>554.5</td>\n",
       "    </tr>\n",
       "    <tr>\n",
       "      <th>Подольск</th>\n",
       "      <td>840.833333</td>\n",
       "      <td>743.0</td>\n",
       "    </tr>\n",
       "    <tr>\n",
       "      <th>...</th>\n",
       "      <td>...</td>\n",
       "      <td>...</td>\n",
       "    </tr>\n",
       "    <tr>\n",
       "      <th>Череповец</th>\n",
       "      <td>1992.857143</td>\n",
       "      <td>1950.0</td>\n",
       "    </tr>\n",
       "    <tr>\n",
       "      <th>Брянск</th>\n",
       "      <td>2030.357143</td>\n",
       "      <td>1950.0</td>\n",
       "    </tr>\n",
       "    <tr>\n",
       "      <th>Оренбург</th>\n",
       "      <td>2046.230769</td>\n",
       "      <td>1950.0</td>\n",
       "    </tr>\n",
       "    <tr>\n",
       "      <th>Саранск</th>\n",
       "      <td>2158.954545</td>\n",
       "      <td>1950.0</td>\n",
       "    </tr>\n",
       "    <tr>\n",
       "      <th>Воронеж</th>\n",
       "      <td>2296.230769</td>\n",
       "      <td>1950.0</td>\n",
       "    </tr>\n",
       "  </tbody>\n",
       "</table>\n",
       "<p>76 rows × 2 columns</p>\n",
       "</div>"
      ],
      "text/plain": [
       "              revenue_mean  revenue_median\n",
       "city                                      \n",
       "Тамбов          596.478261           550.0\n",
       "Химки           638.400000           550.0\n",
       "Белгород        737.400000           550.0\n",
       "Новороссийск    813.538462           554.5\n",
       "Подольск        840.833333           743.0\n",
       "...                    ...             ...\n",
       "Череповец      1992.857143          1950.0\n",
       "Брянск         2030.357143          1950.0\n",
       "Оренбург       2046.230769          1950.0\n",
       "Саранск        2158.954545          1950.0\n",
       "Воронеж        2296.230769          1950.0\n",
       "\n",
       "[76 rows x 2 columns]"
      ]
     },
     "execution_count": 36,
     "metadata": {},
     "output_type": "execute_result"
    }
   ],
   "source": [
    "cities_revenue.sort_values(by='revenue_mean')"
   ]
  },
  {
   "cell_type": "markdown",
   "metadata": {},
   "source": [
    "По городам выручка существенно разнится. Однако при 76 городах в списке размер выборки явно недостаточен для выводов при такой детализации."
   ]
  },
  {
   "cell_type": "code",
   "execution_count": 37,
   "metadata": {
    "scrolled": true
   },
   "outputs": [
    {
     "data": {
      "text/html": [
       "<div>\n",
       "<style scoped>\n",
       "    .dataframe tbody tr th:only-of-type {\n",
       "        vertical-align: middle;\n",
       "    }\n",
       "\n",
       "    .dataframe tbody tr th {\n",
       "        vertical-align: top;\n",
       "    }\n",
       "\n",
       "    .dataframe thead th {\n",
       "        text-align: right;\n",
       "    }\n",
       "</style>\n",
       "<table border=\"1\" class=\"dataframe\">\n",
       "  <thead>\n",
       "    <tr style=\"text-align: right;\">\n",
       "      <th></th>\n",
       "      <th>mb_used</th>\n",
       "      <th>duration</th>\n",
       "      <th>calls_num</th>\n",
       "      <th>mes</th>\n",
       "      <th>user_id</th>\n",
       "      <th>age</th>\n",
       "      <th>gb_pay</th>\n",
       "      <th>min_pay</th>\n",
       "      <th>mes_pay</th>\n",
       "      <th>revenue</th>\n",
       "      <th>rev</th>\n",
       "    </tr>\n",
       "  </thead>\n",
       "  <tbody>\n",
       "    <tr>\n",
       "      <th>count</th>\n",
       "      <td>3203.00</td>\n",
       "      <td>3174.00</td>\n",
       "      <td>3174.00</td>\n",
       "      <td>2717.00</td>\n",
       "      <td>3214.00</td>\n",
       "      <td>3214.00</td>\n",
       "      <td>3214.00</td>\n",
       "      <td>3214.00</td>\n",
       "      <td>3214.0</td>\n",
       "      <td>3214.00</td>\n",
       "      <td>3214.00</td>\n",
       "    </tr>\n",
       "    <tr>\n",
       "      <th>mean</th>\n",
       "      <td>17266.71</td>\n",
       "      <td>456.93</td>\n",
       "      <td>63.83</td>\n",
       "      <td>19.38</td>\n",
       "      <td>1251.59</td>\n",
       "      <td>46.64</td>\n",
       "      <td>2.32</td>\n",
       "      <td>28.85</td>\n",
       "      <td>0.0</td>\n",
       "      <td>1517.01</td>\n",
       "      <td>537.95</td>\n",
       "    </tr>\n",
       "    <tr>\n",
       "      <th>std</th>\n",
       "      <td>7516.36</td>\n",
       "      <td>238.03</td>\n",
       "      <td>32.68</td>\n",
       "      <td>8.48</td>\n",
       "      <td>144.66</td>\n",
       "      <td>16.59</td>\n",
       "      <td>3.51</td>\n",
       "      <td>73.08</td>\n",
       "      <td>0.0</td>\n",
       "      <td>798.49</td>\n",
       "      <td>761.25</td>\n",
       "    </tr>\n",
       "    <tr>\n",
       "      <th>min</th>\n",
       "      <td>0.00</td>\n",
       "      <td>0.00</td>\n",
       "      <td>1.00</td>\n",
       "      <td>1.00</td>\n",
       "      <td>1000.00</td>\n",
       "      <td>18.00</td>\n",
       "      <td>0.00</td>\n",
       "      <td>0.00</td>\n",
       "      <td>0.0</td>\n",
       "      <td>550.00</td>\n",
       "      <td>0.00</td>\n",
       "    </tr>\n",
       "    <tr>\n",
       "      <th>25%</th>\n",
       "      <td>12526.90</td>\n",
       "      <td>290.00</td>\n",
       "      <td>41.00</td>\n",
       "      <td>13.00</td>\n",
       "      <td>1125.00</td>\n",
       "      <td>32.00</td>\n",
       "      <td>0.00</td>\n",
       "      <td>0.00</td>\n",
       "      <td>0.0</td>\n",
       "      <td>750.00</td>\n",
       "      <td>0.00</td>\n",
       "    </tr>\n",
       "    <tr>\n",
       "      <th>50%</th>\n",
       "      <td>16963.11</td>\n",
       "      <td>447.00</td>\n",
       "      <td>63.00</td>\n",
       "      <td>21.00</td>\n",
       "      <td>1253.00</td>\n",
       "      <td>46.00</td>\n",
       "      <td>0.00</td>\n",
       "      <td>0.00</td>\n",
       "      <td>0.0</td>\n",
       "      <td>1619.50</td>\n",
       "      <td>144.00</td>\n",
       "    </tr>\n",
       "    <tr>\n",
       "      <th>75%</th>\n",
       "      <td>21432.17</td>\n",
       "      <td>592.00</td>\n",
       "      <td>83.00</td>\n",
       "      <td>27.00</td>\n",
       "      <td>1378.75</td>\n",
       "      <td>62.00</td>\n",
       "      <td>4.00</td>\n",
       "      <td>0.00</td>\n",
       "      <td>0.0</td>\n",
       "      <td>1950.00</td>\n",
       "      <td>900.00</td>\n",
       "    </tr>\n",
       "    <tr>\n",
       "      <th>max</th>\n",
       "      <td>49745.69</td>\n",
       "      <td>1673.00</td>\n",
       "      <td>244.00</td>\n",
       "      <td>31.00</td>\n",
       "      <td>1499.00</td>\n",
       "      <td>75.00</td>\n",
       "      <td>23.00</td>\n",
       "      <td>935.00</td>\n",
       "      <td>0.0</td>\n",
       "      <td>6671.00</td>\n",
       "      <td>6121.00</td>\n",
       "    </tr>\n",
       "  </tbody>\n",
       "</table>\n",
       "</div>"
      ],
      "text/plain": [
       "        mb_used  duration  calls_num      mes  user_id      age   gb_pay  \\\n",
       "count   3203.00   3174.00    3174.00  2717.00  3214.00  3214.00  3214.00   \n",
       "mean   17266.71    456.93      63.83    19.38  1251.59    46.64     2.32   \n",
       "std     7516.36    238.03      32.68     8.48   144.66    16.59     3.51   \n",
       "min        0.00      0.00       1.00     1.00  1000.00    18.00     0.00   \n",
       "25%    12526.90    290.00      41.00    13.00  1125.00    32.00     0.00   \n",
       "50%    16963.11    447.00      63.00    21.00  1253.00    46.00     0.00   \n",
       "75%    21432.17    592.00      83.00    27.00  1378.75    62.00     4.00   \n",
       "max    49745.69   1673.00     244.00    31.00  1499.00    75.00    23.00   \n",
       "\n",
       "       min_pay  mes_pay  revenue      rev  \n",
       "count  3214.00   3214.0  3214.00  3214.00  \n",
       "mean     28.85      0.0  1517.01   537.95  \n",
       "std      73.08      0.0   798.49   761.25  \n",
       "min       0.00      0.0   550.00     0.00  \n",
       "25%       0.00      0.0   750.00     0.00  \n",
       "50%       0.00      0.0  1619.50   144.00  \n",
       "75%       0.00      0.0  1950.00   900.00  \n",
       "max     935.00      0.0  6671.00  6121.00  "
      ]
     },
     "execution_count": 37,
     "metadata": {},
     "output_type": "execute_result"
    }
   ],
   "source": [
    "tab.describe().round(2)"
   ]
  },
  {
   "cell_type": "markdown",
   "metadata": {},
   "source": [
    "**Вывод**\n",
    "\n",
    "В результате преобразований получили массив с данными по абонентам в разрезе месяцев 2018 года в частности с выручкой."
   ]
  },
  {
   "cell_type": "markdown",
   "metadata": {},
   "source": [
    "## 3. Поведение клиентов оператора"
   ]
  },
  {
   "cell_type": "markdown",
   "metadata": {},
   "source": [
    "Сколько минут разговора, сколько сообщений и какой объём интернет-трафика требуется пользователям каждого тарифа в месяц. Рассмотрим среднее количество, дисперсию и стандартное отклонение. Постройм гистограммы, опишем распределения"
   ]
  },
  {
   "cell_type": "code",
   "execution_count": 38,
   "metadata": {
    "scrolled": true
   },
   "outputs": [
    {
     "data": {
      "text/html": [
       "<div>\n",
       "<style scoped>\n",
       "    .dataframe tbody tr th:only-of-type {\n",
       "        vertical-align: middle;\n",
       "    }\n",
       "\n",
       "    .dataframe tbody tr th {\n",
       "        vertical-align: top;\n",
       "    }\n",
       "\n",
       "    .dataframe thead th {\n",
       "        text-align: right;\n",
       "    }\n",
       "</style>\n",
       "<table border=\"1\" class=\"dataframe\">\n",
       "  <thead>\n",
       "    <tr style=\"text-align: right;\">\n",
       "      <th></th>\n",
       "      <th>mean</th>\n",
       "      <th>std</th>\n",
       "      <th>var</th>\n",
       "      <th>count</th>\n",
       "      <th>min</th>\n",
       "      <th>max</th>\n",
       "      <th>revenue_total</th>\n",
       "      <th>rev_total</th>\n",
       "      <th>perc_rev_add</th>\n",
       "      <th>users_num</th>\n",
       "    </tr>\n",
       "  </thead>\n",
       "  <tbody>\n",
       "    <tr>\n",
       "      <th>ultra</th>\n",
       "      <td>2070.15</td>\n",
       "      <td>376.19</td>\n",
       "      <td>141516.75</td>\n",
       "      <td>985.0</td>\n",
       "      <td>1950.0</td>\n",
       "      <td>4800.0</td>\n",
       "      <td>2039100.0</td>\n",
       "      <td>118350.0</td>\n",
       "      <td>6.0</td>\n",
       "      <td>148.0</td>\n",
       "    </tr>\n",
       "    <tr>\n",
       "      <th>smart</th>\n",
       "      <td>1272.57</td>\n",
       "      <td>813.58</td>\n",
       "      <td>661916.98</td>\n",
       "      <td>2229.0</td>\n",
       "      <td>550.0</td>\n",
       "      <td>6671.0</td>\n",
       "      <td>2836567.0</td>\n",
       "      <td>1610617.0</td>\n",
       "      <td>57.0</td>\n",
       "      <td>350.0</td>\n",
       "    </tr>\n",
       "  </tbody>\n",
       "</table>\n",
       "</div>"
      ],
      "text/plain": [
       "          mean     std        var   count     min     max  revenue_total  \\\n",
       "ultra  2070.15  376.19  141516.75   985.0  1950.0  4800.0      2039100.0   \n",
       "smart  1272.57  813.58  661916.98  2229.0   550.0  6671.0      2836567.0   \n",
       "\n",
       "       rev_total  perc_rev_add  users_num  \n",
       "ultra   118350.0           6.0      148.0  \n",
       "smart  1610617.0          57.0      350.0  "
      ]
     },
     "execution_count": 38,
     "metadata": {},
     "output_type": "execute_result"
    }
   ],
   "source": [
    "# рассмотрим подробнее выручку по двум тарифам\n",
    "\n",
    "smart_rev_mean = tab[tab.tariff == 'smart'].revenue.mean()\n",
    "smart_rev_std = np.std(tab[tab.tariff == 'smart'].revenue, ddof = 1)\n",
    "smart_rev_var = np.var(tab[tab.tariff == 'smart'].revenue, ddof = 1)\n",
    "sm_min = tab[tab.tariff == 'smart'].revenue.min()\n",
    "sm_max = tab[tab.tariff == 'smart'].revenue.max()\n",
    "sm_c = tab[tab.tariff == 'smart'].shape[0]\n",
    "sm_tot = tab[tab.tariff == 'smart'].revenue.sum()\n",
    "sm_rev_tot = tab[tab.tariff == 'smart'].rev.sum()\n",
    "sm_perc_rev_add = round(100*(tab[tab.tariff == 'smart'].rev.sum() / tab[tab.tariff == 'smart'].revenue.sum()))\n",
    "sm_users_num = len(tab[tab.tariff == 'smart'].user_id.unique())\n",
    "\n",
    "ultra_rev_mean = tab[tab.tariff == 'ultra'].revenue.mean()\n",
    "ultra_rev_std = np.std(tab[tab.tariff == 'ultra'].revenue, ddof = 1)\n",
    "ultra_rev_var = np.var(tab[tab.tariff == 'ultra'].revenue, ddof = 1)\n",
    "u_min = tab[tab.tariff == 'ultra'].revenue.min()\n",
    "u_max = tab[tab.tariff == 'ultra'].revenue.max()\n",
    "u_c = tab[tab.tariff == 'ultra'].shape[0]\n",
    "u_tot = tab[tab.tariff == 'ultra'].revenue.sum()\n",
    "u_rev_tot = _min = tab[tab.tariff == 'ultra'].rev.sum()\n",
    "u_perc_rev_add = round(100*(tab[tab.tariff == 'ultra'].rev.sum() / tab[tab.tariff == 'ultra'].revenue.sum()))\n",
    "u_users_num = len(tab[tab.tariff == 'ultra'].user_id.unique())\n",
    "\n",
    "\n",
    "stat = pd.DataFrame({'ultra':[ultra_rev_mean, ultra_rev_std, ultra_rev_var, u_c, u_min, u_max, \n",
    "                              u_tot, u_rev_tot, u_perc_rev_add, u_users_num],\n",
    "        'smart':[smart_rev_mean, smart_rev_std,  smart_rev_var, sm_c, sm_min, sm_max, sm_tot, \n",
    "                               sm_rev_tot, sm_perc_rev_add, sm_users_num]})\n",
    "\n",
    "stat.index = pd.Series(['mean', 'std', 'var', 'count', 'min', 'max', 'revenue_total', 'rev_total', 'perc_rev_add', 'users_num'])\n",
    "\n",
    "stat.T.round(2)"
   ]
  },
  {
   "cell_type": "code",
   "execution_count": 39,
   "metadata": {
    "scrolled": true
   },
   "outputs": [
    {
     "data": {
      "text/html": [
       "<div>\n",
       "<style scoped>\n",
       "    .dataframe tbody tr th:only-of-type {\n",
       "        vertical-align: middle;\n",
       "    }\n",
       "\n",
       "    .dataframe tbody tr th {\n",
       "        vertical-align: top;\n",
       "    }\n",
       "\n",
       "    .dataframe thead th {\n",
       "        text-align: right;\n",
       "    }\n",
       "</style>\n",
       "<table border=\"1\" class=\"dataframe\">\n",
       "  <thead>\n",
       "    <tr style=\"text-align: right;\">\n",
       "      <th></th>\n",
       "      <th>mb_used</th>\n",
       "      <th>duration</th>\n",
       "      <th>calls_num</th>\n",
       "      <th>mes</th>\n",
       "      <th>user_id</th>\n",
       "      <th>age</th>\n",
       "      <th>gb_pay</th>\n",
       "      <th>min_pay</th>\n",
       "      <th>mes_pay</th>\n",
       "      <th>revenue</th>\n",
       "      <th>rev</th>\n",
       "    </tr>\n",
       "  </thead>\n",
       "  <tbody>\n",
       "    <tr>\n",
       "      <th>count</th>\n",
       "      <td>975.00</td>\n",
       "      <td>951.00</td>\n",
       "      <td>951.00</td>\n",
       "      <td>795.00</td>\n",
       "      <td>985.00</td>\n",
       "      <td>985.00</td>\n",
       "      <td>985.00</td>\n",
       "      <td>985.0</td>\n",
       "      <td>985.0</td>\n",
       "      <td>985.00</td>\n",
       "      <td>985.00</td>\n",
       "    </tr>\n",
       "    <tr>\n",
       "      <th>mean</th>\n",
       "      <td>19668.49</td>\n",
       "      <td>545.45</td>\n",
       "      <td>76.02</td>\n",
       "      <td>21.22</td>\n",
       "      <td>1263.09</td>\n",
       "      <td>46.83</td>\n",
       "      <td>0.80</td>\n",
       "      <td>0.0</td>\n",
       "      <td>0.0</td>\n",
       "      <td>2070.15</td>\n",
       "      <td>120.15</td>\n",
       "    </tr>\n",
       "    <tr>\n",
       "      <th>std</th>\n",
       "      <td>9943.05</td>\n",
       "      <td>306.93</td>\n",
       "      <td>42.40</td>\n",
       "      <td>8.90</td>\n",
       "      <td>140.69</td>\n",
       "      <td>17.11</td>\n",
       "      <td>2.51</td>\n",
       "      <td>0.0</td>\n",
       "      <td>0.0</td>\n",
       "      <td>376.19</td>\n",
       "      <td>376.19</td>\n",
       "    </tr>\n",
       "    <tr>\n",
       "      <th>min</th>\n",
       "      <td>0.00</td>\n",
       "      <td>0.00</td>\n",
       "      <td>1.00</td>\n",
       "      <td>1.00</td>\n",
       "      <td>1000.00</td>\n",
       "      <td>18.00</td>\n",
       "      <td>0.00</td>\n",
       "      <td>0.0</td>\n",
       "      <td>0.0</td>\n",
       "      <td>1950.00</td>\n",
       "      <td>0.00</td>\n",
       "    </tr>\n",
       "    <tr>\n",
       "      <th>25%</th>\n",
       "      <td>12008.30</td>\n",
       "      <td>310.00</td>\n",
       "      <td>43.00</td>\n",
       "      <td>15.00</td>\n",
       "      <td>1143.00</td>\n",
       "      <td>30.00</td>\n",
       "      <td>0.00</td>\n",
       "      <td>0.0</td>\n",
       "      <td>0.0</td>\n",
       "      <td>1950.00</td>\n",
       "      <td>0.00</td>\n",
       "    </tr>\n",
       "    <tr>\n",
       "      <th>50%</th>\n",
       "      <td>19394.29</td>\n",
       "      <td>528.00</td>\n",
       "      <td>75.00</td>\n",
       "      <td>24.00</td>\n",
       "      <td>1277.00</td>\n",
       "      <td>45.00</td>\n",
       "      <td>0.00</td>\n",
       "      <td>0.0</td>\n",
       "      <td>0.0</td>\n",
       "      <td>1950.00</td>\n",
       "      <td>0.00</td>\n",
       "    </tr>\n",
       "    <tr>\n",
       "      <th>75%</th>\n",
       "      <td>26896.55</td>\n",
       "      <td>756.50</td>\n",
       "      <td>105.00</td>\n",
       "      <td>29.00</td>\n",
       "      <td>1381.00</td>\n",
       "      <td>63.00</td>\n",
       "      <td>0.00</td>\n",
       "      <td>0.0</td>\n",
       "      <td>0.0</td>\n",
       "      <td>1950.00</td>\n",
       "      <td>0.00</td>\n",
       "    </tr>\n",
       "    <tr>\n",
       "      <th>max</th>\n",
       "      <td>49745.69</td>\n",
       "      <td>1673.00</td>\n",
       "      <td>244.00</td>\n",
       "      <td>31.00</td>\n",
       "      <td>1495.00</td>\n",
       "      <td>75.00</td>\n",
       "      <td>19.00</td>\n",
       "      <td>0.0</td>\n",
       "      <td>0.0</td>\n",
       "      <td>4800.00</td>\n",
       "      <td>2850.00</td>\n",
       "    </tr>\n",
       "  </tbody>\n",
       "</table>\n",
       "</div>"
      ],
      "text/plain": [
       "        mb_used  duration  calls_num     mes  user_id     age  gb_pay  \\\n",
       "count    975.00    951.00     951.00  795.00   985.00  985.00  985.00   \n",
       "mean   19668.49    545.45      76.02   21.22  1263.09   46.83    0.80   \n",
       "std     9943.05    306.93      42.40    8.90   140.69   17.11    2.51   \n",
       "min        0.00      0.00       1.00    1.00  1000.00   18.00    0.00   \n",
       "25%    12008.30    310.00      43.00   15.00  1143.00   30.00    0.00   \n",
       "50%    19394.29    528.00      75.00   24.00  1277.00   45.00    0.00   \n",
       "75%    26896.55    756.50     105.00   29.00  1381.00   63.00    0.00   \n",
       "max    49745.69   1673.00     244.00   31.00  1495.00   75.00   19.00   \n",
       "\n",
       "       min_pay  mes_pay  revenue      rev  \n",
       "count    985.0    985.0   985.00   985.00  \n",
       "mean       0.0      0.0  2070.15   120.15  \n",
       "std        0.0      0.0   376.19   376.19  \n",
       "min        0.0      0.0  1950.00     0.00  \n",
       "25%        0.0      0.0  1950.00     0.00  \n",
       "50%        0.0      0.0  1950.00     0.00  \n",
       "75%        0.0      0.0  1950.00     0.00  \n",
       "max        0.0      0.0  4800.00  2850.00  "
      ]
     },
     "execution_count": 39,
     "metadata": {},
     "output_type": "execute_result"
    }
   ],
   "source": [
    "tab[tab.tariff == 'ultra'].describe().round(2)"
   ]
  },
  {
   "cell_type": "markdown",
   "metadata": {},
   "source": [
    "Абоненты, которые выбирают тариф \"Ультра\" не так активно звонят по мобильному - медиана и среднее близки - 528 и 545 мин в мес, а максимальное значение тут почти в 2 раза меньше включенного в тариф - 1673 мин при лимите 3000 мин. Еще в меньшей степени абоненты тарифа используют смс - максимальное значение здесь 4 раза меньше лимита. Тариф очевидно наиболее ценен включенными в ежемесячный платеж Мб - порядка 14% значений за рассматриваемый период - цифры, превышающие лимит. Именно за счет трафика сверх лимита оператор получает дополнительную незначительную выручку от пользователей этого недешевого тарифа."
   ]
  },
  {
   "cell_type": "code",
   "execution_count": 40,
   "metadata": {
    "scrolled": true
   },
   "outputs": [
    {
     "data": {
      "text/plain": [
       "14"
      ]
     },
     "execution_count": 40,
     "metadata": {},
     "output_type": "execute_result"
    }
   ],
   "source": [
    "round(100*(len(tab[(tab.tariff == 'ultra')&(tab.mb_used > 30720)])) / tab[tab.tariff == 'ultra'].shape[0])"
   ]
  },
  {
   "cell_type": "code",
   "execution_count": 41,
   "metadata": {},
   "outputs": [
    {
     "data": {
      "text/plain": [
       "66"
      ]
     },
     "execution_count": 41,
     "metadata": {},
     "output_type": "execute_result"
    }
   ],
   "source": [
    "round(100*(len(tab[(tab.tariff == 'smart')&(tab.duration <= 500)])) / tab[tab.tariff == 'smart'].shape[0])"
   ]
  },
  {
   "cell_type": "code",
   "execution_count": 42,
   "metadata": {
    "scrolled": true
   },
   "outputs": [
    {
     "data": {
      "text/html": [
       "<div>\n",
       "<style scoped>\n",
       "    .dataframe tbody tr th:only-of-type {\n",
       "        vertical-align: middle;\n",
       "    }\n",
       "\n",
       "    .dataframe tbody tr th {\n",
       "        vertical-align: top;\n",
       "    }\n",
       "\n",
       "    .dataframe thead th {\n",
       "        text-align: right;\n",
       "    }\n",
       "</style>\n",
       "<table border=\"1\" class=\"dataframe\">\n",
       "  <thead>\n",
       "    <tr style=\"text-align: right;\">\n",
       "      <th></th>\n",
       "      <th>mb_used</th>\n",
       "      <th>duration</th>\n",
       "      <th>calls_num</th>\n",
       "      <th>mes</th>\n",
       "      <th>user_id</th>\n",
       "      <th>age</th>\n",
       "      <th>gb_pay</th>\n",
       "      <th>min_pay</th>\n",
       "      <th>mes_pay</th>\n",
       "      <th>revenue</th>\n",
       "      <th>rev</th>\n",
       "    </tr>\n",
       "  </thead>\n",
       "  <tbody>\n",
       "    <tr>\n",
       "      <th>count</th>\n",
       "      <td>2228.00</td>\n",
       "      <td>2223.00</td>\n",
       "      <td>2223.00</td>\n",
       "      <td>1922.00</td>\n",
       "      <td>2229.00</td>\n",
       "      <td>2229.00</td>\n",
       "      <td>2229.00</td>\n",
       "      <td>2229.00</td>\n",
       "      <td>2229.0</td>\n",
       "      <td>2229.00</td>\n",
       "      <td>2229.00</td>\n",
       "    </tr>\n",
       "    <tr>\n",
       "      <th>mean</th>\n",
       "      <td>16215.66</td>\n",
       "      <td>419.06</td>\n",
       "      <td>58.62</td>\n",
       "      <td>18.62</td>\n",
       "      <td>1246.51</td>\n",
       "      <td>46.56</td>\n",
       "      <td>2.99</td>\n",
       "      <td>41.61</td>\n",
       "      <td>0.0</td>\n",
       "      <td>1272.57</td>\n",
       "      <td>722.57</td>\n",
       "    </tr>\n",
       "    <tr>\n",
       "      <th>std</th>\n",
       "      <td>5861.74</td>\n",
       "      <td>189.33</td>\n",
       "      <td>25.80</td>\n",
       "      <td>8.18</td>\n",
       "      <td>146.12</td>\n",
       "      <td>16.35</td>\n",
       "      <td>3.68</td>\n",
       "      <td>84.68</td>\n",
       "      <td>0.0</td>\n",
       "      <td>813.58</td>\n",
       "      <td>813.58</td>\n",
       "    </tr>\n",
       "    <tr>\n",
       "      <th>min</th>\n",
       "      <td>0.00</td>\n",
       "      <td>0.00</td>\n",
       "      <td>1.00</td>\n",
       "      <td>1.00</td>\n",
       "      <td>1001.00</td>\n",
       "      <td>18.00</td>\n",
       "      <td>0.00</td>\n",
       "      <td>0.00</td>\n",
       "      <td>0.0</td>\n",
       "      <td>550.00</td>\n",
       "      <td>0.00</td>\n",
       "    </tr>\n",
       "    <tr>\n",
       "      <th>25%</th>\n",
       "      <td>12649.27</td>\n",
       "      <td>285.00</td>\n",
       "      <td>40.00</td>\n",
       "      <td>12.00</td>\n",
       "      <td>1121.00</td>\n",
       "      <td>32.00</td>\n",
       "      <td>0.00</td>\n",
       "      <td>0.00</td>\n",
       "      <td>0.0</td>\n",
       "      <td>550.00</td>\n",
       "      <td>0.00</td>\n",
       "    </tr>\n",
       "    <tr>\n",
       "      <th>50%</th>\n",
       "      <td>16507.74</td>\n",
       "      <td>423.00</td>\n",
       "      <td>60.00</td>\n",
       "      <td>20.00</td>\n",
       "      <td>1239.00</td>\n",
       "      <td>47.00</td>\n",
       "      <td>2.00</td>\n",
       "      <td>0.00</td>\n",
       "      <td>0.0</td>\n",
       "      <td>994.00</td>\n",
       "      <td>444.00</td>\n",
       "    </tr>\n",
       "    <tr>\n",
       "      <th>75%</th>\n",
       "      <td>20043.79</td>\n",
       "      <td>545.50</td>\n",
       "      <td>76.00</td>\n",
       "      <td>26.00</td>\n",
       "      <td>1376.00</td>\n",
       "      <td>62.00</td>\n",
       "      <td>5.00</td>\n",
       "      <td>45.00</td>\n",
       "      <td>0.0</td>\n",
       "      <td>1750.00</td>\n",
       "      <td>1200.00</td>\n",
       "    </tr>\n",
       "    <tr>\n",
       "      <th>max</th>\n",
       "      <td>38552.45</td>\n",
       "      <td>1435.00</td>\n",
       "      <td>198.00</td>\n",
       "      <td>31.00</td>\n",
       "      <td>1499.00</td>\n",
       "      <td>75.00</td>\n",
       "      <td>23.00</td>\n",
       "      <td>935.00</td>\n",
       "      <td>0.0</td>\n",
       "      <td>6671.00</td>\n",
       "      <td>6121.00</td>\n",
       "    </tr>\n",
       "  </tbody>\n",
       "</table>\n",
       "</div>"
      ],
      "text/plain": [
       "        mb_used  duration  calls_num      mes  user_id      age   gb_pay  \\\n",
       "count   2228.00   2223.00    2223.00  1922.00  2229.00  2229.00  2229.00   \n",
       "mean   16215.66    419.06      58.62    18.62  1246.51    46.56     2.99   \n",
       "std     5861.74    189.33      25.80     8.18   146.12    16.35     3.68   \n",
       "min        0.00      0.00       1.00     1.00  1001.00    18.00     0.00   \n",
       "25%    12649.27    285.00      40.00    12.00  1121.00    32.00     0.00   \n",
       "50%    16507.74    423.00      60.00    20.00  1239.00    47.00     2.00   \n",
       "75%    20043.79    545.50      76.00    26.00  1376.00    62.00     5.00   \n",
       "max    38552.45   1435.00     198.00    31.00  1499.00    75.00    23.00   \n",
       "\n",
       "       min_pay  mes_pay  revenue      rev  \n",
       "count  2229.00   2229.0  2229.00  2229.00  \n",
       "mean     41.61      0.0  1272.57   722.57  \n",
       "std      84.68      0.0   813.58   813.58  \n",
       "min       0.00      0.0   550.00     0.00  \n",
       "25%       0.00      0.0   550.00     0.00  \n",
       "50%       0.00      0.0   994.00   444.00  \n",
       "75%      45.00      0.0  1750.00  1200.00  \n",
       "max     935.00      0.0  6671.00  6121.00  "
      ]
     },
     "execution_count": 42,
     "metadata": {},
     "output_type": "execute_result"
    }
   ],
   "source": [
    "tab[tab.tariff == 'smart'].describe().round(2)"
   ]
  },
  {
   "cell_type": "markdown",
   "metadata": {},
   "source": [
    "Абонентам более доступного тарифа \"Смарт\" не хаватает возможностей своего тарифа, поэтому ежемесячно они доплачивают несколько сотен рублей (значение медианы и среднего дополнительной выручки с абонента 473 руб и 740 руб). Более половины пользователей \"Смарта\" превышают лимит интернет трафика по тарифу, 66% достаточно минут, включенных в ежемесячный платеж. Смс пользутся  неактивно. Траты абонентов существенно превышают ежемесячный платеж, и стандартное отклонение ежемесячной выручки по тарифу \"Смарт\" существенно больше, чем по тарифу \"Ультра\"."
   ]
  },
  {
   "cell_type": "code",
   "execution_count": 43,
   "metadata": {},
   "outputs": [
    {
     "data": {
      "text/plain": [
       "12.24764468371467"
      ]
     },
     "execution_count": 43,
     "metadata": {},
     "output_type": "execute_result"
    }
   ],
   "source": [
    "# 7 дополнительных Гб трафика по тарифу \"Смарт\" (200 руб за Гб) - это разница в стоимости двух рассматриваемых тарифов\n",
    "100*(len(tab[(tab.tariff == 'smart')&(tab.gb_pay > 7)])) / tab[tab.tariff == 'smart'].shape[0]"
   ]
  },
  {
   "cell_type": "code",
   "execution_count": 44,
   "metadata": {},
   "outputs": [
    {
     "data": {
      "image/png": "[encoded data removed]",
      "text/plain": [
       "<Figure size 1440x1080 with 6 Axes>"
      ]
     },
     "metadata": {
      "image/png": {
       "height": 862,
       "width": 1167
      },
      "needs_background": "light"
     },
     "output_type": "display_data"
    }
   ],
   "source": [
    "# построим гистограммы распределения ежемесячного объема услуг\n",
    "\n",
    "fig = plt.figure(figsize=(20, 15))\n",
    "\n",
    "ax1 = fig.add_subplot(3,2,1)\n",
    "ax1.set_title('Распределение интернет трафика (Мб), тариф smart')\n",
    "ax1.grid()\n",
    "ax1 = plt.hist(tab[tab.tariff == 'smart'].mb_used, bins=30)\n",
    "\n",
    "ax2 = fig.add_subplot(3,2,2)\n",
    "ax2.set_title('Распределение интернет трафика (Мб), тариф ultra')\n",
    "ax2.grid()\n",
    "ax2 = plt.hist(tab[tab.tariff == 'ultra'].mb_used, bins=30)\n",
    "\n",
    "ax3 = fig.add_subplot(3,2,3)\n",
    "ax3.set_title('Распределение потраченных мин, тариф smart')\n",
    "ax3.grid()\n",
    "ax3 = plt.hist(tab[tab.tariff == 'smart'].duration, bins=30)\n",
    "\n",
    "\n",
    "ax4 = fig.add_subplot(3,2,4)\n",
    "ax4.set_title('Распределение потраченных мин, тариф ultra')\n",
    "ax4.grid()\n",
    "ax4 = plt.hist(tab[tab.tariff == 'ultra'].duration, bins=30)\n",
    "\n",
    "ax5 = fig.add_subplot(3,2,5)\n",
    "ax5.set_title('Распределение сообщений, тариф smart')\n",
    "ax5.grid()\n",
    "ax5 = plt.hist(tab[tab.tariff == 'smart'].mes, bins=30)\n",
    "\n",
    "ax6 = fig.add_subplot(3,2,6)\n",
    "ax6.set_title('Распределение сообщений, тариф ultra')\n",
    "ax6.grid()\n",
    "ax6 = plt.hist(tab[tab.tariff == 'ultra'].mes, bins=30)"
   ]
  },
  {
   "cell_type": "code",
   "execution_count": 45,
   "metadata": {},
   "outputs": [
    {
     "data": {
      "image/png": "[encoded data removed]",
      "text/plain": [
       "<Figure size 1440x360 with 3 Axes>"
      ]
     },
     "metadata": {
      "image/png": {
       "height": 332,
       "width": 1170
      },
      "needs_background": "light"
     },
     "output_type": "display_data"
    }
   ],
   "source": [
    "fig = plt.figure(figsize=(20, 5))\n",
    "\n",
    "ax1 = fig.add_subplot(1,3,1)\n",
    "ax1.set_title('Распределение интернет трафика (Мб)')\n",
    "ax1.grid()\n",
    "ax1 = sns.histplot(x='mb_used', data=tab, hue='tariff', element=\"step\")\n",
    "ax1.legend(labels = ['smart', 'ultra'])\n",
    "\n",
    "ax2 = fig.add_subplot(1,3,2)\n",
    "ax2.set_title('Распределение потраченных мин')\n",
    "ax2.grid()\n",
    "ax2 = sns.histplot(x='duration', data=tab, hue='tariff', element=\"step\")\n",
    "ax2.legend(labels = ['smart', 'ultra'])\n",
    "\n",
    "\n",
    "ax3 = fig.add_subplot(1,3,3)\n",
    "ax3.set_title('Распределение сообщений')\n",
    "ax3.grid()\n",
    "ax3 = sns.histplot(x='mes', data=tab, hue='tariff', element=\"step\")\n",
    "ax3.legend(labels = ['smart', 'ultra'],loc = 'upper left')\n",
    "\n",
    "plt.show()"
   ]
  },
  {
   "cell_type": "markdown",
   "metadata": {},
   "source": [
    "Распределение потраченных в месяц минут и трафика по тарифу \"Смарт\" очень близко к нормальному (это видно на гистограммах, значения медианы и среднего очень близки). Также близки к нормальному распределения кол-ва минут и использованных Мб тарифа \"Ультра\" со смещением вправо."
   ]
  },
  {
   "cell_type": "code",
   "execution_count": 46,
   "metadata": {
    "scrolled": false
   },
   "outputs": [
    {
     "data": {
      "text/html": [
       "<div>\n",
       "<style scoped>\n",
       "    .dataframe tbody tr th:only-of-type {\n",
       "        vertical-align: middle;\n",
       "    }\n",
       "\n",
       "    .dataframe tbody tr th {\n",
       "        vertical-align: top;\n",
       "    }\n",
       "\n",
       "    .dataframe thead th {\n",
       "        text-align: right;\n",
       "    }\n",
       "</style>\n",
       "<table border=\"1\" class=\"dataframe\">\n",
       "  <thead>\n",
       "    <tr style=\"text-align: right;\">\n",
       "      <th></th>\n",
       "      <th>var_mb</th>\n",
       "      <th>var_min</th>\n",
       "      <th>var_mes</th>\n",
       "    </tr>\n",
       "  </thead>\n",
       "  <tbody>\n",
       "    <tr>\n",
       "      <th>smart</th>\n",
       "      <td>34,359,951.7</td>\n",
       "      <td>35,844.2</td>\n",
       "      <td>66.9</td>\n",
       "    </tr>\n",
       "    <tr>\n",
       "      <th>ultra</th>\n",
       "      <td>98,864,249.0</td>\n",
       "      <td>94,203.4</td>\n",
       "      <td>79.3</td>\n",
       "    </tr>\n",
       "  </tbody>\n",
       "</table>\n",
       "</div>"
      ],
      "text/plain": [
       "            var_mb  var_min  var_mes\n",
       "smart 34,359,951.7 35,844.2     66.9\n",
       "ultra 98,864,249.0 94,203.4     79.3"
      ]
     },
     "execution_count": 46,
     "metadata": {},
     "output_type": "execute_result"
    }
   ],
   "source": [
    "smart_mb_var = np.var(tab[tab.tariff == 'smart'].mb_used, ddof = 1)\n",
    "ultra_mb_var = np.var(tab[tab.tariff == 'ultra'].mb_used, ddof = 1)\n",
    "ultra_min_var = np.var(tab[tab.tariff == 'ultra'].duration, ddof = 1)\n",
    "smart_min_var = np.var(tab[tab.tariff == 'smart'].duration, ddof = 1)\n",
    "ultra_mes_var = np.var(tab[tab.tariff == 'ultra'].mes, ddof = 1)\n",
    "smart_mes_var = np.var(tab[tab.tariff == 'smart'].mes, ddof = 1)\n",
    "\n",
    "var_stat = pd.DataFrame({'var_mb':[smart_mb_var, ultra_mb_var], 'var_min':[smart_min_var, ultra_min_var], \n",
    "                                                'var_mes':[smart_mes_var, ultra_mes_var]})\n",
    "var_stat.index = ['smart', 'ultra']\n",
    "\n",
    "pd.options.display.float_format = '{:,.1f}'.format\n",
    "var_stat"
   ]
  },
  {
   "cell_type": "markdown",
   "metadata": {},
   "source": [
    "**Вывод**"
   ]
  },
  {
   "cell_type": "markdown",
   "metadata": {},
   "source": [
    "Пользователи дорогого тарифа платят большую плату ежемесячно, и им чаще всего хватает включенного пакета услуг. В совокупной же выручке абонентов доступного тарифа доля выручки по дополнительным услугам выше ежемесячных платежей."
   ]
  },
  {
   "cell_type": "markdown",
   "metadata": {},
   "source": [
    "## 4. Проверка гипотез \n",
    "- средняя выручка пользователей тарифов «Ультра» и «Смарт» различаются;\n",
    "- средняя выручка пользователей из Москвы отличается от выручки пользователей из других регионов."
   ]
  },
  {
   "cell_type": "markdown",
   "metadata": {},
   "source": [
    "Сформулируем нулевую гипотезу - средние выручки по двум рассматриваемым тарифам не различаются. В качестве альтернативной примем гипотезу о различии средних. Задим уровень альфа - 0.01.\n",
    "\n",
    "Аналогично сформулируем гипотезы по географии абонентов. Нулевая гипотеза - средняя выручка пользователей из Москвы не отличается от выручки пользователей из регионов. Альтернативная гипотеза - средние выручки отличаются. \n",
    "\n",
    "Формулировка нулевой гипотезы в обоих случаях стандартная - о равенстве средних."
   ]
  },
  {
   "cell_type": "code",
   "execution_count": 47,
   "metadata": {},
   "outputs": [],
   "source": [
    "smart = tab[tab.tariff == 'smart']\n",
    "ultra = tab[tab.tariff == 'ultra']\n",
    "s = smart[['revenue']]\n",
    "u = ultra[['revenue']]"
   ]
  },
  {
   "cell_type": "code",
   "execution_count": 48,
   "metadata": {},
   "outputs": [
    {
     "name": "stdout",
     "output_type": "stream",
     "text": [
      "p-значение:  [3.79800324e-261]\n"
     ]
    }
   ],
   "source": [
    "results = st.ttest_ind(u,s, equal_var = False)\n",
    "print('p-значение: ', results.pvalue)"
   ]
  },
  {
   "cell_type": "code",
   "execution_count": 49,
   "metadata": {},
   "outputs": [
    {
     "name": "stdout",
     "output_type": "stream",
     "text": [
      "Отвергаем гипотезу о том, что средние выручки пользователей тарифов «Ультра» и «Смарт» не различаются\n"
     ]
    }
   ],
   "source": [
    "if results.pvalue < 0.01:\n",
    "    print('Отвергаем гипотезу о том, что средние выручки пользователей тарифов «Ультра» и «Смарт» не различаются')\n",
    "else:\n",
    "    print('Не отвергаем гипотезу о том, что средние выручки пользователей тарифов «Ультра» и «Смарт» не различаются')"
   ]
  },
  {
   "cell_type": "markdown",
   "metadata": {},
   "source": [
    "Средние выручки по двум тарифам существенно разнятся - 2070 руб для \"Ультра\" и 1290 руб - для \"Смарт\""
   ]
  },
  {
   "cell_type": "code",
   "execution_count": 50,
   "metadata": {
    "scrolled": true
   },
   "outputs": [
    {
     "name": "stdout",
     "output_type": "stream",
     "text": [
      "p-значение:  [0.42562517]\n",
      "Не отвергаем гипотезу о том, что средние выручки пользователей из Москвы и регионов не отличаются\n"
     ]
    }
   ],
   "source": [
    "tab_m = smart = tab[tab.city == 'Москва']\n",
    "tab_reg = tab[tab.city != 'Москва']\n",
    "m = tab_m[['revenue']]\n",
    "reg = tab_reg[['revenue']]\n",
    "res = st.ttest_ind(m,reg, equal_var = False)\n",
    "print('p-значение: ', res.pvalue)\n",
    "if res.pvalue < 0.01:\n",
    "    print('Отвергаем гипотезу о том, что средние выручки пользователей из Москвы и регионов не отличаются')\n",
    "else:\n",
    "    print('Не отвергаем гипотезу о том, что средние выручки пользователей из Москвы и регионов не отличаются')"
   ]
  },
  {
   "cell_type": "code",
   "execution_count": 51,
   "metadata": {},
   "outputs": [
    {
     "data": {
      "text/plain": [
       "1539.1767594108019"
      ]
     },
     "execution_count": 51,
     "metadata": {},
     "output_type": "execute_result"
    }
   ],
   "source": [
    "tab[tab.city == 'Москва'].revenue.mean()"
   ]
  },
  {
   "cell_type": "code",
   "execution_count": 52,
   "metadata": {},
   "outputs": [
    {
     "data": {
      "text/plain": [
       "1511.8056089127929"
      ]
     },
     "execution_count": 52,
     "metadata": {},
     "output_type": "execute_result"
    }
   ],
   "source": [
    "tab[tab.city != 'Москва'].revenue.mean()"
   ]
  },
  {
   "cell_type": "code",
   "execution_count": 53,
   "metadata": {},
   "outputs": [],
   "source": [
    "tab['reg'] = tab['city'].apply(lambda x: 'Москва' if x == 'Москва' else 'Регионы')"
   ]
  },
  {
   "cell_type": "code",
   "execution_count": 54,
   "metadata": {
    "scrolled": true
   },
   "outputs": [
    {
     "data": {
      "text/plain": [
       "<AxesSubplot:xlabel='reg', ylabel='revenue'>"
      ]
     },
     "execution_count": 54,
     "metadata": {},
     "output_type": "execute_result"
    },
    {
     "data": {
      "image/png": "[encoded data removed]",
      "text/plain": [
       "<Figure size 432x288 with 1 Axes>"
      ]
     },
     "metadata": {
      "image/png": {
       "height": 261,
       "width": 395
      },
      "needs_background": "light"
     },
     "output_type": "display_data"
    }
   ],
   "source": [
    "sns.boxplot(x='reg', y='revenue', data=tab)"
   ]
  },
  {
   "cell_type": "markdown",
   "metadata": {},
   "source": [
    "Средние выручки по Москве и регионам практически совпадают, медианы отличаются, но не столь существенно.\n",
    "Строгость выбранного уровня статистической значимости 0.01 не существенна, так как значения pvalue в обоих случаях очень далеки от часто применяемых значений для проверки гипотез. "
   ]
  },
  {
   "cell_type": "markdown",
   "metadata": {},
   "source": [
    "Средние выручки по двум рассматриваемым тарифам отличаются. Тарифы существенно отличаются по условиям - ежемесячная плата разнится больше, чем в три раза. А вот география абонентов не оказывает существенного влияния на выручку."
   ]
  },
  {
   "cell_type": "markdown",
   "metadata": {},
   "source": [
    "## Заключение"
   ]
  },
  {
   "cell_type": "markdown",
   "metadata": {},
   "source": [
    "**1. Тарифы различны по условиям, выручке и модели потребления. Более дорогой тариф приносит больше выручки с клиента, более дешевый - больше выручки совокупно**\n",
    "\n",
    "Рассмотренные тарифы существенно отличаются по условиям. Дорогой тариф более выгоден для оператора \"Мегалайн\" - ежемесячная плата более чем в 3 раза выше, чем у второго тарифа. Однако более дешевый тариф \"Смарт\" выбирает большее количество пользователей, и недостаточность пакета услуг в нем позволяет оператору совокупно зарабатывать больше на услугах сверх лимита, чем на ежемесячном платеже. Наиболее востребованная услуга у пользователей обоих тарифов - интернет, и как следствие наименее ценны смс. Абоненты конечно по-прежнему используют традиционную мобильную связь, однако количество минут, включенных в дорогой тариф \"Ультра\", слишком велико и не используется. Данный аспект может восприниматься, как переплата. Это предмет для исследования чувствительности к цене отдельных категорий абонентов, продуктов конкурентов и пр.    \n",
    "\n",
    "**2. Тарифы покрывают разные сегменты рынка, для выбора лучшего из них нужен детальный контекст**\n",
    "\n",
    "Ставка на один из тарифов из двух рассматриваемых нецелесообразна, если только компания не планирует сосредоточиться на узком сегменте рынка. Если \"Мегалайн\" интересует рынок массовый, то присутствие в линейке двух подобных тарифов значимо. Они существенно разнятся по средней выручке в месяц, однако более доступный стимулирует дополнительные расходы, предлагая изначально невысокий ежемесячный платеж, и таким образом привлекает большее количество абонентов, а второй предлагает вариант вида 'все включено' для клиентов, менее чувствительных к цене.\n",
    "\n",
    "**3. География клиента (Москва и регионы) не оказывает влияния на среднюю выручку** \n",
    "\n",
    "Можно сказать, что мобильная связь является жизненно необходимой услугой и приобретается в нужном объеме."
   ]
  }
 ],
 "metadata": {
  "ExecuteTimeLog": [
   {
    "duration": 1175,
    "start_time": "2022-01-12T23:06:53.484Z"
   },
   {
    "duration": 2432,
    "start_time": "2022-01-12T23:12:35.109Z"
   },
   {
    "duration": 10,
    "start_time": "2022-01-12T23:14:41.846Z"
   },
   {
    "duration": 697,
    "start_time": "2022-01-12T23:14:45.819Z"
   },
   {
    "duration": 10,
    "start_time": "2022-01-12T23:14:57.079Z"
   },
   {
    "duration": 19,
    "start_time": "2022-01-12T23:15:01.849Z"
   },
   {
    "duration": 16,
    "start_time": "2022-01-12T23:16:15.203Z"
   },
   {
    "duration": 14,
    "start_time": "2022-01-12T23:17:45.485Z"
   },
   {
    "duration": 6,
    "start_time": "2022-01-12T23:18:10.452Z"
   },
   {
    "duration": 6,
    "start_time": "2022-01-12T23:19:03.086Z"
   },
   {
    "duration": 11,
    "start_time": "2022-01-12T23:25:42.295Z"
   },
   {
    "duration": 12,
    "start_time": "2022-01-12T23:26:07.656Z"
   },
   {
    "duration": 8,
    "start_time": "2022-01-12T23:27:57.804Z"
   },
   {
    "duration": 6,
    "start_time": "2022-01-12T23:28:10.768Z"
   },
   {
    "duration": 11,
    "start_time": "2022-01-12T23:28:48.824Z"
   },
   {
    "duration": 569,
    "start_time": "2022-01-12T23:52:33.165Z"
   },
   {
    "duration": 222,
    "start_time": "2022-01-12T23:52:43.717Z"
   },
   {
    "duration": 1056,
    "start_time": "2022-01-12T23:52:48.993Z"
   },
   {
    "duration": 2337,
    "start_time": "2022-01-12T23:52:54.452Z"
   },
   {
    "duration": 300,
    "start_time": "2022-01-12T23:53:06.953Z"
   },
   {
    "duration": 5,
    "start_time": "2022-01-12T23:57:58.290Z"
   },
   {
    "duration": 216,
    "start_time": "2022-01-12T23:58:04.844Z"
   },
   {
    "duration": 3,
    "start_time": "2022-01-12T23:58:08.630Z"
   },
   {
    "duration": 2,
    "start_time": "2022-01-12T23:58:27.535Z"
   },
   {
    "duration": 12,
    "start_time": "2022-01-12T23:58:32.930Z"
   },
   {
    "duration": 2098,
    "start_time": "2022-01-13T00:00:44.936Z"
   },
   {
    "duration": 282,
    "start_time": "2022-01-13T00:02:26.474Z"
   },
   {
    "duration": 210,
    "start_time": "2022-01-13T00:02:47.320Z"
   },
   {
    "duration": 228,
    "start_time": "2022-01-13T00:02:57.711Z"
   },
   {
    "duration": 1039,
    "start_time": "2022-01-13T00:03:07.915Z"
   },
   {
    "duration": 733,
    "start_time": "2022-01-13T00:03:08.956Z"
   },
   {
    "duration": 21,
    "start_time": "2022-01-13T00:03:09.691Z"
   },
   {
    "duration": 16,
    "start_time": "2022-01-13T00:03:09.714Z"
   },
   {
    "duration": 13,
    "start_time": "2022-01-13T00:03:09.732Z"
   },
   {
    "duration": 6,
    "start_time": "2022-01-13T00:03:09.747Z"
   },
   {
    "duration": 8,
    "start_time": "2022-01-13T00:03:09.755Z"
   },
   {
    "duration": 53,
    "start_time": "2022-01-13T00:03:09.766Z"
   },
   {
    "duration": 13,
    "start_time": "2022-01-13T00:03:09.821Z"
   },
   {
    "duration": 9,
    "start_time": "2022-01-13T00:03:09.835Z"
   },
   {
    "duration": 8,
    "start_time": "2022-01-13T00:03:09.846Z"
   },
   {
    "duration": 12,
    "start_time": "2022-01-13T00:03:09.856Z"
   },
   {
    "duration": 2629,
    "start_time": "2022-01-13T00:03:09.869Z"
   },
   {
    "duration": 508,
    "start_time": "2022-01-13T00:03:11.992Z"
   },
   {
    "duration": 251,
    "start_time": "2022-01-13T00:03:44.553Z"
   },
   {
    "duration": 1027,
    "start_time": "2022-01-13T00:04:03.926Z"
   },
   {
    "duration": 984,
    "start_time": "2022-01-13T00:04:04.954Z"
   },
   {
    "duration": 19,
    "start_time": "2022-01-13T00:04:05.939Z"
   },
   {
    "duration": 16,
    "start_time": "2022-01-13T00:04:05.959Z"
   },
   {
    "duration": 12,
    "start_time": "2022-01-13T00:04:05.976Z"
   },
   {
    "duration": 5,
    "start_time": "2022-01-13T00:04:05.989Z"
   },
   {
    "duration": 16,
    "start_time": "2022-01-13T00:04:05.996Z"
   },
   {
    "duration": 11,
    "start_time": "2022-01-13T00:04:06.014Z"
   },
   {
    "duration": 11,
    "start_time": "2022-01-13T00:04:06.027Z"
   },
   {
    "duration": 8,
    "start_time": "2022-01-13T00:04:06.039Z"
   },
   {
    "duration": 12,
    "start_time": "2022-01-13T00:04:06.048Z"
   },
   {
    "duration": 18,
    "start_time": "2022-01-13T00:04:06.062Z"
   },
   {
    "duration": 264,
    "start_time": "2022-01-13T00:09:57.468Z"
   },
   {
    "duration": 997,
    "start_time": "2022-01-13T00:11:04.057Z"
   },
   {
    "duration": 683,
    "start_time": "2022-01-13T00:11:05.055Z"
   },
   {
    "duration": 19,
    "start_time": "2022-01-13T00:11:05.740Z"
   },
   {
    "duration": 14,
    "start_time": "2022-01-13T00:11:05.760Z"
   },
   {
    "duration": 12,
    "start_time": "2022-01-13T00:11:05.776Z"
   },
   {
    "duration": 11,
    "start_time": "2022-01-13T00:11:05.789Z"
   },
   {
    "duration": 13,
    "start_time": "2022-01-13T00:11:05.801Z"
   },
   {
    "duration": 13,
    "start_time": "2022-01-13T00:11:05.817Z"
   },
   {
    "duration": 12,
    "start_time": "2022-01-13T00:11:05.833Z"
   },
   {
    "duration": 9,
    "start_time": "2022-01-13T00:11:05.846Z"
   },
   {
    "duration": 8,
    "start_time": "2022-01-13T00:11:05.857Z"
   },
   {
    "duration": 50,
    "start_time": "2022-01-13T00:11:05.866Z"
   },
   {
    "duration": 303,
    "start_time": "2022-01-13T00:11:05.918Z"
   },
   {
    "duration": 987,
    "start_time": "2022-01-13T00:12:44.357Z"
   },
   {
    "duration": 2336,
    "start_time": "2022-01-13T00:12:45.345Z"
   },
   {
    "duration": 19,
    "start_time": "2022-01-13T00:12:47.682Z"
   },
   {
    "duration": 14,
    "start_time": "2022-01-13T00:12:47.703Z"
   },
   {
    "duration": 12,
    "start_time": "2022-01-13T00:12:47.718Z"
   },
   {
    "duration": 5,
    "start_time": "2022-01-13T00:12:47.731Z"
   },
   {
    "duration": 7,
    "start_time": "2022-01-13T00:12:47.737Z"
   },
   {
    "duration": 13,
    "start_time": "2022-01-13T00:12:47.746Z"
   },
   {
    "duration": 13,
    "start_time": "2022-01-13T00:12:47.761Z"
   },
   {
    "duration": 38,
    "start_time": "2022-01-13T00:12:47.775Z"
   },
   {
    "duration": 6,
    "start_time": "2022-01-13T00:12:47.814Z"
   },
   {
    "duration": 11,
    "start_time": "2022-01-13T00:12:47.822Z"
   },
   {
    "duration": 1098,
    "start_time": "2022-01-13T01:03:54.631Z"
   },
   {
    "duration": 1096,
    "start_time": "2022-01-13T01:03:55.731Z"
   },
   {
    "duration": 21,
    "start_time": "2022-01-13T01:03:56.829Z"
   },
   {
    "duration": 14,
    "start_time": "2022-01-13T01:03:56.852Z"
   },
   {
    "duration": 12,
    "start_time": "2022-01-13T01:03:56.867Z"
   },
   {
    "duration": 4,
    "start_time": "2022-01-13T01:03:56.881Z"
   },
   {
    "duration": 26,
    "start_time": "2022-01-13T01:03:56.887Z"
   },
   {
    "duration": 14,
    "start_time": "2022-01-13T01:03:56.914Z"
   },
   {
    "duration": 10,
    "start_time": "2022-01-13T01:03:56.930Z"
   },
   {
    "duration": 8,
    "start_time": "2022-01-13T01:03:56.941Z"
   },
   {
    "duration": 7,
    "start_time": "2022-01-13T01:03:56.951Z"
   },
   {
    "duration": 11,
    "start_time": "2022-01-13T01:03:56.959Z"
   },
   {
    "duration": 1015,
    "start_time": "2022-01-13T01:04:46.946Z"
   },
   {
    "duration": 742,
    "start_time": "2022-01-13T01:04:47.963Z"
   },
   {
    "duration": 18,
    "start_time": "2022-01-13T01:04:48.707Z"
   },
   {
    "duration": 14,
    "start_time": "2022-01-13T01:04:48.727Z"
   },
   {
    "duration": 12,
    "start_time": "2022-01-13T01:04:48.742Z"
   },
   {
    "duration": 5,
    "start_time": "2022-01-13T01:04:48.755Z"
   },
   {
    "duration": 7,
    "start_time": "2022-01-13T01:04:48.761Z"
   },
   {
    "duration": 47,
    "start_time": "2022-01-13T01:04:48.770Z"
   },
   {
    "duration": 11,
    "start_time": "2022-01-13T01:04:48.818Z"
   },
   {
    "duration": 8,
    "start_time": "2022-01-13T01:04:48.830Z"
   },
   {
    "duration": 8,
    "start_time": "2022-01-13T01:04:48.840Z"
   },
   {
    "duration": 11,
    "start_time": "2022-01-13T01:04:48.849Z"
   },
   {
    "duration": 1028,
    "start_time": "2022-01-13T01:17:20.020Z"
   },
   {
    "duration": 2490,
    "start_time": "2022-01-13T01:17:21.050Z"
   },
   {
    "duration": 21,
    "start_time": "2022-01-13T01:17:23.545Z"
   },
   {
    "duration": 16,
    "start_time": "2022-01-13T01:17:23.568Z"
   },
   {
    "duration": 13,
    "start_time": "2022-01-13T01:17:23.586Z"
   },
   {
    "duration": 15,
    "start_time": "2022-01-13T01:17:23.601Z"
   },
   {
    "duration": 7,
    "start_time": "2022-01-13T01:17:23.618Z"
   },
   {
    "duration": 12,
    "start_time": "2022-01-13T01:17:23.628Z"
   },
   {
    "duration": 12,
    "start_time": "2022-01-13T01:17:23.642Z"
   },
   {
    "duration": 9,
    "start_time": "2022-01-13T01:17:23.656Z"
   },
   {
    "duration": 7,
    "start_time": "2022-01-13T01:17:23.712Z"
   },
   {
    "duration": 10,
    "start_time": "2022-01-13T01:17:23.721Z"
   },
   {
    "duration": 284,
    "start_time": "2022-01-13T01:21:05.570Z"
   },
   {
    "duration": 992,
    "start_time": "2022-01-13T01:21:24.952Z"
   },
   {
    "duration": 701,
    "start_time": "2022-01-13T01:21:25.946Z"
   },
   {
    "duration": 18,
    "start_time": "2022-01-13T01:21:26.650Z"
   },
   {
    "duration": 14,
    "start_time": "2022-01-13T01:21:26.669Z"
   },
   {
    "duration": 12,
    "start_time": "2022-01-13T01:21:26.684Z"
   },
   {
    "duration": 5,
    "start_time": "2022-01-13T01:21:26.697Z"
   },
   {
    "duration": 6,
    "start_time": "2022-01-13T01:21:26.704Z"
   },
   {
    "duration": 11,
    "start_time": "2022-01-13T01:21:26.712Z"
   },
   {
    "duration": 10,
    "start_time": "2022-01-13T01:21:26.725Z"
   },
   {
    "duration": 8,
    "start_time": "2022-01-13T01:21:26.736Z"
   },
   {
    "duration": 20,
    "start_time": "2022-01-13T01:21:26.746Z"
   },
   {
    "duration": 12,
    "start_time": "2022-01-13T01:21:26.768Z"
   },
   {
    "duration": 405,
    "start_time": "2022-01-13T02:36:41.245Z"
   },
   {
    "duration": 1112,
    "start_time": "2022-01-13T02:36:56.597Z"
   },
   {
    "duration": 1087,
    "start_time": "2022-01-13T02:36:57.712Z"
   },
   {
    "duration": 21,
    "start_time": "2022-01-13T02:36:58.801Z"
   },
   {
    "duration": 17,
    "start_time": "2022-01-13T02:36:58.824Z"
   },
   {
    "duration": 14,
    "start_time": "2022-01-13T02:36:58.842Z"
   },
   {
    "duration": 8,
    "start_time": "2022-01-13T02:36:58.858Z"
   },
   {
    "duration": 6,
    "start_time": "2022-01-13T02:36:58.868Z"
   },
   {
    "duration": 14,
    "start_time": "2022-01-13T02:36:58.913Z"
   },
   {
    "duration": 13,
    "start_time": "2022-01-13T02:36:58.929Z"
   },
   {
    "duration": 9,
    "start_time": "2022-01-13T02:36:58.943Z"
   },
   {
    "duration": 10,
    "start_time": "2022-01-13T02:36:58.954Z"
   },
   {
    "duration": 58,
    "start_time": "2022-01-13T02:36:58.965Z"
   },
   {
    "duration": 346,
    "start_time": "2022-01-13T02:36:59.025Z"
   },
   {
    "duration": 97,
    "start_time": "2022-01-13T02:37:22.151Z"
   },
   {
    "duration": 1016,
    "start_time": "2022-01-13T02:40:48.919Z"
   },
   {
    "duration": 839,
    "start_time": "2022-01-13T02:40:49.937Z"
   },
   {
    "duration": 19,
    "start_time": "2022-01-13T02:40:50.777Z"
   },
   {
    "duration": 14,
    "start_time": "2022-01-13T02:40:50.797Z"
   },
   {
    "duration": 11,
    "start_time": "2022-01-13T02:40:50.813Z"
   },
   {
    "duration": 5,
    "start_time": "2022-01-13T02:40:50.826Z"
   },
   {
    "duration": 8,
    "start_time": "2022-01-13T02:40:50.832Z"
   },
   {
    "duration": 14,
    "start_time": "2022-01-13T02:40:50.841Z"
   },
   {
    "duration": 59,
    "start_time": "2022-01-13T02:40:50.857Z"
   },
   {
    "duration": 9,
    "start_time": "2022-01-13T02:40:50.918Z"
   },
   {
    "duration": 9,
    "start_time": "2022-01-13T02:40:50.929Z"
   },
   {
    "duration": 13,
    "start_time": "2022-01-13T02:40:50.940Z"
   },
   {
    "duration": 143,
    "start_time": "2022-01-13T02:40:50.955Z"
   },
   {
    "duration": 2,
    "start_time": "2022-01-13T02:40:51.100Z"
   },
   {
    "duration": 307,
    "start_time": "2022-01-13T02:51:46.112Z"
   },
   {
    "duration": 53,
    "start_time": "2022-01-13T02:51:59.319Z"
   },
   {
    "duration": 252,
    "start_time": "2022-01-13T02:52:01.944Z"
   },
   {
    "duration": 14,
    "start_time": "2022-01-13T02:52:28.591Z"
   },
   {
    "duration": 23,
    "start_time": "2022-01-13T02:52:45.905Z"
   },
   {
    "duration": 11,
    "start_time": "2022-01-13T02:55:21.559Z"
   },
   {
    "duration": 241,
    "start_time": "2022-01-13T02:56:23.332Z"
   },
   {
    "duration": 244,
    "start_time": "2022-01-13T02:56:50.989Z"
   },
   {
    "duration": 11,
    "start_time": "2022-01-13T02:57:00.238Z"
   },
   {
    "duration": 21,
    "start_time": "2022-01-13T02:57:07.768Z"
   },
   {
    "duration": 20,
    "start_time": "2022-01-13T02:57:51.109Z"
   },
   {
    "duration": 16,
    "start_time": "2022-01-13T02:59:00.038Z"
   },
   {
    "duration": 12,
    "start_time": "2022-01-13T02:59:05.656Z"
   },
   {
    "duration": 302,
    "start_time": "2022-01-13T03:00:38.307Z"
   },
   {
    "duration": 254,
    "start_time": "2022-01-13T03:01:51.921Z"
   },
   {
    "duration": 11,
    "start_time": "2022-01-13T03:02:05.932Z"
   },
   {
    "duration": 21,
    "start_time": "2022-01-13T03:02:12.247Z"
   },
   {
    "duration": 28,
    "start_time": "2022-01-13T03:02:45.931Z"
   },
   {
    "duration": 20,
    "start_time": "2022-01-13T03:03:36.641Z"
   },
   {
    "duration": 28,
    "start_time": "2022-01-13T03:03:44.716Z"
   },
   {
    "duration": 15,
    "start_time": "2022-01-13T03:03:55.355Z"
   },
   {
    "duration": 9,
    "start_time": "2022-01-13T03:05:26.162Z"
   },
   {
    "duration": 258,
    "start_time": "2022-01-13T03:05:30.008Z"
   },
   {
    "duration": 20,
    "start_time": "2022-01-13T03:06:02.279Z"
   },
   {
    "duration": 8,
    "start_time": "2022-01-13T03:08:50.364Z"
   },
   {
    "duration": 25,
    "start_time": "2022-01-13T03:08:55.243Z"
   },
   {
    "duration": 18,
    "start_time": "2022-01-13T03:12:26.218Z"
   },
   {
    "duration": 231,
    "start_time": "2022-01-13T03:12:47.374Z"
   },
   {
    "duration": 259,
    "start_time": "2022-01-13T03:13:30.665Z"
   },
   {
    "duration": 11,
    "start_time": "2022-01-13T03:14:19.002Z"
   },
   {
    "duration": 220,
    "start_time": "2022-01-13T03:14:46.264Z"
   },
   {
    "duration": 230,
    "start_time": "2022-01-13T03:17:01.622Z"
   },
   {
    "duration": 11,
    "start_time": "2022-01-13T03:17:20.019Z"
   },
   {
    "duration": 1052,
    "start_time": "2022-01-13T03:17:45.186Z"
   },
   {
    "duration": 804,
    "start_time": "2022-01-13T03:17:46.240Z"
   },
   {
    "duration": 17,
    "start_time": "2022-01-13T03:17:47.046Z"
   },
   {
    "duration": 14,
    "start_time": "2022-01-13T03:17:47.065Z"
   },
   {
    "duration": 11,
    "start_time": "2022-01-13T03:17:47.081Z"
   },
   {
    "duration": 5,
    "start_time": "2022-01-13T03:17:47.094Z"
   },
   {
    "duration": 14,
    "start_time": "2022-01-13T03:17:47.100Z"
   },
   {
    "duration": 12,
    "start_time": "2022-01-13T03:17:47.116Z"
   },
   {
    "duration": 10,
    "start_time": "2022-01-13T03:17:47.130Z"
   },
   {
    "duration": 7,
    "start_time": "2022-01-13T03:17:47.141Z"
   },
   {
    "duration": 7,
    "start_time": "2022-01-13T03:17:47.149Z"
   },
   {
    "duration": 11,
    "start_time": "2022-01-13T03:17:47.157Z"
   },
   {
    "duration": 104,
    "start_time": "2022-01-13T03:17:47.213Z"
   },
   {
    "duration": 19,
    "start_time": "2022-01-13T03:17:47.319Z"
   },
   {
    "duration": 14,
    "start_time": "2022-01-13T03:17:47.339Z"
   },
   {
    "duration": 303,
    "start_time": "2022-01-13T03:18:13.821Z"
   },
   {
    "duration": 22,
    "start_time": "2022-01-13T03:18:29.428Z"
   },
   {
    "duration": 13,
    "start_time": "2022-01-13T03:18:46.705Z"
   },
   {
    "duration": 11,
    "start_time": "2022-01-13T03:18:49.295Z"
   },
   {
    "duration": 19,
    "start_time": "2022-01-13T03:18:56.465Z"
   },
   {
    "duration": 12,
    "start_time": "2022-01-13T03:19:02.824Z"
   },
   {
    "duration": 20,
    "start_time": "2022-01-13T03:19:05.031Z"
   },
   {
    "duration": 239,
    "start_time": "2022-01-13T03:19:18.594Z"
   },
   {
    "duration": 229,
    "start_time": "2022-01-13T03:19:44.777Z"
   },
   {
    "duration": 994,
    "start_time": "2022-01-13T03:19:51.457Z"
   },
   {
    "duration": 2337,
    "start_time": "2022-01-13T03:19:52.453Z"
   },
   {
    "duration": 20,
    "start_time": "2022-01-13T03:19:54.792Z"
   },
   {
    "duration": 14,
    "start_time": "2022-01-13T03:19:54.813Z"
   },
   {
    "duration": 12,
    "start_time": "2022-01-13T03:19:54.829Z"
   },
   {
    "duration": 5,
    "start_time": "2022-01-13T03:19:54.842Z"
   },
   {
    "duration": 9,
    "start_time": "2022-01-13T03:19:54.848Z"
   },
   {
    "duration": 13,
    "start_time": "2022-01-13T03:19:54.859Z"
   },
   {
    "duration": 46,
    "start_time": "2022-01-13T03:19:54.874Z"
   },
   {
    "duration": 10,
    "start_time": "2022-01-13T03:19:54.922Z"
   },
   {
    "duration": 8,
    "start_time": "2022-01-13T03:19:54.934Z"
   },
   {
    "duration": 15,
    "start_time": "2022-01-13T03:19:54.943Z"
   },
   {
    "duration": 154,
    "start_time": "2022-01-13T03:19:54.960Z"
   },
   {
    "duration": 19,
    "start_time": "2022-01-13T03:19:55.116Z"
   },
   {
    "duration": 14,
    "start_time": "2022-01-13T03:19:55.136Z"
   },
   {
    "duration": 319,
    "start_time": "2022-01-13T03:19:55.151Z"
   },
   {
    "duration": 539,
    "start_time": "2022-01-13T03:19:54.933Z"
   },
   {
    "duration": 19,
    "start_time": "2022-01-13T03:20:16.008Z"
   },
   {
    "duration": 29,
    "start_time": "2022-01-13T03:20:41.281Z"
   },
   {
    "duration": 17,
    "start_time": "2022-01-13T03:25:48.365Z"
   },
   {
    "duration": 352,
    "start_time": "2022-01-13T03:26:01.069Z"
   },
   {
    "duration": 30,
    "start_time": "2022-01-13T03:26:25.804Z"
   },
   {
    "duration": 20,
    "start_time": "2022-01-13T03:27:20.585Z"
   },
   {
    "duration": 16,
    "start_time": "2022-01-13T03:27:36.969Z"
   },
   {
    "duration": 11,
    "start_time": "2022-01-13T03:28:09.871Z"
   },
   {
    "duration": 14,
    "start_time": "2022-01-13T03:28:22.722Z"
   },
   {
    "duration": 15,
    "start_time": "2022-01-13T03:28:49.952Z"
   },
   {
    "duration": 251,
    "start_time": "2022-01-13T03:29:16.298Z"
   },
   {
    "duration": 15,
    "start_time": "2022-01-13T03:29:36.615Z"
   },
   {
    "duration": 32,
    "start_time": "2022-01-13T03:29:41.012Z"
   },
   {
    "duration": 1013,
    "start_time": "2022-01-13T03:30:02.720Z"
   },
   {
    "duration": 727,
    "start_time": "2022-01-13T03:30:03.735Z"
   },
   {
    "duration": 19,
    "start_time": "2022-01-13T03:30:04.465Z"
   },
   {
    "duration": 14,
    "start_time": "2022-01-13T03:30:04.486Z"
   },
   {
    "duration": 12,
    "start_time": "2022-01-13T03:30:04.502Z"
   },
   {
    "duration": 7,
    "start_time": "2022-01-13T03:30:04.515Z"
   },
   {
    "duration": 7,
    "start_time": "2022-01-13T03:30:04.525Z"
   },
   {
    "duration": 15,
    "start_time": "2022-01-13T03:30:04.534Z"
   },
   {
    "duration": 11,
    "start_time": "2022-01-13T03:30:04.550Z"
   },
   {
    "duration": 51,
    "start_time": "2022-01-13T03:30:04.563Z"
   },
   {
    "duration": 7,
    "start_time": "2022-01-13T03:30:04.616Z"
   },
   {
    "duration": 11,
    "start_time": "2022-01-13T03:30:04.625Z"
   },
   {
    "duration": 128,
    "start_time": "2022-01-13T03:30:04.637Z"
   },
   {
    "duration": 33,
    "start_time": "2022-01-13T03:30:04.767Z"
   },
   {
    "duration": 40,
    "start_time": "2022-01-13T03:30:04.802Z"
   },
   {
    "duration": 20,
    "start_time": "2022-01-13T03:30:04.843Z"
   },
   {
    "duration": 1005,
    "start_time": "2022-01-13T03:30:49.972Z"
   },
   {
    "duration": 737,
    "start_time": "2022-01-13T03:30:50.978Z"
   },
   {
    "duration": 18,
    "start_time": "2022-01-13T03:30:51.717Z"
   },
   {
    "duration": 14,
    "start_time": "2022-01-13T03:30:51.737Z"
   },
   {
    "duration": 13,
    "start_time": "2022-01-13T03:30:51.753Z"
   },
   {
    "duration": 5,
    "start_time": "2022-01-13T03:30:51.767Z"
   },
   {
    "duration": 41,
    "start_time": "2022-01-13T03:30:51.774Z"
   },
   {
    "duration": 12,
    "start_time": "2022-01-13T03:30:51.817Z"
   },
   {
    "duration": 11,
    "start_time": "2022-01-13T03:30:51.831Z"
   },
   {
    "duration": 10,
    "start_time": "2022-01-13T03:30:51.843Z"
   },
   {
    "duration": 8,
    "start_time": "2022-01-13T03:30:51.854Z"
   },
   {
    "duration": 58,
    "start_time": "2022-01-13T03:30:51.864Z"
   },
   {
    "duration": 111,
    "start_time": "2022-01-13T03:30:51.924Z"
   },
   {
    "duration": 34,
    "start_time": "2022-01-13T03:30:52.036Z"
   },
   {
    "duration": 58,
    "start_time": "2022-01-13T03:30:52.072Z"
   },
   {
    "duration": 21,
    "start_time": "2022-01-13T03:30:52.131Z"
   },
   {
    "duration": 1011,
    "start_time": "2022-01-13T03:31:51.532Z"
   },
   {
    "duration": 2180,
    "start_time": "2022-01-13T03:31:52.545Z"
   },
   {
    "duration": 21,
    "start_time": "2022-01-13T03:31:54.728Z"
   },
   {
    "duration": 17,
    "start_time": "2022-01-13T03:31:54.751Z"
   },
   {
    "duration": 14,
    "start_time": "2022-01-13T03:31:54.770Z"
   },
   {
    "duration": 5,
    "start_time": "2022-01-13T03:31:54.813Z"
   },
   {
    "duration": 9,
    "start_time": "2022-01-13T03:31:54.820Z"
   },
   {
    "duration": 14,
    "start_time": "2022-01-13T03:31:54.831Z"
   },
   {
    "duration": 13,
    "start_time": "2022-01-13T03:31:54.846Z"
   },
   {
    "duration": 8,
    "start_time": "2022-01-13T03:31:54.860Z"
   },
   {
    "duration": 7,
    "start_time": "2022-01-13T03:31:54.912Z"
   },
   {
    "duration": 12,
    "start_time": "2022-01-13T03:31:54.921Z"
   },
   {
    "duration": 140,
    "start_time": "2022-01-13T03:31:54.934Z"
   },
   {
    "duration": 45,
    "start_time": "2022-01-13T03:31:55.076Z"
   },
   {
    "duration": 42,
    "start_time": "2022-01-13T03:31:55.123Z"
   },
   {
    "duration": 51,
    "start_time": "2022-01-13T03:31:55.167Z"
   },
   {
    "duration": 311,
    "start_time": "2022-01-13T03:32:37.345Z"
   },
   {
    "duration": 11,
    "start_time": "2022-01-13T03:32:54.634Z"
   },
   {
    "duration": 10,
    "start_time": "2022-01-13T03:34:32.958Z"
   },
   {
    "duration": 16,
    "start_time": "2022-01-13T03:34:39.789Z"
   },
   {
    "duration": 55,
    "start_time": "2022-01-13T03:35:58.105Z"
   },
   {
    "duration": 28,
    "start_time": "2022-01-13T03:36:02.614Z"
   },
   {
    "duration": 965,
    "start_time": "2022-01-13T03:37:11.074Z"
   },
   {
    "duration": 751,
    "start_time": "2022-01-13T03:37:12.041Z"
   },
   {
    "duration": 19,
    "start_time": "2022-01-13T03:37:12.796Z"
   },
   {
    "duration": 15,
    "start_time": "2022-01-13T03:37:12.816Z"
   },
   {
    "duration": 12,
    "start_time": "2022-01-13T03:37:12.833Z"
   },
   {
    "duration": 4,
    "start_time": "2022-01-13T03:37:12.847Z"
   },
   {
    "duration": 7,
    "start_time": "2022-01-13T03:37:12.853Z"
   },
   {
    "duration": 55,
    "start_time": "2022-01-13T03:37:12.863Z"
   },
   {
    "duration": 11,
    "start_time": "2022-01-13T03:37:12.919Z"
   },
   {
    "duration": 8,
    "start_time": "2022-01-13T03:37:12.932Z"
   },
   {
    "duration": 6,
    "start_time": "2022-01-13T03:37:12.942Z"
   },
   {
    "duration": 13,
    "start_time": "2022-01-13T03:37:12.949Z"
   },
   {
    "duration": 151,
    "start_time": "2022-01-13T03:37:12.963Z"
   },
   {
    "duration": 19,
    "start_time": "2022-01-13T03:37:13.116Z"
   },
   {
    "duration": 20,
    "start_time": "2022-01-13T03:37:13.136Z"
   },
   {
    "duration": 8,
    "start_time": "2022-01-13T03:37:13.158Z"
   },
   {
    "duration": 992,
    "start_time": "2022-01-13T03:38:47.345Z"
   },
   {
    "duration": 673,
    "start_time": "2022-01-13T03:38:48.338Z"
   },
   {
    "duration": 18,
    "start_time": "2022-01-13T03:38:49.015Z"
   },
   {
    "duration": 14,
    "start_time": "2022-01-13T03:38:49.035Z"
   },
   {
    "duration": 12,
    "start_time": "2022-01-13T03:38:49.051Z"
   },
   {
    "duration": 5,
    "start_time": "2022-01-13T03:38:49.064Z"
   },
   {
    "duration": 45,
    "start_time": "2022-01-13T03:38:49.071Z"
   },
   {
    "duration": 11,
    "start_time": "2022-01-13T03:38:49.118Z"
   },
   {
    "duration": 10,
    "start_time": "2022-01-13T03:38:49.131Z"
   },
   {
    "duration": 7,
    "start_time": "2022-01-13T03:38:49.143Z"
   },
   {
    "duration": 7,
    "start_time": "2022-01-13T03:38:49.152Z"
   },
   {
    "duration": 10,
    "start_time": "2022-01-13T03:38:49.212Z"
   },
   {
    "duration": 120,
    "start_time": "2022-01-13T03:38:49.224Z"
   },
   {
    "duration": 19,
    "start_time": "2022-01-13T03:38:49.345Z"
   },
   {
    "duration": 21,
    "start_time": "2022-01-13T03:38:49.366Z"
   },
   {
    "duration": 26,
    "start_time": "2022-01-13T03:38:49.388Z"
   },
   {
    "duration": 18,
    "start_time": "2022-01-13T03:39:33.333Z"
   },
   {
    "duration": 27,
    "start_time": "2022-01-13T03:39:41.268Z"
   },
   {
    "duration": 35,
    "start_time": "2022-01-13T03:39:51.075Z"
   },
   {
    "duration": 9,
    "start_time": "2022-01-13T03:40:08.656Z"
   },
   {
    "duration": 1134,
    "start_time": "2022-01-13T03:40:37.003Z"
   },
   {
    "duration": 675,
    "start_time": "2022-01-13T03:40:38.138Z"
   },
   {
    "duration": 24,
    "start_time": "2022-01-13T03:40:38.817Z"
   },
   {
    "duration": 17,
    "start_time": "2022-01-13T03:40:38.843Z"
   },
   {
    "duration": 51,
    "start_time": "2022-01-13T03:40:38.862Z"
   },
   {
    "duration": 7,
    "start_time": "2022-01-13T03:40:38.915Z"
   },
   {
    "duration": 6,
    "start_time": "2022-01-13T03:40:38.925Z"
   },
   {
    "duration": 15,
    "start_time": "2022-01-13T03:40:38.933Z"
   },
   {
    "duration": 67,
    "start_time": "2022-01-13T03:40:38.950Z"
   },
   {
    "duration": 11,
    "start_time": "2022-01-13T03:40:39.019Z"
   },
   {
    "duration": 8,
    "start_time": "2022-01-13T03:40:39.032Z"
   },
   {
    "duration": 11,
    "start_time": "2022-01-13T03:40:39.042Z"
   },
   {
    "duration": 145,
    "start_time": "2022-01-13T03:40:39.054Z"
   },
   {
    "duration": 23,
    "start_time": "2022-01-13T03:40:39.201Z"
   },
   {
    "duration": 22,
    "start_time": "2022-01-13T03:40:39.226Z"
   },
   {
    "duration": 10,
    "start_time": "2022-01-13T03:40:39.250Z"
   },
   {
    "duration": 21,
    "start_time": "2022-01-13T03:40:43.349Z"
   },
   {
    "duration": 24,
    "start_time": "2022-01-13T03:41:22.208Z"
   },
   {
    "duration": 1018,
    "start_time": "2022-01-13T03:41:36.321Z"
   },
   {
    "duration": 639,
    "start_time": "2022-01-13T03:41:37.341Z"
   },
   {
    "duration": 25,
    "start_time": "2022-01-13T03:41:37.985Z"
   },
   {
    "duration": 15,
    "start_time": "2022-01-13T03:41:38.011Z"
   },
   {
    "duration": 13,
    "start_time": "2022-01-13T03:41:38.027Z"
   },
   {
    "duration": 5,
    "start_time": "2022-01-13T03:41:38.042Z"
   },
   {
    "duration": 10,
    "start_time": "2022-01-13T03:41:38.049Z"
   },
   {
    "duration": 14,
    "start_time": "2022-01-13T03:41:38.061Z"
   },
   {
    "duration": 45,
    "start_time": "2022-01-13T03:41:38.076Z"
   },
   {
    "duration": 8,
    "start_time": "2022-01-13T03:41:38.122Z"
   },
   {
    "duration": 6,
    "start_time": "2022-01-13T03:41:38.131Z"
   },
   {
    "duration": 10,
    "start_time": "2022-01-13T03:41:38.139Z"
   },
   {
    "duration": 142,
    "start_time": "2022-01-13T03:41:38.151Z"
   },
   {
    "duration": 23,
    "start_time": "2022-01-13T03:41:38.295Z"
   },
   {
    "duration": 19,
    "start_time": "2022-01-13T03:41:38.320Z"
   },
   {
    "duration": 9,
    "start_time": "2022-01-13T03:41:38.340Z"
   },
   {
    "duration": 22,
    "start_time": "2022-01-13T03:41:38.351Z"
   },
   {
    "duration": 12,
    "start_time": "2022-01-13T03:41:59.367Z"
   },
   {
    "duration": 24,
    "start_time": "2022-01-13T03:42:15.070Z"
   },
   {
    "duration": 11,
    "start_time": "2022-01-13T03:43:11.098Z"
   },
   {
    "duration": 10,
    "start_time": "2022-01-13T03:44:45.799Z"
   },
   {
    "duration": 12,
    "start_time": "2022-01-13T03:44:53.349Z"
   },
   {
    "duration": 24,
    "start_time": "2022-01-13T03:45:03.992Z"
   },
   {
    "duration": 9,
    "start_time": "2022-01-13T03:45:12.349Z"
   },
   {
    "duration": 22,
    "start_time": "2022-01-13T03:45:20.501Z"
   },
   {
    "duration": 967,
    "start_time": "2022-01-13T03:45:51.870Z"
   },
   {
    "duration": 1707,
    "start_time": "2022-01-13T03:45:52.840Z"
   },
   {
    "duration": 18,
    "start_time": "2022-01-13T03:45:54.549Z"
   },
   {
    "duration": 14,
    "start_time": "2022-01-13T03:45:54.569Z"
   },
   {
    "duration": 11,
    "start_time": "2022-01-13T03:45:54.585Z"
   },
   {
    "duration": 5,
    "start_time": "2022-01-13T03:45:54.598Z"
   },
   {
    "duration": 9,
    "start_time": "2022-01-13T03:45:54.605Z"
   },
   {
    "duration": 13,
    "start_time": "2022-01-13T03:45:54.615Z"
   },
   {
    "duration": 10,
    "start_time": "2022-01-13T03:45:54.630Z"
   },
   {
    "duration": 7,
    "start_time": "2022-01-13T03:45:54.642Z"
   },
   {
    "duration": 8,
    "start_time": "2022-01-13T03:45:54.651Z"
   },
   {
    "duration": 56,
    "start_time": "2022-01-13T03:45:54.660Z"
   },
   {
    "duration": 109,
    "start_time": "2022-01-13T03:45:54.717Z"
   },
   {
    "duration": 19,
    "start_time": "2022-01-13T03:45:54.828Z"
   },
   {
    "duration": 21,
    "start_time": "2022-01-13T03:45:54.848Z"
   },
   {
    "duration": 10,
    "start_time": "2022-01-13T03:45:54.870Z"
   },
   {
    "duration": 49,
    "start_time": "2022-01-13T03:45:54.882Z"
   },
   {
    "duration": 21,
    "start_time": "2022-01-13T03:46:49.413Z"
   },
   {
    "duration": 4,
    "start_time": "2022-01-13T03:47:00.060Z"
   },
   {
    "duration": 4,
    "start_time": "2022-01-13T03:47:27.507Z"
   },
   {
    "duration": 10,
    "start_time": "2022-01-13T03:47:39.746Z"
   },
   {
    "duration": 21,
    "start_time": "2022-01-13T03:47:58.827Z"
   },
   {
    "duration": 3,
    "start_time": "2022-01-13T03:48:31.172Z"
   },
   {
    "duration": 23,
    "start_time": "2022-01-13T03:48:38.566Z"
   },
   {
    "duration": 316,
    "start_time": "2022-01-13T03:49:12.634Z"
   },
   {
    "duration": 220,
    "start_time": "2022-01-13T03:49:22.786Z"
   },
   {
    "duration": 1029,
    "start_time": "2022-01-13T03:49:42.311Z"
   },
   {
    "duration": 724,
    "start_time": "2022-01-13T03:49:43.342Z"
   },
   {
    "duration": 18,
    "start_time": "2022-01-13T03:49:44.068Z"
   },
   {
    "duration": 14,
    "start_time": "2022-01-13T03:49:44.088Z"
   },
   {
    "duration": 12,
    "start_time": "2022-01-13T03:49:44.104Z"
   },
   {
    "duration": 5,
    "start_time": "2022-01-13T03:49:44.117Z"
   },
   {
    "duration": 9,
    "start_time": "2022-01-13T03:49:44.124Z"
   },
   {
    "duration": 13,
    "start_time": "2022-01-13T03:49:44.135Z"
   },
   {
    "duration": 12,
    "start_time": "2022-01-13T03:49:44.150Z"
   },
   {
    "duration": 10,
    "start_time": "2022-01-13T03:49:44.163Z"
   },
   {
    "duration": 43,
    "start_time": "2022-01-13T03:49:44.174Z"
   },
   {
    "duration": 12,
    "start_time": "2022-01-13T03:49:44.218Z"
   },
   {
    "duration": 123,
    "start_time": "2022-01-13T03:49:44.231Z"
   },
   {
    "duration": 19,
    "start_time": "2022-01-13T03:49:44.356Z"
   },
   {
    "duration": 36,
    "start_time": "2022-01-13T03:49:44.376Z"
   },
   {
    "duration": 10,
    "start_time": "2022-01-13T03:49:44.413Z"
   },
   {
    "duration": 310,
    "start_time": "2022-01-13T03:49:44.425Z"
   },
   {
    "duration": 234,
    "start_time": "2022-01-13T03:49:52.681Z"
   },
   {
    "duration": 11,
    "start_time": "2022-01-13T03:50:14.717Z"
   },
   {
    "duration": 230,
    "start_time": "2022-01-13T03:50:31.632Z"
   },
   {
    "duration": 1043,
    "start_time": "2022-01-13T03:51:31.200Z"
   },
   {
    "duration": 830,
    "start_time": "2022-01-13T03:51:32.245Z"
   },
   {
    "duration": 19,
    "start_time": "2022-01-13T03:51:33.077Z"
   },
   {
    "duration": 14,
    "start_time": "2022-01-13T03:51:33.097Z"
   },
   {
    "duration": 12,
    "start_time": "2022-01-13T03:51:33.113Z"
   },
   {
    "duration": 7,
    "start_time": "2022-01-13T03:51:33.127Z"
   },
   {
    "duration": 7,
    "start_time": "2022-01-13T03:51:33.135Z"
   },
   {
    "duration": 12,
    "start_time": "2022-01-13T03:51:33.144Z"
   },
   {
    "duration": 62,
    "start_time": "2022-01-13T03:51:33.157Z"
   },
   {
    "duration": 9,
    "start_time": "2022-01-13T03:51:33.220Z"
   },
   {
    "duration": 7,
    "start_time": "2022-01-13T03:51:33.230Z"
   },
   {
    "duration": 11,
    "start_time": "2022-01-13T03:51:33.238Z"
   },
   {
    "duration": 133,
    "start_time": "2022-01-13T03:51:33.251Z"
   },
   {
    "duration": 27,
    "start_time": "2022-01-13T03:51:33.385Z"
   },
   {
    "duration": 21,
    "start_time": "2022-01-13T03:51:33.413Z"
   },
   {
    "duration": 10,
    "start_time": "2022-01-13T03:51:33.436Z"
   },
   {
    "duration": 305,
    "start_time": "2022-01-13T03:51:33.448Z"
   },
   {
    "duration": 234,
    "start_time": "2022-01-13T03:51:39.256Z"
   },
   {
    "duration": 43,
    "start_time": "2022-01-13T04:10:29.618Z"
   },
   {
    "duration": 48,
    "start_time": "2022-01-13T04:11:10.168Z"
   },
   {
    "duration": 54,
    "start_time": "2022-01-13T04:11:36.214Z"
   },
   {
    "duration": 53,
    "start_time": "2022-01-13T04:12:44.887Z"
   },
   {
    "duration": 57,
    "start_time": "2022-01-13T04:13:09.144Z"
   },
   {
    "duration": 87,
    "start_time": "2022-01-13T04:13:14.497Z"
   },
   {
    "duration": 19,
    "start_time": "2022-01-13T04:13:32.939Z"
   },
   {
    "duration": 45,
    "start_time": "2022-01-13T04:15:11.609Z"
   },
   {
    "duration": 43,
    "start_time": "2022-01-13T04:15:13.531Z"
   },
   {
    "duration": 19,
    "start_time": "2022-01-13T04:15:15.659Z"
   },
   {
    "duration": 79,
    "start_time": "2022-01-13T04:15:30.102Z"
   },
   {
    "duration": 306,
    "start_time": "2022-01-13T04:15:45.100Z"
   },
   {
    "duration": 44,
    "start_time": "2022-01-13T04:16:16.665Z"
   },
   {
    "duration": 20,
    "start_time": "2022-01-13T04:16:18.971Z"
   },
   {
    "duration": 7,
    "start_time": "2022-01-13T04:17:31.826Z"
   },
   {
    "duration": 3,
    "start_time": "2022-01-13T04:28:19.378Z"
   },
   {
    "duration": 1004,
    "start_time": "2022-01-13T04:30:43.035Z"
   },
   {
    "duration": 866,
    "start_time": "2022-01-13T04:30:44.041Z"
   },
   {
    "duration": 19,
    "start_time": "2022-01-13T04:30:44.909Z"
   },
   {
    "duration": 14,
    "start_time": "2022-01-13T04:30:44.930Z"
   },
   {
    "duration": 12,
    "start_time": "2022-01-13T04:30:44.946Z"
   },
   {
    "duration": 5,
    "start_time": "2022-01-13T04:30:44.960Z"
   },
   {
    "duration": 49,
    "start_time": "2022-01-13T04:30:44.966Z"
   },
   {
    "duration": 16,
    "start_time": "2022-01-13T04:30:45.018Z"
   },
   {
    "duration": 13,
    "start_time": "2022-01-13T04:30:45.037Z"
   },
   {
    "duration": 9,
    "start_time": "2022-01-13T04:30:45.053Z"
   },
   {
    "duration": 54,
    "start_time": "2022-01-13T04:30:45.064Z"
   },
   {
    "duration": 14,
    "start_time": "2022-01-13T04:30:45.120Z"
   },
   {
    "duration": 132,
    "start_time": "2022-01-13T04:30:45.136Z"
   },
   {
    "duration": 66,
    "start_time": "2022-01-13T04:30:45.270Z"
   },
   {
    "duration": 21,
    "start_time": "2022-01-13T04:30:45.338Z"
   },
   {
    "duration": 8,
    "start_time": "2022-01-13T04:30:45.361Z"
   },
   {
    "duration": 106,
    "start_time": "2022-01-13T04:30:45.370Z"
   },
   {
    "duration": 3,
    "start_time": "2022-01-13T04:31:00.501Z"
   },
   {
    "duration": 6999,
    "start_time": "2022-01-13T04:32:01.756Z"
   },
   {
    "duration": 509,
    "start_time": "2022-01-13T04:32:08.249Z"
   },
   {
    "duration": 6,
    "start_time": "2022-01-13T04:32:59.023Z"
   },
   {
    "duration": 5,
    "start_time": "2022-01-13T04:33:02.408Z"
   },
   {
    "duration": 6756,
    "start_time": "2022-01-13T04:34:00.651Z"
   },
   {
    "duration": 228,
    "start_time": "2022-01-13T04:35:16.336Z"
   },
   {
    "duration": 219,
    "start_time": "2022-01-13T04:35:21.481Z"
   },
   {
    "duration": 68,
    "start_time": "2022-01-13T04:35:29.187Z"
   },
   {
    "duration": 111,
    "start_time": "2022-01-13T04:35:34.586Z"
   },
   {
    "duration": 16,
    "start_time": "2022-01-13T04:35:54.934Z"
   },
   {
    "duration": 6498,
    "start_time": "2022-01-13T04:37:12.633Z"
   },
   {
    "duration": 4,
    "start_time": "2022-01-13T04:43:20.154Z"
   },
   {
    "duration": 400,
    "start_time": "2022-01-13T04:43:24.777Z"
   },
   {
    "duration": 452,
    "start_time": "2022-01-13T04:44:24.369Z"
   },
   {
    "duration": 410,
    "start_time": "2022-01-13T04:44:40.642Z"
   },
   {
    "duration": 263,
    "start_time": "2022-01-13T04:44:55.902Z"
   },
   {
    "duration": 22,
    "start_time": "2022-01-13T04:45:02.528Z"
   },
   {
    "duration": 234,
    "start_time": "2022-01-13T04:47:13.567Z"
   },
   {
    "duration": 283,
    "start_time": "2022-01-13T04:47:19.186Z"
   },
   {
    "duration": 12,
    "start_time": "2022-01-13T04:47:21.303Z"
   },
   {
    "duration": 17,
    "start_time": "2022-01-13T04:47:26.106Z"
   },
   {
    "duration": 23,
    "start_time": "2022-01-13T04:48:02.605Z"
   },
   {
    "duration": 278,
    "start_time": "2022-01-13T04:48:55.451Z"
   },
   {
    "duration": 9,
    "start_time": "2022-01-13T04:48:59.399Z"
   },
   {
    "duration": 16,
    "start_time": "2022-01-13T04:49:07.846Z"
   },
   {
    "duration": 77,
    "start_time": "2022-01-13T04:53:40.033Z"
   },
   {
    "duration": 74,
    "start_time": "2022-01-13T04:54:03.272Z"
   },
   {
    "duration": 247,
    "start_time": "2022-01-13T04:54:10.772Z"
   },
   {
    "duration": 251,
    "start_time": "2022-01-13T04:54:13.545Z"
   },
   {
    "duration": 253,
    "start_time": "2022-01-13T04:54:22.881Z"
   },
   {
    "duration": 2,
    "start_time": "2022-01-13T04:55:06.072Z"
   },
   {
    "duration": 4,
    "start_time": "2022-01-13T04:55:17.249Z"
   },
   {
    "duration": 4,
    "start_time": "2022-01-13T04:55:29.931Z"
   },
   {
    "duration": 237,
    "start_time": "2022-01-13T04:57:11.197Z"
   },
   {
    "duration": 243,
    "start_time": "2022-01-13T04:57:25.836Z"
   },
   {
    "duration": 20,
    "start_time": "2022-01-13T04:57:31.316Z"
   },
   {
    "duration": 258,
    "start_time": "2022-01-13T05:01:52.622Z"
   },
   {
    "duration": 22,
    "start_time": "2022-01-13T05:02:03.087Z"
   },
   {
    "duration": 262,
    "start_time": "2022-01-13T05:03:22.006Z"
   },
   {
    "duration": 254,
    "start_time": "2022-01-13T05:05:06.232Z"
   },
   {
    "duration": 23,
    "start_time": "2022-01-13T05:05:09.590Z"
   },
   {
    "duration": 85,
    "start_time": "2022-01-13T05:14:48.599Z"
   },
   {
    "duration": 83,
    "start_time": "2022-01-13T05:15:04.484Z"
   },
   {
    "duration": 253,
    "start_time": "2022-01-13T05:15:09.839Z"
   },
   {
    "duration": 5,
    "start_time": "2022-01-13T05:16:00.354Z"
   },
   {
    "duration": 414,
    "start_time": "2022-01-13T05:16:57.111Z"
   },
   {
    "duration": 313,
    "start_time": "2022-01-13T05:17:46.326Z"
   },
   {
    "duration": 6,
    "start_time": "2022-01-13T05:17:53.097Z"
   },
   {
    "duration": 1016,
    "start_time": "2022-01-13T05:18:38.329Z"
   },
   {
    "duration": 2415,
    "start_time": "2022-01-13T05:18:39.347Z"
   },
   {
    "duration": 18,
    "start_time": "2022-01-13T05:18:41.766Z"
   },
   {
    "duration": 14,
    "start_time": "2022-01-13T05:18:41.786Z"
   },
   {
    "duration": 11,
    "start_time": "2022-01-13T05:18:41.802Z"
   },
   {
    "duration": 5,
    "start_time": "2022-01-13T05:18:41.815Z"
   },
   {
    "duration": 7,
    "start_time": "2022-01-13T05:18:41.821Z"
   },
   {
    "duration": 15,
    "start_time": "2022-01-13T05:18:41.830Z"
   },
   {
    "duration": 11,
    "start_time": "2022-01-13T05:18:41.846Z"
   },
   {
    "duration": 8,
    "start_time": "2022-01-13T05:18:41.858Z"
   },
   {
    "duration": 49,
    "start_time": "2022-01-13T05:18:41.867Z"
   },
   {
    "duration": 9,
    "start_time": "2022-01-13T05:18:41.918Z"
   },
   {
    "duration": 120,
    "start_time": "2022-01-13T05:18:41.929Z"
   },
   {
    "duration": 51,
    "start_time": "2022-01-13T05:18:42.050Z"
   },
   {
    "duration": 26,
    "start_time": "2022-01-13T05:18:42.102Z"
   },
   {
    "duration": 6,
    "start_time": "2022-01-13T05:18:42.130Z"
   },
   {
    "duration": 300,
    "start_time": "2022-01-13T05:18:42.137Z"
   },
   {
    "duration": 563,
    "start_time": "2022-01-13T05:18:41.875Z"
   },
   {
    "duration": 559,
    "start_time": "2022-01-13T05:18:41.880Z"
   },
   {
    "duration": 558,
    "start_time": "2022-01-13T05:18:41.882Z"
   },
   {
    "duration": 558,
    "start_time": "2022-01-13T05:18:41.883Z"
   },
   {
    "duration": 557,
    "start_time": "2022-01-13T05:18:41.884Z"
   },
   {
    "duration": 19,
    "start_time": "2022-01-13T05:18:48.273Z"
   },
   {
    "duration": 263,
    "start_time": "2022-01-13T05:19:39.152Z"
   },
   {
    "duration": 231,
    "start_time": "2022-01-13T05:23:04.475Z"
   },
   {
    "duration": 252,
    "start_time": "2022-01-13T05:23:20.425Z"
   },
   {
    "duration": 998,
    "start_time": "2022-01-13T05:23:50.479Z"
   },
   {
    "duration": 1867,
    "start_time": "2022-01-13T05:23:51.478Z"
   },
   {
    "duration": 21,
    "start_time": "2022-01-13T05:23:53.347Z"
   },
   {
    "duration": 17,
    "start_time": "2022-01-13T05:23:53.370Z"
   },
   {
    "duration": 13,
    "start_time": "2022-01-13T05:23:53.389Z"
   },
   {
    "duration": 11,
    "start_time": "2022-01-13T05:23:53.404Z"
   },
   {
    "duration": 15,
    "start_time": "2022-01-13T05:23:53.417Z"
   },
   {
    "duration": 22,
    "start_time": "2022-01-13T05:23:53.434Z"
   },
   {
    "duration": 27,
    "start_time": "2022-01-13T05:23:53.459Z"
   },
   {
    "duration": 25,
    "start_time": "2022-01-13T05:23:53.488Z"
   },
   {
    "duration": 13,
    "start_time": "2022-01-13T05:23:53.515Z"
   },
   {
    "duration": 18,
    "start_time": "2022-01-13T05:23:53.530Z"
   },
   {
    "duration": 144,
    "start_time": "2022-01-13T05:23:53.549Z"
   },
   {
    "duration": 64,
    "start_time": "2022-01-13T05:23:53.694Z"
   },
   {
    "duration": 22,
    "start_time": "2022-01-13T05:23:53.760Z"
   },
   {
    "duration": 30,
    "start_time": "2022-01-13T05:23:53.783Z"
   },
   {
    "duration": 294,
    "start_time": "2022-01-13T05:23:53.815Z"
   },
   {
    "duration": 292,
    "start_time": "2022-01-13T05:23:54.112Z"
   },
   {
    "duration": 287,
    "start_time": "2022-01-13T05:23:54.406Z"
   },
   {
    "duration": 367,
    "start_time": "2022-01-13T05:23:54.695Z"
   },
   {
    "duration": 25,
    "start_time": "2022-01-13T05:23:55.064Z"
   },
   {
    "duration": 32,
    "start_time": "2022-01-13T05:25:34.488Z"
   },
   {
    "duration": 33,
    "start_time": "2022-01-13T05:26:39.231Z"
   },
   {
    "duration": 74,
    "start_time": "2022-01-13T05:30:16.432Z"
   },
   {
    "duration": 24,
    "start_time": "2022-01-13T05:30:21.303Z"
   },
   {
    "duration": 10,
    "start_time": "2022-01-13T05:31:59.180Z"
   },
   {
    "duration": 6,
    "start_time": "2022-01-13T05:32:12.235Z"
   },
   {
    "duration": 5,
    "start_time": "2022-01-13T05:33:43.210Z"
   },
   {
    "duration": 32,
    "start_time": "2022-01-13T05:34:39.154Z"
   },
   {
    "duration": 7,
    "start_time": "2022-01-13T05:34:52.206Z"
   },
   {
    "duration": 6,
    "start_time": "2022-01-13T05:35:25.224Z"
   },
   {
    "duration": 7,
    "start_time": "2022-01-13T05:36:55.012Z"
   },
   {
    "duration": 24,
    "start_time": "2022-01-13T05:37:26.224Z"
   },
   {
    "duration": 77,
    "start_time": "2022-01-13T05:41:27.684Z"
   },
   {
    "duration": 327,
    "start_time": "2022-01-13T05:41:39.048Z"
   },
   {
    "duration": 13,
    "start_time": "2022-01-13T05:41:50.351Z"
   },
   {
    "duration": 18,
    "start_time": "2022-01-13T05:41:57.254Z"
   },
   {
    "duration": 243,
    "start_time": "2022-01-13T05:42:30.337Z"
   },
   {
    "duration": 15,
    "start_time": "2022-01-13T05:42:42.514Z"
   },
   {
    "duration": 21,
    "start_time": "2022-01-13T05:42:55.269Z"
   },
   {
    "duration": 20,
    "start_time": "2022-01-13T05:43:39.870Z"
   },
   {
    "duration": 19,
    "start_time": "2022-01-13T05:43:45.172Z"
   },
   {
    "duration": 7,
    "start_time": "2022-01-13T05:44:16.219Z"
   },
   {
    "duration": 26,
    "start_time": "2022-01-13T05:45:10.286Z"
   },
   {
    "duration": 25,
    "start_time": "2022-01-13T05:46:23.801Z"
   },
   {
    "duration": 1000,
    "start_time": "2022-01-13T05:48:25.737Z"
   },
   {
    "duration": 942,
    "start_time": "2022-01-13T05:48:26.739Z"
   },
   {
    "duration": 18,
    "start_time": "2022-01-13T05:48:27.683Z"
   },
   {
    "duration": 14,
    "start_time": "2022-01-13T05:48:27.703Z"
   },
   {
    "duration": 14,
    "start_time": "2022-01-13T05:48:27.718Z"
   },
   {
    "duration": 5,
    "start_time": "2022-01-13T05:48:27.733Z"
   },
   {
    "duration": 6,
    "start_time": "2022-01-13T05:48:27.739Z"
   },
   {
    "duration": 13,
    "start_time": "2022-01-13T05:48:27.747Z"
   },
   {
    "duration": 10,
    "start_time": "2022-01-13T05:48:27.762Z"
   },
   {
    "duration": 40,
    "start_time": "2022-01-13T05:48:27.773Z"
   },
   {
    "duration": 8,
    "start_time": "2022-01-13T05:48:27.814Z"
   },
   {
    "duration": 11,
    "start_time": "2022-01-13T05:48:27.824Z"
   },
   {
    "duration": 134,
    "start_time": "2022-01-13T05:48:27.837Z"
   },
   {
    "duration": 62,
    "start_time": "2022-01-13T05:48:27.973Z"
   },
   {
    "duration": 18,
    "start_time": "2022-01-13T05:48:28.037Z"
   },
   {
    "duration": 7,
    "start_time": "2022-01-13T05:48:28.056Z"
   },
   {
    "duration": 292,
    "start_time": "2022-01-13T05:48:28.065Z"
   },
   {
    "duration": 271,
    "start_time": "2022-01-13T05:48:28.359Z"
   },
   {
    "duration": 267,
    "start_time": "2022-01-13T05:48:28.631Z"
   },
   {
    "duration": 318,
    "start_time": "2022-01-13T05:48:28.899Z"
   },
   {
    "duration": 23,
    "start_time": "2022-01-13T05:48:29.218Z"
   },
   {
    "duration": 31,
    "start_time": "2022-01-13T05:48:29.242Z"
   },
   {
    "duration": 49,
    "start_time": "2022-01-13T05:48:29.275Z"
   },
   {
    "duration": 23,
    "start_time": "2022-01-13T05:48:29.325Z"
   },
   {
    "duration": 23,
    "start_time": "2022-01-13T05:48:29.349Z"
   },
   {
    "duration": 276,
    "start_time": "2022-01-13T05:51:50.283Z"
   },
   {
    "duration": 1035,
    "start_time": "2022-01-13T05:52:01.410Z"
   },
   {
    "duration": 1839,
    "start_time": "2022-01-13T05:52:02.447Z"
   },
   {
    "duration": 19,
    "start_time": "2022-01-13T05:52:04.287Z"
   },
   {
    "duration": 14,
    "start_time": "2022-01-13T05:52:04.307Z"
   },
   {
    "duration": 12,
    "start_time": "2022-01-13T05:52:04.323Z"
   },
   {
    "duration": 6,
    "start_time": "2022-01-13T05:52:04.336Z"
   },
   {
    "duration": 7,
    "start_time": "2022-01-13T05:52:04.343Z"
   },
   {
    "duration": 12,
    "start_time": "2022-01-13T05:52:04.351Z"
   },
   {
    "duration": 52,
    "start_time": "2022-01-13T05:52:04.366Z"
   },
   {
    "duration": 8,
    "start_time": "2022-01-13T05:52:04.419Z"
   },
   {
    "duration": 8,
    "start_time": "2022-01-13T05:52:04.428Z"
   },
   {
    "duration": 11,
    "start_time": "2022-01-13T05:52:04.437Z"
   },
   {
    "duration": 129,
    "start_time": "2022-01-13T05:52:04.450Z"
   },
   {
    "duration": 64,
    "start_time": "2022-01-13T05:52:04.581Z"
   },
   {
    "duration": 17,
    "start_time": "2022-01-13T05:52:04.647Z"
   },
   {
    "duration": 6,
    "start_time": "2022-01-13T05:52:04.666Z"
   },
   {
    "duration": 300,
    "start_time": "2022-01-13T05:52:04.673Z"
   },
   {
    "duration": 268,
    "start_time": "2022-01-13T05:52:04.974Z"
   },
   {
    "duration": 269,
    "start_time": "2022-01-13T05:52:05.243Z"
   },
   {
    "duration": 332,
    "start_time": "2022-01-13T05:52:05.513Z"
   },
   {
    "duration": 23,
    "start_time": "2022-01-13T05:52:05.846Z"
   },
   {
    "duration": 52,
    "start_time": "2022-01-13T05:52:05.870Z"
   },
   {
    "duration": 18,
    "start_time": "2022-01-13T05:52:05.924Z"
   },
   {
    "duration": 22,
    "start_time": "2022-01-13T05:52:05.943Z"
   },
   {
    "duration": 51,
    "start_time": "2022-01-13T05:52:05.966Z"
   },
   {
    "duration": 302,
    "start_time": "2022-01-13T05:54:31.952Z"
   },
   {
    "duration": 4,
    "start_time": "2022-01-13T05:56:59.116Z"
   },
   {
    "duration": 971,
    "start_time": "2022-01-13T05:58:21.673Z"
   },
   {
    "duration": 1023,
    "start_time": "2022-01-13T05:58:22.646Z"
   },
   {
    "duration": 19,
    "start_time": "2022-01-13T05:58:23.671Z"
   },
   {
    "duration": 15,
    "start_time": "2022-01-13T05:58:23.691Z"
   },
   {
    "duration": 13,
    "start_time": "2022-01-13T05:58:23.707Z"
   },
   {
    "duration": 5,
    "start_time": "2022-01-13T05:58:23.721Z"
   },
   {
    "duration": 10,
    "start_time": "2022-01-13T05:58:23.727Z"
   },
   {
    "duration": 15,
    "start_time": "2022-01-13T05:58:23.740Z"
   },
   {
    "duration": 12,
    "start_time": "2022-01-13T05:58:23.757Z"
   },
   {
    "duration": 45,
    "start_time": "2022-01-13T05:58:23.771Z"
   },
   {
    "duration": 8,
    "start_time": "2022-01-13T05:58:23.817Z"
   },
   {
    "duration": 11,
    "start_time": "2022-01-13T05:58:23.826Z"
   },
   {
    "duration": 128,
    "start_time": "2022-01-13T05:58:23.839Z"
   },
   {
    "duration": 59,
    "start_time": "2022-01-13T05:58:23.968Z"
   },
   {
    "duration": 20,
    "start_time": "2022-01-13T05:58:24.028Z"
   },
   {
    "duration": 9,
    "start_time": "2022-01-13T05:58:24.049Z"
   },
   {
    "duration": 298,
    "start_time": "2022-01-13T05:58:24.060Z"
   },
   {
    "duration": 266,
    "start_time": "2022-01-13T05:58:24.359Z"
   },
   {
    "duration": 263,
    "start_time": "2022-01-13T05:58:24.626Z"
   },
   {
    "duration": 3,
    "start_time": "2022-01-13T05:58:24.891Z"
   },
   {
    "duration": 329,
    "start_time": "2022-01-13T05:58:24.895Z"
   },
   {
    "duration": 25,
    "start_time": "2022-01-13T05:58:25.225Z"
   },
   {
    "duration": 31,
    "start_time": "2022-01-13T05:58:25.253Z"
   },
   {
    "duration": 43,
    "start_time": "2022-01-13T05:58:25.286Z"
   },
   {
    "duration": 25,
    "start_time": "2022-01-13T05:58:25.331Z"
   },
   {
    "duration": 56,
    "start_time": "2022-01-13T05:58:25.357Z"
   },
   {
    "duration": 10,
    "start_time": "2022-01-13T05:59:42.119Z"
   },
   {
    "duration": 345,
    "start_time": "2022-01-13T06:00:20.702Z"
   },
   {
    "duration": 23,
    "start_time": "2022-01-13T06:00:30.651Z"
   },
   {
    "duration": 91,
    "start_time": "2022-01-13T06:09:54.975Z"
   },
   {
    "duration": 28,
    "start_time": "2022-01-13T06:10:01.983Z"
   },
   {
    "duration": 25,
    "start_time": "2022-01-13T06:11:00.884Z"
   },
   {
    "duration": 15,
    "start_time": "2022-01-13T06:12:23.852Z"
   },
   {
    "duration": 31,
    "start_time": "2022-01-13T06:12:37.378Z"
   },
   {
    "duration": 34,
    "start_time": "2022-01-13T06:13:21.819Z"
   },
   {
    "duration": 21,
    "start_time": "2022-01-13T06:13:42.054Z"
   },
   {
    "duration": 33,
    "start_time": "2022-01-13T06:24:02.898Z"
   },
   {
    "duration": 29,
    "start_time": "2022-01-13T06:26:06.983Z"
   },
   {
    "duration": 32,
    "start_time": "2022-01-13T06:27:00.187Z"
   },
   {
    "duration": 32,
    "start_time": "2022-01-13T06:33:08.303Z"
   },
   {
    "duration": 326,
    "start_time": "2022-01-13T06:35:57.915Z"
   },
   {
    "duration": 246,
    "start_time": "2022-01-13T06:36:58.870Z"
   },
   {
    "duration": 1113,
    "start_time": "2022-01-13T06:44:41.330Z"
   },
   {
    "duration": 1094,
    "start_time": "2022-01-13T06:44:42.446Z"
   },
   {
    "duration": 19,
    "start_time": "2022-01-13T06:44:43.542Z"
   },
   {
    "duration": 15,
    "start_time": "2022-01-13T06:44:43.563Z"
   },
   {
    "duration": 13,
    "start_time": "2022-01-13T06:44:43.580Z"
   },
   {
    "duration": 5,
    "start_time": "2022-01-13T06:44:43.595Z"
   },
   {
    "duration": 6,
    "start_time": "2022-01-13T06:44:43.612Z"
   },
   {
    "duration": 12,
    "start_time": "2022-01-13T06:44:43.621Z"
   },
   {
    "duration": 11,
    "start_time": "2022-01-13T06:44:43.635Z"
   },
   {
    "duration": 8,
    "start_time": "2022-01-13T06:44:43.648Z"
   },
   {
    "duration": 56,
    "start_time": "2022-01-13T06:44:43.658Z"
   },
   {
    "duration": 13,
    "start_time": "2022-01-13T06:44:43.715Z"
   },
   {
    "duration": 122,
    "start_time": "2022-01-13T06:44:43.730Z"
   },
   {
    "duration": 5743,
    "start_time": "2022-01-13T06:44:43.853Z"
   },
   {
    "duration": 545,
    "start_time": "2022-01-13T06:44:49.054Z"
   },
   {
    "duration": 543,
    "start_time": "2022-01-13T06:44:49.057Z"
   },
   {
    "duration": 540,
    "start_time": "2022-01-13T06:44:49.060Z"
   },
   {
    "duration": 539,
    "start_time": "2022-01-13T06:44:49.062Z"
   },
   {
    "duration": 530,
    "start_time": "2022-01-13T06:44:49.072Z"
   },
   {
    "duration": 528,
    "start_time": "2022-01-13T06:44:49.074Z"
   },
   {
    "duration": 527,
    "start_time": "2022-01-13T06:44:49.076Z"
   },
   {
    "duration": 526,
    "start_time": "2022-01-13T06:44:49.078Z"
   },
   {
    "duration": 526,
    "start_time": "2022-01-13T06:44:49.079Z"
   },
   {
    "duration": 526,
    "start_time": "2022-01-13T06:44:49.080Z"
   },
   {
    "duration": 525,
    "start_time": "2022-01-13T06:44:49.081Z"
   },
   {
    "duration": 524,
    "start_time": "2022-01-13T06:44:49.083Z"
   },
   {
    "duration": 524,
    "start_time": "2022-01-13T06:44:49.084Z"
   },
   {
    "duration": 524,
    "start_time": "2022-01-13T06:44:49.085Z"
   },
   {
    "duration": 1030,
    "start_time": "2022-01-13T06:46:16.945Z"
   },
   {
    "duration": 853,
    "start_time": "2022-01-13T06:46:17.977Z"
   },
   {
    "duration": 19,
    "start_time": "2022-01-13T06:46:18.834Z"
   },
   {
    "duration": 14,
    "start_time": "2022-01-13T06:46:18.855Z"
   },
   {
    "duration": 11,
    "start_time": "2022-01-13T06:46:18.871Z"
   },
   {
    "duration": 29,
    "start_time": "2022-01-13T06:46:18.884Z"
   },
   {
    "duration": 6,
    "start_time": "2022-01-13T06:46:18.915Z"
   },
   {
    "duration": 12,
    "start_time": "2022-01-13T06:46:18.923Z"
   },
   {
    "duration": 11,
    "start_time": "2022-01-13T06:46:18.937Z"
   },
   {
    "duration": 8,
    "start_time": "2022-01-13T06:46:18.950Z"
   },
   {
    "duration": 54,
    "start_time": "2022-01-13T06:46:18.959Z"
   },
   {
    "duration": 13,
    "start_time": "2022-01-13T06:46:19.015Z"
   },
   {
    "duration": 119,
    "start_time": "2022-01-13T06:46:19.029Z"
   },
   {
    "duration": 63,
    "start_time": "2022-01-13T06:46:19.150Z"
   },
   {
    "duration": 20,
    "start_time": "2022-01-13T06:46:19.215Z"
   },
   {
    "duration": 7,
    "start_time": "2022-01-13T06:46:19.236Z"
   },
   {
    "duration": 298,
    "start_time": "2022-01-13T06:46:19.245Z"
   },
   {
    "duration": 256,
    "start_time": "2022-01-13T06:46:19.545Z"
   },
   {
    "duration": 260,
    "start_time": "2022-01-13T06:46:19.803Z"
   },
   {
    "duration": 4,
    "start_time": "2022-01-13T06:46:20.065Z"
   },
   {
    "duration": 316,
    "start_time": "2022-01-13T06:46:20.070Z"
   },
   {
    "duration": 31,
    "start_time": "2022-01-13T06:46:20.388Z"
   },
   {
    "duration": 30,
    "start_time": "2022-01-13T06:46:20.421Z"
   },
   {
    "duration": 31,
    "start_time": "2022-01-13T06:46:20.452Z"
   },
   {
    "duration": 30,
    "start_time": "2022-01-13T06:46:20.512Z"
   },
   {
    "duration": 30,
    "start_time": "2022-01-13T06:46:20.545Z"
   },
   {
    "duration": 272,
    "start_time": "2022-01-13T06:46:20.577Z"
   },
   {
    "duration": 300,
    "start_time": "2022-01-13T06:46:20.850Z"
   },
   {
    "duration": 49,
    "start_time": "2022-01-13T06:47:19.605Z"
   },
   {
    "duration": 58,
    "start_time": "2022-01-13T06:50:16.466Z"
   },
   {
    "duration": 1109,
    "start_time": "2022-01-13T06:50:47.531Z"
   },
   {
    "duration": 860,
    "start_time": "2022-01-13T06:50:48.642Z"
   },
   {
    "duration": 20,
    "start_time": "2022-01-13T06:50:49.505Z"
   },
   {
    "duration": 17,
    "start_time": "2022-01-13T06:50:49.527Z"
   },
   {
    "duration": 16,
    "start_time": "2022-01-13T06:50:49.546Z"
   },
   {
    "duration": 4,
    "start_time": "2022-01-13T06:50:49.564Z"
   },
   {
    "duration": 43,
    "start_time": "2022-01-13T06:50:49.570Z"
   },
   {
    "duration": 13,
    "start_time": "2022-01-13T06:50:49.615Z"
   },
   {
    "duration": 11,
    "start_time": "2022-01-13T06:50:49.630Z"
   },
   {
    "duration": 8,
    "start_time": "2022-01-13T06:50:49.642Z"
   },
   {
    "duration": 8,
    "start_time": "2022-01-13T06:50:49.651Z"
   },
   {
    "duration": 61,
    "start_time": "2022-01-13T06:50:49.660Z"
   },
   {
    "duration": 111,
    "start_time": "2022-01-13T06:50:49.723Z"
   },
   {
    "duration": 64,
    "start_time": "2022-01-13T06:50:49.836Z"
   },
   {
    "duration": 28,
    "start_time": "2022-01-13T06:50:49.901Z"
   },
   {
    "duration": 7,
    "start_time": "2022-01-13T06:50:49.930Z"
   },
   {
    "duration": 304,
    "start_time": "2022-01-13T06:50:49.938Z"
   },
   {
    "duration": 276,
    "start_time": "2022-01-13T06:50:50.244Z"
   },
   {
    "duration": 268,
    "start_time": "2022-01-13T06:50:50.522Z"
   },
   {
    "duration": 4,
    "start_time": "2022-01-13T06:50:50.791Z"
   },
   {
    "duration": 334,
    "start_time": "2022-01-13T06:50:50.796Z"
   },
   {
    "duration": 27,
    "start_time": "2022-01-13T06:50:51.133Z"
   },
   {
    "duration": 60,
    "start_time": "2022-01-13T06:50:51.162Z"
   },
   {
    "duration": 36,
    "start_time": "2022-01-13T06:50:51.223Z"
   },
   {
    "duration": 54,
    "start_time": "2022-01-13T06:50:51.260Z"
   },
   {
    "duration": 34,
    "start_time": "2022-01-13T06:50:51.315Z"
   },
   {
    "duration": 284,
    "start_time": "2022-01-13T06:50:51.351Z"
   },
   {
    "duration": 320,
    "start_time": "2022-01-13T06:50:51.637Z"
   },
   {
    "duration": 269,
    "start_time": "2022-01-13T06:57:54.835Z"
   },
   {
    "duration": 321,
    "start_time": "2022-01-13T07:03:20.038Z"
   },
   {
    "duration": 311,
    "start_time": "2022-01-13T07:03:28.434Z"
   },
   {
    "duration": 3222,
    "start_time": "2022-01-13T07:08:44.307Z"
   },
   {
    "duration": 299,
    "start_time": "2022-01-13T07:13:25.606Z"
   },
   {
    "duration": 567,
    "start_time": "2022-01-13T07:14:46.689Z"
   },
   {
    "duration": 225,
    "start_time": "2022-01-13T07:19:21.289Z"
   },
   {
    "duration": 1136,
    "start_time": "2022-01-13T07:29:03.615Z"
   },
   {
    "duration": 377,
    "start_time": "2022-01-13T07:29:14.216Z"
   },
   {
    "duration": 456,
    "start_time": "2022-01-13T07:29:24.058Z"
   },
   {
    "duration": 663,
    "start_time": "2022-01-13T07:29:31.749Z"
   },
   {
    "duration": 932,
    "start_time": "2022-01-13T07:33:58.718Z"
   },
   {
    "duration": 949,
    "start_time": "2022-01-13T07:36:16.571Z"
   },
   {
    "duration": 1009,
    "start_time": "2022-01-13T07:43:03.412Z"
   },
   {
    "duration": 770,
    "start_time": "2022-01-13T07:45:47.081Z"
   },
   {
    "duration": 1162,
    "start_time": "2022-01-13T07:46:04.489Z"
   },
   {
    "duration": 1067,
    "start_time": "2022-01-13T07:46:51.591Z"
   },
   {
    "duration": 998,
    "start_time": "2022-01-13T07:48:11.555Z"
   },
   {
    "duration": 1033,
    "start_time": "2022-01-13T07:49:40.082Z"
   },
   {
    "duration": 1103,
    "start_time": "2022-01-13T07:50:24.633Z"
   },
   {
    "duration": 1054,
    "start_time": "2022-01-13T07:58:28.058Z"
   },
   {
    "duration": 1178,
    "start_time": "2022-01-13T07:59:51.693Z"
   },
   {
    "duration": 298,
    "start_time": "2022-01-13T08:05:26.196Z"
   },
   {
    "duration": 754,
    "start_time": "2022-01-13T08:09:03.670Z"
   },
   {
    "duration": 757,
    "start_time": "2022-01-13T08:09:18.121Z"
   },
   {
    "duration": 765,
    "start_time": "2022-01-13T08:09:28.004Z"
   },
   {
    "duration": 788,
    "start_time": "2022-01-13T08:09:58.440Z"
   },
   {
    "duration": 860,
    "start_time": "2022-01-13T08:10:04.140Z"
   },
   {
    "duration": 832,
    "start_time": "2022-01-13T08:10:14.122Z"
   },
   {
    "duration": 1050,
    "start_time": "2022-01-13T08:10:32.314Z"
   },
   {
    "duration": 800,
    "start_time": "2022-01-13T08:10:41.392Z"
   },
   {
    "duration": 1069,
    "start_time": "2022-01-13T08:10:59.722Z"
   },
   {
    "duration": 801,
    "start_time": "2022-01-13T08:11:21.513Z"
   },
   {
    "duration": 1105,
    "start_time": "2022-01-13T08:19:25.029Z"
   },
   {
    "duration": 792,
    "start_time": "2022-01-13T08:20:15.447Z"
   },
   {
    "duration": 1055,
    "start_time": "2022-01-13T08:20:28.082Z"
   },
   {
    "duration": 796,
    "start_time": "2022-01-13T08:20:42.138Z"
   },
   {
    "duration": 849,
    "start_time": "2022-01-13T08:29:28.187Z"
   },
   {
    "duration": 987,
    "start_time": "2022-01-13T08:29:49.496Z"
   },
   {
    "duration": 905,
    "start_time": "2022-01-13T08:31:32.020Z"
   },
   {
    "duration": 1192,
    "start_time": "2022-01-13T08:33:19.368Z"
   },
   {
    "duration": 1401,
    "start_time": "2022-01-13T08:34:08.352Z"
   },
   {
    "duration": 1556,
    "start_time": "2022-01-13T08:35:24.764Z"
   },
   {
    "duration": 1911,
    "start_time": "2022-01-13T08:37:14.532Z"
   },
   {
    "duration": 15,
    "start_time": "2022-01-13T08:56:35.704Z"
   },
   {
    "duration": 20,
    "start_time": "2022-01-13T08:56:45.592Z"
   },
   {
    "duration": 17,
    "start_time": "2022-01-13T08:57:16.100Z"
   },
   {
    "duration": 21,
    "start_time": "2022-01-13T08:57:20.592Z"
   },
   {
    "duration": 3,
    "start_time": "2022-01-13T08:57:48.686Z"
   },
   {
    "duration": 1056,
    "start_time": "2022-01-13T09:13:41.648Z"
   },
   {
    "duration": 2849,
    "start_time": "2022-01-13T09:13:42.706Z"
   },
   {
    "duration": 23,
    "start_time": "2022-01-13T09:13:45.557Z"
   },
   {
    "duration": 18,
    "start_time": "2022-01-13T09:13:45.582Z"
   },
   {
    "duration": 16,
    "start_time": "2022-01-13T09:13:45.602Z"
   },
   {
    "duration": 7,
    "start_time": "2022-01-13T09:13:45.620Z"
   },
   {
    "duration": 7,
    "start_time": "2022-01-13T09:13:45.628Z"
   },
   {
    "duration": 13,
    "start_time": "2022-01-13T09:13:45.636Z"
   },
   {
    "duration": 11,
    "start_time": "2022-01-13T09:13:45.652Z"
   },
   {
    "duration": 54,
    "start_time": "2022-01-13T09:13:45.665Z"
   },
   {
    "duration": 9,
    "start_time": "2022-01-13T09:13:45.721Z"
   },
   {
    "duration": 12,
    "start_time": "2022-01-13T09:13:45.732Z"
   },
   {
    "duration": 141,
    "start_time": "2022-01-13T09:13:45.746Z"
   },
   {
    "duration": 72,
    "start_time": "2022-01-13T09:13:45.888Z"
   },
   {
    "duration": 19,
    "start_time": "2022-01-13T09:13:45.962Z"
   },
   {
    "duration": 30,
    "start_time": "2022-01-13T09:13:45.983Z"
   },
   {
    "duration": 299,
    "start_time": "2022-01-13T09:13:46.014Z"
   },
   {
    "duration": 282,
    "start_time": "2022-01-13T09:13:46.314Z"
   },
   {
    "duration": 287,
    "start_time": "2022-01-13T09:13:46.598Z"
   },
   {
    "duration": 3,
    "start_time": "2022-01-13T09:13:46.887Z"
   },
   {
    "duration": 362,
    "start_time": "2022-01-13T09:13:46.891Z"
   },
   {
    "duration": 25,
    "start_time": "2022-01-13T09:13:47.255Z"
   },
   {
    "duration": 51,
    "start_time": "2022-01-13T09:13:47.282Z"
   },
   {
    "duration": 33,
    "start_time": "2022-01-13T09:13:47.335Z"
   },
   {
    "duration": 63,
    "start_time": "2022-01-13T09:13:47.369Z"
   },
   {
    "duration": 38,
    "start_time": "2022-01-13T09:13:47.434Z"
   },
   {
    "duration": 2004,
    "start_time": "2022-01-13T09:13:47.475Z"
   },
   {
    "duration": 35,
    "start_time": "2022-01-13T09:13:49.481Z"
   },
   {
    "duration": 3,
    "start_time": "2022-01-13T09:13:49.518Z"
   },
   {
    "duration": 17,
    "start_time": "2022-01-13T09:23:14.331Z"
   },
   {
    "duration": 21,
    "start_time": "2022-01-13T09:23:32.363Z"
   },
   {
    "duration": 9,
    "start_time": "2022-01-13T09:23:36.154Z"
   },
   {
    "duration": 4,
    "start_time": "2022-01-13T09:24:04.767Z"
   },
   {
    "duration": 7,
    "start_time": "2022-01-13T09:24:46.951Z"
   },
   {
    "duration": 4,
    "start_time": "2022-01-13T09:27:14.129Z"
   },
   {
    "duration": 3,
    "start_time": "2022-01-13T09:33:43.069Z"
   },
   {
    "duration": 4,
    "start_time": "2022-01-13T09:34:08.364Z"
   },
   {
    "duration": 308,
    "start_time": "2022-01-13T09:44:03.097Z"
   },
   {
    "duration": 26,
    "start_time": "2022-01-13T09:44:07.289Z"
   },
   {
    "duration": 26,
    "start_time": "2022-01-13T09:45:03.528Z"
   },
   {
    "duration": 27,
    "start_time": "2022-01-13T09:46:16.007Z"
   },
   {
    "duration": 13,
    "start_time": "2022-01-13T09:49:41.432Z"
   },
   {
    "duration": 10,
    "start_time": "2022-01-13T09:51:52.094Z"
   },
   {
    "duration": 84,
    "start_time": "2022-01-13T10:02:38.074Z"
   },
   {
    "duration": 4,
    "start_time": "2022-01-13T10:02:56.898Z"
   },
   {
    "duration": 11,
    "start_time": "2022-01-13T10:03:11.039Z"
   },
   {
    "duration": 32,
    "start_time": "2022-01-13T10:34:28.653Z"
   },
   {
    "duration": 35,
    "start_time": "2022-01-13T10:34:56.885Z"
   },
   {
    "duration": 10,
    "start_time": "2022-01-13T10:35:15.846Z"
   },
   {
    "duration": 125,
    "start_time": "2022-01-13T10:35:24.497Z"
   },
   {
    "duration": 33,
    "start_time": "2022-01-13T10:35:30.236Z"
   },
   {
    "duration": 35,
    "start_time": "2022-01-13T10:35:38.668Z"
   },
   {
    "duration": 239,
    "start_time": "2022-01-13T10:38:54.685Z"
   },
   {
    "duration": 230,
    "start_time": "2022-01-13T10:38:59.336Z"
   },
   {
    "duration": 84,
    "start_time": "2022-01-13T10:44:52.115Z"
   },
   {
    "duration": 65,
    "start_time": "2022-01-13T10:45:57.737Z"
   },
   {
    "duration": 43,
    "start_time": "2022-01-13T10:46:23.965Z"
   },
   {
    "duration": 19,
    "start_time": "2022-01-13T10:46:55.746Z"
   },
   {
    "duration": 23,
    "start_time": "2022-01-13T10:47:00.411Z"
   },
   {
    "duration": 35,
    "start_time": "2022-01-13T10:47:12.856Z"
   },
   {
    "duration": 16,
    "start_time": "2022-01-13T10:47:36.325Z"
   },
   {
    "duration": 20,
    "start_time": "2022-01-13T10:47:41.450Z"
   },
   {
    "duration": 9,
    "start_time": "2022-01-13T10:47:58.246Z"
   },
   {
    "duration": 299,
    "start_time": "2022-01-13T11:21:24.336Z"
   },
   {
    "duration": 3,
    "start_time": "2022-01-13T11:45:52.272Z"
   },
   {
    "duration": 3,
    "start_time": "2022-01-13T11:45:55.346Z"
   },
   {
    "duration": 2,
    "start_time": "2022-01-13T11:55:13.557Z"
   },
   {
    "duration": 1844,
    "start_time": "2022-01-13T12:27:19.426Z"
   },
   {
    "duration": 517,
    "start_time": "2022-01-14T09:22:25.195Z"
   },
   {
    "duration": 1673,
    "start_time": "2022-01-14T09:22:41.214Z"
   },
   {
    "duration": 3289,
    "start_time": "2022-01-14T09:22:42.891Z"
   },
   {
    "duration": 29,
    "start_time": "2022-01-14T09:22:46.184Z"
   },
   {
    "duration": 23,
    "start_time": "2022-01-14T09:22:46.216Z"
   },
   {
    "duration": 33,
    "start_time": "2022-01-14T09:22:46.241Z"
   },
   {
    "duration": 13,
    "start_time": "2022-01-14T09:22:46.277Z"
   },
   {
    "duration": 10,
    "start_time": "2022-01-14T09:22:46.293Z"
   },
   {
    "duration": 62,
    "start_time": "2022-01-14T09:22:46.308Z"
   },
   {
    "duration": 42,
    "start_time": "2022-01-14T09:22:46.373Z"
   },
   {
    "duration": 496,
    "start_time": "2022-01-14T09:22:46.418Z"
   },
   {
    "duration": 1454,
    "start_time": "2022-01-14T09:22:45.463Z"
   },
   {
    "duration": 1452,
    "start_time": "2022-01-14T09:22:45.467Z"
   },
   {
    "duration": 1446,
    "start_time": "2022-01-14T09:22:45.474Z"
   },
   {
    "duration": 1446,
    "start_time": "2022-01-14T09:22:45.476Z"
   },
   {
    "duration": 1445,
    "start_time": "2022-01-14T09:22:45.478Z"
   },
   {
    "duration": 1443,
    "start_time": "2022-01-14T09:22:45.481Z"
   },
   {
    "duration": 1443,
    "start_time": "2022-01-14T09:22:45.483Z"
   },
   {
    "duration": 1442,
    "start_time": "2022-01-14T09:22:45.485Z"
   },
   {
    "duration": 1441,
    "start_time": "2022-01-14T09:22:45.488Z"
   },
   {
    "duration": 1440,
    "start_time": "2022-01-14T09:22:45.490Z"
   },
   {
    "duration": 1438,
    "start_time": "2022-01-14T09:22:45.493Z"
   },
   {
    "duration": 1437,
    "start_time": "2022-01-14T09:22:45.496Z"
   },
   {
    "duration": 1436,
    "start_time": "2022-01-14T09:22:45.498Z"
   },
   {
    "duration": 1434,
    "start_time": "2022-01-14T09:22:45.501Z"
   },
   {
    "duration": 1434,
    "start_time": "2022-01-14T09:22:45.503Z"
   },
   {
    "duration": 1431,
    "start_time": "2022-01-14T09:22:45.507Z"
   },
   {
    "duration": 1430,
    "start_time": "2022-01-14T09:22:45.510Z"
   },
   {
    "duration": 1428,
    "start_time": "2022-01-14T09:22:45.513Z"
   },
   {
    "duration": 1420,
    "start_time": "2022-01-14T09:22:45.523Z"
   },
   {
    "duration": 1418,
    "start_time": "2022-01-14T09:22:45.526Z"
   },
   {
    "duration": 1417,
    "start_time": "2022-01-14T09:22:45.529Z"
   },
   {
    "duration": 1416,
    "start_time": "2022-01-14T09:22:45.531Z"
   },
   {
    "duration": 1416,
    "start_time": "2022-01-14T09:22:45.533Z"
   },
   {
    "duration": 1415,
    "start_time": "2022-01-14T09:22:45.535Z"
   },
   {
    "duration": 1413,
    "start_time": "2022-01-14T09:22:45.538Z"
   },
   {
    "duration": 1413,
    "start_time": "2022-01-14T09:22:45.540Z"
   },
   {
    "duration": 1413,
    "start_time": "2022-01-14T09:22:45.541Z"
   },
   {
    "duration": 1417,
    "start_time": "2022-01-14T09:22:45.543Z"
   },
   {
    "duration": 1417,
    "start_time": "2022-01-14T09:22:45.545Z"
   },
   {
    "duration": 119,
    "start_time": "2022-01-14T09:23:17.833Z"
   },
   {
    "duration": 1544,
    "start_time": "2022-01-14T09:23:59.691Z"
   },
   {
    "duration": 2263,
    "start_time": "2022-01-14T09:24:01.238Z"
   },
   {
    "duration": 27,
    "start_time": "2022-01-14T09:24:03.504Z"
   },
   {
    "duration": 22,
    "start_time": "2022-01-14T09:24:03.535Z"
   },
   {
    "duration": 18,
    "start_time": "2022-01-14T09:24:03.560Z"
   },
   {
    "duration": 10,
    "start_time": "2022-01-14T09:24:03.580Z"
   },
   {
    "duration": 11,
    "start_time": "2022-01-14T09:24:03.593Z"
   },
   {
    "duration": 61,
    "start_time": "2022-01-14T09:24:03.610Z"
   },
   {
    "duration": 44,
    "start_time": "2022-01-14T09:24:03.674Z"
   },
   {
    "duration": 156,
    "start_time": "2022-01-14T09:24:03.720Z"
   },
   {
    "duration": 19,
    "start_time": "2022-01-14T09:24:03.878Z"
   },
   {
    "duration": 60,
    "start_time": "2022-01-14T09:24:03.900Z"
   },
   {
    "duration": 97,
    "start_time": "2022-01-14T09:24:03.963Z"
   },
   {
    "duration": 14,
    "start_time": "2022-01-14T09:24:04.063Z"
   },
   {
    "duration": 26,
    "start_time": "2022-01-14T09:24:04.079Z"
   },
   {
    "duration": 88,
    "start_time": "2022-01-14T09:24:04.107Z"
   },
   {
    "duration": 11,
    "start_time": "2022-01-14T09:24:04.197Z"
   },
   {
    "duration": 24,
    "start_time": "2022-01-14T09:24:04.210Z"
   },
   {
    "duration": 44,
    "start_time": "2022-01-14T09:24:04.236Z"
   },
   {
    "duration": 9,
    "start_time": "2022-01-14T09:24:04.283Z"
   },
   {
    "duration": 179,
    "start_time": "2022-01-14T09:24:04.294Z"
   },
   {
    "duration": 96,
    "start_time": "2022-01-14T09:24:04.476Z"
   },
   {
    "duration": 36,
    "start_time": "2022-01-14T09:24:04.577Z"
   },
   {
    "duration": 14,
    "start_time": "2022-01-14T09:24:04.615Z"
   },
   {
    "duration": 605,
    "start_time": "2022-01-14T09:24:04.659Z"
   },
   {
    "duration": 593,
    "start_time": "2022-01-14T09:24:05.267Z"
   },
   {
    "duration": 600,
    "start_time": "2022-01-14T09:24:05.863Z"
   },
   {
    "duration": 677,
    "start_time": "2022-01-14T09:24:06.465Z"
   },
   {
    "duration": 49,
    "start_time": "2022-01-14T09:24:07.144Z"
   },
   {
    "duration": 72,
    "start_time": "2022-01-14T09:24:07.195Z"
   },
   {
    "duration": 52,
    "start_time": "2022-01-14T09:24:07.269Z"
   },
   {
    "duration": 80,
    "start_time": "2022-01-14T09:24:07.324Z"
   },
   {
    "duration": 81,
    "start_time": "2022-01-14T09:24:07.406Z"
   },
   {
    "duration": 3364,
    "start_time": "2022-01-14T09:24:07.490Z"
   },
   {
    "duration": 30,
    "start_time": "2022-01-14T09:24:10.860Z"
   },
   {
    "duration": 10,
    "start_time": "2022-01-14T09:24:10.892Z"
   },
   {
    "duration": 6,
    "start_time": "2022-01-14T09:24:10.905Z"
   },
   {
    "duration": 48,
    "start_time": "2022-01-14T09:24:10.913Z"
   },
   {
    "duration": 16,
    "start_time": "2022-01-14T09:24:10.963Z"
   },
   {
    "duration": 1879,
    "start_time": "2022-01-14T10:20:13.380Z"
   },
   {
    "duration": 2428,
    "start_time": "2022-01-14T10:20:15.262Z"
   },
   {
    "duration": 29,
    "start_time": "2022-01-14T10:20:17.693Z"
   },
   {
    "duration": 26,
    "start_time": "2022-01-14T10:20:17.725Z"
   },
   {
    "duration": 22,
    "start_time": "2022-01-14T10:20:17.755Z"
   },
   {
    "duration": 9,
    "start_time": "2022-01-14T10:20:17.781Z"
   },
   {
    "duration": 17,
    "start_time": "2022-01-14T10:20:17.794Z"
   },
   {
    "duration": 54,
    "start_time": "2022-01-14T10:20:17.815Z"
   },
   {
    "duration": 39,
    "start_time": "2022-01-14T10:20:17.872Z"
   },
   {
    "duration": 134,
    "start_time": "2022-01-14T10:20:17.913Z"
   },
   {
    "duration": 25,
    "start_time": "2022-01-14T10:20:18.049Z"
   },
   {
    "duration": 40,
    "start_time": "2022-01-14T10:20:18.076Z"
   },
   {
    "duration": 108,
    "start_time": "2022-01-14T10:20:18.119Z"
   },
   {
    "duration": 12,
    "start_time": "2022-01-14T10:20:18.230Z"
   },
   {
    "duration": 36,
    "start_time": "2022-01-14T10:20:18.244Z"
   },
   {
    "duration": 57,
    "start_time": "2022-01-14T10:20:18.282Z"
   },
   {
    "duration": 11,
    "start_time": "2022-01-14T10:20:18.359Z"
   },
   {
    "duration": 22,
    "start_time": "2022-01-14T10:20:18.373Z"
   },
   {
    "duration": 30,
    "start_time": "2022-01-14T10:20:18.398Z"
   },
   {
    "duration": 12,
    "start_time": "2022-01-14T10:20:18.459Z"
   },
   {
    "duration": 179,
    "start_time": "2022-01-14T10:20:18.474Z"
   },
   {
    "duration": 124,
    "start_time": "2022-01-14T10:20:18.656Z"
   },
   {
    "duration": 36,
    "start_time": "2022-01-14T10:20:18.786Z"
   },
   {
    "duration": 11,
    "start_time": "2022-01-14T10:20:18.825Z"
   },
   {
    "duration": 621,
    "start_time": "2022-01-14T10:20:18.860Z"
   },
   {
    "duration": 602,
    "start_time": "2022-01-14T10:20:19.483Z"
   },
   {
    "duration": 595,
    "start_time": "2022-01-14T10:20:20.087Z"
   },
   {
    "duration": 724,
    "start_time": "2022-01-14T10:20:20.685Z"
   },
   {
    "duration": 55,
    "start_time": "2022-01-14T10:20:21.411Z"
   },
   {
    "duration": 57,
    "start_time": "2022-01-14T10:20:21.468Z"
   },
   {
    "duration": 71,
    "start_time": "2022-01-14T10:20:21.528Z"
   },
   {
    "duration": 76,
    "start_time": "2022-01-14T10:20:21.601Z"
   },
   {
    "duration": 60,
    "start_time": "2022-01-14T10:20:21.679Z"
   },
   {
    "duration": 3546,
    "start_time": "2022-01-14T10:20:21.741Z"
   },
   {
    "duration": 31,
    "start_time": "2022-01-14T10:20:25.290Z"
   },
   {
    "duration": 36,
    "start_time": "2022-01-14T10:20:25.323Z"
   },
   {
    "duration": 7,
    "start_time": "2022-01-14T10:20:25.362Z"
   },
   {
    "duration": 8,
    "start_time": "2022-01-14T10:20:25.373Z"
   },
   {
    "duration": 19,
    "start_time": "2022-01-14T10:20:25.384Z"
   },
   {
    "duration": 1540,
    "start_time": "2022-01-14T16:58:21.553Z"
   },
   {
    "duration": 2232,
    "start_time": "2022-01-14T16:58:23.096Z"
   },
   {
    "duration": 30,
    "start_time": "2022-01-14T16:58:25.331Z"
   },
   {
    "duration": 23,
    "start_time": "2022-01-14T16:58:25.363Z"
   },
   {
    "duration": 20,
    "start_time": "2022-01-14T16:58:25.388Z"
   },
   {
    "duration": 9,
    "start_time": "2022-01-14T16:58:25.410Z"
   },
   {
    "duration": 43,
    "start_time": "2022-01-14T16:58:25.421Z"
   },
   {
    "duration": 21,
    "start_time": "2022-01-14T16:58:25.469Z"
   },
   {
    "duration": 68,
    "start_time": "2022-01-14T16:58:25.493Z"
   },
   {
    "duration": 125,
    "start_time": "2022-01-14T16:58:25.564Z"
   },
   {
    "duration": 19,
    "start_time": "2022-01-14T16:58:25.691Z"
   },
   {
    "duration": 61,
    "start_time": "2022-01-14T16:58:25.712Z"
   },
   {
    "duration": 118,
    "start_time": "2022-01-14T16:58:25.775Z"
   },
   {
    "duration": 14,
    "start_time": "2022-01-14T16:58:25.895Z"
   },
   {
    "duration": 25,
    "start_time": "2022-01-14T16:58:25.912Z"
   },
   {
    "duration": 74,
    "start_time": "2022-01-14T16:58:25.960Z"
   },
   {
    "duration": 26,
    "start_time": "2022-01-14T16:58:26.036Z"
   },
   {
    "duration": 20,
    "start_time": "2022-01-14T16:58:26.065Z"
   },
   {
    "duration": 73,
    "start_time": "2022-01-14T16:58:26.088Z"
   },
   {
    "duration": 14,
    "start_time": "2022-01-14T16:58:26.165Z"
   },
   {
    "duration": 227,
    "start_time": "2022-01-14T16:58:26.182Z"
   },
   {
    "duration": 114,
    "start_time": "2022-01-14T16:58:26.411Z"
   },
   {
    "duration": 47,
    "start_time": "2022-01-14T16:58:26.530Z"
   },
   {
    "duration": 726,
    "start_time": "2022-01-14T16:58:26.580Z"
   },
   {
    "duration": 583,
    "start_time": "2022-01-14T16:58:27.309Z"
   },
   {
    "duration": 565,
    "start_time": "2022-01-14T16:58:27.894Z"
   },
   {
    "duration": 686,
    "start_time": "2022-01-14T16:58:28.461Z"
   },
   {
    "duration": 50,
    "start_time": "2022-01-14T16:58:29.150Z"
   },
   {
    "duration": 80,
    "start_time": "2022-01-14T16:58:29.203Z"
   },
   {
    "duration": 53,
    "start_time": "2022-01-14T16:58:29.285Z"
   },
   {
    "duration": 59,
    "start_time": "2022-01-14T16:58:29.359Z"
   },
   {
    "duration": 80,
    "start_time": "2022-01-14T16:58:29.420Z"
   },
   {
    "duration": 3491,
    "start_time": "2022-01-14T16:58:29.503Z"
   },
   {
    "duration": 31,
    "start_time": "2022-01-14T16:58:32.996Z"
   },
   {
    "duration": 34,
    "start_time": "2022-01-14T16:58:33.029Z"
   },
   {
    "duration": 7,
    "start_time": "2022-01-14T16:58:33.066Z"
   },
   {
    "duration": 11,
    "start_time": "2022-01-14T16:58:33.075Z"
   },
   {
    "duration": 15,
    "start_time": "2022-01-14T16:58:33.089Z"
   },
   {
    "duration": 1845,
    "start_time": "2022-01-14T17:11:11.751Z"
   },
   {
    "duration": 45,
    "start_time": "2022-01-14T17:11:24.244Z"
   },
   {
    "duration": 65,
    "start_time": "2022-01-14T17:11:42.373Z"
   },
   {
    "duration": 66,
    "start_time": "2022-01-14T17:22:19.201Z"
   },
   {
    "duration": 63,
    "start_time": "2022-01-14T17:23:02.817Z"
   },
   {
    "duration": 64,
    "start_time": "2022-01-14T17:25:30.903Z"
   },
   {
    "duration": 7,
    "start_time": "2022-01-14T17:27:18.241Z"
   },
   {
    "duration": 146,
    "start_time": "2022-01-14T17:27:51.848Z"
   },
   {
    "duration": 466,
    "start_time": "2022-01-14T17:27:57.734Z"
   },
   {
    "duration": 10,
    "start_time": "2022-01-14T17:28:10.066Z"
   },
   {
    "duration": 308,
    "start_time": "2022-01-14T17:28:23.572Z"
   },
   {
    "duration": 9,
    "start_time": "2022-01-14T17:28:41.524Z"
   },
   {
    "duration": 9,
    "start_time": "2022-01-14T17:29:25.216Z"
   },
   {
    "duration": 64,
    "start_time": "2022-01-14T17:31:47.593Z"
   },
   {
    "duration": 67,
    "start_time": "2022-01-14T17:32:20.937Z"
   },
   {
    "duration": 1303,
    "start_time": "2022-01-14T17:34:51.683Z"
   },
   {
    "duration": 77,
    "start_time": "2022-01-14T17:35:16.303Z"
   },
   {
    "duration": 14,
    "start_time": "2022-01-14T18:13:12.535Z"
   },
   {
    "duration": 15,
    "start_time": "2022-01-14T18:13:39.773Z"
   },
   {
    "duration": 338,
    "start_time": "2022-01-14T18:14:08.954Z"
   },
   {
    "duration": 48,
    "start_time": "2022-01-14T18:14:17.335Z"
   },
   {
    "duration": 331,
    "start_time": "2022-01-14T18:14:59.611Z"
   },
   {
    "duration": 13,
    "start_time": "2022-01-14T18:15:31.289Z"
   },
   {
    "duration": 14,
    "start_time": "2022-01-14T18:16:04.886Z"
   },
   {
    "duration": 14,
    "start_time": "2022-01-14T18:16:34.197Z"
   },
   {
    "duration": 13,
    "start_time": "2022-01-14T18:42:05.654Z"
   },
   {
    "duration": 12,
    "start_time": "2022-01-14T18:42:55.078Z"
   },
   {
    "duration": 12,
    "start_time": "2022-01-14T18:44:02.921Z"
   },
   {
    "duration": 102,
    "start_time": "2022-01-14T18:45:08.887Z"
   },
   {
    "duration": 120,
    "start_time": "2022-01-14T18:45:15.251Z"
   },
   {
    "duration": 232,
    "start_time": "2022-01-14T18:45:30.344Z"
   },
   {
    "duration": 13,
    "start_time": "2022-01-14T18:46:08.367Z"
   },
   {
    "duration": 47,
    "start_time": "2022-01-14T20:01:57.960Z"
   },
   {
    "duration": 359,
    "start_time": "2022-01-14T20:03:09.806Z"
   },
   {
    "duration": 100,
    "start_time": "2022-01-14T20:04:18.967Z"
   },
   {
    "duration": 124,
    "start_time": "2022-01-14T20:04:30.772Z"
   },
   {
    "duration": 105,
    "start_time": "2022-01-14T20:04:53.710Z"
   },
   {
    "duration": 111,
    "start_time": "2022-01-14T20:05:41.729Z"
   },
   {
    "duration": 106,
    "start_time": "2022-01-14T20:05:57.285Z"
   },
   {
    "duration": 107,
    "start_time": "2022-01-14T20:06:43.673Z"
   },
   {
    "duration": 104,
    "start_time": "2022-01-14T20:07:19.373Z"
   },
   {
    "duration": 12,
    "start_time": "2022-01-14T20:08:27.283Z"
   },
   {
    "duration": 12,
    "start_time": "2022-01-14T20:08:38.991Z"
   },
   {
    "duration": 4004,
    "start_time": "2022-01-14T20:12:51.821Z"
   },
   {
    "duration": 4184,
    "start_time": "2022-01-14T20:13:06.006Z"
   },
   {
    "duration": 104,
    "start_time": "2022-01-14T20:22:05.303Z"
   },
   {
    "duration": 110,
    "start_time": "2022-01-14T20:22:15.812Z"
   },
   {
    "duration": 318,
    "start_time": "2022-01-14T20:32:22.268Z"
   },
   {
    "duration": 12,
    "start_time": "2022-01-14T20:32:57.449Z"
   },
   {
    "duration": 98,
    "start_time": "2022-01-14T20:34:17.743Z"
   },
   {
    "duration": 13,
    "start_time": "2022-01-14T20:34:42.798Z"
   },
   {
    "duration": 14,
    "start_time": "2022-01-14T20:43:06.230Z"
   },
   {
    "duration": 13,
    "start_time": "2022-01-14T20:44:57.209Z"
   },
   {
    "duration": 13,
    "start_time": "2022-01-14T20:45:09.820Z"
   },
   {
    "duration": 4,
    "start_time": "2022-01-14T21:32:04.023Z"
   },
   {
    "duration": 112,
    "start_time": "2022-01-14T21:42:12.181Z"
   },
   {
    "duration": 116,
    "start_time": "2022-01-14T21:44:40.337Z"
   },
   {
    "duration": 105,
    "start_time": "2022-01-14T21:44:46.263Z"
   },
   {
    "duration": 17,
    "start_time": "2022-01-14T21:44:50.075Z"
   },
   {
    "duration": 9,
    "start_time": "2022-01-14T21:50:12.821Z"
   },
   {
    "duration": 11,
    "start_time": "2022-01-14T21:50:35.962Z"
   },
   {
    "duration": 9,
    "start_time": "2022-01-14T21:51:28.514Z"
   },
   {
    "duration": 9,
    "start_time": "2022-01-14T21:51:41.779Z"
   },
   {
    "duration": 105,
    "start_time": "2022-01-14T21:56:13.252Z"
   },
   {
    "duration": 9,
    "start_time": "2022-01-14T21:56:18.373Z"
   },
   {
    "duration": 52,
    "start_time": "2022-01-14T21:56:29.652Z"
   },
   {
    "duration": 1585,
    "start_time": "2022-01-14T21:58:04.688Z"
   },
   {
    "duration": 1562,
    "start_time": "2022-01-14T21:58:34.279Z"
   },
   {
    "duration": 754,
    "start_time": "2022-01-14T22:01:00.705Z"
   },
   {
    "duration": 495,
    "start_time": "2022-01-14T22:01:18.799Z"
   },
   {
    "duration": 529,
    "start_time": "2022-01-14T23:01:52.944Z"
   },
   {
    "duration": 13,
    "start_time": "2022-01-14T23:03:09.783Z"
   },
   {
    "duration": 587,
    "start_time": "2022-01-14T23:04:29.256Z"
   },
   {
    "duration": 543,
    "start_time": "2022-01-14T23:05:30.972Z"
   },
   {
    "duration": 14,
    "start_time": "2022-01-14T23:05:31.504Z"
   },
   {
    "duration": 553,
    "start_time": "2022-01-14T23:05:55.527Z"
   },
   {
    "duration": 526,
    "start_time": "2022-01-14T23:06:11.488Z"
   },
   {
    "duration": 542,
    "start_time": "2022-01-14T23:08:47.620Z"
   },
   {
    "duration": 542,
    "start_time": "2022-01-14T23:12:17.732Z"
   },
   {
    "duration": 517,
    "start_time": "2022-01-14T23:13:04.272Z"
   },
   {
    "duration": 45,
    "start_time": "2022-01-14T23:13:14.746Z"
   },
   {
    "duration": 10,
    "start_time": "2022-01-14T23:14:05.448Z"
   },
   {
    "duration": 13,
    "start_time": "2022-01-14T23:16:03.400Z"
   },
   {
    "duration": 17,
    "start_time": "2022-01-14T23:16:28.710Z"
   },
   {
    "duration": 342,
    "start_time": "2022-01-14T23:17:05.941Z"
   },
   {
    "duration": 14,
    "start_time": "2022-01-14T23:18:21.499Z"
   },
   {
    "duration": 112,
    "start_time": "2022-01-14T23:18:56.499Z"
   },
   {
    "duration": 20,
    "start_time": "2022-01-14T23:19:55.942Z"
   },
   {
    "duration": 22,
    "start_time": "2022-01-14T23:20:12.276Z"
   },
   {
    "duration": 9,
    "start_time": "2022-01-14T23:23:01.278Z"
   },
   {
    "duration": 24,
    "start_time": "2022-01-14T23:23:24.690Z"
   },
   {
    "duration": 24,
    "start_time": "2022-01-14T23:25:55.363Z"
   },
   {
    "duration": 10,
    "start_time": "2022-01-14T23:26:30.610Z"
   },
   {
    "duration": 23,
    "start_time": "2022-01-14T23:26:33.680Z"
   },
   {
    "duration": 25,
    "start_time": "2022-01-14T23:28:42.646Z"
   },
   {
    "duration": 119,
    "start_time": "2022-01-14T23:32:01.907Z"
   },
   {
    "duration": 100,
    "start_time": "2022-01-14T23:32:10.138Z"
   },
   {
    "duration": 15,
    "start_time": "2022-01-14T23:32:46.855Z"
   },
   {
    "duration": 13,
    "start_time": "2022-01-14T23:32:57.988Z"
   },
   {
    "duration": 320,
    "start_time": "2022-01-14T23:33:40.508Z"
   },
   {
    "duration": 791,
    "start_time": "2022-01-14T23:33:54.425Z"
   },
   {
    "duration": 14,
    "start_time": "2022-01-14T23:34:02.445Z"
   },
   {
    "duration": 67,
    "start_time": "2022-01-15T00:13:09.699Z"
   },
   {
    "duration": 364,
    "start_time": "2022-01-15T00:23:50.398Z"
   },
   {
    "duration": 1274,
    "start_time": "2022-01-15T00:24:40.758Z"
   },
   {
    "duration": 78,
    "start_time": "2022-01-15T00:27:37.915Z"
   },
   {
    "duration": 4,
    "start_time": "2022-01-15T00:41:09.859Z"
   },
   {
    "duration": 5,
    "start_time": "2022-01-15T00:42:24.821Z"
   },
   {
    "duration": 16,
    "start_time": "2022-01-15T00:44:23.732Z"
   },
   {
    "duration": 1468,
    "start_time": "2022-01-15T00:52:13.163Z"
   },
   {
    "duration": 1494,
    "start_time": "2022-01-15T00:52:14.634Z"
   },
   {
    "duration": 28,
    "start_time": "2022-01-15T00:52:16.131Z"
   },
   {
    "duration": 23,
    "start_time": "2022-01-15T00:52:16.162Z"
   },
   {
    "duration": 19,
    "start_time": "2022-01-15T00:52:16.187Z"
   },
   {
    "duration": 8,
    "start_time": "2022-01-15T00:52:16.209Z"
   },
   {
    "duration": 42,
    "start_time": "2022-01-15T00:52:16.220Z"
   },
   {
    "duration": 19,
    "start_time": "2022-01-15T00:52:16.264Z"
   },
   {
    "duration": 41,
    "start_time": "2022-01-15T00:52:16.287Z"
   },
   {
    "duration": 157,
    "start_time": "2022-01-15T00:52:16.331Z"
   },
   {
    "duration": 18,
    "start_time": "2022-01-15T00:52:16.491Z"
   },
   {
    "duration": 64,
    "start_time": "2022-01-15T00:52:16.512Z"
   },
   {
    "duration": 90,
    "start_time": "2022-01-15T00:52:16.579Z"
   },
   {
    "duration": 13,
    "start_time": "2022-01-15T00:52:16.672Z"
   },
   {
    "duration": 29,
    "start_time": "2022-01-15T00:52:16.687Z"
   },
   {
    "duration": 94,
    "start_time": "2022-01-15T00:52:16.718Z"
   },
   {
    "duration": 10,
    "start_time": "2022-01-15T00:52:16.814Z"
   },
   {
    "duration": 36,
    "start_time": "2022-01-15T00:52:16.826Z"
   },
   {
    "duration": 26,
    "start_time": "2022-01-15T00:52:16.864Z"
   },
   {
    "duration": 8,
    "start_time": "2022-01-15T00:52:16.893Z"
   },
   {
    "duration": 177,
    "start_time": "2022-01-15T00:52:16.904Z"
   },
   {
    "duration": 104,
    "start_time": "2022-01-15T00:52:17.083Z"
   },
   {
    "duration": 33,
    "start_time": "2022-01-15T00:52:17.189Z"
   },
   {
    "duration": 592,
    "start_time": "2022-01-15T00:52:17.225Z"
   },
   {
    "duration": 549,
    "start_time": "2022-01-15T00:52:17.819Z"
   },
   {
    "duration": 632,
    "start_time": "2022-01-15T00:52:18.370Z"
   },
   {
    "duration": 107,
    "start_time": "2022-01-15T00:52:19.009Z"
   },
   {
    "duration": 27,
    "start_time": "2022-01-15T00:52:19.093Z"
   },
   {
    "duration": 24,
    "start_time": "2022-01-15T00:52:19.097Z"
   },
   {
    "duration": 22,
    "start_time": "2022-01-15T00:52:19.101Z"
   },
   {
    "duration": 21,
    "start_time": "2022-01-15T00:52:19.104Z"
   },
   {
    "duration": 22,
    "start_time": "2022-01-15T00:52:19.106Z"
   },
   {
    "duration": 21,
    "start_time": "2022-01-15T00:52:19.109Z"
   },
   {
    "duration": 20,
    "start_time": "2022-01-15T00:52:19.112Z"
   },
   {
    "duration": 20,
    "start_time": "2022-01-15T00:52:19.114Z"
   },
   {
    "duration": 15,
    "start_time": "2022-01-15T00:52:19.121Z"
   },
   {
    "duration": 14,
    "start_time": "2022-01-15T00:52:19.124Z"
   },
   {
    "duration": 13,
    "start_time": "2022-01-15T00:52:19.127Z"
   },
   {
    "duration": 12,
    "start_time": "2022-01-15T00:52:19.130Z"
   },
   {
    "duration": 12,
    "start_time": "2022-01-15T00:52:19.132Z"
   },
   {
    "duration": 11,
    "start_time": "2022-01-15T00:52:19.135Z"
   },
   {
    "duration": 10,
    "start_time": "2022-01-15T00:52:19.138Z"
   },
   {
    "duration": 10,
    "start_time": "2022-01-15T00:52:19.140Z"
   },
   {
    "duration": 10,
    "start_time": "2022-01-15T00:52:19.142Z"
   },
   {
    "duration": 9,
    "start_time": "2022-01-15T00:52:19.145Z"
   },
   {
    "duration": 3,
    "start_time": "2022-01-15T00:52:19.153Z"
   },
   {
    "duration": 2,
    "start_time": "2022-01-15T00:52:19.157Z"
   },
   {
    "duration": 2,
    "start_time": "2022-01-15T00:52:19.159Z"
   },
   {
    "duration": 2,
    "start_time": "2022-01-15T00:52:19.162Z"
   },
   {
    "duration": 2,
    "start_time": "2022-01-15T00:52:19.164Z"
   },
   {
    "duration": 1,
    "start_time": "2022-01-15T00:52:19.167Z"
   },
   {
    "duration": 0,
    "start_time": "2022-01-15T00:52:19.169Z"
   },
   {
    "duration": 1450,
    "start_time": "2022-01-15T00:53:35.683Z"
   },
   {
    "duration": 2817,
    "start_time": "2022-01-15T00:53:37.136Z"
   },
   {
    "duration": 27,
    "start_time": "2022-01-15T00:53:39.956Z"
   },
   {
    "duration": 27,
    "start_time": "2022-01-15T00:53:39.986Z"
   },
   {
    "duration": 18,
    "start_time": "2022-01-15T00:53:40.015Z"
   },
   {
    "duration": 29,
    "start_time": "2022-01-15T00:53:40.036Z"
   },
   {
    "duration": 9,
    "start_time": "2022-01-15T00:53:40.068Z"
   },
   {
    "duration": 20,
    "start_time": "2022-01-15T00:53:40.081Z"
   },
   {
    "duration": 81,
    "start_time": "2022-01-15T00:53:40.104Z"
   },
   {
    "duration": 127,
    "start_time": "2022-01-15T00:53:40.187Z"
   },
   {
    "duration": 18,
    "start_time": "2022-01-15T00:53:40.317Z"
   },
   {
    "duration": 57,
    "start_time": "2022-01-15T00:53:40.338Z"
   },
   {
    "duration": 95,
    "start_time": "2022-01-15T00:53:40.397Z"
   },
   {
    "duration": 14,
    "start_time": "2022-01-15T00:53:40.494Z"
   },
   {
    "duration": 23,
    "start_time": "2022-01-15T00:53:40.510Z"
   },
   {
    "duration": 52,
    "start_time": "2022-01-15T00:53:40.560Z"
   },
   {
    "duration": 11,
    "start_time": "2022-01-15T00:53:40.615Z"
   },
   {
    "duration": 43,
    "start_time": "2022-01-15T00:53:40.629Z"
   },
   {
    "duration": 24,
    "start_time": "2022-01-15T00:53:40.675Z"
   },
   {
    "duration": 9,
    "start_time": "2022-01-15T00:53:40.702Z"
   },
   {
    "duration": 192,
    "start_time": "2022-01-15T00:53:40.713Z"
   },
   {
    "duration": 106,
    "start_time": "2022-01-15T00:53:40.908Z"
   },
   {
    "duration": 46,
    "start_time": "2022-01-15T00:53:41.020Z"
   },
   {
    "duration": 614,
    "start_time": "2022-01-15T00:53:41.069Z"
   },
   {
    "duration": 573,
    "start_time": "2022-01-15T00:53:41.686Z"
   },
   {
    "duration": 572,
    "start_time": "2022-01-15T00:53:42.261Z"
   },
   {
    "duration": 1880,
    "start_time": "2022-01-15T00:53:42.835Z"
   },
   {
    "duration": 511,
    "start_time": "2022-01-15T00:53:44.717Z"
   },
   {
    "duration": 436,
    "start_time": "2022-01-15T00:53:45.230Z"
   },
   {
    "duration": 47,
    "start_time": "2022-01-15T00:53:45.622Z"
   },
   {
    "duration": 41,
    "start_time": "2022-01-15T00:53:45.629Z"
   },
   {
    "duration": 40,
    "start_time": "2022-01-15T00:53:45.632Z"
   },
   {
    "duration": 39,
    "start_time": "2022-01-15T00:53:45.634Z"
   },
   {
    "duration": 38,
    "start_time": "2022-01-15T00:53:45.637Z"
   },
   {
    "duration": 37,
    "start_time": "2022-01-15T00:53:45.639Z"
   },
   {
    "duration": 35,
    "start_time": "2022-01-15T00:53:45.642Z"
   },
   {
    "duration": 29,
    "start_time": "2022-01-15T00:53:45.650Z"
   },
   {
    "duration": 26,
    "start_time": "2022-01-15T00:53:45.654Z"
   },
   {
    "duration": 25,
    "start_time": "2022-01-15T00:53:45.657Z"
   },
   {
    "duration": 23,
    "start_time": "2022-01-15T00:53:45.660Z"
   },
   {
    "duration": 23,
    "start_time": "2022-01-15T00:53:45.662Z"
   },
   {
    "duration": 22,
    "start_time": "2022-01-15T00:53:45.664Z"
   },
   {
    "duration": 20,
    "start_time": "2022-01-15T00:53:45.668Z"
   },
   {
    "duration": 18,
    "start_time": "2022-01-15T00:53:45.671Z"
   },
   {
    "duration": 16,
    "start_time": "2022-01-15T00:53:45.674Z"
   },
   {
    "duration": 15,
    "start_time": "2022-01-15T00:53:45.677Z"
   },
   {
    "duration": 13,
    "start_time": "2022-01-15T00:53:45.680Z"
   },
   {
    "duration": 11,
    "start_time": "2022-01-15T00:53:45.684Z"
   },
   {
    "duration": -3,
    "start_time": "2022-01-15T00:53:45.699Z"
   },
   {
    "duration": -6,
    "start_time": "2022-01-15T00:53:45.704Z"
   },
   {
    "duration": -7,
    "start_time": "2022-01-15T00:53:45.706Z"
   },
   {
    "duration": -7,
    "start_time": "2022-01-15T00:53:45.709Z"
   },
   {
    "duration": 1525,
    "start_time": "2022-01-15T00:54:30.021Z"
   },
   {
    "duration": 1056,
    "start_time": "2022-01-15T00:54:31.549Z"
   },
   {
    "duration": 44,
    "start_time": "2022-01-15T00:54:32.608Z"
   },
   {
    "duration": 34,
    "start_time": "2022-01-15T00:54:32.655Z"
   },
   {
    "duration": 28,
    "start_time": "2022-01-15T00:54:32.692Z"
   },
   {
    "duration": 10,
    "start_time": "2022-01-15T00:54:32.723Z"
   },
   {
    "duration": 12,
    "start_time": "2022-01-15T00:54:32.760Z"
   },
   {
    "duration": 30,
    "start_time": "2022-01-15T00:54:32.777Z"
   },
   {
    "duration": 79,
    "start_time": "2022-01-15T00:54:32.810Z"
   },
   {
    "duration": 159,
    "start_time": "2022-01-15T00:54:32.892Z"
   },
   {
    "duration": 26,
    "start_time": "2022-01-15T00:54:33.058Z"
   },
   {
    "duration": 72,
    "start_time": "2022-01-15T00:54:33.087Z"
   },
   {
    "duration": 116,
    "start_time": "2022-01-15T00:54:33.162Z"
   },
   {
    "duration": 18,
    "start_time": "2022-01-15T00:54:33.280Z"
   },
   {
    "duration": 32,
    "start_time": "2022-01-15T00:54:33.300Z"
   },
   {
    "duration": 72,
    "start_time": "2022-01-15T00:54:33.360Z"
   },
   {
    "duration": 27,
    "start_time": "2022-01-15T00:54:33.434Z"
   },
   {
    "duration": 19,
    "start_time": "2022-01-15T00:54:33.464Z"
   },
   {
    "duration": 26,
    "start_time": "2022-01-15T00:54:33.486Z"
   },
   {
    "duration": 47,
    "start_time": "2022-01-15T00:54:33.514Z"
   },
   {
    "duration": 175,
    "start_time": "2022-01-15T00:54:33.564Z"
   },
   {
    "duration": 108,
    "start_time": "2022-01-15T00:54:33.741Z"
   },
   {
    "duration": 37,
    "start_time": "2022-01-15T00:54:33.859Z"
   },
   {
    "duration": 615,
    "start_time": "2022-01-15T00:54:33.899Z"
   },
   {
    "duration": 578,
    "start_time": "2022-01-15T00:54:34.516Z"
   },
   {
    "duration": 579,
    "start_time": "2022-01-15T00:54:35.096Z"
   },
   {
    "duration": 2123,
    "start_time": "2022-01-15T00:54:35.677Z"
   },
   {
    "duration": 520,
    "start_time": "2022-01-15T00:54:37.802Z"
   },
   {
    "duration": 21,
    "start_time": "2022-01-15T00:54:38.324Z"
   },
   {
    "duration": 9,
    "start_time": "2022-01-15T00:54:38.359Z"
   },
   {
    "duration": 20,
    "start_time": "2022-01-15T00:54:38.370Z"
   },
   {
    "duration": 21,
    "start_time": "2022-01-15T00:54:38.392Z"
   },
   {
    "duration": 48,
    "start_time": "2022-01-15T00:54:38.415Z"
   },
   {
    "duration": 14,
    "start_time": "2022-01-15T00:54:38.466Z"
   },
   {
    "duration": 86,
    "start_time": "2022-01-15T00:54:38.482Z"
   },
   {
    "duration": 88,
    "start_time": "2022-01-15T00:54:38.571Z"
   },
   {
    "duration": 67,
    "start_time": "2022-01-15T00:54:38.661Z"
   },
   {
    "duration": 31,
    "start_time": "2022-01-15T00:54:38.730Z"
   },
   {
    "duration": 15,
    "start_time": "2022-01-15T00:54:38.763Z"
   },
   {
    "duration": 88,
    "start_time": "2022-01-15T00:54:38.780Z"
   },
   {
    "duration": 14,
    "start_time": "2022-01-15T00:54:38.871Z"
   },
   {
    "duration": 4297,
    "start_time": "2022-01-15T00:54:38.887Z"
   },
   {
    "duration": 36,
    "start_time": "2022-01-15T00:54:43.186Z"
   },
   {
    "duration": 37,
    "start_time": "2022-01-15T00:54:43.225Z"
   },
   {
    "duration": 7,
    "start_time": "2022-01-15T00:54:43.265Z"
   },
   {
    "duration": 14,
    "start_time": "2022-01-15T00:54:43.275Z"
   },
   {
    "duration": 29,
    "start_time": "2022-01-15T00:54:43.292Z"
   },
   {
    "duration": 9,
    "start_time": "2022-01-15T00:54:43.323Z"
   },
   {
    "duration": 31,
    "start_time": "2022-01-15T00:54:43.335Z"
   },
   {
    "duration": 13,
    "start_time": "2022-01-15T00:54:43.368Z"
   },
   {
    "duration": 451,
    "start_time": "2022-01-15T00:54:43.383Z"
   },
   {
    "duration": 1439,
    "start_time": "2022-01-15T00:56:02.082Z"
   },
   {
    "duration": 1135,
    "start_time": "2022-01-15T00:56:03.524Z"
   },
   {
    "duration": 27,
    "start_time": "2022-01-15T00:56:04.662Z"
   },
   {
    "duration": 30,
    "start_time": "2022-01-15T00:56:04.691Z"
   },
   {
    "duration": 17,
    "start_time": "2022-01-15T00:56:04.724Z"
   },
   {
    "duration": 24,
    "start_time": "2022-01-15T00:56:04.743Z"
   },
   {
    "duration": 10,
    "start_time": "2022-01-15T00:56:04.769Z"
   },
   {
    "duration": 23,
    "start_time": "2022-01-15T00:56:04.783Z"
   },
   {
    "duration": 79,
    "start_time": "2022-01-15T00:56:04.809Z"
   },
   {
    "duration": 128,
    "start_time": "2022-01-15T00:56:04.891Z"
   },
   {
    "duration": 20,
    "start_time": "2022-01-15T00:56:05.021Z"
   },
   {
    "duration": 40,
    "start_time": "2022-01-15T00:56:05.059Z"
   },
   {
    "duration": 115,
    "start_time": "2022-01-15T00:56:05.102Z"
   },
   {
    "duration": 15,
    "start_time": "2022-01-15T00:56:05.219Z"
   },
   {
    "duration": 42,
    "start_time": "2022-01-15T00:56:05.237Z"
   },
   {
    "duration": 52,
    "start_time": "2022-01-15T00:56:05.282Z"
   },
   {
    "duration": 32,
    "start_time": "2022-01-15T00:56:05.336Z"
   },
   {
    "duration": 20,
    "start_time": "2022-01-15T00:56:05.370Z"
   },
   {
    "duration": 25,
    "start_time": "2022-01-15T00:56:05.392Z"
   },
   {
    "duration": 41,
    "start_time": "2022-01-15T00:56:05.419Z"
   },
   {
    "duration": 165,
    "start_time": "2022-01-15T00:56:05.463Z"
   },
   {
    "duration": 102,
    "start_time": "2022-01-15T00:56:05.631Z"
   },
   {
    "duration": 42,
    "start_time": "2022-01-15T00:56:05.739Z"
   },
   {
    "duration": 646,
    "start_time": "2022-01-15T00:56:05.784Z"
   },
   {
    "duration": 598,
    "start_time": "2022-01-15T00:56:06.432Z"
   },
   {
    "duration": 676,
    "start_time": "2022-01-15T00:56:07.032Z"
   },
   {
    "duration": 1949,
    "start_time": "2022-01-15T00:56:07.711Z"
   },
   {
    "duration": 530,
    "start_time": "2022-01-15T00:56:09.663Z"
   },
   {
    "duration": 23,
    "start_time": "2022-01-15T00:56:10.195Z"
   },
   {
    "duration": 8,
    "start_time": "2022-01-15T00:56:10.220Z"
   },
   {
    "duration": 46,
    "start_time": "2022-01-15T00:56:10.231Z"
   },
   {
    "duration": 21,
    "start_time": "2022-01-15T00:56:10.279Z"
   },
   {
    "duration": 15,
    "start_time": "2022-01-15T00:56:10.303Z"
   },
   {
    "duration": 42,
    "start_time": "2022-01-15T00:56:10.321Z"
   },
   {
    "duration": 64,
    "start_time": "2022-01-15T00:56:10.365Z"
   },
   {
    "duration": 95,
    "start_time": "2022-01-15T00:56:10.431Z"
   },
   {
    "duration": 82,
    "start_time": "2022-01-15T00:56:10.529Z"
   },
   {
    "duration": 11,
    "start_time": "2022-01-15T00:56:10.614Z"
   },
   {
    "duration": 36,
    "start_time": "2022-01-15T00:56:10.627Z"
   },
   {
    "duration": 63,
    "start_time": "2022-01-15T00:56:10.665Z"
   },
   {
    "duration": 29,
    "start_time": "2022-01-15T00:56:10.731Z"
   },
   {
    "duration": 4255,
    "start_time": "2022-01-15T00:56:10.763Z"
   },
   {
    "duration": 46,
    "start_time": "2022-01-15T00:56:15.021Z"
   },
   {
    "duration": 11,
    "start_time": "2022-01-15T00:56:15.070Z"
   },
   {
    "duration": 21,
    "start_time": "2022-01-15T00:56:15.083Z"
   },
   {
    "duration": 11,
    "start_time": "2022-01-15T00:56:15.107Z"
   },
   {
    "duration": 20,
    "start_time": "2022-01-15T00:56:15.120Z"
   },
   {
    "duration": 22,
    "start_time": "2022-01-15T00:56:15.142Z"
   },
   {
    "duration": 12,
    "start_time": "2022-01-15T00:56:15.166Z"
   },
   {
    "duration": 17,
    "start_time": "2022-01-15T00:56:15.181Z"
   },
   {
    "duration": 429,
    "start_time": "2022-01-15T00:56:15.200Z"
   },
   {
    "duration": 1160,
    "start_time": "2022-01-17T12:55:00.691Z"
   },
   {
    "duration": 923,
    "start_time": "2022-01-17T12:55:01.853Z"
   },
   {
    "duration": 22,
    "start_time": "2022-01-17T12:55:02.780Z"
   },
   {
    "duration": 18,
    "start_time": "2022-01-17T12:55:02.804Z"
   },
   {
    "duration": 14,
    "start_time": "2022-01-17T12:55:02.824Z"
   },
   {
    "duration": 6,
    "start_time": "2022-01-17T12:55:02.840Z"
   },
   {
    "duration": 9,
    "start_time": "2022-01-17T12:55:02.848Z"
   },
   {
    "duration": 42,
    "start_time": "2022-01-17T12:55:02.859Z"
   },
   {
    "duration": 30,
    "start_time": "2022-01-17T12:55:02.902Z"
   },
   {
    "duration": 100,
    "start_time": "2022-01-17T12:55:02.933Z"
   },
   {
    "duration": 13,
    "start_time": "2022-01-17T12:55:03.034Z"
   },
   {
    "duration": 51,
    "start_time": "2022-01-17T12:55:03.049Z"
   },
   {
    "duration": 49,
    "start_time": "2022-01-17T12:55:03.102Z"
   },
   {
    "duration": 9,
    "start_time": "2022-01-17T12:55:03.153Z"
   },
   {
    "duration": 38,
    "start_time": "2022-01-17T12:55:03.164Z"
   },
   {
    "duration": 39,
    "start_time": "2022-01-17T12:55:03.204Z"
   },
   {
    "duration": 8,
    "start_time": "2022-01-17T12:55:03.244Z"
   },
   {
    "duration": 14,
    "start_time": "2022-01-17T12:55:03.254Z"
   },
   {
    "duration": 19,
    "start_time": "2022-01-17T12:55:03.292Z"
   },
   {
    "duration": 8,
    "start_time": "2022-01-17T12:55:03.312Z"
   },
   {
    "duration": 133,
    "start_time": "2022-01-17T12:55:03.322Z"
   },
   {
    "duration": 75,
    "start_time": "2022-01-17T12:55:03.458Z"
   },
   {
    "duration": 22,
    "start_time": "2022-01-17T12:55:03.536Z"
   },
   {
    "duration": 357,
    "start_time": "2022-01-17T12:55:03.560Z"
   },
   {
    "duration": 422,
    "start_time": "2022-01-17T12:55:03.936Z"
   },
   {
    "duration": 304,
    "start_time": "2022-01-17T12:55:04.361Z"
   },
   {
    "duration": 1067,
    "start_time": "2022-01-17T12:55:04.667Z"
   },
   {
    "duration": 274,
    "start_time": "2022-01-17T12:55:05.736Z"
   },
   {
    "duration": 16,
    "start_time": "2022-01-17T12:55:06.012Z"
   },
   {
    "duration": 7,
    "start_time": "2022-01-17T12:55:06.029Z"
   },
   {
    "duration": 17,
    "start_time": "2022-01-17T12:55:06.038Z"
   },
   {
    "duration": 46,
    "start_time": "2022-01-17T12:55:06.057Z"
   },
   {
    "duration": 10,
    "start_time": "2022-01-17T12:55:06.105Z"
   },
   {
    "duration": 14,
    "start_time": "2022-01-17T12:55:06.117Z"
   },
   {
    "duration": 89,
    "start_time": "2022-01-17T12:55:06.133Z"
   },
   {
    "duration": 54,
    "start_time": "2022-01-17T12:55:06.223Z"
   },
   {
    "duration": 56,
    "start_time": "2022-01-17T12:55:06.278Z"
   },
   {
    "duration": 8,
    "start_time": "2022-01-17T12:55:06.336Z"
   },
   {
    "duration": 8,
    "start_time": "2022-01-17T12:55:06.346Z"
   },
   {
    "duration": 75,
    "start_time": "2022-01-17T12:55:06.356Z"
   },
   {
    "duration": 7,
    "start_time": "2022-01-17T12:55:06.433Z"
   },
   {
    "duration": 2711,
    "start_time": "2022-01-17T12:55:06.442Z"
   },
   {
    "duration": 37,
    "start_time": "2022-01-17T12:55:09.155Z"
   },
   {
    "duration": 8,
    "start_time": "2022-01-17T12:55:09.194Z"
   },
   {
    "duration": 12,
    "start_time": "2022-01-17T12:55:09.204Z"
   },
   {
    "duration": 16,
    "start_time": "2022-01-17T12:55:09.218Z"
   },
   {
    "duration": 11,
    "start_time": "2022-01-17T12:55:09.235Z"
   },
   {
    "duration": 6,
    "start_time": "2022-01-17T12:55:09.248Z"
   },
   {
    "duration": 20,
    "start_time": "2022-01-17T12:55:09.255Z"
   },
   {
    "duration": 32,
    "start_time": "2022-01-17T12:55:09.276Z"
   },
   {
    "duration": 271,
    "start_time": "2022-01-17T12:55:09.309Z"
   },
   {
    "duration": 30,
    "start_time": "2022-01-17T13:04:44.129Z"
   },
   {
    "duration": 75,
    "start_time": "2022-01-17T13:40:14.289Z"
   },
   {
    "duration": 262,
    "start_time": "2022-01-17T14:13:05.996Z"
   },
   {
    "duration": 217,
    "start_time": "2022-01-17T14:14:26.088Z"
   },
   {
    "duration": 219,
    "start_time": "2022-01-17T14:15:49.748Z"
   },
   {
    "duration": 1202,
    "start_time": "2022-01-17T14:16:03.775Z"
   },
   {
    "duration": 1050,
    "start_time": "2022-01-17T14:16:04.979Z"
   },
   {
    "duration": 22,
    "start_time": "2022-01-17T14:16:06.031Z"
   },
   {
    "duration": 18,
    "start_time": "2022-01-17T14:16:06.056Z"
   },
   {
    "duration": 14,
    "start_time": "2022-01-17T14:16:06.076Z"
   },
   {
    "duration": 10,
    "start_time": "2022-01-17T14:16:06.092Z"
   },
   {
    "duration": 9,
    "start_time": "2022-01-17T14:16:06.104Z"
   },
   {
    "duration": 16,
    "start_time": "2022-01-17T14:16:06.115Z"
   },
   {
    "duration": 32,
    "start_time": "2022-01-17T14:16:06.134Z"
   },
   {
    "duration": 113,
    "start_time": "2022-01-17T14:16:06.169Z"
   },
   {
    "duration": 14,
    "start_time": "2022-01-17T14:16:06.298Z"
   },
   {
    "duration": 34,
    "start_time": "2022-01-17T14:16:06.314Z"
   },
   {
    "duration": 78,
    "start_time": "2022-01-17T14:16:06.350Z"
   },
   {
    "duration": 10,
    "start_time": "2022-01-17T14:16:06.429Z"
   },
   {
    "duration": 23,
    "start_time": "2022-01-17T14:16:06.441Z"
   },
   {
    "duration": 58,
    "start_time": "2022-01-17T14:16:06.466Z"
   },
   {
    "duration": 8,
    "start_time": "2022-01-17T14:16:06.525Z"
   },
   {
    "duration": 13,
    "start_time": "2022-01-17T14:16:06.535Z"
   },
   {
    "duration": 19,
    "start_time": "2022-01-17T14:16:06.550Z"
   },
   {
    "duration": 6,
    "start_time": "2022-01-17T14:16:06.599Z"
   },
   {
    "duration": 126,
    "start_time": "2022-01-17T14:16:06.607Z"
   },
   {
    "duration": 731,
    "start_time": "2022-01-17T14:16:06.735Z"
   },
   {
    "duration": -10,
    "start_time": "2022-01-17T14:16:07.478Z"
   },
   {
    "duration": -15,
    "start_time": "2022-01-17T14:16:07.484Z"
   },
   {
    "duration": -18,
    "start_time": "2022-01-17T14:16:07.488Z"
   },
   {
    "duration": -23,
    "start_time": "2022-01-17T14:16:07.494Z"
   },
   {
    "duration": -26,
    "start_time": "2022-01-17T14:16:07.498Z"
   },
   {
    "duration": -30,
    "start_time": "2022-01-17T14:16:07.503Z"
   },
   {
    "duration": -34,
    "start_time": "2022-01-17T14:16:07.508Z"
   },
   {
    "duration": -41,
    "start_time": "2022-01-17T14:16:07.515Z"
   },
   {
    "duration": -45,
    "start_time": "2022-01-17T14:16:07.520Z"
   },
   {
    "duration": -48,
    "start_time": "2022-01-17T14:16:07.524Z"
   },
   {
    "duration": -51,
    "start_time": "2022-01-17T14:16:07.528Z"
   },
   {
    "duration": -53,
    "start_time": "2022-01-17T14:16:07.531Z"
   },
   {
    "duration": -56,
    "start_time": "2022-01-17T14:16:07.535Z"
   },
   {
    "duration": -58,
    "start_time": "2022-01-17T14:16:07.538Z"
   },
   {
    "duration": -60,
    "start_time": "2022-01-17T14:16:07.542Z"
   },
   {
    "duration": -63,
    "start_time": "2022-01-17T14:16:07.546Z"
   },
   {
    "duration": -75,
    "start_time": "2022-01-17T14:16:07.558Z"
   },
   {
    "duration": -80,
    "start_time": "2022-01-17T14:16:07.564Z"
   },
   {
    "duration": -83,
    "start_time": "2022-01-17T14:16:07.568Z"
   },
   {
    "duration": -85,
    "start_time": "2022-01-17T14:16:07.572Z"
   },
   {
    "duration": -89,
    "start_time": "2022-01-17T14:16:07.576Z"
   },
   {
    "duration": -93,
    "start_time": "2022-01-17T14:16:07.581Z"
   },
   {
    "duration": -96,
    "start_time": "2022-01-17T14:16:07.585Z"
   },
   {
    "duration": -98,
    "start_time": "2022-01-17T14:16:07.589Z"
   },
   {
    "duration": -103,
    "start_time": "2022-01-17T14:16:07.594Z"
   },
   {
    "duration": -107,
    "start_time": "2022-01-17T14:16:07.599Z"
   },
   {
    "duration": -110,
    "start_time": "2022-01-17T14:16:07.603Z"
   },
   {
    "duration": -114,
    "start_time": "2022-01-17T14:16:07.608Z"
   },
   {
    "duration": -117,
    "start_time": "2022-01-17T14:16:07.612Z"
   },
   {
    "duration": -120,
    "start_time": "2022-01-17T14:16:07.616Z"
   },
   {
    "duration": 1141,
    "start_time": "2022-01-17T14:27:28.264Z"
   },
   {
    "duration": 4085,
    "start_time": "2022-01-17T14:28:24.250Z"
   },
   {
    "duration": 74,
    "start_time": "2022-01-17T14:41:29.113Z"
   },
   {
    "duration": 33,
    "start_time": "2022-01-17T14:41:33.426Z"
   },
   {
    "duration": 65,
    "start_time": "2022-01-17T14:42:18.272Z"
   },
   {
    "duration": 30,
    "start_time": "2022-01-17T14:42:25.490Z"
   },
   {
    "duration": 11,
    "start_time": "2022-01-17T14:42:45.414Z"
   },
   {
    "duration": 24,
    "start_time": "2022-01-17T14:43:19.698Z"
   },
   {
    "duration": 29,
    "start_time": "2022-01-17T14:44:13.405Z"
   },
   {
    "duration": 14,
    "start_time": "2022-01-17T14:45:21.805Z"
   },
   {
    "duration": 220,
    "start_time": "2022-01-17T14:46:15.528Z"
   },
   {
    "duration": 72,
    "start_time": "2022-01-17T14:46:36.296Z"
   },
   {
    "duration": 26,
    "start_time": "2022-01-17T14:46:56.349Z"
   },
   {
    "duration": 4130,
    "start_time": "2022-01-17T14:48:27.253Z"
   },
   {
    "duration": 4097,
    "start_time": "2022-01-17T14:48:59.017Z"
   },
   {
    "duration": 23,
    "start_time": "2022-01-17T14:49:41.906Z"
   },
   {
    "duration": 4005,
    "start_time": "2022-01-17T14:50:17.059Z"
   },
   {
    "duration": 10,
    "start_time": "2022-01-17T14:50:48.029Z"
   },
   {
    "duration": 28,
    "start_time": "2022-01-17T14:53:17.268Z"
   },
   {
    "duration": 26,
    "start_time": "2022-01-17T14:53:34.416Z"
   },
   {
    "duration": 233,
    "start_time": "2022-01-17T14:53:38.207Z"
   },
   {
    "duration": 228,
    "start_time": "2022-01-17T14:55:21.994Z"
   },
   {
    "duration": 35,
    "start_time": "2022-01-17T14:58:31.663Z"
   },
   {
    "duration": 94,
    "start_time": "2022-01-17T15:00:48.829Z"
   },
   {
    "duration": 11,
    "start_time": "2022-01-17T15:00:56.556Z"
   },
   {
    "duration": 77,
    "start_time": "2022-01-17T15:01:19.375Z"
   },
   {
    "duration": 12,
    "start_time": "2022-01-17T15:01:25.900Z"
   },
   {
    "duration": 4901,
    "start_time": "2022-01-17T15:02:06.390Z"
   },
   {
    "duration": 9,
    "start_time": "2022-01-17T15:02:53.911Z"
   },
   {
    "duration": 7123,
    "start_time": "2022-01-17T15:06:13.909Z"
   },
   {
    "duration": 1243,
    "start_time": "2022-01-17T15:09:44.485Z"
   },
   {
    "duration": 7637,
    "start_time": "2022-01-17T15:10:18.131Z"
   },
   {
    "duration": 6958,
    "start_time": "2022-01-17T15:10:36.669Z"
   },
   {
    "duration": 6531,
    "start_time": "2022-01-17T15:11:40.449Z"
   },
   {
    "duration": 6491,
    "start_time": "2022-01-17T15:14:42.858Z"
   },
   {
    "duration": 6518,
    "start_time": "2022-01-17T15:15:27.924Z"
   },
   {
    "duration": 6555,
    "start_time": "2022-01-17T15:15:39.389Z"
   },
   {
    "duration": 81,
    "start_time": "2022-01-17T15:16:39.848Z"
   },
   {
    "duration": 56,
    "start_time": "2022-01-17T15:19:09.137Z"
   },
   {
    "duration": 79,
    "start_time": "2022-01-17T15:24:35.680Z"
   },
   {
    "duration": 9,
    "start_time": "2022-01-17T15:25:03.999Z"
   },
   {
    "duration": 13,
    "start_time": "2022-01-17T15:25:30.875Z"
   },
   {
    "duration": 9,
    "start_time": "2022-01-17T15:26:35.020Z"
   },
   {
    "duration": 74,
    "start_time": "2022-01-17T15:28:53.843Z"
   },
   {
    "duration": 84,
    "start_time": "2022-01-17T15:30:47.426Z"
   },
   {
    "duration": 104,
    "start_time": "2022-01-17T15:31:15.506Z"
   },
   {
    "duration": 551,
    "start_time": "2022-01-17T15:31:28.192Z"
   },
   {
    "duration": 66,
    "start_time": "2022-01-17T15:33:51.289Z"
   },
   {
    "duration": 1177,
    "start_time": "2022-01-17T15:42:53.706Z"
   },
   {
    "duration": 1173,
    "start_time": "2022-01-17T15:42:54.885Z"
   },
   {
    "duration": 25,
    "start_time": "2022-01-17T15:42:56.061Z"
   },
   {
    "duration": 20,
    "start_time": "2022-01-17T15:42:56.089Z"
   },
   {
    "duration": 16,
    "start_time": "2022-01-17T15:42:56.111Z"
   },
   {
    "duration": 9,
    "start_time": "2022-01-17T15:42:56.129Z"
   },
   {
    "duration": 11,
    "start_time": "2022-01-17T15:42:56.140Z"
   },
   {
    "duration": 53,
    "start_time": "2022-01-17T15:42:56.154Z"
   },
   {
    "duration": 34,
    "start_time": "2022-01-17T15:42:56.210Z"
   },
   {
    "duration": 110,
    "start_time": "2022-01-17T15:42:56.246Z"
   },
   {
    "duration": 13,
    "start_time": "2022-01-17T15:42:56.358Z"
   },
   {
    "duration": 47,
    "start_time": "2022-01-17T15:42:56.372Z"
   },
   {
    "duration": 52,
    "start_time": "2022-01-17T15:42:56.421Z"
   },
   {
    "duration": 31,
    "start_time": "2022-01-17T15:42:56.474Z"
   },
   {
    "duration": 20,
    "start_time": "2022-01-17T15:42:56.507Z"
   },
   {
    "duration": 43,
    "start_time": "2022-01-17T15:42:56.528Z"
   },
   {
    "duration": 30,
    "start_time": "2022-01-17T15:42:56.572Z"
   },
   {
    "duration": 15,
    "start_time": "2022-01-17T15:42:56.604Z"
   },
   {
    "duration": 20,
    "start_time": "2022-01-17T15:42:56.621Z"
   },
   {
    "duration": 7,
    "start_time": "2022-01-17T15:42:56.642Z"
   },
   {
    "duration": 177,
    "start_time": "2022-01-17T15:42:56.651Z"
   },
   {
    "duration": 6957,
    "start_time": "2022-01-17T15:42:56.830Z"
   },
   {
    "duration": 16,
    "start_time": "2022-01-17T15:43:03.791Z"
   },
   {
    "duration": 95,
    "start_time": "2022-01-17T15:43:03.809Z"
   },
   {
    "duration": 25,
    "start_time": "2022-01-17T15:43:03.906Z"
   },
   {
    "duration": 351,
    "start_time": "2022-01-17T15:43:03.934Z"
   },
   {
    "duration": 331,
    "start_time": "2022-01-17T15:43:04.287Z"
   },
   {
    "duration": 369,
    "start_time": "2022-01-17T15:43:04.620Z"
   },
   {
    "duration": 1033,
    "start_time": "2022-01-17T15:43:04.990Z"
   },
   {
    "duration": 291,
    "start_time": "2022-01-17T15:43:06.025Z"
   },
   {
    "duration": 15,
    "start_time": "2022-01-17T15:43:06.318Z"
   },
   {
    "duration": 6,
    "start_time": "2022-01-17T15:43:06.335Z"
   },
   {
    "duration": 17,
    "start_time": "2022-01-17T15:43:06.343Z"
   },
   {
    "duration": 45,
    "start_time": "2022-01-17T15:43:06.362Z"
   },
   {
    "duration": 11,
    "start_time": "2022-01-17T15:43:06.409Z"
   },
   {
    "duration": 10,
    "start_time": "2022-01-17T15:43:06.422Z"
   },
   {
    "duration": 74,
    "start_time": "2022-01-17T15:43:06.433Z"
   },
   {
    "duration": 54,
    "start_time": "2022-01-17T15:43:06.508Z"
   },
   {
    "duration": 64,
    "start_time": "2022-01-17T15:43:06.564Z"
   },
   {
    "duration": 8,
    "start_time": "2022-01-17T15:43:06.630Z"
   },
   {
    "duration": 10,
    "start_time": "2022-01-17T15:43:06.639Z"
   },
   {
    "duration": 70,
    "start_time": "2022-01-17T15:43:06.650Z"
   },
   {
    "duration": 8,
    "start_time": "2022-01-17T15:43:06.722Z"
   },
   {
    "duration": 2827,
    "start_time": "2022-01-17T15:43:06.732Z"
   },
   {
    "duration": 37,
    "start_time": "2022-01-17T15:43:09.561Z"
   },
   {
    "duration": 8,
    "start_time": "2022-01-17T15:43:09.600Z"
   },
   {
    "duration": 6,
    "start_time": "2022-01-17T15:43:09.610Z"
   },
   {
    "duration": 6,
    "start_time": "2022-01-17T15:43:09.618Z"
   },
   {
    "duration": 12,
    "start_time": "2022-01-17T15:43:09.625Z"
   },
   {
    "duration": 7,
    "start_time": "2022-01-17T15:43:09.639Z"
   },
   {
    "duration": 54,
    "start_time": "2022-01-17T15:43:09.648Z"
   },
   {
    "duration": 5,
    "start_time": "2022-01-17T15:43:09.704Z"
   },
   {
    "duration": 297,
    "start_time": "2022-01-17T15:43:09.711Z"
   },
   {
    "duration": 86,
    "start_time": "2022-01-17T15:53:06.598Z"
   },
   {
    "duration": 80,
    "start_time": "2022-01-17T15:54:37.289Z"
   },
   {
    "duration": 1334,
    "start_time": "2022-01-17T16:05:03.012Z"
   },
   {
    "duration": 224,
    "start_time": "2022-01-17T16:06:24.077Z"
   },
   {
    "duration": 230,
    "start_time": "2022-01-17T16:06:39.640Z"
   },
   {
    "duration": 226,
    "start_time": "2022-01-17T16:06:48.314Z"
   },
   {
    "duration": 137469,
    "start_time": "2022-01-17T16:07:57.875Z"
   },
   {
    "duration": 1266,
    "start_time": "2022-01-17T16:10:15.346Z"
   },
   {
    "duration": 21,
    "start_time": "2022-01-17T16:10:16.614Z"
   },
   {
    "duration": 17,
    "start_time": "2022-01-17T16:10:16.638Z"
   },
   {
    "duration": 15,
    "start_time": "2022-01-17T16:10:16.656Z"
   },
   {
    "duration": 28,
    "start_time": "2022-01-17T16:10:16.673Z"
   },
   {
    "duration": 10,
    "start_time": "2022-01-17T16:10:16.702Z"
   },
   {
    "duration": 17,
    "start_time": "2022-01-17T16:10:16.715Z"
   },
   {
    "duration": 31,
    "start_time": "2022-01-17T16:10:16.734Z"
   },
   {
    "duration": 103,
    "start_time": "2022-01-17T16:10:16.767Z"
   },
   {
    "duration": 35,
    "start_time": "2022-01-17T16:10:16.873Z"
   },
   {
    "duration": 30,
    "start_time": "2022-01-17T16:10:16.910Z"
   },
   {
    "duration": 71,
    "start_time": "2022-01-17T16:10:16.942Z"
   },
   {
    "duration": 10,
    "start_time": "2022-01-17T16:10:17.014Z"
   },
   {
    "duration": 20,
    "start_time": "2022-01-17T16:10:17.026Z"
   },
   {
    "duration": 67,
    "start_time": "2022-01-17T16:10:17.048Z"
   },
   {
    "duration": 8,
    "start_time": "2022-01-17T16:10:17.116Z"
   },
   {
    "duration": 15,
    "start_time": "2022-01-17T16:10:17.126Z"
   },
   {
    "duration": 21,
    "start_time": "2022-01-17T16:10:17.143Z"
   },
   {
    "duration": 7,
    "start_time": "2022-01-17T16:10:17.165Z"
   },
   {
    "duration": 135,
    "start_time": "2022-01-17T16:10:17.199Z"
   },
   {
    "duration": 6271,
    "start_time": "2022-01-17T16:10:17.336Z"
   },
   {
    "duration": 10,
    "start_time": "2022-01-17T16:10:23.611Z"
   },
   {
    "duration": 99,
    "start_time": "2022-01-17T16:10:23.623Z"
   },
   {
    "duration": 22,
    "start_time": "2022-01-17T16:10:23.724Z"
   },
   {
    "duration": 331,
    "start_time": "2022-01-17T16:10:23.748Z"
   },
   {
    "duration": 309,
    "start_time": "2022-01-17T16:10:24.081Z"
   },
   {
    "duration": 285,
    "start_time": "2022-01-17T16:10:24.391Z"
   },
   {
    "duration": 1019,
    "start_time": "2022-01-17T16:10:24.678Z"
   },
   {
    "duration": 261,
    "start_time": "2022-01-17T16:10:25.698Z"
   },
   {
    "duration": 15,
    "start_time": "2022-01-17T16:10:25.961Z"
   },
   {
    "duration": 23,
    "start_time": "2022-01-17T16:10:25.977Z"
   },
   {
    "duration": 17,
    "start_time": "2022-01-17T16:10:26.002Z"
   },
   {
    "duration": 14,
    "start_time": "2022-01-17T16:10:26.021Z"
   },
   {
    "duration": 10,
    "start_time": "2022-01-17T16:10:26.037Z"
   },
   {
    "duration": 18,
    "start_time": "2022-01-17T16:10:26.049Z"
   },
   {
    "duration": 71,
    "start_time": "2022-01-17T16:10:26.069Z"
   },
   {
    "duration": 71,
    "start_time": "2022-01-17T16:10:26.141Z"
   },
   {
    "duration": 47,
    "start_time": "2022-01-17T16:10:26.214Z"
   },
   {
    "duration": 8,
    "start_time": "2022-01-17T16:10:26.262Z"
   },
   {
    "duration": 32,
    "start_time": "2022-01-17T16:10:26.271Z"
   },
   {
    "duration": 44,
    "start_time": "2022-01-17T16:10:26.304Z"
   },
   {
    "duration": 7,
    "start_time": "2022-01-17T16:10:26.350Z"
   },
   {
    "duration": 2697,
    "start_time": "2022-01-17T16:10:26.359Z"
   },
   {
    "duration": 2825,
    "start_time": "2022-01-17T16:10:29.058Z"
   },
   {
    "duration": 367,
    "start_time": "2022-01-17T16:10:31.884Z"
   },
   {
    "duration": 20,
    "start_time": "2022-01-17T16:10:32.252Z"
   },
   {
    "duration": 24,
    "start_time": "2022-01-17T16:10:32.274Z"
   },
   {
    "duration": 4,
    "start_time": "2022-01-17T16:10:32.300Z"
   },
   {
    "duration": 5,
    "start_time": "2022-01-17T16:10:32.305Z"
   },
   {
    "duration": 12,
    "start_time": "2022-01-17T16:10:32.312Z"
   },
   {
    "duration": 5,
    "start_time": "2022-01-17T16:10:32.326Z"
   },
   {
    "duration": 6,
    "start_time": "2022-01-17T16:10:32.333Z"
   },
   {
    "duration": 5,
    "start_time": "2022-01-17T16:10:32.340Z"
   },
   {
    "duration": 314,
    "start_time": "2022-01-17T16:10:32.346Z"
   },
   {
    "duration": 1306,
    "start_time": "2022-01-17T16:31:59.316Z"
   },
   {
    "duration": 1414,
    "start_time": "2022-01-17T16:34:35.166Z"
   },
   {
    "duration": 1258,
    "start_time": "2022-01-17T16:34:52.714Z"
   },
   {
    "duration": 1559,
    "start_time": "2022-01-17T16:43:39.621Z"
   },
   {
    "duration": 1464,
    "start_time": "2022-01-17T16:45:50.072Z"
   },
   {
    "duration": 1350,
    "start_time": "2022-01-17T16:45:59.417Z"
   },
   {
    "duration": 1361,
    "start_time": "2022-01-17T16:46:23.197Z"
   },
   {
    "duration": 1174,
    "start_time": "2022-01-17T16:46:46.071Z"
   },
   {
    "duration": 1409,
    "start_time": "2022-01-17T16:48:02.582Z"
   },
   {
    "duration": 1275,
    "start_time": "2022-01-17T16:49:34.339Z"
   },
   {
    "duration": 77,
    "start_time": "2022-01-17T16:51:27.489Z"
   },
   {
    "duration": 9,
    "start_time": "2022-01-17T17:14:12.289Z"
   },
   {
    "duration": 9,
    "start_time": "2022-01-17T17:14:23.552Z"
   },
   {
    "duration": 8,
    "start_time": "2022-01-17T17:14:36.900Z"
   },
   {
    "duration": 11,
    "start_time": "2022-01-17T17:14:47.248Z"
   },
   {
    "duration": 6105,
    "start_time": "2022-01-17T17:16:07.413Z"
   },
   {
    "duration": 171,
    "start_time": "2022-01-17T17:18:34.701Z"
   },
   {
    "duration": 76,
    "start_time": "2022-01-17T17:18:46.982Z"
   },
   {
    "duration": 21,
    "start_time": "2022-01-17T17:18:58.198Z"
   },
   {
    "duration": 9,
    "start_time": "2022-01-17T17:19:51.365Z"
   },
   {
    "duration": 33,
    "start_time": "2022-01-17T17:19:53.720Z"
   },
   {
    "duration": 21,
    "start_time": "2022-01-17T17:20:46.577Z"
   },
   {
    "duration": 72,
    "start_time": "2022-01-17T17:22:08.775Z"
   },
   {
    "duration": 73,
    "start_time": "2022-01-17T17:22:12.574Z"
   },
   {
    "duration": 68,
    "start_time": "2022-01-17T17:22:17.463Z"
   },
   {
    "duration": 75,
    "start_time": "2022-01-17T17:22:30.726Z"
   },
   {
    "duration": 77,
    "start_time": "2022-01-17T17:22:33.441Z"
   },
   {
    "duration": 71,
    "start_time": "2022-01-17T17:23:13.295Z"
   },
   {
    "duration": 84,
    "start_time": "2022-01-17T17:23:23.248Z"
   },
   {
    "duration": 17,
    "start_time": "2022-01-17T17:23:46.061Z"
   },
   {
    "duration": 10,
    "start_time": "2022-01-17T17:23:51.002Z"
   },
   {
    "duration": 3593,
    "start_time": "2022-01-17T18:08:24.769Z"
   },
   {
    "duration": 1207,
    "start_time": "2022-01-17T18:08:28.365Z"
   },
   {
    "duration": 24,
    "start_time": "2022-01-17T18:08:29.574Z"
   },
   {
    "duration": 19,
    "start_time": "2022-01-17T18:08:29.600Z"
   },
   {
    "duration": 24,
    "start_time": "2022-01-17T18:08:29.622Z"
   },
   {
    "duration": 20,
    "start_time": "2022-01-17T18:08:29.649Z"
   },
   {
    "duration": 12,
    "start_time": "2022-01-17T18:08:29.672Z"
   },
   {
    "duration": 15,
    "start_time": "2022-01-17T18:08:29.700Z"
   },
   {
    "duration": 53,
    "start_time": "2022-01-17T18:08:29.718Z"
   },
   {
    "duration": 105,
    "start_time": "2022-01-17T18:08:29.773Z"
   },
   {
    "duration": 19,
    "start_time": "2022-01-17T18:08:29.881Z"
   },
   {
    "duration": 33,
    "start_time": "2022-01-17T18:08:29.903Z"
   },
   {
    "duration": 85,
    "start_time": "2022-01-17T18:08:29.938Z"
   },
   {
    "duration": 9,
    "start_time": "2022-01-17T18:08:30.026Z"
   },
   {
    "duration": 21,
    "start_time": "2022-01-17T18:08:30.038Z"
   },
   {
    "duration": 71,
    "start_time": "2022-01-17T18:08:30.061Z"
   },
   {
    "duration": 7,
    "start_time": "2022-01-17T18:08:30.134Z"
   },
   {
    "duration": 18,
    "start_time": "2022-01-17T18:08:30.142Z"
   },
   {
    "duration": 21,
    "start_time": "2022-01-17T18:08:30.161Z"
   },
   {
    "duration": 6,
    "start_time": "2022-01-17T18:08:30.199Z"
   },
   {
    "duration": 149,
    "start_time": "2022-01-17T18:08:30.207Z"
   },
   {
    "duration": 6276,
    "start_time": "2022-01-17T18:08:30.358Z"
   },
   {
    "duration": 10,
    "start_time": "2022-01-17T18:08:36.638Z"
   },
   {
    "duration": 107,
    "start_time": "2022-01-17T18:08:36.651Z"
   },
   {
    "duration": 25,
    "start_time": "2022-01-17T18:08:36.759Z"
   },
   {
    "duration": 336,
    "start_time": "2022-01-17T18:08:36.799Z"
   },
   {
    "duration": 334,
    "start_time": "2022-01-17T18:08:37.137Z"
   },
   {
    "duration": 299,
    "start_time": "2022-01-17T18:08:37.473Z"
   },
   {
    "duration": 1011,
    "start_time": "2022-01-17T18:08:37.774Z"
   },
   {
    "duration": 287,
    "start_time": "2022-01-17T18:08:38.786Z"
   },
   {
    "duration": 28,
    "start_time": "2022-01-17T18:08:39.074Z"
   },
   {
    "duration": 7,
    "start_time": "2022-01-17T18:08:39.104Z"
   },
   {
    "duration": 23,
    "start_time": "2022-01-17T18:08:39.113Z"
   },
   {
    "duration": 22,
    "start_time": "2022-01-17T18:08:39.138Z"
   },
   {
    "duration": 53,
    "start_time": "2022-01-17T18:08:39.162Z"
   },
   {
    "duration": 14,
    "start_time": "2022-01-17T18:08:39.217Z"
   },
   {
    "duration": 77,
    "start_time": "2022-01-17T18:08:39.233Z"
   },
   {
    "duration": 52,
    "start_time": "2022-01-17T18:08:39.311Z"
   },
   {
    "duration": 64,
    "start_time": "2022-01-17T18:08:39.365Z"
   },
   {
    "duration": 8,
    "start_time": "2022-01-17T18:08:39.431Z"
   },
   {
    "duration": 12,
    "start_time": "2022-01-17T18:08:39.441Z"
   },
   {
    "duration": 67,
    "start_time": "2022-01-17T18:08:39.455Z"
   },
   {
    "duration": 9,
    "start_time": "2022-01-17T18:08:39.524Z"
   },
   {
    "duration": 2706,
    "start_time": "2022-01-17T18:08:39.534Z"
   },
   {
    "duration": 1386,
    "start_time": "2022-01-17T18:08:42.242Z"
   },
   {
    "duration": 20,
    "start_time": "2022-01-17T18:08:43.630Z"
   },
   {
    "duration": 8,
    "start_time": "2022-01-17T18:08:43.651Z"
   },
   {
    "duration": 8,
    "start_time": "2022-01-17T18:08:43.660Z"
   },
   {
    "duration": 6,
    "start_time": "2022-01-17T18:08:43.670Z"
   },
   {
    "duration": 12,
    "start_time": "2022-01-17T18:08:43.677Z"
   },
   {
    "duration": 9,
    "start_time": "2022-01-17T18:08:43.690Z"
   },
   {
    "duration": 7,
    "start_time": "2022-01-17T18:08:43.701Z"
   },
   {
    "duration": 4,
    "start_time": "2022-01-17T18:08:43.710Z"
   },
   {
    "duration": 342,
    "start_time": "2022-01-17T18:08:43.716Z"
   },
   {
    "duration": 3198,
    "start_time": "2022-01-17T18:18:28.851Z"
   },
   {
    "duration": 2602,
    "start_time": "2022-01-17T18:18:32.051Z"
   },
   {
    "duration": 22,
    "start_time": "2022-01-17T18:18:34.657Z"
   },
   {
    "duration": 19,
    "start_time": "2022-01-17T18:18:34.681Z"
   },
   {
    "duration": 15,
    "start_time": "2022-01-17T18:18:34.702Z"
   },
   {
    "duration": 10,
    "start_time": "2022-01-17T18:18:34.718Z"
   },
   {
    "duration": 10,
    "start_time": "2022-01-17T18:18:34.730Z"
   },
   {
    "duration": 13,
    "start_time": "2022-01-17T18:18:34.742Z"
   },
   {
    "duration": 54,
    "start_time": "2022-01-17T18:18:34.757Z"
   },
   {
    "duration": 97,
    "start_time": "2022-01-17T18:18:34.812Z"
   },
   {
    "duration": 11,
    "start_time": "2022-01-17T18:18:34.911Z"
   },
   {
    "duration": 33,
    "start_time": "2022-01-17T18:18:34.924Z"
   },
   {
    "duration": 79,
    "start_time": "2022-01-17T18:18:34.959Z"
   },
   {
    "duration": 8,
    "start_time": "2022-01-17T18:18:35.039Z"
   },
   {
    "duration": 19,
    "start_time": "2022-01-17T18:18:35.049Z"
   },
   {
    "duration": 60,
    "start_time": "2022-01-17T18:18:35.070Z"
   },
   {
    "duration": 7,
    "start_time": "2022-01-17T18:18:35.132Z"
   },
   {
    "duration": 16,
    "start_time": "2022-01-17T18:18:35.141Z"
   },
   {
    "duration": 40,
    "start_time": "2022-01-17T18:18:35.158Z"
   },
   {
    "duration": 6,
    "start_time": "2022-01-17T18:18:35.200Z"
   },
   {
    "duration": 139,
    "start_time": "2022-01-17T18:18:35.208Z"
   },
   {
    "duration": 6185,
    "start_time": "2022-01-17T18:18:35.349Z"
   },
   {
    "duration": 9,
    "start_time": "2022-01-17T18:18:41.538Z"
   },
   {
    "duration": 101,
    "start_time": "2022-01-17T18:18:41.549Z"
   },
   {
    "duration": 24,
    "start_time": "2022-01-17T18:18:41.652Z"
   },
   {
    "duration": 319,
    "start_time": "2022-01-17T18:18:41.678Z"
   },
   {
    "duration": 293,
    "start_time": "2022-01-17T18:18:41.999Z"
   },
   {
    "duration": 287,
    "start_time": "2022-01-17T18:18:42.293Z"
   },
   {
    "duration": 1008,
    "start_time": "2022-01-17T18:18:42.582Z"
   },
   {
    "duration": 271,
    "start_time": "2022-01-17T18:18:43.592Z"
   },
   {
    "duration": 19,
    "start_time": "2022-01-17T18:18:43.864Z"
   },
   {
    "duration": 17,
    "start_time": "2022-01-17T18:18:43.885Z"
   },
   {
    "duration": 23,
    "start_time": "2022-01-17T18:18:43.903Z"
   },
   {
    "duration": 19,
    "start_time": "2022-01-17T18:18:43.927Z"
   },
   {
    "duration": 15,
    "start_time": "2022-01-17T18:18:43.947Z"
   },
   {
    "duration": 37,
    "start_time": "2022-01-17T18:18:43.963Z"
   },
   {
    "duration": 44,
    "start_time": "2022-01-17T18:18:44.002Z"
   },
   {
    "duration": 81,
    "start_time": "2022-01-17T18:18:44.048Z"
   },
   {
    "duration": 41,
    "start_time": "2022-01-17T18:18:44.130Z"
   },
   {
    "duration": 8,
    "start_time": "2022-01-17T18:18:44.173Z"
   },
   {
    "duration": 8,
    "start_time": "2022-01-17T18:18:44.199Z"
   },
   {
    "duration": 58,
    "start_time": "2022-01-17T18:18:44.208Z"
   },
   {
    "duration": 8,
    "start_time": "2022-01-17T18:18:44.267Z"
   },
   {
    "duration": 2706,
    "start_time": "2022-01-17T18:18:44.276Z"
   },
   {
    "duration": 1257,
    "start_time": "2022-01-17T18:18:46.984Z"
   },
   {
    "duration": 20,
    "start_time": "2022-01-17T18:18:48.242Z"
   },
   {
    "duration": 7,
    "start_time": "2022-01-17T18:18:48.264Z"
   },
   {
    "duration": 26,
    "start_time": "2022-01-17T18:18:48.272Z"
   },
   {
    "duration": 4,
    "start_time": "2022-01-17T18:18:48.300Z"
   },
   {
    "duration": 21,
    "start_time": "2022-01-17T18:18:48.306Z"
   },
   {
    "duration": 8,
    "start_time": "2022-01-17T18:18:48.329Z"
   },
   {
    "duration": 12,
    "start_time": "2022-01-17T18:18:48.339Z"
   },
   {
    "duration": 11,
    "start_time": "2022-01-17T18:18:48.353Z"
   },
   {
    "duration": 291,
    "start_time": "2022-01-17T18:18:48.366Z"
   },
   {
    "duration": 1334,
    "start_time": "2022-01-17T20:13:14.133Z"
   },
   {
    "duration": 1320,
    "start_time": "2022-01-17T20:13:38.893Z"
   },
   {
    "duration": 1319,
    "start_time": "2022-01-17T20:15:17.590Z"
   },
   {
    "duration": 1337,
    "start_time": "2022-01-17T20:15:28.509Z"
   },
   {
    "duration": 1378,
    "start_time": "2022-01-17T20:15:50.135Z"
   },
   {
    "duration": 1136,
    "start_time": "2022-01-17T20:17:36.746Z"
   },
   {
    "duration": 68,
    "start_time": "2022-01-17T20:18:12.026Z"
   },
   {
    "duration": 98,
    "start_time": "2022-01-17T20:18:17.033Z"
   },
   {
    "duration": 1154,
    "start_time": "2022-01-17T20:18:34.672Z"
   },
   {
    "duration": 1227,
    "start_time": "2022-01-17T20:18:52.038Z"
   },
   {
    "duration": 3415,
    "start_time": "2022-01-17T20:19:08.449Z"
   },
   {
    "duration": 1216,
    "start_time": "2022-01-17T20:19:11.867Z"
   },
   {
    "duration": 24,
    "start_time": "2022-01-17T20:19:13.085Z"
   },
   {
    "duration": 22,
    "start_time": "2022-01-17T20:19:13.111Z"
   },
   {
    "duration": 19,
    "start_time": "2022-01-17T20:19:13.135Z"
   },
   {
    "duration": 16,
    "start_time": "2022-01-17T20:19:13.156Z"
   },
   {
    "duration": 24,
    "start_time": "2022-01-17T20:19:13.173Z"
   },
   {
    "duration": 24,
    "start_time": "2022-01-17T20:19:13.200Z"
   },
   {
    "duration": 42,
    "start_time": "2022-01-17T20:19:13.226Z"
   },
   {
    "duration": 92,
    "start_time": "2022-01-17T20:19:13.270Z"
   },
   {
    "duration": 8,
    "start_time": "2022-01-17T20:19:13.364Z"
   },
   {
    "duration": 57,
    "start_time": "2022-01-17T20:19:13.374Z"
   },
   {
    "duration": 51,
    "start_time": "2022-01-17T20:19:13.433Z"
   },
   {
    "duration": 16,
    "start_time": "2022-01-17T20:19:13.486Z"
   },
   {
    "duration": 42,
    "start_time": "2022-01-17T20:19:13.504Z"
   },
   {
    "duration": 42,
    "start_time": "2022-01-17T20:19:13.548Z"
   },
   {
    "duration": 8,
    "start_time": "2022-01-17T20:19:13.592Z"
   },
   {
    "duration": 31,
    "start_time": "2022-01-17T20:19:13.601Z"
   },
   {
    "duration": 29,
    "start_time": "2022-01-17T20:19:13.634Z"
   },
   {
    "duration": 10,
    "start_time": "2022-01-17T20:19:13.665Z"
   },
   {
    "duration": 135,
    "start_time": "2022-01-17T20:19:13.676Z"
   },
   {
    "duration": 6672,
    "start_time": "2022-01-17T20:19:13.813Z"
   },
   {
    "duration": 21,
    "start_time": "2022-01-17T20:19:20.489Z"
   },
   {
    "duration": 109,
    "start_time": "2022-01-17T20:19:20.513Z"
   },
   {
    "duration": 25,
    "start_time": "2022-01-17T20:19:20.624Z"
   },
   {
    "duration": 355,
    "start_time": "2022-01-17T20:19:20.651Z"
   },
   {
    "duration": 320,
    "start_time": "2022-01-17T20:19:21.008Z"
   },
   {
    "duration": 311,
    "start_time": "2022-01-17T20:19:21.329Z"
   },
   {
    "duration": 1138,
    "start_time": "2022-01-17T20:19:21.642Z"
   },
   {
    "duration": 299,
    "start_time": "2022-01-17T20:19:22.782Z"
   },
   {
    "duration": 27,
    "start_time": "2022-01-17T20:19:23.083Z"
   },
   {
    "duration": 6,
    "start_time": "2022-01-17T20:19:23.111Z"
   },
   {
    "duration": 24,
    "start_time": "2022-01-17T20:19:23.119Z"
   },
   {
    "duration": 21,
    "start_time": "2022-01-17T20:19:23.144Z"
   },
   {
    "duration": 42,
    "start_time": "2022-01-17T20:19:23.167Z"
   },
   {
    "duration": 10,
    "start_time": "2022-01-17T20:19:23.211Z"
   },
   {
    "duration": 47,
    "start_time": "2022-01-17T20:19:23.223Z"
   },
   {
    "duration": 73,
    "start_time": "2022-01-17T20:19:23.272Z"
   },
   {
    "duration": 59,
    "start_time": "2022-01-17T20:19:23.347Z"
   },
   {
    "duration": 9,
    "start_time": "2022-01-17T20:19:23.408Z"
   },
   {
    "duration": 10,
    "start_time": "2022-01-17T20:19:23.418Z"
   },
   {
    "duration": 70,
    "start_time": "2022-01-17T20:19:23.429Z"
   },
   {
    "duration": 9,
    "start_time": "2022-01-17T20:19:23.501Z"
   },
   {
    "duration": 2795,
    "start_time": "2022-01-17T20:19:23.512Z"
   },
   {
    "duration": 1203,
    "start_time": "2022-01-17T20:19:26.309Z"
   },
   {
    "duration": 21,
    "start_time": "2022-01-17T20:19:27.514Z"
   },
   {
    "duration": 7,
    "start_time": "2022-01-17T20:19:27.537Z"
   },
   {
    "duration": 4,
    "start_time": "2022-01-17T20:19:27.546Z"
   },
   {
    "duration": 8,
    "start_time": "2022-01-17T20:19:27.552Z"
   },
   {
    "duration": 40,
    "start_time": "2022-01-17T20:19:27.561Z"
   },
   {
    "duration": 5,
    "start_time": "2022-01-17T20:19:27.603Z"
   },
   {
    "duration": 8,
    "start_time": "2022-01-17T20:19:27.610Z"
   },
   {
    "duration": 4,
    "start_time": "2022-01-17T20:19:27.619Z"
   },
   {
    "duration": 303,
    "start_time": "2022-01-17T20:19:27.625Z"
   }
  ],
  "kernelspec": {
   "display_name": "Python 3",
   "language": "python",
   "name": "python3"
  },
  "language_info": {
   "codemirror_mode": {
    "name": "ipython",
    "version": 3
   },
   "file_extension": ".py",
   "mimetype": "text/x-python",
   "name": "python",
   "nbconvert_exporter": "python",
   "pygments_lexer": "ipython3",
   "version": "3.8.8"
  },
  "toc": {
   "base_numbering": 1,
   "nav_menu": {},
   "number_sections": false,
   "sideBar": true,
   "skip_h1_title": false,
   "title_cell": "Table of Contents",
   "title_sidebar": "Contents",
   "toc_cell": false,
   "toc_position": {},
   "toc_section_display": true,
   "toc_window_display": true
  }
 },
 "nbformat": 4,
 "nbformat_minor": 2
}
