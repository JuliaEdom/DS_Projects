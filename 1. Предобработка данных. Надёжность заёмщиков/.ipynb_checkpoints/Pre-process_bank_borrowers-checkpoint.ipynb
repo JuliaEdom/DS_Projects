{
 "cells": [
  {
   "cell_type": "markdown",
   "metadata": {},
   "source": [
    "# Исследование надёжности заёмщиков\n",
    "\n",
    "По заказу кредитного отдела банка необходимо разобраться, влияет ли семейное положение и количество детей клиента на факт погашения кредита в срок. Входные данные от банка — статистика о платёжеспособности клиентов.\n",
    "\n",
    "Результаты исследования будут учтены при построении модели **кредитного скоринга** — специальной системы, которая оценивает способность потенциального заёмщика вернуть кредит банку."
   ]
  },
  {
   "cell_type": "markdown",
   "metadata": {},
   "source": [
    "**Описание данных**\n",
    "\n",
    "    children — количество детей в семье\n",
    "    days_employed — общий трудовой стаж в днях\n",
    "    dob_years — возраст клиента в годах\n",
    "    education — уровень образования клиента\n",
    "    education_id — идентификатор уровня образования\n",
    "    family_status — семейное положение\n",
    "    family_status_id — идентификатор семейного положения\n",
    "    gender — пол клиента\n",
    "    income_type — тип занятости\n",
    "    debt — имел ли задолженность по возврату кредитов\n",
    "    total_income — ежемесячный доход\n",
    "    purpose — цель получения кредита"
   ]
  },
  {
   "cell_type": "markdown",
   "metadata": {},
   "source": [
    "**План проекта**\n",
    "    \n",
    "    1. Исходные данные, общая информация\n",
    "    2. Предобработка данных\n",
    "    3. Влияние отдельных признаков на возврат кредита в срок\n",
    "    Заключение"
   ]
  },
  {
   "cell_type": "markdown",
   "metadata": {},
   "source": [
    "### 1. Исходные данные, общая информация"
   ]
  },
  {
   "cell_type": "code",
   "execution_count": 1,
   "metadata": {
    "scrolled": true
   },
   "outputs": [
    {
     "name": "stdout",
     "output_type": "stream",
     "text": [
      "Collecting pymystem3\n",
      "  Downloading pymystem3-0.2.0-py3-none-any.whl (10 kB)\n",
      "Requirement already satisfied: requests in /Users/julia/opt/anaconda3/lib/python3.8/site-packages (from pymystem3) (2.24.0)\n",
      "Requirement already satisfied: chardet<4,>=3.0.2 in /Users/julia/opt/anaconda3/lib/python3.8/site-packages (from requests->pymystem3) (3.0.4)\n",
      "Requirement already satisfied: urllib3!=1.25.0,!=1.25.1,<1.26,>=1.21.1 in /Users/julia/opt/anaconda3/lib/python3.8/site-packages (from requests->pymystem3) (1.25.11)\n",
      "Requirement already satisfied: idna<3,>=2.5 in /Users/julia/opt/anaconda3/lib/python3.8/site-packages (from requests->pymystem3) (2.10)\n",
      "Requirement already satisfied: certifi>=2017.4.17 in /Users/julia/opt/anaconda3/lib/python3.8/site-packages (from requests->pymystem3) (2020.6.20)\n",
      "Installing collected packages: pymystem3\n",
      "Successfully installed pymystem3-0.2.0\n"
     ]
    }
   ],
   "source": [
    "!pip install pymystem3\n",
    "import pandas as pd\n",
    "from pymystem3 import Mystem\n",
    "from collections import Counter\n",
    "import collections\n",
    "from collections import Counter\n",
    "import warnings\n",
    "warnings.filterwarnings(\"ignore\")"
   ]
  },
  {
   "cell_type": "code",
   "execution_count": 2,
   "metadata": {},
   "outputs": [
    {
     "data": {
      "text/html": [
       "<div>\n",
       "<style scoped>\n",
       "    .dataframe tbody tr th:only-of-type {\n",
       "        vertical-align: middle;\n",
       "    }\n",
       "\n",
       "    .dataframe tbody tr th {\n",
       "        vertical-align: top;\n",
       "    }\n",
       "\n",
       "    .dataframe thead th {\n",
       "        text-align: right;\n",
       "    }\n",
       "</style>\n",
       "<table border=\"1\" class=\"dataframe\">\n",
       "  <thead>\n",
       "    <tr style=\"text-align: right;\">\n",
       "      <th></th>\n",
       "      <th>children</th>\n",
       "      <th>days_employed</th>\n",
       "      <th>dob_years</th>\n",
       "      <th>education</th>\n",
       "      <th>education_id</th>\n",
       "      <th>family_status</th>\n",
       "      <th>family_status_id</th>\n",
       "      <th>gender</th>\n",
       "      <th>income_type</th>\n",
       "      <th>debt</th>\n",
       "      <th>total_income</th>\n",
       "      <th>purpose</th>\n",
       "    </tr>\n",
       "  </thead>\n",
       "  <tbody>\n",
       "    <tr>\n",
       "      <th>0</th>\n",
       "      <td>1</td>\n",
       "      <td>-8437.673028</td>\n",
       "      <td>42</td>\n",
       "      <td>высшее</td>\n",
       "      <td>0</td>\n",
       "      <td>женат / замужем</td>\n",
       "      <td>0</td>\n",
       "      <td>F</td>\n",
       "      <td>сотрудник</td>\n",
       "      <td>0</td>\n",
       "      <td>253875.639453</td>\n",
       "      <td>покупка жилья</td>\n",
       "    </tr>\n",
       "    <tr>\n",
       "      <th>1</th>\n",
       "      <td>1</td>\n",
       "      <td>-4024.803754</td>\n",
       "      <td>36</td>\n",
       "      <td>среднее</td>\n",
       "      <td>1</td>\n",
       "      <td>женат / замужем</td>\n",
       "      <td>0</td>\n",
       "      <td>F</td>\n",
       "      <td>сотрудник</td>\n",
       "      <td>0</td>\n",
       "      <td>112080.014102</td>\n",
       "      <td>приобретение автомобиля</td>\n",
       "    </tr>\n",
       "    <tr>\n",
       "      <th>2</th>\n",
       "      <td>0</td>\n",
       "      <td>-5623.422610</td>\n",
       "      <td>33</td>\n",
       "      <td>Среднее</td>\n",
       "      <td>1</td>\n",
       "      <td>женат / замужем</td>\n",
       "      <td>0</td>\n",
       "      <td>M</td>\n",
       "      <td>сотрудник</td>\n",
       "      <td>0</td>\n",
       "      <td>145885.952297</td>\n",
       "      <td>покупка жилья</td>\n",
       "    </tr>\n",
       "    <tr>\n",
       "      <th>3</th>\n",
       "      <td>3</td>\n",
       "      <td>-4124.747207</td>\n",
       "      <td>32</td>\n",
       "      <td>среднее</td>\n",
       "      <td>1</td>\n",
       "      <td>женат / замужем</td>\n",
       "      <td>0</td>\n",
       "      <td>M</td>\n",
       "      <td>сотрудник</td>\n",
       "      <td>0</td>\n",
       "      <td>267628.550329</td>\n",
       "      <td>дополнительное образование</td>\n",
       "    </tr>\n",
       "    <tr>\n",
       "      <th>4</th>\n",
       "      <td>0</td>\n",
       "      <td>340266.072047</td>\n",
       "      <td>53</td>\n",
       "      <td>среднее</td>\n",
       "      <td>1</td>\n",
       "      <td>гражданский брак</td>\n",
       "      <td>1</td>\n",
       "      <td>F</td>\n",
       "      <td>пенсионер</td>\n",
       "      <td>0</td>\n",
       "      <td>158616.077870</td>\n",
       "      <td>сыграть свадьбу</td>\n",
       "    </tr>\n",
       "  </tbody>\n",
       "</table>\n",
       "</div>"
      ],
      "text/plain": [
       "   children  days_employed  dob_years education  education_id  \\\n",
       "0         1   -8437.673028         42    высшее             0   \n",
       "1         1   -4024.803754         36   среднее             1   \n",
       "2         0   -5623.422610         33   Среднее             1   \n",
       "3         3   -4124.747207         32   среднее             1   \n",
       "4         0  340266.072047         53   среднее             1   \n",
       "\n",
       "      family_status  family_status_id gender income_type  debt   total_income  \\\n",
       "0   женат / замужем                 0      F   сотрудник     0  253875.639453   \n",
       "1   женат / замужем                 0      F   сотрудник     0  112080.014102   \n",
       "2   женат / замужем                 0      M   сотрудник     0  145885.952297   \n",
       "3   женат / замужем                 0      M   сотрудник     0  267628.550329   \n",
       "4  гражданский брак                 1      F   пенсионер     0  158616.077870   \n",
       "\n",
       "                      purpose  \n",
       "0               покупка жилья  \n",
       "1     приобретение автомобиля  \n",
       "2               покупка жилья  \n",
       "3  дополнительное образование  \n",
       "4             сыграть свадьбу  "
      ]
     },
     "execution_count": 2,
     "metadata": {},
     "output_type": "execute_result"
    }
   ],
   "source": [
    "data = pd.read_csv('/datasets/data.csv')\n",
    "data.head()"
   ]
  },
  {
   "cell_type": "code",
   "execution_count": 3,
   "metadata": {
    "scrolled": true
   },
   "outputs": [
    {
     "name": "stdout",
     "output_type": "stream",
     "text": [
      "<class 'pandas.core.frame.DataFrame'>\n",
      "RangeIndex: 21525 entries, 0 to 21524\n",
      "Data columns (total 12 columns):\n",
      " #   Column            Non-Null Count  Dtype  \n",
      "---  ------            --------------  -----  \n",
      " 0   children          21525 non-null  int64  \n",
      " 1   days_employed     19351 non-null  float64\n",
      " 2   dob_years         21525 non-null  int64  \n",
      " 3   education         21525 non-null  object \n",
      " 4   education_id      21525 non-null  int64  \n",
      " 5   family_status     21525 non-null  object \n",
      " 6   family_status_id  21525 non-null  int64  \n",
      " 7   gender            21525 non-null  object \n",
      " 8   income_type       21525 non-null  object \n",
      " 9   debt              21525 non-null  int64  \n",
      " 10  total_income      19351 non-null  float64\n",
      " 11  purpose           21525 non-null  object \n",
      "dtypes: float64(2), int64(5), object(5)\n",
      "memory usage: 2.0+ MB\n"
     ]
    }
   ],
   "source": [
    "data.info()"
   ]
  },
  {
   "cell_type": "code",
   "execution_count": 4,
   "metadata": {},
   "outputs": [
    {
     "data": {
      "text/html": [
       "<div>\n",
       "<style scoped>\n",
       "    .dataframe tbody tr th:only-of-type {\n",
       "        vertical-align: middle;\n",
       "    }\n",
       "\n",
       "    .dataframe tbody tr th {\n",
       "        vertical-align: top;\n",
       "    }\n",
       "\n",
       "    .dataframe thead th {\n",
       "        text-align: right;\n",
       "    }\n",
       "</style>\n",
       "<table border=\"1\" class=\"dataframe\">\n",
       "  <thead>\n",
       "    <tr style=\"text-align: right;\">\n",
       "      <th></th>\n",
       "      <th>children</th>\n",
       "      <th>days_employed</th>\n",
       "      <th>dob_years</th>\n",
       "      <th>education_id</th>\n",
       "      <th>family_status_id</th>\n",
       "      <th>debt</th>\n",
       "      <th>total_income</th>\n",
       "    </tr>\n",
       "  </thead>\n",
       "  <tbody>\n",
       "    <tr>\n",
       "      <th>count</th>\n",
       "      <td>21525.00</td>\n",
       "      <td>19351.00</td>\n",
       "      <td>21525.00</td>\n",
       "      <td>21525.00</td>\n",
       "      <td>21525.00</td>\n",
       "      <td>21525.00</td>\n",
       "      <td>19351.00</td>\n",
       "    </tr>\n",
       "    <tr>\n",
       "      <th>mean</th>\n",
       "      <td>0.54</td>\n",
       "      <td>63046.50</td>\n",
       "      <td>43.29</td>\n",
       "      <td>0.82</td>\n",
       "      <td>0.97</td>\n",
       "      <td>0.08</td>\n",
       "      <td>167422.30</td>\n",
       "    </tr>\n",
       "    <tr>\n",
       "      <th>std</th>\n",
       "      <td>1.38</td>\n",
       "      <td>140827.31</td>\n",
       "      <td>12.57</td>\n",
       "      <td>0.55</td>\n",
       "      <td>1.42</td>\n",
       "      <td>0.27</td>\n",
       "      <td>102971.57</td>\n",
       "    </tr>\n",
       "    <tr>\n",
       "      <th>min</th>\n",
       "      <td>-1.00</td>\n",
       "      <td>-18388.95</td>\n",
       "      <td>0.00</td>\n",
       "      <td>0.00</td>\n",
       "      <td>0.00</td>\n",
       "      <td>0.00</td>\n",
       "      <td>20667.26</td>\n",
       "    </tr>\n",
       "    <tr>\n",
       "      <th>25%</th>\n",
       "      <td>0.00</td>\n",
       "      <td>-2747.42</td>\n",
       "      <td>33.00</td>\n",
       "      <td>1.00</td>\n",
       "      <td>0.00</td>\n",
       "      <td>0.00</td>\n",
       "      <td>103053.15</td>\n",
       "    </tr>\n",
       "    <tr>\n",
       "      <th>50%</th>\n",
       "      <td>0.00</td>\n",
       "      <td>-1203.37</td>\n",
       "      <td>42.00</td>\n",
       "      <td>1.00</td>\n",
       "      <td>0.00</td>\n",
       "      <td>0.00</td>\n",
       "      <td>145017.94</td>\n",
       "    </tr>\n",
       "    <tr>\n",
       "      <th>75%</th>\n",
       "      <td>1.00</td>\n",
       "      <td>-291.10</td>\n",
       "      <td>53.00</td>\n",
       "      <td>1.00</td>\n",
       "      <td>1.00</td>\n",
       "      <td>0.00</td>\n",
       "      <td>203435.07</td>\n",
       "    </tr>\n",
       "    <tr>\n",
       "      <th>max</th>\n",
       "      <td>20.00</td>\n",
       "      <td>401755.40</td>\n",
       "      <td>75.00</td>\n",
       "      <td>4.00</td>\n",
       "      <td>4.00</td>\n",
       "      <td>1.00</td>\n",
       "      <td>2265604.03</td>\n",
       "    </tr>\n",
       "  </tbody>\n",
       "</table>\n",
       "</div>"
      ],
      "text/plain": [
       "       children  days_employed  dob_years  education_id  family_status_id  \\\n",
       "count  21525.00       19351.00   21525.00      21525.00          21525.00   \n",
       "mean       0.54       63046.50      43.29          0.82              0.97   \n",
       "std        1.38      140827.31      12.57          0.55              1.42   \n",
       "min       -1.00      -18388.95       0.00          0.00              0.00   \n",
       "25%        0.00       -2747.42      33.00          1.00              0.00   \n",
       "50%        0.00       -1203.37      42.00          1.00              0.00   \n",
       "75%        1.00        -291.10      53.00          1.00              1.00   \n",
       "max       20.00      401755.40      75.00          4.00              4.00   \n",
       "\n",
       "           debt  total_income  \n",
       "count  21525.00      19351.00  \n",
       "mean       0.08     167422.30  \n",
       "std        0.27     102971.57  \n",
       "min        0.00      20667.26  \n",
       "25%        0.00     103053.15  \n",
       "50%        0.00     145017.94  \n",
       "75%        0.00     203435.07  \n",
       "max        1.00    2265604.03  "
      ]
     },
     "execution_count": 4,
     "metadata": {},
     "output_type": "execute_result"
    }
   ],
   "source": [
    "data.describe().round(2)"
   ]
  },
  {
   "cell_type": "code",
   "execution_count": 5,
   "metadata": {},
   "outputs": [
    {
     "data": {
      "text/plain": [
       "2174"
      ]
     },
     "execution_count": 5,
     "metadata": {},
     "output_type": "execute_result"
    }
   ],
   "source": [
    "data.days_employed.isna().sum() "
   ]
  },
  {
   "cell_type": "code",
   "execution_count": 6,
   "metadata": {},
   "outputs": [
    {
     "data": {
      "text/plain": [
       "2174"
      ]
     },
     "execution_count": 6,
     "metadata": {},
     "output_type": "execute_result"
    }
   ],
   "source": [
    "data.total_income.isna().sum()"
   ]
  },
  {
   "cell_type": "code",
   "execution_count": 7,
   "metadata": {},
   "outputs": [
    {
     "data": {
      "text/html": [
       "<div>\n",
       "<style scoped>\n",
       "    .dataframe tbody tr th:only-of-type {\n",
       "        vertical-align: middle;\n",
       "    }\n",
       "\n",
       "    .dataframe tbody tr th {\n",
       "        vertical-align: top;\n",
       "    }\n",
       "\n",
       "    .dataframe thead th {\n",
       "        text-align: right;\n",
       "    }\n",
       "</style>\n",
       "<table border=\"1\" class=\"dataframe\">\n",
       "  <thead>\n",
       "    <tr style=\"text-align: right;\">\n",
       "      <th></th>\n",
       "      <th>children</th>\n",
       "      <th>days_employed</th>\n",
       "      <th>dob_years</th>\n",
       "      <th>education</th>\n",
       "      <th>education_id</th>\n",
       "      <th>family_status</th>\n",
       "      <th>family_status_id</th>\n",
       "      <th>gender</th>\n",
       "      <th>income_type</th>\n",
       "      <th>debt</th>\n",
       "      <th>total_income</th>\n",
       "      <th>purpose</th>\n",
       "    </tr>\n",
       "  </thead>\n",
       "  <tbody>\n",
       "    <tr>\n",
       "      <th>12</th>\n",
       "      <td>0</td>\n",
       "      <td>NaN</td>\n",
       "      <td>65</td>\n",
       "      <td>среднее</td>\n",
       "      <td>1</td>\n",
       "      <td>гражданский брак</td>\n",
       "      <td>1</td>\n",
       "      <td>M</td>\n",
       "      <td>пенсионер</td>\n",
       "      <td>0</td>\n",
       "      <td>NaN</td>\n",
       "      <td>сыграть свадьбу</td>\n",
       "    </tr>\n",
       "    <tr>\n",
       "      <th>26</th>\n",
       "      <td>0</td>\n",
       "      <td>NaN</td>\n",
       "      <td>41</td>\n",
       "      <td>среднее</td>\n",
       "      <td>1</td>\n",
       "      <td>женат / замужем</td>\n",
       "      <td>0</td>\n",
       "      <td>M</td>\n",
       "      <td>госслужащий</td>\n",
       "      <td>0</td>\n",
       "      <td>NaN</td>\n",
       "      <td>образование</td>\n",
       "    </tr>\n",
       "    <tr>\n",
       "      <th>29</th>\n",
       "      <td>0</td>\n",
       "      <td>NaN</td>\n",
       "      <td>63</td>\n",
       "      <td>среднее</td>\n",
       "      <td>1</td>\n",
       "      <td>Не женат / не замужем</td>\n",
       "      <td>4</td>\n",
       "      <td>F</td>\n",
       "      <td>пенсионер</td>\n",
       "      <td>0</td>\n",
       "      <td>NaN</td>\n",
       "      <td>строительство жилой недвижимости</td>\n",
       "    </tr>\n",
       "    <tr>\n",
       "      <th>41</th>\n",
       "      <td>0</td>\n",
       "      <td>NaN</td>\n",
       "      <td>50</td>\n",
       "      <td>среднее</td>\n",
       "      <td>1</td>\n",
       "      <td>женат / замужем</td>\n",
       "      <td>0</td>\n",
       "      <td>F</td>\n",
       "      <td>госслужащий</td>\n",
       "      <td>0</td>\n",
       "      <td>NaN</td>\n",
       "      <td>сделка с подержанным автомобилем</td>\n",
       "    </tr>\n",
       "    <tr>\n",
       "      <th>55</th>\n",
       "      <td>0</td>\n",
       "      <td>NaN</td>\n",
       "      <td>54</td>\n",
       "      <td>среднее</td>\n",
       "      <td>1</td>\n",
       "      <td>гражданский брак</td>\n",
       "      <td>1</td>\n",
       "      <td>F</td>\n",
       "      <td>пенсионер</td>\n",
       "      <td>1</td>\n",
       "      <td>NaN</td>\n",
       "      <td>сыграть свадьбу</td>\n",
       "    </tr>\n",
       "  </tbody>\n",
       "</table>\n",
       "</div>"
      ],
      "text/plain": [
       "    children  days_employed  dob_years education  education_id  \\\n",
       "12         0            NaN         65   среднее             1   \n",
       "26         0            NaN         41   среднее             1   \n",
       "29         0            NaN         63   среднее             1   \n",
       "41         0            NaN         50   среднее             1   \n",
       "55         0            NaN         54   среднее             1   \n",
       "\n",
       "            family_status  family_status_id gender  income_type  debt  \\\n",
       "12       гражданский брак                 1      M    пенсионер     0   \n",
       "26        женат / замужем                 0      M  госслужащий     0   \n",
       "29  Не женат / не замужем                 4      F    пенсионер     0   \n",
       "41        женат / замужем                 0      F  госслужащий     0   \n",
       "55       гражданский брак                 1      F    пенсионер     1   \n",
       "\n",
       "    total_income                           purpose  \n",
       "12           NaN                   сыграть свадьбу  \n",
       "26           NaN                       образование  \n",
       "29           NaN  строительство жилой недвижимости  \n",
       "41           NaN  сделка с подержанным автомобилем  \n",
       "55           NaN                   сыграть свадьбу  "
      ]
     },
     "execution_count": 7,
     "metadata": {},
     "output_type": "execute_result"
    }
   ],
   "source": [
    "strange_gr = data[data.total_income.isna() & data.days_employed.isna()] # пропуски по трудовому стажу и доходу относятся \n",
    "                                                                        # к одной и той же группе клиентов\n",
    "strange_gr.head()    "
   ]
  },
  {
   "cell_type": "code",
   "execution_count": 8,
   "metadata": {},
   "outputs": [
    {
     "name": "stdout",
     "output_type": "stream",
     "text": [
      "Процент проблемных клиентов (имели задолженность по кредиту) по всему массиву 8.1%\n",
      "Процент проблемных клиентов (имели задолженность по кредиту) в группе с пропусками 7.8%\n"
     ]
    }
   ],
   "source": [
    "print('Процент проблемных клиентов (имели задолженность по кредиту) по всему массиву', \n",
    "                                                        '{0:.1%}'.format(data.debt.value_counts()[1]/data.shape[0]))\n",
    "print('Процент проблемных клиентов (имели задолженность по кредиту) в группе с пропусками', \n",
    "                                                        '{0:.1%}'.format(strange_gr.debt.value_counts()[1]/strange_gr.shape[0]))"
   ]
  },
  {
   "cell_type": "code",
   "execution_count": 9,
   "metadata": {},
   "outputs": [
    {
     "data": {
      "text/plain": [
       " 0     14149\n",
       " 1      4818\n",
       " 2      2055\n",
       " 3       330\n",
       " 20       76\n",
       "-1        47\n",
       " 4        41\n",
       " 5         9\n",
       "Name: children, dtype: int64"
      ]
     },
     "execution_count": 9,
     "metadata": {},
     "output_type": "execute_result"
    }
   ],
   "source": [
    "data.children.value_counts()  # 76 клиентов имеют 20 детей "
   ]
  },
  {
   "cell_type": "code",
   "execution_count": 10,
   "metadata": {},
   "outputs": [
    {
     "data": {
      "text/html": [
       "<div>\n",
       "<style scoped>\n",
       "    .dataframe tbody tr th:only-of-type {\n",
       "        vertical-align: middle;\n",
       "    }\n",
       "\n",
       "    .dataframe tbody tr th {\n",
       "        vertical-align: top;\n",
       "    }\n",
       "\n",
       "    .dataframe thead th {\n",
       "        text-align: right;\n",
       "    }\n",
       "</style>\n",
       "<table border=\"1\" class=\"dataframe\">\n",
       "  <thead>\n",
       "    <tr style=\"text-align: right;\">\n",
       "      <th></th>\n",
       "      <th>children</th>\n",
       "      <th>days_employed</th>\n",
       "      <th>dob_years</th>\n",
       "      <th>education</th>\n",
       "      <th>education_id</th>\n",
       "      <th>family_status</th>\n",
       "      <th>family_status_id</th>\n",
       "      <th>gender</th>\n",
       "      <th>income_type</th>\n",
       "      <th>debt</th>\n",
       "      <th>total_income</th>\n",
       "      <th>purpose</th>\n",
       "    </tr>\n",
       "  </thead>\n",
       "  <tbody>\n",
       "    <tr>\n",
       "      <th>4</th>\n",
       "      <td>0</td>\n",
       "      <td>340266.072047</td>\n",
       "      <td>53</td>\n",
       "      <td>среднее</td>\n",
       "      <td>1</td>\n",
       "      <td>гражданский брак</td>\n",
       "      <td>1</td>\n",
       "      <td>F</td>\n",
       "      <td>пенсионер</td>\n",
       "      <td>0</td>\n",
       "      <td>158616.077870</td>\n",
       "      <td>сыграть свадьбу</td>\n",
       "    </tr>\n",
       "    <tr>\n",
       "      <th>18</th>\n",
       "      <td>0</td>\n",
       "      <td>400281.136913</td>\n",
       "      <td>53</td>\n",
       "      <td>среднее</td>\n",
       "      <td>1</td>\n",
       "      <td>вдовец / вдова</td>\n",
       "      <td>2</td>\n",
       "      <td>F</td>\n",
       "      <td>пенсионер</td>\n",
       "      <td>0</td>\n",
       "      <td>56823.777243</td>\n",
       "      <td>на покупку подержанного автомобиля</td>\n",
       "    </tr>\n",
       "    <tr>\n",
       "      <th>24</th>\n",
       "      <td>1</td>\n",
       "      <td>338551.952911</td>\n",
       "      <td>57</td>\n",
       "      <td>среднее</td>\n",
       "      <td>1</td>\n",
       "      <td>Не женат / не замужем</td>\n",
       "      <td>4</td>\n",
       "      <td>F</td>\n",
       "      <td>пенсионер</td>\n",
       "      <td>0</td>\n",
       "      <td>290547.235997</td>\n",
       "      <td>операции с коммерческой недвижимостью</td>\n",
       "    </tr>\n",
       "    <tr>\n",
       "      <th>25</th>\n",
       "      <td>0</td>\n",
       "      <td>363548.489348</td>\n",
       "      <td>67</td>\n",
       "      <td>среднее</td>\n",
       "      <td>1</td>\n",
       "      <td>женат / замужем</td>\n",
       "      <td>0</td>\n",
       "      <td>M</td>\n",
       "      <td>пенсионер</td>\n",
       "      <td>0</td>\n",
       "      <td>55112.757732</td>\n",
       "      <td>покупка недвижимости</td>\n",
       "    </tr>\n",
       "    <tr>\n",
       "      <th>30</th>\n",
       "      <td>1</td>\n",
       "      <td>335581.668515</td>\n",
       "      <td>62</td>\n",
       "      <td>среднее</td>\n",
       "      <td>1</td>\n",
       "      <td>женат / замужем</td>\n",
       "      <td>0</td>\n",
       "      <td>F</td>\n",
       "      <td>пенсионер</td>\n",
       "      <td>0</td>\n",
       "      <td>171456.067993</td>\n",
       "      <td>операции с коммерческой недвижимостью</td>\n",
       "    </tr>\n",
       "    <tr>\n",
       "      <th>...</th>\n",
       "      <td>...</td>\n",
       "      <td>...</td>\n",
       "      <td>...</td>\n",
       "      <td>...</td>\n",
       "      <td>...</td>\n",
       "      <td>...</td>\n",
       "      <td>...</td>\n",
       "      <td>...</td>\n",
       "      <td>...</td>\n",
       "      <td>...</td>\n",
       "      <td>...</td>\n",
       "      <td>...</td>\n",
       "    </tr>\n",
       "    <tr>\n",
       "      <th>21505</th>\n",
       "      <td>0</td>\n",
       "      <td>338904.866406</td>\n",
       "      <td>53</td>\n",
       "      <td>среднее</td>\n",
       "      <td>1</td>\n",
       "      <td>гражданский брак</td>\n",
       "      <td>1</td>\n",
       "      <td>M</td>\n",
       "      <td>пенсионер</td>\n",
       "      <td>0</td>\n",
       "      <td>75439.993167</td>\n",
       "      <td>сыграть свадьбу</td>\n",
       "    </tr>\n",
       "    <tr>\n",
       "      <th>21508</th>\n",
       "      <td>0</td>\n",
       "      <td>386497.714078</td>\n",
       "      <td>62</td>\n",
       "      <td>среднее</td>\n",
       "      <td>1</td>\n",
       "      <td>женат / замужем</td>\n",
       "      <td>0</td>\n",
       "      <td>M</td>\n",
       "      <td>пенсионер</td>\n",
       "      <td>0</td>\n",
       "      <td>72638.590915</td>\n",
       "      <td>недвижимость</td>\n",
       "    </tr>\n",
       "    <tr>\n",
       "      <th>21509</th>\n",
       "      <td>0</td>\n",
       "      <td>362161.054124</td>\n",
       "      <td>59</td>\n",
       "      <td>высшее</td>\n",
       "      <td>0</td>\n",
       "      <td>женат / замужем</td>\n",
       "      <td>0</td>\n",
       "      <td>M</td>\n",
       "      <td>пенсионер</td>\n",
       "      <td>0</td>\n",
       "      <td>73029.059379</td>\n",
       "      <td>операции с недвижимостью</td>\n",
       "    </tr>\n",
       "    <tr>\n",
       "      <th>21518</th>\n",
       "      <td>0</td>\n",
       "      <td>373995.710838</td>\n",
       "      <td>59</td>\n",
       "      <td>СРЕДНЕЕ</td>\n",
       "      <td>1</td>\n",
       "      <td>женат / замужем</td>\n",
       "      <td>0</td>\n",
       "      <td>F</td>\n",
       "      <td>пенсионер</td>\n",
       "      <td>0</td>\n",
       "      <td>153864.650328</td>\n",
       "      <td>сделка с автомобилем</td>\n",
       "    </tr>\n",
       "    <tr>\n",
       "      <th>21521</th>\n",
       "      <td>0</td>\n",
       "      <td>343937.404131</td>\n",
       "      <td>67</td>\n",
       "      <td>среднее</td>\n",
       "      <td>1</td>\n",
       "      <td>женат / замужем</td>\n",
       "      <td>0</td>\n",
       "      <td>F</td>\n",
       "      <td>пенсионер</td>\n",
       "      <td>0</td>\n",
       "      <td>155999.806512</td>\n",
       "      <td>сделка с автомобилем</td>\n",
       "    </tr>\n",
       "  </tbody>\n",
       "</table>\n",
       "<p>3445 rows × 12 columns</p>\n",
       "</div>"
      ],
      "text/plain": [
       "       children  days_employed  dob_years education  education_id  \\\n",
       "4             0  340266.072047         53   среднее             1   \n",
       "18            0  400281.136913         53   среднее             1   \n",
       "24            1  338551.952911         57   среднее             1   \n",
       "25            0  363548.489348         67   среднее             1   \n",
       "30            1  335581.668515         62   среднее             1   \n",
       "...         ...            ...        ...       ...           ...   \n",
       "21505         0  338904.866406         53   среднее             1   \n",
       "21508         0  386497.714078         62   среднее             1   \n",
       "21509         0  362161.054124         59    высшее             0   \n",
       "21518         0  373995.710838         59   СРЕДНЕЕ             1   \n",
       "21521         0  343937.404131         67   среднее             1   \n",
       "\n",
       "               family_status  family_status_id gender income_type  debt  \\\n",
       "4           гражданский брак                 1      F   пенсионер     0   \n",
       "18            вдовец / вдова                 2      F   пенсионер     0   \n",
       "24     Не женат / не замужем                 4      F   пенсионер     0   \n",
       "25           женат / замужем                 0      M   пенсионер     0   \n",
       "30           женат / замужем                 0      F   пенсионер     0   \n",
       "...                      ...               ...    ...         ...   ...   \n",
       "21505       гражданский брак                 1      M   пенсионер     0   \n",
       "21508        женат / замужем                 0      M   пенсионер     0   \n",
       "21509        женат / замужем                 0      M   пенсионер     0   \n",
       "21518        женат / замужем                 0      F   пенсионер     0   \n",
       "21521        женат / замужем                 0      F   пенсионер     0   \n",
       "\n",
       "        total_income                                purpose  \n",
       "4      158616.077870                        сыграть свадьбу  \n",
       "18      56823.777243     на покупку подержанного автомобиля  \n",
       "24     290547.235997  операции с коммерческой недвижимостью  \n",
       "25      55112.757732                   покупка недвижимости  \n",
       "30     171456.067993  операции с коммерческой недвижимостью  \n",
       "...              ...                                    ...  \n",
       "21505   75439.993167                        сыграть свадьбу  \n",
       "21508   72638.590915                           недвижимость  \n",
       "21509   73029.059379               операции с недвижимостью  \n",
       "21518  153864.650328                   сделка с автомобилем  \n",
       "21521  155999.806512                   сделка с автомобилем  \n",
       "\n",
       "[3445 rows x 12 columns]"
      ]
     },
     "execution_count": 10,
     "metadata": {},
     "output_type": "execute_result"
    }
   ],
   "source": [
    "strange_days_employed = data[abs(data.days_employed) > 365*60] # массив со слишком большими значениями трудового стажа\n",
    "strange_days_employed"
   ]
  },
  {
   "cell_type": "code",
   "execution_count": 11,
   "metadata": {},
   "outputs": [
    {
     "data": {
      "text/plain": [
       "пенсионер      3443\n",
       "безработный       2\n",
       "Name: income_type, dtype: int64"
      ]
     },
     "execution_count": 11,
     "metadata": {},
     "output_type": "execute_result"
    }
   ],
   "source": [
    "strange_days_employed.income_type.value_counts() # с данными пенсионеров что-то не так, если рассмотреть пенсионеров в этой\n",
    "                                                 # группе по возрасту, тоже возникают вопросы, хотя есть пенсии по инвалидности,\n",
    "                                                 # пенсии по потере кормильца. Стоило бы добавить данные по типу пенсии"
   ]
  },
  {
   "cell_type": "code",
   "execution_count": 12,
   "metadata": {},
   "outputs": [
    {
     "data": {
      "text/html": [
       "<div>\n",
       "<style scoped>\n",
       "    .dataframe tbody tr th:only-of-type {\n",
       "        vertical-align: middle;\n",
       "    }\n",
       "\n",
       "    .dataframe tbody tr th {\n",
       "        vertical-align: top;\n",
       "    }\n",
       "\n",
       "    .dataframe thead th {\n",
       "        text-align: right;\n",
       "    }\n",
       "</style>\n",
       "<table border=\"1\" class=\"dataframe\">\n",
       "  <thead>\n",
       "    <tr style=\"text-align: right;\">\n",
       "      <th></th>\n",
       "      <th>col</th>\n",
       "      <th>descrip</th>\n",
       "      <th>type</th>\n",
       "      <th>uniq_quant</th>\n",
       "    </tr>\n",
       "  </thead>\n",
       "  <tbody>\n",
       "    <tr>\n",
       "      <th>0</th>\n",
       "      <td>children</td>\n",
       "      <td>кол-во детей</td>\n",
       "      <td>количественная, целое</td>\n",
       "      <td>8</td>\n",
       "    </tr>\n",
       "    <tr>\n",
       "      <th>1</th>\n",
       "      <td>days_employed</td>\n",
       "      <td>трудовой стаж</td>\n",
       "      <td>количественная, вещественное</td>\n",
       "      <td>19351</td>\n",
       "    </tr>\n",
       "    <tr>\n",
       "      <th>2</th>\n",
       "      <td>dob_years</td>\n",
       "      <td>возраст</td>\n",
       "      <td>количественная, целое</td>\n",
       "      <td>58</td>\n",
       "    </tr>\n",
       "    <tr>\n",
       "      <th>3</th>\n",
       "      <td>education</td>\n",
       "      <td>образование</td>\n",
       "      <td>категориальная</td>\n",
       "      <td>15</td>\n",
       "    </tr>\n",
       "    <tr>\n",
       "      <th>4</th>\n",
       "      <td>education_id</td>\n",
       "      <td>код образования</td>\n",
       "      <td>категориальная</td>\n",
       "      <td>5</td>\n",
       "    </tr>\n",
       "    <tr>\n",
       "      <th>5</th>\n",
       "      <td>family_status</td>\n",
       "      <td>семейный статус</td>\n",
       "      <td>категориальная</td>\n",
       "      <td>5</td>\n",
       "    </tr>\n",
       "    <tr>\n",
       "      <th>6</th>\n",
       "      <td>family_status_id</td>\n",
       "      <td>код семейного статуса</td>\n",
       "      <td>категориальная</td>\n",
       "      <td>5</td>\n",
       "    </tr>\n",
       "    <tr>\n",
       "      <th>7</th>\n",
       "      <td>gender</td>\n",
       "      <td>пол</td>\n",
       "      <td>категориальная</td>\n",
       "      <td>3</td>\n",
       "    </tr>\n",
       "    <tr>\n",
       "      <th>8</th>\n",
       "      <td>income_type</td>\n",
       "      <td>тип занятости</td>\n",
       "      <td>категориальная</td>\n",
       "      <td>8</td>\n",
       "    </tr>\n",
       "    <tr>\n",
       "      <th>9</th>\n",
       "      <td>debt</td>\n",
       "      <td>задолженность</td>\n",
       "      <td>логическая</td>\n",
       "      <td>2</td>\n",
       "    </tr>\n",
       "    <tr>\n",
       "      <th>10</th>\n",
       "      <td>total_income</td>\n",
       "      <td>доход</td>\n",
       "      <td>количественная, вещественное</td>\n",
       "      <td>19351</td>\n",
       "    </tr>\n",
       "    <tr>\n",
       "      <th>11</th>\n",
       "      <td>purpose</td>\n",
       "      <td>цель кредита</td>\n",
       "      <td>категориальная</td>\n",
       "      <td>38</td>\n",
       "    </tr>\n",
       "  </tbody>\n",
       "</table>\n",
       "</div>"
      ],
      "text/plain": [
       "                 col                descrip                          type  \\\n",
       "0           children           кол-во детей         количественная, целое   \n",
       "1      days_employed          трудовой стаж  количественная, вещественное   \n",
       "2          dob_years                возраст         количественная, целое   \n",
       "3          education            образование                категориальная   \n",
       "4       education_id        код образования                категориальная   \n",
       "5      family_status        семейный статус                категориальная   \n",
       "6   family_status_id  код семейного статуса                категориальная   \n",
       "7             gender                    пол                категориальная   \n",
       "8        income_type          тип занятости                категориальная   \n",
       "9               debt          задолженность                    логическая   \n",
       "10      total_income                  доход  количественная, вещественное   \n",
       "11           purpose           цель кредита                категориальная   \n",
       "\n",
       "    uniq_quant  \n",
       "0            8  \n",
       "1        19351  \n",
       "2           58  \n",
       "3           15  \n",
       "4            5  \n",
       "5            5  \n",
       "6            5  \n",
       "7            3  \n",
       "8            8  \n",
       "9            2  \n",
       "10       19351  \n",
       "11          38  "
      ]
     },
     "execution_count": 12,
     "metadata": {},
     "output_type": "execute_result"
    }
   ],
   "source": [
    "var_type = ['количественная, целое',\n",
    "            'количественная, вещественное',\n",
    "            'количественная, целое',\n",
    "            'категориальная',\n",
    "            'категориальная',\n",
    "            'категориальная',  \n",
    "            'категориальная',\n",
    "            'категориальная',\n",
    "            'категориальная',\n",
    "            'логическая',\n",
    "            'количественная, вещественное', \n",
    "            'категориальная']\n",
    "\n",
    "descr = ['кол-во детей', 'трудовой стаж', 'возраст', 'образование', 'код образования', 'семейный статус', \n",
    "         'код семейного статуса', 'пол', 'тип занятости', 'задолженность', 'доход', 'цель кредита']\n",
    "\n",
    "d = {'col':list(data.columns), 'descrip':descr, 'type':var_type, \n",
    "               'uniq_quant':[len(data[x].value_counts()) for x in list(data.columns)]}\n",
    "unique_quant_in_col = pd.DataFrame(d)\n",
    "unique_quant_in_col"
   ]
  },
  {
   "cell_type": "markdown",
   "metadata": {},
   "source": [
    "**Вывод**"
   ]
  },
  {
   "cell_type": "markdown",
   "metadata": {},
   "source": [
    "<span style=\"font-family: Calibri; font-size:1.25em;color:navy;\"> 1. Файл 'data.csv' содержит двумерный массив с данными по клиентам банка в количестве 21525 человек без учета возможных дубликатов по 12 признакам. Из 12 признаков 4 соответствуют переменным количественного типа, 8 - категориального или логического типа. В таблице выше приведен тип переменной для каждого признака, а также количество уникальных значений.   \n",
    "     \n",
    "<span style=\"font-family: Calibri; font-size:1.25em;color:navy;\"> 2. Для порядка 10% от обшего числа в представленном файле -  2174 клиентов (здесь и далее допускается возможность дубликатов) одновременно отсутствуют данные по трудовому стажу и доходу. Данная группа разнородна, представлена клиентами разных возрастов и типов занятости, не может быть описана как 'молодые, безработные люди'. Процент проблемных клиентов в этой группе практически такой же, как и во всем массиве. Вероятно указанные пропуски вызваны человеческим фактором при формировании массива, техническим сбоем.   \n",
    "    \n",
    "<span style=\"font-family: Calibri; font-size:1.25em;color:navy;\"> 3. Вопросы по значениям отдельных признаков:   \n",
    "        \n",
    "<span style=\"font-family: Calibri; font-size:1.25em;color:navy;\">  - количество детей\n",
    "\n",
    "Переменная принимает значения от -1 до 20. -1 крайне вероятно ошибка ввода, заменим ниже на 1. \n",
    "По [данным](https://russian.rt.com/russia/article/372844-chislo-mnogodetnyh-semei-rossiya) СМИ RT со ссылкой на официальных представителей власти в России на начало 2017 года было не более 1000 семей, воспитывающих 11 детей и более. Можно было бы предположить, что банк предоставляет особые условия таким семьям, но то, что у всех клиентов (у одного банка их 76) из этой особой немногочисленной группы именно по 20 детей - вероятность стремится к 0. Примем данное значение за ошибку ввода, ниже заменим 20 на 2.        \n",
    "        \n",
    "<span style=\"font-family: Calibri; font-size:1.25em;color:navy;\">  - трудовой стаж\n",
    "\n",
    "Помимо пропусков, данная переменная принимает отрицательные значения и значения вне возможного диапозона - максимальное значение - более 400 тыс. дней, то есть более 1000 лет. Примем за ошибку ввода отрицательные значения, заменим их на абсолютные. \n",
    "Группа клиентов со слишком большими значениями трудового стажа по типу занятости - пенсионеры. Для нее запишем трудовой стаж, как возраст - 16. Официально на текущий момент оформление по трудовому договору за редким исключением возможно с 16 лет. Здесь вероятно искажение в сторону завышения трудового стажа, но учитывая тип занятости в данной группе, это несущественно, хотя к возрасту пенсионеров тоже есть вопросы.\n",
    "Значения данного признака наиболее противоречивы. Вероятно это ошибка ввода данных, обработки данных (возможно неверная формула), технический сбой.\n",
    "        \n",
    "<span style=\"font-family: Calibri; font-size:1.25em;color:navy;\">  - возраст\n",
    "\n",
    "У 101 клиента исходного массива возраст - 0. Позже скорректируем эти данные. \n",
    "        \n",
    "<span style=\"font-family: Calibri; font-size:1.25em;color:navy;\">  - образование\n",
    "\n",
    "Присутствует разное написание одинаковых значений, кол-во уникальных значений по этому признаку и по коду образования различно. Позже скорректируем эти данные.\n",
    "        \n",
    "<span style=\"font-family: Calibri; font-size:1.25em;color:navy;\">  - пол\n",
    "\n",
    "Одно единственное значение добавляет третий пол. Оставим его, как есть.\n",
    "\n",
    "<span style=\"font-family: Calibri; font-size:1.25em;color:navy;\">  - тип занятости\n",
    "\n",
    "Значение признака 'компаньон' просит расшифровки. \n",
    "    \n",
    "<span style=\"font-family: Calibri; font-size:1.25em;color:navy;\">  - доход\n",
    "\n",
    "Описательные статистики непропущенных значений не вызывают сомнений. Max/min~108, среднее 167тр, медиана 145тр. Обработаем пропуски ниже.\n",
    "                \n",
    "<span style=\"font-family: Calibri; font-size:1.25em;color:navy;\">  - цель кредита\n",
    "\n",
    "В массиве 38 вариаций значений данного признака, список стоит сократить.\n"
   ]
  },
  {
   "cell_type": "markdown",
   "metadata": {},
   "source": [
    "## 2. Предобработка данных"
   ]
  },
  {
   "cell_type": "markdown",
   "metadata": {},
   "source": [
    "### Обработка пропусков"
   ]
  },
  {
   "cell_type": "code",
   "execution_count": 13,
   "metadata": {},
   "outputs": [],
   "source": [
    "data.children = abs(data.children).replace(20, 2) # корректируем признак количество детей: -1 -> 1,   20 -> 2  "
   ]
  },
  {
   "cell_type": "code",
   "execution_count": 14,
   "metadata": {},
   "outputs": [],
   "source": [
    "# заменим пропуски признака доход на медиану дохода по типу занятости из имеющихся данных\n",
    "# выбор медианы - медиана меньше, чем среднее. Даже если занижение - это безопаснее для скоринга\n",
    "\n",
    "j = list(strange_gr.income_type.value_counts().index) # список типов занятых в пропусках\n",
    "\n",
    "median_inc = data.groupby(data.income_type).total_income.median() # серия медиан дохода с индексом по типу занятости\n",
    "\n",
    "for x in j:\n",
    "    data.loc[(data.income_type==x) & (data.total_income.isnull()), 'total_income'] = median_inc[x] # замена пропусков на медиану\n",
    "                                                        # дохода по типу занятости доступных данных исходного массива        "
   ]
  },
  {
   "cell_type": "code",
   "execution_count": 15,
   "metadata": {},
   "outputs": [],
   "source": [
    "# заменим 101 нулевое значение признака возраст на медиану возраста по типу занятости из имеющихся данных\n",
    "# выбор медианы - медиана и среднее почти совпадают\n",
    "\n",
    "jobs = ['сотрудник', 'компаньон', 'пенсионер', 'госслужащий'] # список типов занятых для возраста 0\n",
    "\n",
    "median_age = data.groupby(data.income_type).dob_years.median() # серия медиан возраста с индексом по типу занятости\n",
    "\n",
    "for x in jobs:\n",
    "    data.loc[(data.income_type==x) & (data.dob_years==0), 'dob_years'] = median_age[x]\n"
   ]
  },
  {
   "cell_type": "code",
   "execution_count": 16,
   "metadata": {},
   "outputs": [
    {
     "data": {
      "text/html": [
       "<div>\n",
       "<style scoped>\n",
       "    .dataframe tbody tr th:only-of-type {\n",
       "        vertical-align: middle;\n",
       "    }\n",
       "\n",
       "    .dataframe tbody tr th {\n",
       "        vertical-align: top;\n",
       "    }\n",
       "\n",
       "    .dataframe thead th {\n",
       "        text-align: right;\n",
       "    }\n",
       "</style>\n",
       "<table border=\"1\" class=\"dataframe\">\n",
       "  <thead>\n",
       "    <tr style=\"text-align: right;\">\n",
       "      <th></th>\n",
       "      <th>children</th>\n",
       "      <th>days_employed</th>\n",
       "      <th>dob_years</th>\n",
       "      <th>education_id</th>\n",
       "      <th>family_status_id</th>\n",
       "      <th>debt</th>\n",
       "      <th>total_income</th>\n",
       "    </tr>\n",
       "  </thead>\n",
       "  <tbody>\n",
       "    <tr>\n",
       "      <th>count</th>\n",
       "      <td>21525.0</td>\n",
       "      <td>21525.0</td>\n",
       "      <td>21525.0</td>\n",
       "      <td>21525.0</td>\n",
       "      <td>21525.0</td>\n",
       "      <td>21525.0</td>\n",
       "      <td>21525.0</td>\n",
       "    </tr>\n",
       "    <tr>\n",
       "      <th>mean</th>\n",
       "      <td>0.0</td>\n",
       "      <td>4719.0</td>\n",
       "      <td>43.0</td>\n",
       "      <td>1.0</td>\n",
       "      <td>1.0</td>\n",
       "      <td>0.0</td>\n",
       "      <td>165225.0</td>\n",
       "    </tr>\n",
       "    <tr>\n",
       "      <th>std</th>\n",
       "      <td>1.0</td>\n",
       "      <td>5655.0</td>\n",
       "      <td>12.0</td>\n",
       "      <td>1.0</td>\n",
       "      <td>1.0</td>\n",
       "      <td>0.0</td>\n",
       "      <td>98044.0</td>\n",
       "    </tr>\n",
       "    <tr>\n",
       "      <th>min</th>\n",
       "      <td>0.0</td>\n",
       "      <td>24.0</td>\n",
       "      <td>19.0</td>\n",
       "      <td>0.0</td>\n",
       "      <td>0.0</td>\n",
       "      <td>0.0</td>\n",
       "      <td>20667.0</td>\n",
       "    </tr>\n",
       "    <tr>\n",
       "      <th>25%</th>\n",
       "      <td>0.0</td>\n",
       "      <td>1026.0</td>\n",
       "      <td>34.0</td>\n",
       "      <td>1.0</td>\n",
       "      <td>0.0</td>\n",
       "      <td>0.0</td>\n",
       "      <td>107798.0</td>\n",
       "    </tr>\n",
       "    <tr>\n",
       "      <th>50%</th>\n",
       "      <td>0.0</td>\n",
       "      <td>1994.0</td>\n",
       "      <td>43.0</td>\n",
       "      <td>1.0</td>\n",
       "      <td>0.0</td>\n",
       "      <td>0.0</td>\n",
       "      <td>142594.0</td>\n",
       "    </tr>\n",
       "    <tr>\n",
       "      <th>75%</th>\n",
       "      <td>1.0</td>\n",
       "      <td>5324.0</td>\n",
       "      <td>53.0</td>\n",
       "      <td>1.0</td>\n",
       "      <td>1.0</td>\n",
       "      <td>0.0</td>\n",
       "      <td>195550.0</td>\n",
       "    </tr>\n",
       "    <tr>\n",
       "      <th>max</th>\n",
       "      <td>5.0</td>\n",
       "      <td>21170.0</td>\n",
       "      <td>75.0</td>\n",
       "      <td>4.0</td>\n",
       "      <td>4.0</td>\n",
       "      <td>1.0</td>\n",
       "      <td>2265604.0</td>\n",
       "    </tr>\n",
       "  </tbody>\n",
       "</table>\n",
       "</div>"
      ],
      "text/plain": [
       "       children  days_employed  dob_years  education_id  family_status_id  \\\n",
       "count   21525.0        21525.0    21525.0       21525.0           21525.0   \n",
       "mean        0.0         4719.0       43.0           1.0               1.0   \n",
       "std         1.0         5655.0       12.0           1.0               1.0   \n",
       "min         0.0           24.0       19.0           0.0               0.0   \n",
       "25%         0.0         1026.0       34.0           1.0               0.0   \n",
       "50%         0.0         1994.0       43.0           1.0               0.0   \n",
       "75%         1.0         5324.0       53.0           1.0               1.0   \n",
       "max         5.0        21170.0       75.0           4.0               4.0   \n",
       "\n",
       "          debt  total_income  \n",
       "count  21525.0       21525.0  \n",
       "mean       0.0      165225.0  \n",
       "std        0.0       98044.0  \n",
       "min        0.0       20667.0  \n",
       "25%        0.0      107798.0  \n",
       "50%        0.0      142594.0  \n",
       "75%        0.0      195550.0  \n",
       "max        1.0     2265604.0  "
      ]
     },
     "execution_count": 16,
     "metadata": {},
     "output_type": "execute_result"
    }
   ],
   "source": [
    "# заменим значения трудового стажа на положительные, заменим значения трудового стажа, которые не коррелируют с возрастом\n",
    "data.days_employed = abs(data.days_employed)\n",
    "data.loc[abs(data.days_employed) > 365*60, 'days_employed'] = (data.dob_years - 16)*365\n",
    "\n",
    "j = list(strange_gr.income_type.value_counts().index) # список типов занятых в пропусках\n",
    "\n",
    "median_days_employed = data.groupby(data.income_type).days_employed.median() # серия медиан трудового стажа с индексом по типу\n",
    "                                                                             # занятости\n",
    "\n",
    "for x in j:\n",
    "    data.loc[(data.income_type==x) & (data.days_employed.isnull()), 'days_employed'] = median_days_employed[x] \n",
    "                      # замена пропусков на медиану трудового стажа по типу занятости доступных данных исходного массива        \n",
    "                                                                                  \n",
    "\n",
    "\n",
    "data.describe().round()"
   ]
  },
  {
   "cell_type": "markdown",
   "metadata": {},
   "source": [
    "Пропуски заполнены значениями медиан по типу занятости."
   ]
  },
  {
   "cell_type": "markdown",
   "metadata": {},
   "source": [
    "\n",
    "### Замена типа данных"
   ]
  },
  {
   "cell_type": "code",
   "execution_count": 17,
   "metadata": {
    "scrolled": true
   },
   "outputs": [
    {
     "data": {
      "text/html": [
       "<div>\n",
       "<style scoped>\n",
       "    .dataframe tbody tr th:only-of-type {\n",
       "        vertical-align: middle;\n",
       "    }\n",
       "\n",
       "    .dataframe tbody tr th {\n",
       "        vertical-align: top;\n",
       "    }\n",
       "\n",
       "    .dataframe thead th {\n",
       "        text-align: right;\n",
       "    }\n",
       "</style>\n",
       "<table border=\"1\" class=\"dataframe\">\n",
       "  <thead>\n",
       "    <tr style=\"text-align: right;\">\n",
       "      <th></th>\n",
       "      <th>children</th>\n",
       "      <th>years_employed</th>\n",
       "      <th>dob_years</th>\n",
       "      <th>education</th>\n",
       "      <th>education_id</th>\n",
       "      <th>family_status</th>\n",
       "      <th>family_status_id</th>\n",
       "      <th>gender</th>\n",
       "      <th>income_type</th>\n",
       "      <th>debt</th>\n",
       "      <th>total_income</th>\n",
       "      <th>purpose</th>\n",
       "    </tr>\n",
       "  </thead>\n",
       "  <tbody>\n",
       "    <tr>\n",
       "      <th>0</th>\n",
       "      <td>1</td>\n",
       "      <td>23</td>\n",
       "      <td>42</td>\n",
       "      <td>высшее</td>\n",
       "      <td>0</td>\n",
       "      <td>женат / замужем</td>\n",
       "      <td>0</td>\n",
       "      <td>F</td>\n",
       "      <td>сотрудник</td>\n",
       "      <td>0</td>\n",
       "      <td>253875</td>\n",
       "      <td>покупка жилья</td>\n",
       "    </tr>\n",
       "    <tr>\n",
       "      <th>1</th>\n",
       "      <td>1</td>\n",
       "      <td>11</td>\n",
       "      <td>36</td>\n",
       "      <td>среднее</td>\n",
       "      <td>1</td>\n",
       "      <td>женат / замужем</td>\n",
       "      <td>0</td>\n",
       "      <td>F</td>\n",
       "      <td>сотрудник</td>\n",
       "      <td>0</td>\n",
       "      <td>112080</td>\n",
       "      <td>приобретение автомобиля</td>\n",
       "    </tr>\n",
       "    <tr>\n",
       "      <th>2</th>\n",
       "      <td>0</td>\n",
       "      <td>15</td>\n",
       "      <td>33</td>\n",
       "      <td>среднее</td>\n",
       "      <td>1</td>\n",
       "      <td>женат / замужем</td>\n",
       "      <td>0</td>\n",
       "      <td>M</td>\n",
       "      <td>сотрудник</td>\n",
       "      <td>0</td>\n",
       "      <td>145885</td>\n",
       "      <td>покупка жилья</td>\n",
       "    </tr>\n",
       "    <tr>\n",
       "      <th>3</th>\n",
       "      <td>3</td>\n",
       "      <td>11</td>\n",
       "      <td>32</td>\n",
       "      <td>среднее</td>\n",
       "      <td>1</td>\n",
       "      <td>женат / замужем</td>\n",
       "      <td>0</td>\n",
       "      <td>M</td>\n",
       "      <td>сотрудник</td>\n",
       "      <td>0</td>\n",
       "      <td>267628</td>\n",
       "      <td>дополнительное образование</td>\n",
       "    </tr>\n",
       "    <tr>\n",
       "      <th>4</th>\n",
       "      <td>0</td>\n",
       "      <td>37</td>\n",
       "      <td>53</td>\n",
       "      <td>среднее</td>\n",
       "      <td>1</td>\n",
       "      <td>гражданский брак</td>\n",
       "      <td>1</td>\n",
       "      <td>F</td>\n",
       "      <td>пенсионер</td>\n",
       "      <td>0</td>\n",
       "      <td>158616</td>\n",
       "      <td>сыграть свадьбу</td>\n",
       "    </tr>\n",
       "  </tbody>\n",
       "</table>\n",
       "</div>"
      ],
      "text/plain": [
       "   children  years_employed  dob_years education  education_id  \\\n",
       "0         1              23         42    высшее             0   \n",
       "1         1              11         36   среднее             1   \n",
       "2         0              15         33   среднее             1   \n",
       "3         3              11         32   среднее             1   \n",
       "4         0              37         53   среднее             1   \n",
       "\n",
       "      family_status  family_status_id gender income_type  debt  total_income  \\\n",
       "0   женат / замужем                 0      F   сотрудник     0        253875   \n",
       "1   женат / замужем                 0      F   сотрудник     0        112080   \n",
       "2   женат / замужем                 0      M   сотрудник     0        145885   \n",
       "3   женат / замужем                 0      M   сотрудник     0        267628   \n",
       "4  гражданский брак                 1      F   пенсионер     0        158616   \n",
       "\n",
       "                      purpose  \n",
       "0               покупка жилья  \n",
       "1     приобретение автомобиля  \n",
       "2               покупка жилья  \n",
       "3  дополнительное образование  \n",
       "4             сыграть свадьбу  "
      ]
     },
     "execution_count": 17,
     "metadata": {},
     "output_type": "execute_result"
    }
   ],
   "source": [
    "# Трудовой стаж удобнее воспринимать в годах, переименуем колонку и разделим значения на 365, изменим тип float на int.\n",
    "data = data.rename(columns={'days_employed': 'years_employed'})\n",
    "data.years_employed = data.years_employed/365\n",
    "data.years_employed = data.years_employed.astype('int')\n",
    "\n",
    "# Возраст в процессе операций сменил тип на float, восстановим тип int.\n",
    "data.dob_years = data.dob_years.astype('int')\n",
    "\n",
    "# Доход удобнее воспринимать как целое число, изменим также тип на int.\n",
    "data.total_income = data.total_income.astype('int')\n",
    "\n",
    "# Приведем к нижнему регистру все описательные категориальные переменные.\n",
    "data.education = data.education.str.lower()\n",
    "data.income_type = data.income_type.str.lower()\n",
    "data.family_status = data.family_status.str.lower()\n",
    "data.purpose = data.purpose.str.lower()\n",
    "\n",
    "data.head()"
   ]
  },
  {
   "cell_type": "markdown",
   "metadata": {},
   "source": [
    "Изменили тип количественных признаков трудового стажа, возраста и дохода c вещественного на целый с применением метода astype, так как пропуски уже обработаны и преобразовать нужно число. Также привели к нижнему регистру категориальные переменные. Значения трудового стажа вывели в годах. Преобразованный массив читается легче."
   ]
  },
  {
   "cell_type": "markdown",
   "metadata": {},
   "source": [
    "### Обработка дубликатов"
   ]
  },
  {
   "cell_type": "code",
   "execution_count": 18,
   "metadata": {},
   "outputs": [
    {
     "name": "stdout",
     "output_type": "stream",
     "text": [
      "Количество дубликатов в массиве: 71\n",
      "Количество полностью идентичных строк: 137\n",
      "Доля дубликатов: 0.3%\n"
     ]
    }
   ],
   "source": [
    "# Ранее значения всех категориальных описательных переменных были приведены к нижнему регистру, что позволило выделить \n",
    "# корректное количество уникальных значений по признаку образование.\n",
    "# Для поиска дубликатов воспользуемся методом duplicated().\n",
    "\n",
    "print('Количество дубликатов в массиве:', data.duplicated().sum())\n",
    "print('Количество полностью идентичных строк:', data.duplicated(keep = False).sum())\n",
    "print('Доля дубликатов: {:.1%}'.format(data.duplicated().sum() / len(data)))"
   ]
  },
  {
   "cell_type": "code",
   "execution_count": 19,
   "metadata": {},
   "outputs": [
    {
     "data": {
      "text/html": [
       "<div>\n",
       "<style scoped>\n",
       "    .dataframe tbody tr th:only-of-type {\n",
       "        vertical-align: middle;\n",
       "    }\n",
       "\n",
       "    .dataframe tbody tr th {\n",
       "        vertical-align: top;\n",
       "    }\n",
       "\n",
       "    .dataframe thead th {\n",
       "        text-align: right;\n",
       "    }\n",
       "</style>\n",
       "<table border=\"1\" class=\"dataframe\">\n",
       "  <thead>\n",
       "    <tr style=\"text-align: right;\">\n",
       "      <th></th>\n",
       "      <th>children</th>\n",
       "      <th>years_employed</th>\n",
       "      <th>dob_years</th>\n",
       "      <th>education</th>\n",
       "      <th>education_id</th>\n",
       "      <th>family_status</th>\n",
       "      <th>family_status_id</th>\n",
       "      <th>gender</th>\n",
       "      <th>income_type</th>\n",
       "      <th>debt</th>\n",
       "      <th>total_income</th>\n",
       "      <th>purpose</th>\n",
       "    </tr>\n",
       "  </thead>\n",
       "  <tbody>\n",
       "    <tr>\n",
       "      <th>7938</th>\n",
       "      <td>0</td>\n",
       "      <td>44</td>\n",
       "      <td>71</td>\n",
       "      <td>среднее</td>\n",
       "      <td>1</td>\n",
       "      <td>гражданский брак</td>\n",
       "      <td>1</td>\n",
       "      <td>F</td>\n",
       "      <td>пенсионер</td>\n",
       "      <td>0</td>\n",
       "      <td>118514</td>\n",
       "      <td>на проведение свадьбы</td>\n",
       "    </tr>\n",
       "    <tr>\n",
       "      <th>9604</th>\n",
       "      <td>0</td>\n",
       "      <td>44</td>\n",
       "      <td>71</td>\n",
       "      <td>среднее</td>\n",
       "      <td>1</td>\n",
       "      <td>гражданский брак</td>\n",
       "      <td>1</td>\n",
       "      <td>F</td>\n",
       "      <td>пенсионер</td>\n",
       "      <td>0</td>\n",
       "      <td>118514</td>\n",
       "      <td>на проведение свадьбы</td>\n",
       "    </tr>\n",
       "    <tr>\n",
       "      <th>6537</th>\n",
       "      <td>0</td>\n",
       "      <td>44</td>\n",
       "      <td>71</td>\n",
       "      <td>среднее</td>\n",
       "      <td>1</td>\n",
       "      <td>гражданский брак</td>\n",
       "      <td>1</td>\n",
       "      <td>F</td>\n",
       "      <td>пенсионер</td>\n",
       "      <td>0</td>\n",
       "      <td>118514</td>\n",
       "      <td>на проведение свадьбы</td>\n",
       "    </tr>\n",
       "    <tr>\n",
       "      <th>5865</th>\n",
       "      <td>0</td>\n",
       "      <td>44</td>\n",
       "      <td>66</td>\n",
       "      <td>среднее</td>\n",
       "      <td>1</td>\n",
       "      <td>вдовец / вдова</td>\n",
       "      <td>2</td>\n",
       "      <td>F</td>\n",
       "      <td>пенсионер</td>\n",
       "      <td>0</td>\n",
       "      <td>118514</td>\n",
       "      <td>операции со своей недвижимостью</td>\n",
       "    </tr>\n",
       "    <tr>\n",
       "      <th>9528</th>\n",
       "      <td>0</td>\n",
       "      <td>44</td>\n",
       "      <td>66</td>\n",
       "      <td>среднее</td>\n",
       "      <td>1</td>\n",
       "      <td>вдовец / вдова</td>\n",
       "      <td>2</td>\n",
       "      <td>F</td>\n",
       "      <td>пенсионер</td>\n",
       "      <td>0</td>\n",
       "      <td>118514</td>\n",
       "      <td>операции со своей недвижимостью</td>\n",
       "    </tr>\n",
       "  </tbody>\n",
       "</table>\n",
       "</div>"
      ],
      "text/plain": [
       "      children  years_employed  dob_years education  education_id  \\\n",
       "7938         0              44         71   среднее             1   \n",
       "9604         0              44         71   среднее             1   \n",
       "6537         0              44         71   среднее             1   \n",
       "5865         0              44         66   среднее             1   \n",
       "9528         0              44         66   среднее             1   \n",
       "\n",
       "         family_status  family_status_id gender income_type  debt  \\\n",
       "7938  гражданский брак                 1      F   пенсионер     0   \n",
       "9604  гражданский брак                 1      F   пенсионер     0   \n",
       "6537  гражданский брак                 1      F   пенсионер     0   \n",
       "5865    вдовец / вдова                 2      F   пенсионер     0   \n",
       "9528    вдовец / вдова                 2      F   пенсионер     0   \n",
       "\n",
       "      total_income                          purpose  \n",
       "7938        118514            на проведение свадьбы  \n",
       "9604        118514            на проведение свадьбы  \n",
       "6537        118514            на проведение свадьбы  \n",
       "5865        118514  операции со своей недвижимостью  \n",
       "9528        118514  операции со своей недвижимостью  "
      ]
     },
     "execution_count": 19,
     "metadata": {},
     "output_type": "execute_result"
    }
   ],
   "source": [
    "data[data.duplicated(keep = False)].sort_values('dob_years', ascending = False).head() # Посмотрим, как выглядят дубликаты.\n",
    "# Скорее всего подобные строки появились в результате повторного ввода. Массив можно было бы защитить от появления \n",
    "# идентичных строк на этапе формирования."
   ]
  },
  {
   "cell_type": "code",
   "execution_count": 20,
   "metadata": {},
   "outputs": [
    {
     "name": "stdout",
     "output_type": "stream",
     "text": [
      "Количество дубликатов в массиве 0\n"
     ]
    }
   ],
   "source": [
    "data = data.drop_duplicates().reset_index(drop = True)\n",
    "print('Количество дубликатов в массиве', data.duplicated().sum())"
   ]
  },
  {
   "cell_type": "markdown",
   "metadata": {},
   "source": [
    "После преобразования массив не содержит полностью идентичных строк. Между тем наличие дубликатов характеризует качество исходного массива, дает дополнительное основание сомневаться в корректности данных."
   ]
  },
  {
   "cell_type": "markdown",
   "metadata": {},
   "source": [
    "### Лемматизация"
   ]
  },
  {
   "cell_type": "code",
   "execution_count": 21,
   "metadata": {},
   "outputs": [
    {
     "name": "stderr",
     "output_type": "stream",
     "text": [
      "Installing mystem to /Users/julia/.local/bin/mystem from http://download.cdn.yandex.net/mystem/mystem-3.1-macosx.tar.gz\n"
     ]
    },
    {
     "data": {
      "text/plain": [
       "Counter({'покупка': 5897,\n",
       "         'жилье': 4460,\n",
       "         'приобретение': 461,\n",
       "         'автомобиль': 4306,\n",
       "         'дополнительный': 906,\n",
       "         'образование': 4013,\n",
       "         'сыграть': 765,\n",
       "         'свадьба': 2324,\n",
       "         'операция': 2604,\n",
       "         'проведение': 768,\n",
       "         'для': 1289,\n",
       "         'семья': 638,\n",
       "         'недвижимость': 6351,\n",
       "         'коммерческий': 1311,\n",
       "         'жилой': 1230,\n",
       "         'строительство': 1878,\n",
       "         'собственный': 635,\n",
       "         'подержать': 964,\n",
       "         'свой': 2230,\n",
       "         'заниматься': 904,\n",
       "         'сделка': 941,\n",
       "         'получение': 1314,\n",
       "         'высокий': 1374,\n",
       "         'профильный': 436,\n",
       "         'сдача': 651,\n",
       "         'ремонт': 607})"
      ]
     },
     "execution_count": 21,
     "metadata": {},
     "output_type": "execute_result"
    }
   ],
   "source": [
    "m = Mystem()\n",
    "lemmas = []\n",
    "for purp in data.purpose:\n",
    "    for word in purp.split():                    # Получаем список лемм длиной более двух букв \n",
    "        lem = m.lemmatize(word)                  # каждого слова из формулировки цели.\n",
    "        if len(lem[0]) > 2:\n",
    "            lemmas.append(lem[0])\n",
    "\n",
    "word_frequency = collections.Counter(lemmas)\n",
    "word_frequency"
   ]
  },
  {
   "cell_type": "code",
   "execution_count": 22,
   "metadata": {},
   "outputs": [
    {
     "data": {
      "text/plain": [
       "свадьба                                   791\n",
       "на проведение свадьбы                     768\n",
       "сыграть свадьбу                           765\n",
       "операции с недвижимостью                  675\n",
       "покупка коммерческой недвижимости         661\n",
       "операции с жильем                         652\n",
       "покупка жилья для сдачи                   651\n",
       "операции с коммерческой недвижимостью     650\n",
       "жилье                                     646\n",
       "покупка жилья                             646\n",
       "покупка жилья для семьи                   638\n",
       "строительство собственной недвижимости    635\n",
       "недвижимость                              633\n",
       "операции со своей недвижимостью           627\n",
       "строительство жилой недвижимости          624\n",
       "покупка недвижимости                      621\n",
       "покупка своего жилья                      620\n",
       "строительство недвижимости                619\n",
       "ремонт жилью                              607\n",
       "покупка жилой недвижимости                606\n",
       "на покупку своего автомобиля              505\n",
       "заняться высшим образованием              496\n",
       "автомобиль                                494\n",
       "сделка с подержанным автомобилем          486\n",
       "на покупку подержанного автомобиля        478\n",
       "автомобили                                478\n",
       "свой автомобиль                           478\n",
       "на покупку автомобиля                     471\n",
       "приобретение автомобиля                   461\n",
       "дополнительное образование                460\n",
       "сделка с автомобилем                      455\n",
       "высшее образование                        452\n",
       "образование                               447\n",
       "получение дополнительного образования     446\n",
       "получение образования                     442\n",
       "профильное образование                    436\n",
       "получение высшего образования             426\n",
       "заняться образованием                     408\n",
       "Name: purpose, dtype: int64"
      ]
     },
     "execution_count": 22,
     "metadata": {},
     "output_type": "execute_result"
    }
   ],
   "source": [
    "# Сопоставим частотность лемм и формулировок цели. \n",
    "data.purpose.value_counts()"
   ]
  },
  {
   "cell_type": "code",
   "execution_count": 23,
   "metadata": {
    "scrolled": true
   },
   "outputs": [
    {
     "data": {
      "text/html": [
       "<div>\n",
       "<style scoped>\n",
       "    .dataframe tbody tr th:only-of-type {\n",
       "        vertical-align: middle;\n",
       "    }\n",
       "\n",
       "    .dataframe tbody tr th {\n",
       "        vertical-align: top;\n",
       "    }\n",
       "\n",
       "    .dataframe thead th {\n",
       "        text-align: right;\n",
       "    }\n",
       "</style>\n",
       "<table border=\"1\" class=\"dataframe\">\n",
       "  <thead>\n",
       "    <tr style=\"text-align: right;\">\n",
       "      <th></th>\n",
       "      <th>children</th>\n",
       "      <th>years_employed</th>\n",
       "      <th>dob_years</th>\n",
       "      <th>education</th>\n",
       "      <th>education_id</th>\n",
       "      <th>family_status</th>\n",
       "      <th>family_status_id</th>\n",
       "      <th>gender</th>\n",
       "      <th>income_type</th>\n",
       "      <th>debt</th>\n",
       "      <th>total_income</th>\n",
       "      <th>purpose</th>\n",
       "      <th>purpose_category</th>\n",
       "    </tr>\n",
       "  </thead>\n",
       "  <tbody>\n",
       "    <tr>\n",
       "      <th>0</th>\n",
       "      <td>1</td>\n",
       "      <td>23</td>\n",
       "      <td>42</td>\n",
       "      <td>высшее</td>\n",
       "      <td>0</td>\n",
       "      <td>женат / замужем</td>\n",
       "      <td>0</td>\n",
       "      <td>F</td>\n",
       "      <td>сотрудник</td>\n",
       "      <td>0</td>\n",
       "      <td>253875</td>\n",
       "      <td>покупка жилья</td>\n",
       "      <td>жилье</td>\n",
       "    </tr>\n",
       "    <tr>\n",
       "      <th>1</th>\n",
       "      <td>1</td>\n",
       "      <td>11</td>\n",
       "      <td>36</td>\n",
       "      <td>среднее</td>\n",
       "      <td>1</td>\n",
       "      <td>женат / замужем</td>\n",
       "      <td>0</td>\n",
       "      <td>F</td>\n",
       "      <td>сотрудник</td>\n",
       "      <td>0</td>\n",
       "      <td>112080</td>\n",
       "      <td>приобретение автомобиля</td>\n",
       "      <td>автомобиль</td>\n",
       "    </tr>\n",
       "    <tr>\n",
       "      <th>2</th>\n",
       "      <td>0</td>\n",
       "      <td>15</td>\n",
       "      <td>33</td>\n",
       "      <td>среднее</td>\n",
       "      <td>1</td>\n",
       "      <td>женат / замужем</td>\n",
       "      <td>0</td>\n",
       "      <td>M</td>\n",
       "      <td>сотрудник</td>\n",
       "      <td>0</td>\n",
       "      <td>145885</td>\n",
       "      <td>покупка жилья</td>\n",
       "      <td>жилье</td>\n",
       "    </tr>\n",
       "    <tr>\n",
       "      <th>3</th>\n",
       "      <td>3</td>\n",
       "      <td>11</td>\n",
       "      <td>32</td>\n",
       "      <td>среднее</td>\n",
       "      <td>1</td>\n",
       "      <td>женат / замужем</td>\n",
       "      <td>0</td>\n",
       "      <td>M</td>\n",
       "      <td>сотрудник</td>\n",
       "      <td>0</td>\n",
       "      <td>267628</td>\n",
       "      <td>дополнительное образование</td>\n",
       "      <td>образование</td>\n",
       "    </tr>\n",
       "    <tr>\n",
       "      <th>4</th>\n",
       "      <td>0</td>\n",
       "      <td>37</td>\n",
       "      <td>53</td>\n",
       "      <td>среднее</td>\n",
       "      <td>1</td>\n",
       "      <td>гражданский брак</td>\n",
       "      <td>1</td>\n",
       "      <td>F</td>\n",
       "      <td>пенсионер</td>\n",
       "      <td>0</td>\n",
       "      <td>158616</td>\n",
       "      <td>сыграть свадьбу</td>\n",
       "      <td>свадьба</td>\n",
       "    </tr>\n",
       "    <tr>\n",
       "      <th>...</th>\n",
       "      <td>...</td>\n",
       "      <td>...</td>\n",
       "      <td>...</td>\n",
       "      <td>...</td>\n",
       "      <td>...</td>\n",
       "      <td>...</td>\n",
       "      <td>...</td>\n",
       "      <td>...</td>\n",
       "      <td>...</td>\n",
       "      <td>...</td>\n",
       "      <td>...</td>\n",
       "      <td>...</td>\n",
       "      <td>...</td>\n",
       "    </tr>\n",
       "    <tr>\n",
       "      <th>21449</th>\n",
       "      <td>1</td>\n",
       "      <td>12</td>\n",
       "      <td>43</td>\n",
       "      <td>среднее</td>\n",
       "      <td>1</td>\n",
       "      <td>гражданский брак</td>\n",
       "      <td>1</td>\n",
       "      <td>F</td>\n",
       "      <td>компаньон</td>\n",
       "      <td>0</td>\n",
       "      <td>224791</td>\n",
       "      <td>операции с жильем</td>\n",
       "      <td>жилье</td>\n",
       "    </tr>\n",
       "    <tr>\n",
       "      <th>21450</th>\n",
       "      <td>0</td>\n",
       "      <td>51</td>\n",
       "      <td>67</td>\n",
       "      <td>среднее</td>\n",
       "      <td>1</td>\n",
       "      <td>женат / замужем</td>\n",
       "      <td>0</td>\n",
       "      <td>F</td>\n",
       "      <td>пенсионер</td>\n",
       "      <td>0</td>\n",
       "      <td>155999</td>\n",
       "      <td>сделка с автомобилем</td>\n",
       "      <td>автомобиль</td>\n",
       "    </tr>\n",
       "    <tr>\n",
       "      <th>21451</th>\n",
       "      <td>1</td>\n",
       "      <td>5</td>\n",
       "      <td>38</td>\n",
       "      <td>среднее</td>\n",
       "      <td>1</td>\n",
       "      <td>гражданский брак</td>\n",
       "      <td>1</td>\n",
       "      <td>M</td>\n",
       "      <td>сотрудник</td>\n",
       "      <td>1</td>\n",
       "      <td>89672</td>\n",
       "      <td>недвижимость</td>\n",
       "      <td>недвижимость</td>\n",
       "    </tr>\n",
       "    <tr>\n",
       "      <th>21452</th>\n",
       "      <td>3</td>\n",
       "      <td>8</td>\n",
       "      <td>38</td>\n",
       "      <td>среднее</td>\n",
       "      <td>1</td>\n",
       "      <td>женат / замужем</td>\n",
       "      <td>0</td>\n",
       "      <td>M</td>\n",
       "      <td>сотрудник</td>\n",
       "      <td>1</td>\n",
       "      <td>244093</td>\n",
       "      <td>на покупку своего автомобиля</td>\n",
       "      <td>автомобиль</td>\n",
       "    </tr>\n",
       "    <tr>\n",
       "      <th>21453</th>\n",
       "      <td>2</td>\n",
       "      <td>5</td>\n",
       "      <td>40</td>\n",
       "      <td>среднее</td>\n",
       "      <td>1</td>\n",
       "      <td>женат / замужем</td>\n",
       "      <td>0</td>\n",
       "      <td>F</td>\n",
       "      <td>сотрудник</td>\n",
       "      <td>0</td>\n",
       "      <td>82047</td>\n",
       "      <td>на покупку автомобиля</td>\n",
       "      <td>автомобиль</td>\n",
       "    </tr>\n",
       "  </tbody>\n",
       "</table>\n",
       "<p>21454 rows × 13 columns</p>\n",
       "</div>"
      ],
      "text/plain": [
       "       children  years_employed  dob_years education  education_id  \\\n",
       "0             1              23         42    высшее             0   \n",
       "1             1              11         36   среднее             1   \n",
       "2             0              15         33   среднее             1   \n",
       "3             3              11         32   среднее             1   \n",
       "4             0              37         53   среднее             1   \n",
       "...         ...             ...        ...       ...           ...   \n",
       "21449         1              12         43   среднее             1   \n",
       "21450         0              51         67   среднее             1   \n",
       "21451         1               5         38   среднее             1   \n",
       "21452         3               8         38   среднее             1   \n",
       "21453         2               5         40   среднее             1   \n",
       "\n",
       "          family_status  family_status_id gender income_type  debt  \\\n",
       "0       женат / замужем                 0      F   сотрудник     0   \n",
       "1       женат / замужем                 0      F   сотрудник     0   \n",
       "2       женат / замужем                 0      M   сотрудник     0   \n",
       "3       женат / замужем                 0      M   сотрудник     0   \n",
       "4      гражданский брак                 1      F   пенсионер     0   \n",
       "...                 ...               ...    ...         ...   ...   \n",
       "21449  гражданский брак                 1      F   компаньон     0   \n",
       "21450   женат / замужем                 0      F   пенсионер     0   \n",
       "21451  гражданский брак                 1      M   сотрудник     1   \n",
       "21452   женат / замужем                 0      M   сотрудник     1   \n",
       "21453   женат / замужем                 0      F   сотрудник     0   \n",
       "\n",
       "       total_income                       purpose purpose_category  \n",
       "0            253875                 покупка жилья            жилье  \n",
       "1            112080       приобретение автомобиля       автомобиль  \n",
       "2            145885                 покупка жилья            жилье  \n",
       "3            267628    дополнительное образование      образование  \n",
       "4            158616               сыграть свадьбу          свадьба  \n",
       "...             ...                           ...              ...  \n",
       "21449        224791             операции с жильем            жилье  \n",
       "21450        155999          сделка с автомобилем       автомобиль  \n",
       "21451         89672                  недвижимость     недвижимость  \n",
       "21452        244093  на покупку своего автомобиля       автомобиль  \n",
       "21453         82047         на покупку автомобиля       автомобиль  \n",
       "\n",
       "[21454 rows x 13 columns]"
      ]
     },
     "execution_count": 23,
     "metadata": {},
     "output_type": "execute_result"
    }
   ],
   "source": [
    "# Формулировки цели кредита очевидно 'живые' на усмотрение клиента, а их выбор стоит ограничить списком.\n",
    "# Наиболее вариативной категорией является недвижимость - она может быть жилой(жильем), коммерческой, с ней могут быть операции, \n",
    "# кто-то планирует строительство, а кто-то в принципе не уточняет. Фиксированный список целей мог бы исключить трактовки.\n",
    "# Между тем сформируем список категорий целей кредита из имеющихся данных. На данном этапе необходимо выделить категории\n",
    "# жилье и недвижимость, позже объединим их.\n",
    "purpose_category = ['недвижимость', 'автомобиль', 'свадьба', 'образование', 'ремонт', 'жилье']\n",
    "\n",
    "def lemma(phrase):\n",
    "    for word in phrase.split():\n",
    "        lem = m.lemmatize(word)\n",
    "        if lem[0] in purpose_category:\n",
    "            return lem[0]\n",
    "    \n",
    "data['purpose_category'] = data.purpose.apply(lemma)\n",
    "data\n"
   ]
  },
  {
   "cell_type": "code",
   "execution_count": 24,
   "metadata": {},
   "outputs": [
    {
     "data": {
      "text/plain": [
       "недвижимость    6351\n",
       "автомобиль      4306\n",
       "образование     4013\n",
       "жилье           3853\n",
       "свадьба         2324\n",
       "ремонт           607\n",
       "Name: purpose_category, dtype: int64"
      ]
     },
     "execution_count": 24,
     "metadata": {},
     "output_type": "execute_result"
    }
   ],
   "source": [
    "data.purpose_category.value_counts()"
   ]
  },
  {
   "cell_type": "code",
   "execution_count": 25,
   "metadata": {},
   "outputs": [
    {
     "data": {
      "text/plain": [
       "недвижимость    10204\n",
       "автомобиль       4306\n",
       "образование      4013\n",
       "свадьба          2324\n",
       "ремонт            607\n",
       "Name: purpose_category, dtype: int64"
      ]
     },
     "execution_count": 25,
     "metadata": {},
     "output_type": "execute_result"
    }
   ],
   "source": [
    "# Получившиеся 6 категорий целей кредита сократим до 5. Категории жилье и недвижимость объединим в одну - недвижимость. \n",
    "data.loc[data['purpose_category'] == 'жилье', 'purpose_category'] = 'недвижимость'\n",
    "data.purpose_category.value_counts()"
   ]
  },
  {
   "cell_type": "markdown",
   "metadata": {},
   "source": [
    "В массив был добавлен столбец с категорией цель кредита, всего выделено 5 категорий на основе формулировки цели кредита. Категория недвижимость могла бы быть более детализированной."
   ]
  },
  {
   "cell_type": "markdown",
   "metadata": {},
   "source": [
    "### Категоризация данных"
   ]
  },
  {
   "cell_type": "code",
   "execution_count": 26,
   "metadata": {},
   "outputs": [
    {
     "data": {
      "text/html": [
       "<div>\n",
       "<style scoped>\n",
       "    .dataframe tbody tr th:only-of-type {\n",
       "        vertical-align: middle;\n",
       "    }\n",
       "\n",
       "    .dataframe tbody tr th {\n",
       "        vertical-align: top;\n",
       "    }\n",
       "\n",
       "    .dataframe thead th {\n",
       "        text-align: right;\n",
       "    }\n",
       "</style>\n",
       "<table border=\"1\" class=\"dataframe\">\n",
       "  <thead>\n",
       "    <tr style=\"text-align: right;\">\n",
       "      <th></th>\n",
       "      <th>children</th>\n",
       "      <th>years_employed</th>\n",
       "      <th>dob_years</th>\n",
       "      <th>education_id</th>\n",
       "      <th>family_status_id</th>\n",
       "      <th>debt</th>\n",
       "      <th>total_income</th>\n",
       "    </tr>\n",
       "  </thead>\n",
       "  <tbody>\n",
       "    <tr>\n",
       "      <th>count</th>\n",
       "      <td>21454.000000</td>\n",
       "      <td>21454.000000</td>\n",
       "      <td>21454.000000</td>\n",
       "      <td>21454.000000</td>\n",
       "      <td>21454.000000</td>\n",
       "      <td>21454.000000</td>\n",
       "      <td>2.145400e+04</td>\n",
       "    </tr>\n",
       "    <tr>\n",
       "      <th>mean</th>\n",
       "      <td>0.480563</td>\n",
       "      <td>12.512445</td>\n",
       "      <td>43.474690</td>\n",
       "      <td>0.817097</td>\n",
       "      <td>0.973898</td>\n",
       "      <td>0.081150</td>\n",
       "      <td>1.653196e+05</td>\n",
       "    </tr>\n",
       "    <tr>\n",
       "      <th>std</th>\n",
       "      <td>0.756069</td>\n",
       "      <td>15.646559</td>\n",
       "      <td>12.226883</td>\n",
       "      <td>0.548674</td>\n",
       "      <td>1.421567</td>\n",
       "      <td>0.273072</td>\n",
       "      <td>9.818730e+04</td>\n",
       "    </tr>\n",
       "    <tr>\n",
       "      <th>min</th>\n",
       "      <td>0.000000</td>\n",
       "      <td>0.000000</td>\n",
       "      <td>19.000000</td>\n",
       "      <td>0.000000</td>\n",
       "      <td>0.000000</td>\n",
       "      <td>0.000000</td>\n",
       "      <td>2.066700e+04</td>\n",
       "    </tr>\n",
       "    <tr>\n",
       "      <th>25%</th>\n",
       "      <td>0.000000</td>\n",
       "      <td>2.000000</td>\n",
       "      <td>33.000000</td>\n",
       "      <td>1.000000</td>\n",
       "      <td>0.000000</td>\n",
       "      <td>0.000000</td>\n",
       "      <td>1.076230e+05</td>\n",
       "    </tr>\n",
       "    <tr>\n",
       "      <th>50%</th>\n",
       "      <td>0.000000</td>\n",
       "      <td>5.000000</td>\n",
       "      <td>42.000000</td>\n",
       "      <td>1.000000</td>\n",
       "      <td>0.000000</td>\n",
       "      <td>0.000000</td>\n",
       "      <td>1.425940e+05</td>\n",
       "    </tr>\n",
       "    <tr>\n",
       "      <th>75%</th>\n",
       "      <td>1.000000</td>\n",
       "      <td>14.000000</td>\n",
       "      <td>53.000000</td>\n",
       "      <td>1.000000</td>\n",
       "      <td>1.000000</td>\n",
       "      <td>0.000000</td>\n",
       "      <td>1.958202e+05</td>\n",
       "    </tr>\n",
       "    <tr>\n",
       "      <th>max</th>\n",
       "      <td>5.000000</td>\n",
       "      <td>58.000000</td>\n",
       "      <td>75.000000</td>\n",
       "      <td>4.000000</td>\n",
       "      <td>4.000000</td>\n",
       "      <td>1.000000</td>\n",
       "      <td>2.265604e+06</td>\n",
       "    </tr>\n",
       "  </tbody>\n",
       "</table>\n",
       "</div>"
      ],
      "text/plain": [
       "           children  years_employed     dob_years  education_id  \\\n",
       "count  21454.000000    21454.000000  21454.000000  21454.000000   \n",
       "mean       0.480563       12.512445     43.474690      0.817097   \n",
       "std        0.756069       15.646559     12.226883      0.548674   \n",
       "min        0.000000        0.000000     19.000000      0.000000   \n",
       "25%        0.000000        2.000000     33.000000      1.000000   \n",
       "50%        0.000000        5.000000     42.000000      1.000000   \n",
       "75%        1.000000       14.000000     53.000000      1.000000   \n",
       "max        5.000000       58.000000     75.000000      4.000000   \n",
       "\n",
       "       family_status_id          debt  total_income  \n",
       "count      21454.000000  21454.000000  2.145400e+04  \n",
       "mean           0.973898      0.081150  1.653196e+05  \n",
       "std            1.421567      0.273072  9.818730e+04  \n",
       "min            0.000000      0.000000  2.066700e+04  \n",
       "25%            0.000000      0.000000  1.076230e+05  \n",
       "50%            0.000000      0.000000  1.425940e+05  \n",
       "75%            1.000000      0.000000  1.958202e+05  \n",
       "max            4.000000      1.000000  2.265604e+06  "
      ]
     },
     "execution_count": 26,
     "metadata": {},
     "output_type": "execute_result"
    }
   ],
   "source": [
    "data.describe()"
   ]
  },
  {
   "cell_type": "code",
   "execution_count": 27,
   "metadata": {},
   "outputs": [
    {
     "name": "stdout",
     "output_type": "stream",
     "text": [
      "Распределение клиентов по возрастным группам\n",
      "43-53    5448\n",
      "до 33    5366\n",
      "34-42    5365\n",
      "54+      5275\n",
      "Name: age_group, dtype: int64\n",
      "\n",
      "Распределение клиентов по группам дохода\n",
      "(2) 107,6-142,6    5481\n",
      "(4) 195,8+         5365\n",
      "(1) до 107,6       5363\n",
      "(3) 142,6-195,8    5245\n",
      "Name: income_group, dtype: int64\n",
      "\n",
      "Распределение клиентов по наличию детей\n",
      "нет детей    14091\n",
      "есть дети     7363\n",
      "Name: children_cat, dtype: int64\n",
      "\n",
      "Распределение клиентов по наличию опыта семейной жизни\n",
      "был опыт семейной жизни         18644\n",
      "не было опыта семейной жизни     2810\n",
      "Name: family_cat, dtype: int64\n"
     ]
    }
   ],
   "source": [
    "# Отнесем всех клиентов к нескольким возрастным группам, группам по доходу, наличию детей.\n",
    "# Категоризация по возрасту и доходу улучшает читаемость массива. Также выделение групп по доходу  \n",
    "# понадобится для выявления зависимости уровня дохода и риска невозврата кредита в срок. \n",
    "\n",
    "def age_cat(x):\n",
    "    if x <= 33:\n",
    "        return 'до 33'\n",
    "    if 34 <= x <= 42:\n",
    "        return '34-42'\n",
    "    if 43 <= x <= 53:\n",
    "        return '43-53'\n",
    "    if x >= 54 :\n",
    "        return '54+'\n",
    "   \n",
    "data['age_group'] = data.dob_years.apply(age_cat)\n",
    "\n",
    "\n",
    "def income_cat(x):\n",
    "    if x <= 107600:\n",
    "        return '(1) до 107,6'\n",
    "    elif 107601 <= x <= 142600:\n",
    "        return '(2) 107,6-142,6'\n",
    "    elif 142601 <= x <= 195800:\n",
    "        return '(3) 142,6-195,8'\n",
    "    else:\n",
    "        return '(4) 195,8+'\n",
    "\n",
    "data['income_group'] = data.total_income.apply(income_cat)\n",
    "\n",
    "def def_cildren_cat(x):\n",
    "    if x != 0:\n",
    "        return 'есть дети'\n",
    "    else:\n",
    "        return 'нет детей'\n",
    "    \n",
    "data['children_cat'] = data.children.apply(def_cildren_cat)\n",
    "\n",
    "def fam_stat_cat(x):\n",
    "    if x == 'не женат / не замужем':\n",
    "        return 'не было опыта семейной жизни'\n",
    "    else:\n",
    "        return 'был опыт семейной жизни'\n",
    "\n",
    "data['family_cat'] = data.family_status.apply(fam_stat_cat)\n",
    "\n",
    "print('Распределение клиентов по возрастным группам')\n",
    "print(data.age_group.value_counts())\n",
    "print()\n",
    "print('Распределение клиентов по группам дохода')\n",
    "print(data.income_group.value_counts())\n",
    "print()\n",
    "print('Распределение клиентов по наличию детей')\n",
    "print(data.children_cat.value_counts())\n",
    "print()\n",
    "print('Распределение клиентов по наличию опыта семейной жизни')\n",
    "print(data.family_cat.value_counts())"
   ]
  },
  {
   "cell_type": "markdown",
   "metadata": {},
   "source": [
    "Были выделены категории данных по возрасту, доходу, наличию детей с границами по квантилям. Удивительно, что 66% клиентов не имееют детей, при том, что 75% старше 33-х лет."
   ]
  },
  {
   "cell_type": "markdown",
   "metadata": {},
   "source": [
    "## 3. Влияние отдельных признаков на возврат кредита в срок"
   ]
  },
  {
   "cell_type": "markdown",
   "metadata": {},
   "source": [
    "**- Наличие детей**"
   ]
  },
  {
   "cell_type": "code",
   "execution_count": 28,
   "metadata": {},
   "outputs": [
    {
     "name": "stdout",
     "output_type": "stream",
     "text": [
      "% проблемных клиентов среди тех, у кого есть дети 9.2%\n",
      "% проблемных клиентов среди тех, у нет детей 7.5%\n",
      "\n",
      "% проблемных клиентов среди тех, у кого кол-во детей 1  -  9.2%\n",
      "% проблемных клиентов среди тех, у кого кол-во детей 2  -  9.5%\n",
      "% проблемных клиентов среди тех, у кого кол-во детей 3  -  8.2%\n",
      "% проблемных клиентов среди тех, у кого кол-во детей 4  -  9.8%\n",
      "% проблемных клиентов среди тех, у кого кол-во детей 5  -  0.0%\n"
     ]
    }
   ],
   "source": [
    "pr1 = data.loc[(data.children_cat == 'есть дети')&(data.debt == 1), 'debt'].sum()/data[data.children_cat == 'есть дети'].shape[0]\n",
    "print('% проблемных клиентов среди тех, у кого есть дети', '{:.1%}'.format(pr1))\n",
    "pr2 = data.loc[(data.children_cat == 'нет детей')&(data.debt == 1), 'debt'].sum()/data[data.children_cat == 'нет детей'].shape[0]\n",
    "print('% проблемных клиентов среди тех, у нет детей', '{:.1%}'.format(pr2))\n",
    "print()\n",
    "for x in [1, 2, 3, 4, 5]:\n",
    "    c = data.loc[(data['children'] == x)&(data.debt == 1), 'debt'].sum()/data[data['children'] == x].shape[0]\n",
    "    print('% проблемных клиентов среди тех, у кого кол-во детей', x, ' -  ' '{:.1%}'.format(c))\n",
    " \n",
    "#группа клиентов с 5 детьми совсем малочисленна - всего 9 человек "
   ]
  },
  {
   "cell_type": "code",
   "execution_count": 29,
   "metadata": {},
   "outputs": [
    {
     "data": {
      "text/html": [
       "<style  type=\"text/css\" >\n",
       "</style><table id=\"T_f33713e4_aea9_11ec_98f2_68fef705c06b\" ><thead>    <tr>        <th class=\"blank level0\" ></th>        <th class=\"col_heading level0 col0\" >client_q-ty</th>        <th class=\"col_heading level0 col1\" >issue_client_q-ty</th>        <th class=\"col_heading level0 col2\" >%_issue_cl</th>    </tr></thead><tbody>\n",
       "                <tr>\n",
       "                        <th id=\"T_f33713e4_aea9_11ec_98f2_68fef705c06blevel0_row0\" class=\"row_heading level0 row0\" >0</th>\n",
       "                        <td id=\"T_f33713e4_aea9_11ec_98f2_68fef705c06brow0_col0\" class=\"data row0 col0\" >14091</td>\n",
       "                        <td id=\"T_f33713e4_aea9_11ec_98f2_68fef705c06brow0_col1\" class=\"data row0 col1\" >1063</td>\n",
       "                        <td id=\"T_f33713e4_aea9_11ec_98f2_68fef705c06brow0_col2\" class=\"data row0 col2\" >7.5%</td>\n",
       "            </tr>\n",
       "            <tr>\n",
       "                        <th id=\"T_f33713e4_aea9_11ec_98f2_68fef705c06blevel0_row1\" class=\"row_heading level0 row1\" >1</th>\n",
       "                        <td id=\"T_f33713e4_aea9_11ec_98f2_68fef705c06brow1_col0\" class=\"data row1 col0\" >4855</td>\n",
       "                        <td id=\"T_f33713e4_aea9_11ec_98f2_68fef705c06brow1_col1\" class=\"data row1 col1\" >445</td>\n",
       "                        <td id=\"T_f33713e4_aea9_11ec_98f2_68fef705c06brow1_col2\" class=\"data row1 col2\" >9.2%</td>\n",
       "            </tr>\n",
       "            <tr>\n",
       "                        <th id=\"T_f33713e4_aea9_11ec_98f2_68fef705c06blevel0_row2\" class=\"row_heading level0 row2\" >2</th>\n",
       "                        <td id=\"T_f33713e4_aea9_11ec_98f2_68fef705c06brow2_col0\" class=\"data row2 col0\" >2128</td>\n",
       "                        <td id=\"T_f33713e4_aea9_11ec_98f2_68fef705c06brow2_col1\" class=\"data row2 col1\" >202</td>\n",
       "                        <td id=\"T_f33713e4_aea9_11ec_98f2_68fef705c06brow2_col2\" class=\"data row2 col2\" >9.5%</td>\n",
       "            </tr>\n",
       "            <tr>\n",
       "                        <th id=\"T_f33713e4_aea9_11ec_98f2_68fef705c06blevel0_row3\" class=\"row_heading level0 row3\" >3</th>\n",
       "                        <td id=\"T_f33713e4_aea9_11ec_98f2_68fef705c06brow3_col0\" class=\"data row3 col0\" >330</td>\n",
       "                        <td id=\"T_f33713e4_aea9_11ec_98f2_68fef705c06brow3_col1\" class=\"data row3 col1\" >27</td>\n",
       "                        <td id=\"T_f33713e4_aea9_11ec_98f2_68fef705c06brow3_col2\" class=\"data row3 col2\" >8.2%</td>\n",
       "            </tr>\n",
       "            <tr>\n",
       "                        <th id=\"T_f33713e4_aea9_11ec_98f2_68fef705c06blevel0_row4\" class=\"row_heading level0 row4\" >4</th>\n",
       "                        <td id=\"T_f33713e4_aea9_11ec_98f2_68fef705c06brow4_col0\" class=\"data row4 col0\" >41</td>\n",
       "                        <td id=\"T_f33713e4_aea9_11ec_98f2_68fef705c06brow4_col1\" class=\"data row4 col1\" >4</td>\n",
       "                        <td id=\"T_f33713e4_aea9_11ec_98f2_68fef705c06brow4_col2\" class=\"data row4 col2\" >9.8%</td>\n",
       "            </tr>\n",
       "            <tr>\n",
       "                        <th id=\"T_f33713e4_aea9_11ec_98f2_68fef705c06blevel0_row5\" class=\"row_heading level0 row5\" >5</th>\n",
       "                        <td id=\"T_f33713e4_aea9_11ec_98f2_68fef705c06brow5_col0\" class=\"data row5 col0\" >9</td>\n",
       "                        <td id=\"T_f33713e4_aea9_11ec_98f2_68fef705c06brow5_col1\" class=\"data row5 col1\" >0</td>\n",
       "                        <td id=\"T_f33713e4_aea9_11ec_98f2_68fef705c06brow5_col2\" class=\"data row5 col2\" >0.0%</td>\n",
       "            </tr>\n",
       "    </tbody></table>"
      ],
      "text/plain": [
       "<pandas.io.formats.style.Styler at 0x7fa8d7feb220>"
      ]
     },
     "execution_count": 29,
     "metadata": {},
     "output_type": "execute_result"
    }
   ],
   "source": [
    "# По абсолютным цифрам также видна зависимость - должники чаще встречаются среди клиентов с детьми.\n",
    "# Данные по многодетным семьям стоит рассматривать справочно, так как эта группа очень малочисленна (менее 3% от общего числа).\n",
    "\n",
    "tab = pd.DataFrame({'client_q-ty':data.children.value_counts(), \n",
    "                    'issue_client_q-ty':data.groupby(data.children).debt.sum()}, \n",
    "                    index= data.children.value_counts().index)\n",
    "tab['%_issue_cl'] =  tab['issue_client_q-ty'] / tab['client_q-ty'] \n",
    "tab.style.format({'%_issue_cl': '{:,.1%}'.format})"
   ]
  },
  {
   "cell_type": "code",
   "execution_count": 30,
   "metadata": {},
   "outputs": [
    {
     "data": {
      "text/html": [
       "<style  type=\"text/css\" >\n",
       "</style><table id=\"T_f339a29e_aea9_11ec_98f2_68fef705c06b\" ><thead>    <tr>        <th class=\"blank level0\" ></th>        <th class=\"col_heading level0 col0\" >client_q-ty</th>        <th class=\"col_heading level0 col1\" >issue_client_q-ty</th>        <th class=\"col_heading level0 col2\" >%_issue_cl</th>    </tr></thead><tbody>\n",
       "                <tr>\n",
       "                        <th id=\"T_f339a29e_aea9_11ec_98f2_68fef705c06blevel0_row0\" class=\"row_heading level0 row0\" >нет детей</th>\n",
       "                        <td id=\"T_f339a29e_aea9_11ec_98f2_68fef705c06brow0_col0\" class=\"data row0 col0\" >14091</td>\n",
       "                        <td id=\"T_f339a29e_aea9_11ec_98f2_68fef705c06brow0_col1\" class=\"data row0 col1\" >1063</td>\n",
       "                        <td id=\"T_f339a29e_aea9_11ec_98f2_68fef705c06brow0_col2\" class=\"data row0 col2\" >7.5%</td>\n",
       "            </tr>\n",
       "            <tr>\n",
       "                        <th id=\"T_f339a29e_aea9_11ec_98f2_68fef705c06blevel0_row1\" class=\"row_heading level0 row1\" >есть дети</th>\n",
       "                        <td id=\"T_f339a29e_aea9_11ec_98f2_68fef705c06brow1_col0\" class=\"data row1 col0\" >7363</td>\n",
       "                        <td id=\"T_f339a29e_aea9_11ec_98f2_68fef705c06brow1_col1\" class=\"data row1 col1\" >678</td>\n",
       "                        <td id=\"T_f339a29e_aea9_11ec_98f2_68fef705c06brow1_col2\" class=\"data row1 col2\" >9.2%</td>\n",
       "            </tr>\n",
       "    </tbody></table>"
      ],
      "text/plain": [
       "<pandas.io.formats.style.Styler at 0x7fa8d8a39850>"
      ]
     },
     "execution_count": 30,
     "metadata": {},
     "output_type": "execute_result"
    }
   ],
   "source": [
    "tab_ = pd.DataFrame({'client_q-ty':data.children_cat.value_counts(), \n",
    "                    'issue_client_q-ty':data.groupby(data.children_cat).debt.sum()}, \n",
    "                    index= data.children_cat.value_counts().index)\n",
    "tab_['%_issue_cl'] =  tab_['issue_client_q-ty'] / tab_['client_q-ty'] \n",
    "tab_.style.format({'%_issue_cl': '{:,.1%}'.format})"
   ]
  },
  {
   "cell_type": "code",
   "execution_count": 31,
   "metadata": {},
   "outputs": [
    {
     "name": "stdout",
     "output_type": "stream",
     "text": [
      "Процент проблемных клиентов (имели задолженность по кредиту) по всему массиву 8.1%\n"
     ]
    }
   ],
   "source": [
    "print('Процент проблемных клиентов (имели задолженность по кредиту) по всему массиву', \n",
    "                                                        '{0:.1%}'.format(data.debt.value_counts()[1]/data.shape[0]))"
   ]
  },
  {
   "cell_type": "markdown",
   "metadata": {},
   "source": [
    "Среди клиентов с детьми число проблемных больше. Наличие детей увеличивает риск невозврата кредита в срок. Вероятно ответственность за детей снижает значимость хорошей кредитной истории."
   ]
  },
  {
   "cell_type": "markdown",
   "metadata": {},
   "source": [
    "**- Семейное положение**"
   ]
  },
  {
   "cell_type": "code",
   "execution_count": 32,
   "metadata": {},
   "outputs": [
    {
     "name": "stdout",
     "output_type": "stream",
     "text": [
      "% проблемных клиентов среди тех, кто женат / замужем 7.5%\n",
      "% проблемных клиентов среди тех, кто гражданский брак 9.3%\n",
      "% проблемных клиентов среди тех, кто вдовец / вдова 6.6%\n",
      "% проблемных клиентов среди тех, кто в разводе 7.1%\n",
      "% проблемных клиентов среди тех, кто не женат / не замужем 9.8%\n"
     ]
    }
   ],
   "source": [
    "for x in data['family_status'].unique():\n",
    "    c = data.loc[(data['family_status'] == x)&(data.debt == 1), 'debt'].sum()/data[data['family_status'] == x].shape[0]\n",
    "    print('% проблемных клиентов среди тех, кто', x, '{:.1%}'.format(c))"
   ]
  },
  {
   "cell_type": "code",
   "execution_count": 33,
   "metadata": {},
   "outputs": [
    {
     "data": {
      "text/html": [
       "<style  type=\"text/css\" >\n",
       "</style><table id=\"T_f34392c2_aea9_11ec_98f2_68fef705c06b\" ><thead>    <tr>        <th class=\"blank level0\" ></th>        <th class=\"col_heading level0 col0\" >client_q-ty</th>        <th class=\"col_heading level0 col1\" >issue_client_q-ty</th>        <th class=\"col_heading level0 col2\" >%_issue_cl</th>    </tr></thead><tbody>\n",
       "                <tr>\n",
       "                        <th id=\"T_f34392c2_aea9_11ec_98f2_68fef705c06blevel0_row0\" class=\"row_heading level0 row0\" >женат / замужем</th>\n",
       "                        <td id=\"T_f34392c2_aea9_11ec_98f2_68fef705c06brow0_col0\" class=\"data row0 col0\" >12339</td>\n",
       "                        <td id=\"T_f34392c2_aea9_11ec_98f2_68fef705c06brow0_col1\" class=\"data row0 col1\" >931</td>\n",
       "                        <td id=\"T_f34392c2_aea9_11ec_98f2_68fef705c06brow0_col2\" class=\"data row0 col2\" >7.5%</td>\n",
       "            </tr>\n",
       "            <tr>\n",
       "                        <th id=\"T_f34392c2_aea9_11ec_98f2_68fef705c06blevel0_row1\" class=\"row_heading level0 row1\" >гражданский брак</th>\n",
       "                        <td id=\"T_f34392c2_aea9_11ec_98f2_68fef705c06brow1_col0\" class=\"data row1 col0\" >4151</td>\n",
       "                        <td id=\"T_f34392c2_aea9_11ec_98f2_68fef705c06brow1_col1\" class=\"data row1 col1\" >388</td>\n",
       "                        <td id=\"T_f34392c2_aea9_11ec_98f2_68fef705c06brow1_col2\" class=\"data row1 col2\" >9.3%</td>\n",
       "            </tr>\n",
       "            <tr>\n",
       "                        <th id=\"T_f34392c2_aea9_11ec_98f2_68fef705c06blevel0_row2\" class=\"row_heading level0 row2\" >не женат / не замужем</th>\n",
       "                        <td id=\"T_f34392c2_aea9_11ec_98f2_68fef705c06brow2_col0\" class=\"data row2 col0\" >2810</td>\n",
       "                        <td id=\"T_f34392c2_aea9_11ec_98f2_68fef705c06brow2_col1\" class=\"data row2 col1\" >274</td>\n",
       "                        <td id=\"T_f34392c2_aea9_11ec_98f2_68fef705c06brow2_col2\" class=\"data row2 col2\" >9.8%</td>\n",
       "            </tr>\n",
       "            <tr>\n",
       "                        <th id=\"T_f34392c2_aea9_11ec_98f2_68fef705c06blevel0_row3\" class=\"row_heading level0 row3\" >в разводе</th>\n",
       "                        <td id=\"T_f34392c2_aea9_11ec_98f2_68fef705c06brow3_col0\" class=\"data row3 col0\" >1195</td>\n",
       "                        <td id=\"T_f34392c2_aea9_11ec_98f2_68fef705c06brow3_col1\" class=\"data row3 col1\" >85</td>\n",
       "                        <td id=\"T_f34392c2_aea9_11ec_98f2_68fef705c06brow3_col2\" class=\"data row3 col2\" >7.1%</td>\n",
       "            </tr>\n",
       "            <tr>\n",
       "                        <th id=\"T_f34392c2_aea9_11ec_98f2_68fef705c06blevel0_row4\" class=\"row_heading level0 row4\" >вдовец / вдова</th>\n",
       "                        <td id=\"T_f34392c2_aea9_11ec_98f2_68fef705c06brow4_col0\" class=\"data row4 col0\" >959</td>\n",
       "                        <td id=\"T_f34392c2_aea9_11ec_98f2_68fef705c06brow4_col1\" class=\"data row4 col1\" >63</td>\n",
       "                        <td id=\"T_f34392c2_aea9_11ec_98f2_68fef705c06brow4_col2\" class=\"data row4 col2\" >6.6%</td>\n",
       "            </tr>\n",
       "    </tbody></table>"
      ],
      "text/plain": [
       "<pandas.io.formats.style.Styler at 0x7fa8daeeff40>"
      ]
     },
     "execution_count": 33,
     "metadata": {},
     "output_type": "execute_result"
    }
   ],
   "source": [
    "tab1 = pd.DataFrame({'client_q-ty':data.family_status.value_counts(), \n",
    "                    'issue_client_q-ty':data.groupby(data.family_status).debt.sum()}, \n",
    "                    index= data.family_status.value_counts().index)\n",
    "tab1['%_issue_cl'] =  tab1['issue_client_q-ty'] / tab1['client_q-ty'] \n",
    "tab1.style.format({'%_issue_cl': '{:,.1%}'.format})"
   ]
  },
  {
   "cell_type": "code",
   "execution_count": 34,
   "metadata": {},
   "outputs": [
    {
     "name": "stdout",
     "output_type": "stream",
     "text": [
      "% проблемных клиентов в категории был опыт семейной жизни 7.9%\n",
      "% проблемных клиентов в категории не было опыта семейной жизни 9.8%\n"
     ]
    }
   ],
   "source": [
    "# Категория про опыт семейной жизни интересна, но из цифр выше видно,\n",
    "# что на дисплинированность клиентов влияет именно опыт зарегистрированных отношений.\n",
    "\n",
    "for x in data['family_cat'].unique():\n",
    "    c = data.loc[(data['family_cat'] == x)&(data.debt == 1), 'debt'].sum()/data[data['family_cat'] == x].shape[0]\n",
    "    print('% проблемных клиентов в категории', x, '{:.1%}'.format(c))"
   ]
  },
  {
   "cell_type": "code",
   "execution_count": 35,
   "metadata": {},
   "outputs": [
    {
     "data": {
      "text/html": [
       "<style  type=\"text/css\" >\n",
       "</style><table id=\"T_f34994d8_aea9_11ec_98f2_68fef705c06b\" ><thead>    <tr>        <th class=\"blank level0\" ></th>        <th class=\"col_heading level0 col0\" >client_q-ty</th>        <th class=\"col_heading level0 col1\" >issue_client_q-ty</th>        <th class=\"col_heading level0 col2\" >%_issue_cl</th>    </tr></thead><tbody>\n",
       "                <tr>\n",
       "                        <th id=\"T_f34994d8_aea9_11ec_98f2_68fef705c06blevel0_row0\" class=\"row_heading level0 row0\" >был опыт семейной жизни</th>\n",
       "                        <td id=\"T_f34994d8_aea9_11ec_98f2_68fef705c06brow0_col0\" class=\"data row0 col0\" >18644</td>\n",
       "                        <td id=\"T_f34994d8_aea9_11ec_98f2_68fef705c06brow0_col1\" class=\"data row0 col1\" >1467</td>\n",
       "                        <td id=\"T_f34994d8_aea9_11ec_98f2_68fef705c06brow0_col2\" class=\"data row0 col2\" >7.9%</td>\n",
       "            </tr>\n",
       "            <tr>\n",
       "                        <th id=\"T_f34994d8_aea9_11ec_98f2_68fef705c06blevel0_row1\" class=\"row_heading level0 row1\" >не было опыта семейной жизни</th>\n",
       "                        <td id=\"T_f34994d8_aea9_11ec_98f2_68fef705c06brow1_col0\" class=\"data row1 col0\" >2810</td>\n",
       "                        <td id=\"T_f34994d8_aea9_11ec_98f2_68fef705c06brow1_col1\" class=\"data row1 col1\" >274</td>\n",
       "                        <td id=\"T_f34994d8_aea9_11ec_98f2_68fef705c06brow1_col2\" class=\"data row1 col2\" >9.8%</td>\n",
       "            </tr>\n",
       "    </tbody></table>"
      ],
      "text/plain": [
       "<pandas.io.formats.style.Styler at 0x7fa8daeefac0>"
      ]
     },
     "execution_count": 35,
     "metadata": {},
     "output_type": "execute_result"
    }
   ],
   "source": [
    "tab2 = pd.DataFrame({'client_q-ty':data.family_cat.value_counts(), \n",
    "                    'issue_client_q-ty':data.groupby(data.family_cat).debt.sum()}, \n",
    "                    index= data.family_cat.value_counts().index)\n",
    "tab2['%_issue_cl'] =  tab2['issue_client_q-ty'] / tab2['client_q-ty'] \n",
    "tab2.style.format({'%_issue_cl': '{:,.1%}'.format})"
   ]
  },
  {
   "cell_type": "markdown",
   "metadata": {},
   "source": [
    "Отсутствие опыта семейной жизни в официальном браке увеливает риск невозврата кредита в срок. А зарегистрированные отношения повышают дисциплинированность. "
   ]
  },
  {
   "cell_type": "markdown",
   "metadata": {},
   "source": [
    "**- Уровень дохода**"
   ]
  },
  {
   "cell_type": "code",
   "execution_count": 36,
   "metadata": {},
   "outputs": [
    {
     "name": "stdout",
     "output_type": "stream",
     "text": [
      "% проблемных клиентов с доходом (4) 195,8+  - 7.1%\n",
      "% проблемных клиентов с доходом (2) 107,6-142,6  - 8.8%\n",
      "% проблемных клиентов с доходом (3) 142,6-195,8  - 8.5%\n",
      "% проблемных клиентов с доходом (1) до 107,6  - 8.0%\n"
     ]
    }
   ],
   "source": [
    "for x in data['income_group'].unique():\n",
    "    c = data.loc[(data['income_group'] == x)&(data.debt == 1), 'debt'].sum()/data[data['income_group'] == x].shape[0]\n",
    "    print('% проблемных клиентов с доходом', x, ' -', '{:.1%}'.format(c))"
   ]
  },
  {
   "cell_type": "code",
   "execution_count": 37,
   "metadata": {},
   "outputs": [
    {
     "data": {
      "text/html": [
       "<style  type=\"text/css\" >\n",
       "</style><table id=\"T_f35115f0_aea9_11ec_98f2_68fef705c06b\" ><thead>    <tr>        <th class=\"blank level0\" ></th>        <th class=\"col_heading level0 col0\" >client_q-ty</th>        <th class=\"col_heading level0 col1\" >issue_client_q-ty</th>        <th class=\"col_heading level0 col2\" >%_issue_cl</th>    </tr></thead><tbody>\n",
       "                <tr>\n",
       "                        <th id=\"T_f35115f0_aea9_11ec_98f2_68fef705c06blevel0_row0\" class=\"row_heading level0 row0\" >(2) 107,6-142,6</th>\n",
       "                        <td id=\"T_f35115f0_aea9_11ec_98f2_68fef705c06brow0_col0\" class=\"data row0 col0\" >5481</td>\n",
       "                        <td id=\"T_f35115f0_aea9_11ec_98f2_68fef705c06brow0_col1\" class=\"data row0 col1\" >483</td>\n",
       "                        <td id=\"T_f35115f0_aea9_11ec_98f2_68fef705c06brow0_col2\" class=\"data row0 col2\" >8.8%</td>\n",
       "            </tr>\n",
       "            <tr>\n",
       "                        <th id=\"T_f35115f0_aea9_11ec_98f2_68fef705c06blevel0_row1\" class=\"row_heading level0 row1\" >(4) 195,8+</th>\n",
       "                        <td id=\"T_f35115f0_aea9_11ec_98f2_68fef705c06brow1_col0\" class=\"data row1 col0\" >5365</td>\n",
       "                        <td id=\"T_f35115f0_aea9_11ec_98f2_68fef705c06brow1_col1\" class=\"data row1 col1\" >383</td>\n",
       "                        <td id=\"T_f35115f0_aea9_11ec_98f2_68fef705c06brow1_col2\" class=\"data row1 col2\" >7.1%</td>\n",
       "            </tr>\n",
       "            <tr>\n",
       "                        <th id=\"T_f35115f0_aea9_11ec_98f2_68fef705c06blevel0_row2\" class=\"row_heading level0 row2\" >(1) до 107,6</th>\n",
       "                        <td id=\"T_f35115f0_aea9_11ec_98f2_68fef705c06brow2_col0\" class=\"data row2 col0\" >5363</td>\n",
       "                        <td id=\"T_f35115f0_aea9_11ec_98f2_68fef705c06brow2_col1\" class=\"data row2 col1\" >427</td>\n",
       "                        <td id=\"T_f35115f0_aea9_11ec_98f2_68fef705c06brow2_col2\" class=\"data row2 col2\" >8.0%</td>\n",
       "            </tr>\n",
       "            <tr>\n",
       "                        <th id=\"T_f35115f0_aea9_11ec_98f2_68fef705c06blevel0_row3\" class=\"row_heading level0 row3\" >(3) 142,6-195,8</th>\n",
       "                        <td id=\"T_f35115f0_aea9_11ec_98f2_68fef705c06brow3_col0\" class=\"data row3 col0\" >5245</td>\n",
       "                        <td id=\"T_f35115f0_aea9_11ec_98f2_68fef705c06brow3_col1\" class=\"data row3 col1\" >448</td>\n",
       "                        <td id=\"T_f35115f0_aea9_11ec_98f2_68fef705c06brow3_col2\" class=\"data row3 col2\" >8.5%</td>\n",
       "            </tr>\n",
       "    </tbody></table>"
      ],
      "text/plain": [
       "<pandas.io.formats.style.Styler at 0x7fa8daf14c70>"
      ]
     },
     "execution_count": 37,
     "metadata": {},
     "output_type": "execute_result"
    }
   ],
   "source": [
    "tab3 = pd.DataFrame({'client_q-ty':data.income_group.value_counts(), \n",
    "                    'issue_client_q-ty':data.groupby(data.income_group).debt.sum()}, \n",
    "                    index= data.income_group.value_counts().index)\n",
    "tab3['%_issue_cl'] =  tab3['issue_client_q-ty'] / tab3['client_q-ty'] \n",
    "tab3.style.format({'%_issue_cl': '{:,.1%}'.format})"
   ]
  },
  {
   "cell_type": "markdown",
   "metadata": {},
   "source": [
    "Клиенты с невысоким доходом и высоким более дисциплинированы, чем те, доход которых ближе к среднему. Клиенты, у которых денег немного, по всей видимости, тщательнее планируют свои расходы. Обеспеченые клиенты более свободны в тратах и вероятно также лучше умеют управлять финансами. "
   ]
  },
  {
   "cell_type": "markdown",
   "metadata": {},
   "source": [
    "**- Цель кредита**"
   ]
  },
  {
   "cell_type": "code",
   "execution_count": 38,
   "metadata": {
    "scrolled": true
   },
   "outputs": [
    {
     "name": "stdout",
     "output_type": "stream",
     "text": [
      "% проблемных клиентов среди тех, цель которых недвижимость 7.3%\n",
      "% проблемных клиентов среди тех, цель которых автомобиль 9.4%\n",
      "% проблемных клиентов среди тех, цель которых образование 9.2%\n",
      "% проблемных клиентов среди тех, цель которых свадьба 8.0%\n",
      "% проблемных клиентов среди тех, цель которых ремонт 5.8%\n"
     ]
    }
   ],
   "source": [
    "for x in list(data['purpose_category'].unique()):\n",
    "    c = data.loc[(data['purpose_category'] == x)&(data.debt == 1), 'debt'].sum()/data[data['purpose_category'] == x].shape[0]\n",
    "    print('% проблемных клиентов среди тех, цель которых', x, '{:.1%}'.format(c))"
   ]
  },
  {
   "cell_type": "code",
   "execution_count": 39,
   "metadata": {},
   "outputs": [
    {
     "data": {
      "text/html": [
       "<style  type=\"text/css\" >\n",
       "</style><table id=\"T_f35a8018_aea9_11ec_98f2_68fef705c06b\" ><thead>    <tr>        <th class=\"blank level0\" ></th>        <th class=\"col_heading level0 col0\" >client_q-ty</th>        <th class=\"col_heading level0 col1\" >issue_client_q-ty</th>        <th class=\"col_heading level0 col2\" >%_issue_cl</th>    </tr></thead><tbody>\n",
       "                <tr>\n",
       "                        <th id=\"T_f35a8018_aea9_11ec_98f2_68fef705c06blevel0_row0\" class=\"row_heading level0 row0\" >недвижимость</th>\n",
       "                        <td id=\"T_f35a8018_aea9_11ec_98f2_68fef705c06brow0_col0\" class=\"data row0 col0\" >10204</td>\n",
       "                        <td id=\"T_f35a8018_aea9_11ec_98f2_68fef705c06brow0_col1\" class=\"data row0 col1\" >747</td>\n",
       "                        <td id=\"T_f35a8018_aea9_11ec_98f2_68fef705c06brow0_col2\" class=\"data row0 col2\" >7.3%</td>\n",
       "            </tr>\n",
       "            <tr>\n",
       "                        <th id=\"T_f35a8018_aea9_11ec_98f2_68fef705c06blevel0_row1\" class=\"row_heading level0 row1\" >автомобиль</th>\n",
       "                        <td id=\"T_f35a8018_aea9_11ec_98f2_68fef705c06brow1_col0\" class=\"data row1 col0\" >4306</td>\n",
       "                        <td id=\"T_f35a8018_aea9_11ec_98f2_68fef705c06brow1_col1\" class=\"data row1 col1\" >403</td>\n",
       "                        <td id=\"T_f35a8018_aea9_11ec_98f2_68fef705c06brow1_col2\" class=\"data row1 col2\" >9.4%</td>\n",
       "            </tr>\n",
       "            <tr>\n",
       "                        <th id=\"T_f35a8018_aea9_11ec_98f2_68fef705c06blevel0_row2\" class=\"row_heading level0 row2\" >образование</th>\n",
       "                        <td id=\"T_f35a8018_aea9_11ec_98f2_68fef705c06brow2_col0\" class=\"data row2 col0\" >4013</td>\n",
       "                        <td id=\"T_f35a8018_aea9_11ec_98f2_68fef705c06brow2_col1\" class=\"data row2 col1\" >370</td>\n",
       "                        <td id=\"T_f35a8018_aea9_11ec_98f2_68fef705c06brow2_col2\" class=\"data row2 col2\" >9.2%</td>\n",
       "            </tr>\n",
       "            <tr>\n",
       "                        <th id=\"T_f35a8018_aea9_11ec_98f2_68fef705c06blevel0_row3\" class=\"row_heading level0 row3\" >свадьба</th>\n",
       "                        <td id=\"T_f35a8018_aea9_11ec_98f2_68fef705c06brow3_col0\" class=\"data row3 col0\" >2324</td>\n",
       "                        <td id=\"T_f35a8018_aea9_11ec_98f2_68fef705c06brow3_col1\" class=\"data row3 col1\" >186</td>\n",
       "                        <td id=\"T_f35a8018_aea9_11ec_98f2_68fef705c06brow3_col2\" class=\"data row3 col2\" >8.0%</td>\n",
       "            </tr>\n",
       "            <tr>\n",
       "                        <th id=\"T_f35a8018_aea9_11ec_98f2_68fef705c06blevel0_row4\" class=\"row_heading level0 row4\" >ремонт</th>\n",
       "                        <td id=\"T_f35a8018_aea9_11ec_98f2_68fef705c06brow4_col0\" class=\"data row4 col0\" >607</td>\n",
       "                        <td id=\"T_f35a8018_aea9_11ec_98f2_68fef705c06brow4_col1\" class=\"data row4 col1\" >35</td>\n",
       "                        <td id=\"T_f35a8018_aea9_11ec_98f2_68fef705c06brow4_col2\" class=\"data row4 col2\" >5.8%</td>\n",
       "            </tr>\n",
       "    </tbody></table>"
      ],
      "text/plain": [
       "<pandas.io.formats.style.Styler at 0x7fa8daf11b50>"
      ]
     },
     "execution_count": 39,
     "metadata": {},
     "output_type": "execute_result"
    }
   ],
   "source": [
    "tab4 = pd.DataFrame({'client_q-ty':data.purpose_category.value_counts(), \n",
    "                    'issue_client_q-ty':data.groupby(data.purpose_category).debt.sum()}, \n",
    "                    index= data.purpose_category.value_counts().index)\n",
    "tab4['%_issue_cl'] =  tab4['issue_client_q-ty'] / tab4['client_q-ty'] \n",
    "tab4.style.format({'%_issue_cl': '{:,.1%}'.format})"
   ]
  },
  {
   "cell_type": "code",
   "execution_count": 40,
   "metadata": {},
   "outputs": [
    {
     "data": {
      "text/html": [
       "<style  type=\"text/css\" >\n",
       "</style><table id=\"T_f35d64c2_aea9_11ec_98f2_68fef705c06b\" ><thead>    <tr>        <th class=\"blank level0\" ></th>        <th class=\"col_heading level0 col0\" >client_q-ty</th>        <th class=\"col_heading level0 col1\" >issue_client_q-ty</th>        <th class=\"col_heading level0 col2\" >%_issue_cl</th>    </tr></thead><tbody>\n",
       "                <tr>\n",
       "                        <th id=\"T_f35d64c2_aea9_11ec_98f2_68fef705c06blevel0_row0\" class=\"row_heading level0 row0\" >43-53</th>\n",
       "                        <td id=\"T_f35d64c2_aea9_11ec_98f2_68fef705c06brow0_col0\" class=\"data row0 col0\" >5448</td>\n",
       "                        <td id=\"T_f35d64c2_aea9_11ec_98f2_68fef705c06brow0_col1\" class=\"data row0 col1\" >399</td>\n",
       "                        <td id=\"T_f35d64c2_aea9_11ec_98f2_68fef705c06brow0_col2\" class=\"data row0 col2\" >7.3%</td>\n",
       "            </tr>\n",
       "            <tr>\n",
       "                        <th id=\"T_f35d64c2_aea9_11ec_98f2_68fef705c06blevel0_row1\" class=\"row_heading level0 row1\" >до 33</th>\n",
       "                        <td id=\"T_f35d64c2_aea9_11ec_98f2_68fef705c06brow1_col0\" class=\"data row1 col0\" >5366</td>\n",
       "                        <td id=\"T_f35d64c2_aea9_11ec_98f2_68fef705c06brow1_col1\" class=\"data row1 col1\" >587</td>\n",
       "                        <td id=\"T_f35d64c2_aea9_11ec_98f2_68fef705c06brow1_col2\" class=\"data row1 col2\" >10.9%</td>\n",
       "            </tr>\n",
       "            <tr>\n",
       "                        <th id=\"T_f35d64c2_aea9_11ec_98f2_68fef705c06blevel0_row2\" class=\"row_heading level0 row2\" >34-42</th>\n",
       "                        <td id=\"T_f35d64c2_aea9_11ec_98f2_68fef705c06brow2_col0\" class=\"data row2 col0\" >5365</td>\n",
       "                        <td id=\"T_f35d64c2_aea9_11ec_98f2_68fef705c06brow2_col1\" class=\"data row2 col1\" >460</td>\n",
       "                        <td id=\"T_f35d64c2_aea9_11ec_98f2_68fef705c06brow2_col2\" class=\"data row2 col2\" >8.6%</td>\n",
       "            </tr>\n",
       "            <tr>\n",
       "                        <th id=\"T_f35d64c2_aea9_11ec_98f2_68fef705c06blevel0_row3\" class=\"row_heading level0 row3\" >54+</th>\n",
       "                        <td id=\"T_f35d64c2_aea9_11ec_98f2_68fef705c06brow3_col0\" class=\"data row3 col0\" >5275</td>\n",
       "                        <td id=\"T_f35d64c2_aea9_11ec_98f2_68fef705c06brow3_col1\" class=\"data row3 col1\" >295</td>\n",
       "                        <td id=\"T_f35d64c2_aea9_11ec_98f2_68fef705c06brow3_col2\" class=\"data row3 col2\" >5.6%</td>\n",
       "            </tr>\n",
       "    </tbody></table>"
      ],
      "text/plain": [
       "<pandas.io.formats.style.Styler at 0x7fa8daf14550>"
      ]
     },
     "execution_count": 40,
     "metadata": {},
     "output_type": "execute_result"
    }
   ],
   "source": [
    "# Люди за 40 вероятно тщательнее планируют финансы. Эрелый человек видит меньше перспектив в силу опыта, состояния\n",
    "# здоровья, отношения на рынке труда к возрасту, ответственности уже не только за детей, но и родителей и пр.\n",
    "tab5 = pd.DataFrame({'client_q-ty':data.age_group.value_counts(), \n",
    "                    'issue_client_q-ty':data.groupby(data.age_group).debt.sum()}, \n",
    "                    index= data.age_group.value_counts().index)\n",
    "tab5['%_issue_cl'] =  tab5['issue_client_q-ty'] / tab5['client_q-ty'] \n",
    "tab5.style.format({'%_issue_cl': '{:,.1%}'.format})"
   ]
  },
  {
   "cell_type": "markdown",
   "metadata": {},
   "source": [
    "Задолженность по кредиту чаще встречается среди клиентов, цель которых - покупка автомобиля. Для России до сих пор характерно показное потребление. Дорогой автомобиль - один из ярких атрибутов статуса. Покупается он вероятно часто с завышенной планкой, но не всегда отрабатывает свою роль. Ситуацию с образованием можно объяснить его переоценной ролью и завышенными ожиданиями (люди вероятно хорошо покупаются на рекламу, но оказывается, что еще нужно учиться, а еще нужен опыт). "
   ]
  },
  {
   "cell_type": "markdown",
   "metadata": {},
   "source": [
    "## Заключение"
   ]
  },
  {
   "cell_type": "markdown",
   "metadata": {},
   "source": [
    "Такие значения признаков как\n",
    " - наличие детей\n",
    " - отсутствие опыта семейной жизни в официальном браке \n",
    " - доход в диапозоне (107,6 тр, 195,8 тр)\n",
    " - цель кредита - покупка автомобиля, образование \n",
    " - возраст до 43 лет  \n",
    " \n",
    "увеличивают риск невозврата кредита в срок (процент проблемных клиентов в этих группах выше среднего).\n",
    "\n",
    "Исходный массив данных содержит пропуски, неверные значения, одинаковые строки. Если ранее не оценивалось влияние точности формирования массива на качество скоринга, то это стоит сделать. "
   ]
  }
 ],
 "metadata": {
  "ExecuteTimeLog": [
   {
    "duration": 158,
    "start_time": "2021-10-29T16:54:34.814Z"
   },
   {
    "duration": 758,
    "start_time": "2021-10-29T16:54:45.378Z"
   },
   {
    "duration": 58,
    "start_time": "2021-10-29T17:12:04.354Z"
   },
   {
    "duration": 14,
    "start_time": "2021-10-29T17:12:28.901Z"
   },
   {
    "duration": 11,
    "start_time": "2021-10-29T17:12:35.087Z"
   },
   {
    "duration": 32,
    "start_time": "2021-10-29T17:13:31.460Z"
   },
   {
    "duration": 7,
    "start_time": "2021-10-29T17:45:43.522Z"
   },
   {
    "duration": 6,
    "start_time": "2021-10-29T17:46:08.159Z"
   },
   {
    "duration": 5,
    "start_time": "2021-10-29T17:46:15.456Z"
   },
   {
    "duration": 5,
    "start_time": "2021-10-29T17:47:13.303Z"
   },
   {
    "duration": 433,
    "start_time": "2021-10-29T18:41:42.095Z"
   },
   {
    "duration": 28,
    "start_time": "2021-10-29T18:41:51.311Z"
   },
   {
    "duration": 29,
    "start_time": "2021-10-29T18:55:24.456Z"
   },
   {
    "duration": 31,
    "start_time": "2021-10-29T19:37:38.578Z"
   },
   {
    "duration": 23,
    "start_time": "2021-10-29T19:52:10.002Z"
   },
   {
    "duration": 33,
    "start_time": "2021-10-29T19:52:55.167Z"
   },
   {
    "duration": 6,
    "start_time": "2021-10-29T20:23:27.107Z"
   },
   {
    "duration": 5,
    "start_time": "2021-10-29T20:33:40.794Z"
   },
   {
    "duration": 344,
    "start_time": "2021-10-29T20:34:10.745Z"
   },
   {
    "duration": 5,
    "start_time": "2021-10-29T20:34:49.768Z"
   },
   {
    "duration": 99,
    "start_time": "2021-10-29T20:40:09.666Z"
   },
   {
    "duration": 274,
    "start_time": "2021-10-29T20:40:42.625Z"
   },
   {
    "duration": 5,
    "start_time": "2021-10-29T20:41:09.078Z"
   },
   {
    "duration": 5,
    "start_time": "2021-10-29T20:42:17.078Z"
   },
   {
    "duration": 6,
    "start_time": "2021-10-29T20:42:40.853Z"
   },
   {
    "duration": 5,
    "start_time": "2021-10-29T20:42:43.762Z"
   },
   {
    "duration": 22,
    "start_time": "2021-10-29T20:43:08.618Z"
   },
   {
    "duration": 8,
    "start_time": "2021-10-29T20:44:11.639Z"
   },
   {
    "duration": 8,
    "start_time": "2021-10-29T21:03:54.946Z"
   },
   {
    "duration": 344,
    "start_time": "2021-10-29T21:04:04.271Z"
   },
   {
    "duration": 331,
    "start_time": "2021-10-29T21:04:18.341Z"
   },
   {
    "duration": 7,
    "start_time": "2021-10-29T21:04:27.972Z"
   },
   {
    "duration": 5,
    "start_time": "2021-10-29T21:08:14.956Z"
   },
   {
    "duration": 7,
    "start_time": "2021-10-29T21:12:06.410Z"
   },
   {
    "duration": 8,
    "start_time": "2021-10-29T22:04:29.473Z"
   },
   {
    "duration": 5,
    "start_time": "2021-10-30T03:16:32.075Z"
   },
   {
    "duration": 4,
    "start_time": "2021-10-30T05:26:32.223Z"
   },
   {
    "duration": 337,
    "start_time": "2021-10-30T05:31:57.516Z"
   },
   {
    "duration": 360,
    "start_time": "2021-10-30T05:32:37.335Z"
   },
   {
    "duration": 330,
    "start_time": "2021-10-30T05:32:42.638Z"
   },
   {
    "duration": 24,
    "start_time": "2021-10-30T05:33:15.071Z"
   },
   {
    "duration": 22,
    "start_time": "2021-10-30T06:00:50.583Z"
   },
   {
    "duration": 24,
    "start_time": "2021-10-30T06:04:43.240Z"
   },
   {
    "duration": 18,
    "start_time": "2021-10-30T06:18:30.148Z"
   },
   {
    "duration": 22,
    "start_time": "2021-10-30T06:21:58.353Z"
   },
   {
    "duration": 16,
    "start_time": "2021-10-30T06:22:03.617Z"
   },
   {
    "duration": 35,
    "start_time": "2021-10-30T06:22:17.516Z"
   },
   {
    "duration": 28,
    "start_time": "2021-10-30T06:25:03.346Z"
   },
   {
    "duration": 12,
    "start_time": "2021-10-30T06:42:20.755Z"
   },
   {
    "duration": 14,
    "start_time": "2021-10-30T06:50:05.446Z"
   },
   {
    "duration": 14,
    "start_time": "2021-10-30T06:50:58.139Z"
   },
   {
    "duration": 13,
    "start_time": "2021-10-30T06:54:58.532Z"
   },
   {
    "duration": 12,
    "start_time": "2021-10-30T07:02:11.669Z"
   },
   {
    "duration": 13,
    "start_time": "2021-10-30T07:02:54.212Z"
   },
   {
    "duration": 12,
    "start_time": "2021-10-30T07:04:04.629Z"
   },
   {
    "duration": 19,
    "start_time": "2021-10-30T07:04:57.343Z"
   },
   {
    "duration": 13,
    "start_time": "2021-10-30T07:05:06.764Z"
   },
   {
    "duration": 36,
    "start_time": "2021-10-30T07:05:56.461Z"
   },
   {
    "duration": 338,
    "start_time": "2021-10-30T07:07:05.693Z"
   },
   {
    "duration": 10,
    "start_time": "2021-10-30T07:07:13.864Z"
   },
   {
    "duration": 338,
    "start_time": "2021-10-30T07:08:04.969Z"
   },
   {
    "duration": 13,
    "start_time": "2021-10-30T07:08:19.364Z"
   },
   {
    "duration": 13,
    "start_time": "2021-10-30T07:09:08.231Z"
   },
   {
    "duration": 32,
    "start_time": "2021-10-30T07:14:24.906Z"
   },
   {
    "duration": 32,
    "start_time": "2021-10-30T07:15:50.694Z"
   },
   {
    "duration": 59,
    "start_time": "2021-10-30T07:16:08.800Z"
   },
   {
    "duration": 31,
    "start_time": "2021-10-30T07:16:25.927Z"
   },
   {
    "duration": 11,
    "start_time": "2021-10-30T07:17:18.158Z"
   },
   {
    "duration": 32,
    "start_time": "2021-10-30T07:17:20.727Z"
   },
   {
    "duration": 24,
    "start_time": "2021-10-30T07:17:29.046Z"
   },
   {
    "duration": 8,
    "start_time": "2021-10-30T07:17:38.064Z"
   },
   {
    "duration": 6,
    "start_time": "2021-10-30T07:17:46.708Z"
   },
   {
    "duration": 32,
    "start_time": "2021-10-30T07:17:51.608Z"
   },
   {
    "duration": 24,
    "start_time": "2021-10-30T07:18:00.223Z"
   },
   {
    "duration": 31,
    "start_time": "2021-10-30T07:18:10.165Z"
   },
   {
    "duration": 22,
    "start_time": "2021-10-30T07:19:00.889Z"
   },
   {
    "duration": 34,
    "start_time": "2021-10-30T07:19:03.650Z"
   },
   {
    "duration": 37,
    "start_time": "2021-10-30T07:19:43.193Z"
   },
   {
    "duration": 37,
    "start_time": "2021-10-30T07:20:03.652Z"
   },
   {
    "duration": 35,
    "start_time": "2021-10-30T07:20:36.093Z"
   },
   {
    "duration": 60,
    "start_time": "2021-10-30T07:20:59.496Z"
   },
   {
    "duration": 26,
    "start_time": "2021-10-30T07:21:09.571Z"
   },
   {
    "duration": 5,
    "start_time": "2021-10-30T07:21:22.544Z"
   },
   {
    "duration": 24,
    "start_time": "2021-10-30T07:21:24.616Z"
   },
   {
    "duration": 21,
    "start_time": "2021-10-30T07:21:30.283Z"
   },
   {
    "duration": 30,
    "start_time": "2021-10-30T07:21:39.559Z"
   },
   {
    "duration": 36,
    "start_time": "2021-10-30T07:22:06.533Z"
   },
   {
    "duration": 31,
    "start_time": "2021-10-30T07:25:02.698Z"
   },
   {
    "duration": 170,
    "start_time": "2021-10-30T07:30:17.887Z"
   },
   {
    "duration": 104,
    "start_time": "2021-10-30T07:30:44.227Z"
   },
   {
    "duration": 38,
    "start_time": "2021-10-30T07:31:06.254Z"
   },
   {
    "duration": 61,
    "start_time": "2021-10-30T07:33:06.280Z"
   },
   {
    "duration": 23,
    "start_time": "2021-10-30T07:33:16.119Z"
   },
   {
    "duration": 22,
    "start_time": "2021-10-30T07:33:49.967Z"
   },
   {
    "duration": 21,
    "start_time": "2021-10-30T07:33:54.896Z"
   },
   {
    "duration": 31,
    "start_time": "2021-10-30T07:34:07.158Z"
   },
   {
    "duration": 38,
    "start_time": "2021-10-30T07:34:27.828Z"
   },
   {
    "duration": 37,
    "start_time": "2021-10-30T07:43:10.971Z"
   },
   {
    "duration": 37,
    "start_time": "2021-10-30T07:44:29.471Z"
   },
   {
    "duration": 112,
    "start_time": "2021-10-30T07:49:24.637Z"
   },
   {
    "duration": 15,
    "start_time": "2021-10-30T07:49:29.113Z"
   },
   {
    "duration": 39,
    "start_time": "2021-10-30T07:49:46.623Z"
   },
   {
    "duration": 39,
    "start_time": "2021-10-30T07:52:04.376Z"
   },
   {
    "duration": 4,
    "start_time": "2021-10-30T07:52:22.037Z"
   },
   {
    "duration": 24,
    "start_time": "2021-10-30T07:52:23.977Z"
   },
   {
    "duration": 38,
    "start_time": "2021-10-30T07:52:33.359Z"
   },
   {
    "duration": 32,
    "start_time": "2021-10-30T08:00:35.835Z"
   },
   {
    "duration": 38,
    "start_time": "2021-10-30T08:01:16.708Z"
   },
   {
    "duration": 41,
    "start_time": "2021-10-30T08:23:47.588Z"
   },
   {
    "duration": 268,
    "start_time": "2021-10-30T11:42:54.413Z"
   },
   {
    "duration": 730,
    "start_time": "2021-10-30T11:43:10.843Z"
   },
   {
    "duration": 24,
    "start_time": "2021-10-30T11:43:22.884Z"
   },
   {
    "duration": 20,
    "start_time": "2021-10-30T11:57:57.934Z"
   },
   {
    "duration": 6,
    "start_time": "2021-10-30T11:59:08.721Z"
   },
   {
    "duration": 265,
    "start_time": "2021-10-30T12:00:46.221Z"
   },
   {
    "duration": 235,
    "start_time": "2021-10-30T12:01:57.279Z"
   },
   {
    "duration": 23,
    "start_time": "2021-10-30T12:02:08.078Z"
   },
   {
    "duration": 241,
    "start_time": "2021-10-30T12:02:14.180Z"
   },
   {
    "duration": 7,
    "start_time": "2021-10-30T12:02:28.114Z"
   },
   {
    "duration": 40,
    "start_time": "2021-10-30T12:34:20.298Z"
   },
   {
    "duration": 40,
    "start_time": "2021-10-30T12:35:45.450Z"
   },
   {
    "duration": 55,
    "start_time": "2021-10-30T13:28:13.322Z"
   },
   {
    "duration": 21,
    "start_time": "2021-10-30T13:42:08.761Z"
   },
   {
    "duration": 53,
    "start_time": "2021-10-30T13:42:15.585Z"
   },
   {
    "duration": 4,
    "start_time": "2021-10-30T14:46:18.232Z"
   },
   {
    "duration": 11,
    "start_time": "2021-10-30T14:46:32.325Z"
   },
   {
    "duration": 236,
    "start_time": "2021-10-30T14:47:51.579Z"
   },
   {
    "duration": 18,
    "start_time": "2021-10-30T14:55:28.200Z"
   },
   {
    "duration": 26,
    "start_time": "2021-10-30T14:58:50.980Z"
   },
   {
    "duration": 25,
    "start_time": "2021-10-30T15:04:07.391Z"
   },
   {
    "duration": 27,
    "start_time": "2021-10-30T15:05:18.168Z"
   },
   {
    "duration": 21,
    "start_time": "2021-10-30T15:06:46.627Z"
   },
   {
    "duration": 57,
    "start_time": "2021-10-30T15:07:06.549Z"
   },
   {
    "duration": 24,
    "start_time": "2021-10-30T15:07:21.030Z"
   },
   {
    "duration": 8,
    "start_time": "2021-10-30T15:07:29.078Z"
   },
   {
    "duration": 21,
    "start_time": "2021-10-30T15:07:36.532Z"
   },
   {
    "duration": 6,
    "start_time": "2021-10-30T15:07:45.455Z"
   },
   {
    "duration": 22,
    "start_time": "2021-10-30T15:07:57.663Z"
   },
   {
    "duration": 32,
    "start_time": "2021-10-30T15:08:00.217Z"
   },
   {
    "duration": 4,
    "start_time": "2021-10-30T15:08:15.477Z"
   },
   {
    "duration": 18,
    "start_time": "2021-10-30T15:08:23.387Z"
   },
   {
    "duration": 21,
    "start_time": "2021-10-30T15:08:35.628Z"
   },
   {
    "duration": 51,
    "start_time": "2021-10-30T15:08:50.469Z"
   },
   {
    "duration": 22,
    "start_time": "2021-10-30T15:08:57.789Z"
   },
   {
    "duration": 27,
    "start_time": "2021-10-30T15:10:09.812Z"
   },
   {
    "duration": 27,
    "start_time": "2021-10-30T15:11:25.173Z"
   },
   {
    "duration": 660,
    "start_time": "2021-10-30T15:12:05.253Z"
   },
   {
    "duration": 11,
    "start_time": "2021-10-30T15:12:05.915Z"
   },
   {
    "duration": 38,
    "start_time": "2021-10-30T15:12:05.930Z"
   },
   {
    "duration": 3,
    "start_time": "2021-10-30T15:12:05.970Z"
   },
   {
    "duration": 7,
    "start_time": "2021-10-30T15:12:05.974Z"
   },
   {
    "duration": 21,
    "start_time": "2021-10-30T15:12:05.983Z"
   },
   {
    "duration": 6,
    "start_time": "2021-10-30T15:12:06.006Z"
   },
   {
    "duration": 9,
    "start_time": "2021-10-30T15:12:06.014Z"
   },
   {
    "duration": 47,
    "start_time": "2021-10-30T15:12:06.024Z"
   },
   {
    "duration": 6,
    "start_time": "2021-10-30T15:12:06.072Z"
   },
   {
    "duration": 33,
    "start_time": "2021-10-30T15:12:06.079Z"
   },
   {
    "duration": 3,
    "start_time": "2021-10-30T15:12:06.114Z"
   },
   {
    "duration": 44,
    "start_time": "2021-10-30T15:12:06.119Z"
   },
   {
    "duration": 19,
    "start_time": "2021-10-30T15:12:06.165Z"
   },
   {
    "duration": 51,
    "start_time": "2021-10-30T15:12:06.185Z"
   },
   {
    "duration": 43,
    "start_time": "2021-10-30T15:12:06.237Z"
   },
   {
    "duration": 567,
    "start_time": "2021-10-31T02:05:31.747Z"
   },
   {
    "duration": 10,
    "start_time": "2021-10-31T02:05:32.316Z"
   },
   {
    "duration": 31,
    "start_time": "2021-10-31T02:05:32.328Z"
   },
   {
    "duration": 6,
    "start_time": "2021-10-31T02:05:32.360Z"
   },
   {
    "duration": 25,
    "start_time": "2021-10-31T02:05:32.367Z"
   },
   {
    "duration": 20,
    "start_time": "2021-10-31T02:05:32.394Z"
   },
   {
    "duration": 6,
    "start_time": "2021-10-31T02:05:32.415Z"
   },
   {
    "duration": 5,
    "start_time": "2021-10-31T02:05:32.422Z"
   },
   {
    "duration": 22,
    "start_time": "2021-10-31T02:05:32.429Z"
   },
   {
    "duration": 5,
    "start_time": "2021-10-31T02:05:32.453Z"
   },
   {
    "duration": 59,
    "start_time": "2021-10-31T02:05:32.459Z"
   },
   {
    "duration": 3,
    "start_time": "2021-10-31T02:05:32.520Z"
   },
   {
    "duration": 23,
    "start_time": "2021-10-31T02:05:32.524Z"
   },
   {
    "duration": 18,
    "start_time": "2021-10-31T02:05:32.548Z"
   },
   {
    "duration": 73,
    "start_time": "2021-10-31T02:05:32.567Z"
   },
   {
    "duration": 26,
    "start_time": "2021-10-31T02:05:32.641Z"
   },
   {
    "duration": 36,
    "start_time": "2021-10-31T02:40:50.346Z"
   },
   {
    "duration": 624,
    "start_time": "2021-10-31T02:43:14.873Z"
   },
   {
    "duration": 11,
    "start_time": "2021-10-31T02:43:15.498Z"
   },
   {
    "duration": 28,
    "start_time": "2021-10-31T02:43:15.511Z"
   },
   {
    "duration": 4,
    "start_time": "2021-10-31T02:43:15.541Z"
   },
   {
    "duration": 6,
    "start_time": "2021-10-31T02:43:15.547Z"
   },
   {
    "duration": 41,
    "start_time": "2021-10-31T02:43:15.555Z"
   },
   {
    "duration": 6,
    "start_time": "2021-10-31T02:43:15.598Z"
   },
   {
    "duration": 12,
    "start_time": "2021-10-31T02:43:15.606Z"
   },
   {
    "duration": 49,
    "start_time": "2021-10-31T02:43:15.620Z"
   },
   {
    "duration": 7,
    "start_time": "2021-10-31T02:43:15.671Z"
   },
   {
    "duration": 50,
    "start_time": "2021-10-31T02:43:15.683Z"
   },
   {
    "duration": 7,
    "start_time": "2021-10-31T02:43:15.737Z"
   },
   {
    "duration": 37,
    "start_time": "2021-10-31T02:43:15.746Z"
   },
   {
    "duration": 23,
    "start_time": "2021-10-31T02:43:15.784Z"
   },
   {
    "duration": 49,
    "start_time": "2021-10-31T02:43:15.808Z"
   },
   {
    "duration": 49,
    "start_time": "2021-10-31T02:43:15.859Z"
   },
   {
    "duration": 42,
    "start_time": "2021-10-31T03:01:00.802Z"
   },
   {
    "duration": 23,
    "start_time": "2021-10-31T03:03:39.734Z"
   },
   {
    "duration": 19,
    "start_time": "2021-10-31T03:09:44.856Z"
   },
   {
    "duration": 19,
    "start_time": "2021-10-31T03:09:48.629Z"
   },
   {
    "duration": 18,
    "start_time": "2021-10-31T03:09:53.407Z"
   },
   {
    "duration": 28,
    "start_time": "2021-10-31T03:10:45.970Z"
   },
   {
    "duration": 36,
    "start_time": "2021-10-31T03:41:12.671Z"
   },
   {
    "duration": 68,
    "start_time": "2021-10-31T03:41:21.493Z"
   },
   {
    "duration": 548,
    "start_time": "2021-10-31T03:42:08.555Z"
   },
   {
    "duration": 10,
    "start_time": "2021-10-31T03:42:09.105Z"
   },
   {
    "duration": 30,
    "start_time": "2021-10-31T03:42:09.117Z"
   },
   {
    "duration": 4,
    "start_time": "2021-10-31T03:42:09.149Z"
   },
   {
    "duration": 7,
    "start_time": "2021-10-31T03:42:09.154Z"
   },
   {
    "duration": 43,
    "start_time": "2021-10-31T03:42:09.162Z"
   },
   {
    "duration": 6,
    "start_time": "2021-10-31T03:42:09.207Z"
   },
   {
    "duration": 8,
    "start_time": "2021-10-31T03:42:09.215Z"
   },
   {
    "duration": 25,
    "start_time": "2021-10-31T03:42:09.224Z"
   },
   {
    "duration": 5,
    "start_time": "2021-10-31T03:42:09.251Z"
   },
   {
    "duration": 56,
    "start_time": "2021-10-31T03:42:09.257Z"
   },
   {
    "duration": 4,
    "start_time": "2021-10-31T03:42:09.315Z"
   },
   {
    "duration": 21,
    "start_time": "2021-10-31T03:42:09.320Z"
   },
   {
    "duration": 17,
    "start_time": "2021-10-31T03:42:09.343Z"
   },
   {
    "duration": 75,
    "start_time": "2021-10-31T03:42:09.362Z"
   },
   {
    "duration": 34,
    "start_time": "2021-10-31T03:42:09.438Z"
   },
   {
    "duration": 49,
    "start_time": "2021-10-31T03:42:09.474Z"
   },
   {
    "duration": 22,
    "start_time": "2021-10-31T03:42:09.525Z"
   },
   {
    "duration": 43,
    "start_time": "2021-10-31T03:42:09.549Z"
   },
   {
    "duration": 3682,
    "start_time": "2021-10-31T03:51:43.528Z"
   },
   {
    "duration": 3676,
    "start_time": "2021-10-31T03:51:51.561Z"
   },
   {
    "duration": 29,
    "start_time": "2021-10-31T03:54:01.875Z"
   },
   {
    "duration": 234,
    "start_time": "2021-10-31T03:55:52.958Z"
   },
   {
    "duration": 25253,
    "start_time": "2021-10-31T04:05:46.500Z"
   },
   {
    "duration": 60,
    "start_time": "2021-10-31T04:09:24.080Z"
   },
   {
    "duration": 63,
    "start_time": "2021-10-31T04:09:40.930Z"
   },
   {
    "duration": 4746,
    "start_time": "2021-10-31T04:09:53.191Z"
   },
   {
    "duration": 4998,
    "start_time": "2021-10-31T04:10:30.112Z"
   },
   {
    "duration": 4802,
    "start_time": "2021-10-31T04:10:49.304Z"
   },
   {
    "duration": 4895,
    "start_time": "2021-10-31T04:12:43.569Z"
   },
   {
    "duration": 4886,
    "start_time": "2021-10-31T04:15:25.541Z"
   },
   {
    "duration": 4851,
    "start_time": "2021-10-31T04:16:24.945Z"
   },
   {
    "duration": 4731,
    "start_time": "2021-10-31T04:20:00.785Z"
   },
   {
    "duration": 5116,
    "start_time": "2021-10-31T04:23:27.115Z"
   },
   {
    "duration": 4823,
    "start_time": "2021-10-31T04:24:07.282Z"
   },
   {
    "duration": 4916,
    "start_time": "2021-10-31T04:25:58.257Z"
   },
   {
    "duration": 4837,
    "start_time": "2021-10-31T04:26:12.167Z"
   },
   {
    "duration": 9,
    "start_time": "2021-10-31T04:35:10.043Z"
   },
   {
    "duration": 595,
    "start_time": "2021-10-31T05:49:58.394Z"
   },
   {
    "duration": 10,
    "start_time": "2021-10-31T05:49:58.991Z"
   },
   {
    "duration": 28,
    "start_time": "2021-10-31T05:49:59.003Z"
   },
   {
    "duration": 4,
    "start_time": "2021-10-31T05:49:59.032Z"
   },
   {
    "duration": 7,
    "start_time": "2021-10-31T05:49:59.037Z"
   },
   {
    "duration": 46,
    "start_time": "2021-10-31T05:49:59.046Z"
   },
   {
    "duration": 6,
    "start_time": "2021-10-31T05:49:59.093Z"
   },
   {
    "duration": 5,
    "start_time": "2021-10-31T05:49:59.101Z"
   },
   {
    "duration": 19,
    "start_time": "2021-10-31T05:49:59.108Z"
   },
   {
    "duration": 4,
    "start_time": "2021-10-31T05:49:59.129Z"
   },
   {
    "duration": 29,
    "start_time": "2021-10-31T05:49:59.135Z"
   },
   {
    "duration": 3,
    "start_time": "2021-10-31T05:49:59.192Z"
   },
   {
    "duration": 25,
    "start_time": "2021-10-31T05:49:59.197Z"
   },
   {
    "duration": 19,
    "start_time": "2021-10-31T05:49:59.223Z"
   },
   {
    "duration": 67,
    "start_time": "2021-10-31T05:49:59.243Z"
   },
   {
    "duration": 50,
    "start_time": "2021-10-31T05:49:59.312Z"
   },
   {
    "duration": 61,
    "start_time": "2021-10-31T05:49:59.364Z"
   },
   {
    "duration": 22,
    "start_time": "2021-10-31T05:49:59.427Z"
   },
   {
    "duration": 46,
    "start_time": "2021-10-31T05:49:59.450Z"
   },
   {
    "duration": 4719,
    "start_time": "2021-10-31T05:49:59.498Z"
   },
   {
    "duration": 9,
    "start_time": "2021-10-31T05:50:04.219Z"
   },
   {
    "duration": 246,
    "start_time": "2021-10-31T05:50:04.229Z"
   },
   {
    "duration": 721,
    "start_time": "2021-10-31T05:51:44.829Z"
   },
   {
    "duration": 10,
    "start_time": "2021-10-31T05:51:45.552Z"
   },
   {
    "duration": 36,
    "start_time": "2021-10-31T05:51:45.564Z"
   },
   {
    "duration": 5,
    "start_time": "2021-10-31T05:51:45.602Z"
   },
   {
    "duration": 7,
    "start_time": "2021-10-31T05:51:45.608Z"
   },
   {
    "duration": 21,
    "start_time": "2021-10-31T05:51:45.617Z"
   },
   {
    "duration": 6,
    "start_time": "2021-10-31T05:51:45.640Z"
   },
   {
    "duration": 6,
    "start_time": "2021-10-31T05:51:45.649Z"
   },
   {
    "duration": 53,
    "start_time": "2021-10-31T05:51:45.657Z"
   },
   {
    "duration": 5,
    "start_time": "2021-10-31T05:51:45.711Z"
   },
   {
    "duration": 28,
    "start_time": "2021-10-31T05:51:45.718Z"
   },
   {
    "duration": 3,
    "start_time": "2021-10-31T05:51:45.748Z"
   },
   {
    "duration": 46,
    "start_time": "2021-10-31T05:51:45.752Z"
   },
   {
    "duration": 18,
    "start_time": "2021-10-31T05:51:45.800Z"
   },
   {
    "duration": 50,
    "start_time": "2021-10-31T05:51:45.819Z"
   },
   {
    "duration": 67,
    "start_time": "2021-10-31T05:51:45.870Z"
   },
   {
    "duration": 56,
    "start_time": "2021-10-31T05:51:45.939Z"
   },
   {
    "duration": 23,
    "start_time": "2021-10-31T05:51:45.996Z"
   },
   {
    "duration": 30,
    "start_time": "2021-10-31T05:51:46.021Z"
   },
   {
    "duration": 6880,
    "start_time": "2021-10-31T05:51:46.053Z"
   },
   {
    "duration": 10,
    "start_time": "2021-10-31T05:51:52.935Z"
   },
   {
    "duration": 231,
    "start_time": "2021-10-31T05:51:52.947Z"
   },
   {
    "duration": 171,
    "start_time": "2021-10-31T05:53:18.794Z"
   },
   {
    "duration": 177,
    "start_time": "2021-10-31T05:53:54.377Z"
   },
   {
    "duration": 3,
    "start_time": "2021-10-31T05:57:50.975Z"
   },
   {
    "duration": 1494,
    "start_time": "2021-10-31T05:59:34.542Z"
   },
   {
    "duration": 1600,
    "start_time": "2021-10-31T06:00:03.697Z"
   },
   {
    "duration": 1647,
    "start_time": "2021-10-31T06:00:12.951Z"
   },
   {
    "duration": 67,
    "start_time": "2021-10-31T06:03:36.314Z"
   },
   {
    "duration": 1475,
    "start_time": "2021-10-31T06:04:17.581Z"
   },
   {
    "duration": 56,
    "start_time": "2021-10-31T06:09:31.744Z"
   },
   {
    "duration": 56,
    "start_time": "2021-10-31T06:09:38.335Z"
   },
   {
    "duration": 57,
    "start_time": "2021-10-31T06:10:49.067Z"
   },
   {
    "duration": 4185,
    "start_time": "2021-10-31T06:11:43.230Z"
   },
   {
    "duration": 9689,
    "start_time": "2021-10-31T06:15:35.692Z"
   },
   {
    "duration": 760,
    "start_time": "2021-10-31T06:15:58.861Z"
   },
   {
    "duration": 768,
    "start_time": "2021-10-31T06:16:33.349Z"
   },
   {
    "duration": 622,
    "start_time": "2021-10-31T06:22:21.076Z"
   },
   {
    "duration": 10,
    "start_time": "2021-10-31T06:22:21.700Z"
   },
   {
    "duration": 32,
    "start_time": "2021-10-31T06:22:21.711Z"
   },
   {
    "duration": 3,
    "start_time": "2021-10-31T06:22:21.745Z"
   },
   {
    "duration": 8,
    "start_time": "2021-10-31T06:22:21.750Z"
   },
   {
    "duration": 33,
    "start_time": "2021-10-31T06:22:21.759Z"
   },
   {
    "duration": 6,
    "start_time": "2021-10-31T06:22:21.793Z"
   },
   {
    "duration": 9,
    "start_time": "2021-10-31T06:22:21.802Z"
   },
   {
    "duration": 22,
    "start_time": "2021-10-31T06:22:21.813Z"
   },
   {
    "duration": 6,
    "start_time": "2021-10-31T06:22:21.837Z"
   },
   {
    "duration": 59,
    "start_time": "2021-10-31T06:22:21.845Z"
   },
   {
    "duration": 4,
    "start_time": "2021-10-31T06:22:21.906Z"
   },
   {
    "duration": 23,
    "start_time": "2021-10-31T06:22:21.912Z"
   },
   {
    "duration": 20,
    "start_time": "2021-10-31T06:22:21.937Z"
   },
   {
    "duration": 78,
    "start_time": "2021-10-31T06:22:21.959Z"
   },
   {
    "duration": 64,
    "start_time": "2021-10-31T06:22:22.039Z"
   },
   {
    "duration": 47,
    "start_time": "2021-10-31T06:22:22.105Z"
   },
   {
    "duration": 40,
    "start_time": "2021-10-31T06:22:22.154Z"
   },
   {
    "duration": 32,
    "start_time": "2021-10-31T06:22:22.196Z"
   },
   {
    "duration": 10,
    "start_time": "2021-10-31T06:23:12.537Z"
   },
   {
    "duration": 48007,
    "start_time": "2021-10-31T06:23:12.548Z"
   },
   {
    "duration": 51573,
    "start_time": "2021-10-31T06:24:00.558Z"
   },
   {
    "duration": 7,
    "start_time": "2021-10-31T06:26:53.581Z"
   },
   {
    "duration": 4,
    "start_time": "2021-10-31T06:28:04.096Z"
   },
   {
    "duration": 105,
    "start_time": "2021-10-31T06:29:59.176Z"
   },
   {
    "duration": 48837,
    "start_time": "2021-10-31T06:31:00.871Z"
   },
   {
    "duration": 57,
    "start_time": "2021-10-31T06:32:10.580Z"
   },
   {
    "duration": 6705,
    "start_time": "2021-10-31T06:33:38.487Z"
   },
   {
    "duration": 5,
    "start_time": "2021-10-31T06:36:38.693Z"
   },
   {
    "duration": 4,
    "start_time": "2021-10-31T06:36:50.095Z"
   },
   {
    "duration": 5,
    "start_time": "2021-10-31T06:37:35.110Z"
   },
   {
    "duration": 7037,
    "start_time": "2021-10-31T06:39:16.112Z"
   },
   {
    "duration": 4981,
    "start_time": "2021-10-31T06:47:03.547Z"
   },
   {
    "duration": 5035,
    "start_time": "2021-10-31T06:49:31.329Z"
   },
   {
    "duration": 4871,
    "start_time": "2021-10-31T06:50:13.267Z"
   },
   {
    "duration": 4826,
    "start_time": "2021-10-31T06:51:12.750Z"
   },
   {
    "duration": 4856,
    "start_time": "2021-10-31T06:51:36.784Z"
   },
   {
    "duration": 48793,
    "start_time": "2021-10-31T06:52:46.682Z"
   },
   {
    "duration": 2636,
    "start_time": "2021-10-31T07:01:13.923Z"
   },
   {
    "duration": 56,
    "start_time": "2021-10-31T07:07:11.588Z"
   },
   {
    "duration": 54,
    "start_time": "2021-10-31T07:07:27.693Z"
   },
   {
    "duration": 60,
    "start_time": "2021-10-31T07:07:44.073Z"
   },
   {
    "duration": 55,
    "start_time": "2021-10-31T07:08:08.554Z"
   },
   {
    "duration": 8,
    "start_time": "2021-10-31T07:08:21.914Z"
   },
   {
    "duration": 5,
    "start_time": "2021-10-31T07:08:32.645Z"
   },
   {
    "duration": 48547,
    "start_time": "2021-10-31T07:12:18.402Z"
   },
   {
    "duration": 57,
    "start_time": "2021-10-31T07:14:36.254Z"
   },
   {
    "duration": 3867,
    "start_time": "2021-10-31T07:14:43.866Z"
   },
   {
    "duration": 9,
    "start_time": "2021-10-31T07:23:43.468Z"
   },
   {
    "duration": 18,
    "start_time": "2021-10-31T07:26:49.354Z"
   },
   {
    "duration": 13,
    "start_time": "2021-10-31T07:27:06.730Z"
   },
   {
    "duration": 4187,
    "start_time": "2021-10-31T07:44:42.855Z"
   },
   {
    "duration": 657,
    "start_time": "2021-11-01T07:57:56.706Z"
   },
   {
    "duration": 1017,
    "start_time": "2021-11-01T07:58:22.271Z"
   },
   {
    "duration": 20,
    "start_time": "2021-11-01T07:58:23.292Z"
   },
   {
    "duration": 75,
    "start_time": "2021-11-01T07:58:23.315Z"
   },
   {
    "duration": 6,
    "start_time": "2021-11-01T07:58:23.393Z"
   },
   {
    "duration": 8,
    "start_time": "2021-11-01T07:58:23.401Z"
   },
   {
    "duration": 58,
    "start_time": "2021-11-01T07:58:23.411Z"
   },
   {
    "duration": 9,
    "start_time": "2021-11-01T07:58:23.471Z"
   },
   {
    "duration": 9,
    "start_time": "2021-11-01T07:58:23.484Z"
   },
   {
    "duration": 73,
    "start_time": "2021-11-01T07:58:23.496Z"
   },
   {
    "duration": 9,
    "start_time": "2021-11-01T07:58:23.571Z"
   },
   {
    "duration": 47,
    "start_time": "2021-11-01T07:58:23.582Z"
   },
   {
    "duration": 36,
    "start_time": "2021-11-01T07:58:23.631Z"
   },
   {
    "duration": 35,
    "start_time": "2021-11-01T07:58:23.670Z"
   },
   {
    "duration": 30,
    "start_time": "2021-11-01T07:58:23.707Z"
   },
   {
    "duration": 110,
    "start_time": "2021-11-01T07:58:23.739Z"
   },
   {
    "duration": 97,
    "start_time": "2021-11-01T07:58:23.852Z"
   },
   {
    "duration": 83,
    "start_time": "2021-11-01T07:58:23.951Z"
   },
   {
    "duration": 61,
    "start_time": "2021-11-01T07:58:24.037Z"
   },
   {
    "duration": 77,
    "start_time": "2021-11-01T07:58:24.102Z"
   },
   {
    "duration": 7132,
    "start_time": "2021-11-01T07:58:24.182Z"
   },
   {
    "duration": 14,
    "start_time": "2021-11-01T07:58:31.317Z"
   },
   {
    "duration": 6236,
    "start_time": "2021-11-01T07:58:31.334Z"
   },
   {
    "duration": 17,
    "start_time": "2021-11-01T07:58:37.576Z"
   },
   {
    "duration": 40,
    "start_time": "2021-11-01T07:58:37.597Z"
   },
   {
    "duration": 84,
    "start_time": "2021-11-01T07:58:37.729Z"
   },
   {
    "duration": 17,
    "start_time": "2021-11-01T07:59:20.633Z"
   },
   {
    "duration": 48,
    "start_time": "2021-11-01T07:59:38.863Z"
   },
   {
    "duration": 95,
    "start_time": "2021-11-01T08:11:45.705Z"
   },
   {
    "duration": 390,
    "start_time": "2021-11-01T08:12:35.825Z"
   },
   {
    "duration": 295,
    "start_time": "2021-11-01T08:12:55.497Z"
   },
   {
    "duration": 14,
    "start_time": "2021-11-01T08:13:14.008Z"
   },
   {
    "duration": 43,
    "start_time": "2021-11-01T08:13:20.833Z"
   },
   {
    "duration": 20,
    "start_time": "2021-11-01T08:19:04.707Z"
   },
   {
    "duration": 22,
    "start_time": "2021-11-01T08:19:22.410Z"
   },
   {
    "duration": 21,
    "start_time": "2021-11-01T08:23:23.618Z"
   },
   {
    "duration": 21,
    "start_time": "2021-11-01T08:28:01.673Z"
   },
   {
    "duration": 21,
    "start_time": "2021-11-01T08:31:24.334Z"
   },
   {
    "duration": 21,
    "start_time": "2021-11-01T08:32:00.513Z"
   },
   {
    "duration": 21,
    "start_time": "2021-11-01T08:34:54.876Z"
   },
   {
    "duration": 21,
    "start_time": "2021-11-01T08:35:22.188Z"
   },
   {
    "duration": 263,
    "start_time": "2021-11-01T08:44:16.439Z"
   },
   {
    "duration": 16,
    "start_time": "2021-11-01T08:44:33.165Z"
   },
   {
    "duration": 30,
    "start_time": "2021-11-01T08:45:21.457Z"
   },
   {
    "duration": 67,
    "start_time": "2021-11-01T08:45:33.419Z"
   },
   {
    "duration": 35,
    "start_time": "2021-11-01T08:50:25.079Z"
   },
   {
    "duration": 34,
    "start_time": "2021-11-01T08:51:16.013Z"
   },
   {
    "duration": 60,
    "start_time": "2021-11-01T08:52:07.724Z"
   },
   {
    "duration": 60,
    "start_time": "2021-11-01T08:52:40.762Z"
   },
   {
    "duration": 61,
    "start_time": "2021-11-01T08:53:24.858Z"
   },
   {
    "duration": 33,
    "start_time": "2021-11-01T08:53:52.846Z"
   },
   {
    "duration": 1083,
    "start_time": "2021-11-01T08:54:05.275Z"
   },
   {
    "duration": 15,
    "start_time": "2021-11-01T08:54:06.361Z"
   },
   {
    "duration": 56,
    "start_time": "2021-11-01T08:54:06.379Z"
   },
   {
    "duration": 35,
    "start_time": "2021-11-01T08:54:06.438Z"
   },
   {
    "duration": 12,
    "start_time": "2021-11-01T08:54:06.476Z"
   },
   {
    "duration": 53,
    "start_time": "2021-11-01T08:54:06.490Z"
   },
   {
    "duration": 29,
    "start_time": "2021-11-01T08:54:06.545Z"
   },
   {
    "duration": 7,
    "start_time": "2021-11-01T08:54:06.578Z"
   },
   {
    "duration": 82,
    "start_time": "2021-11-01T08:54:06.589Z"
   },
   {
    "duration": 9,
    "start_time": "2021-11-01T08:54:06.674Z"
   },
   {
    "duration": 46,
    "start_time": "2021-11-01T08:54:06.686Z"
   },
   {
    "duration": 33,
    "start_time": "2021-11-01T08:54:06.735Z"
   },
   {
    "duration": 35,
    "start_time": "2021-11-01T08:54:06.771Z"
   },
   {
    "duration": 30,
    "start_time": "2021-11-01T08:54:06.808Z"
   },
   {
    "duration": 106,
    "start_time": "2021-11-01T08:54:06.841Z"
   },
   {
    "duration": 97,
    "start_time": "2021-11-01T08:54:06.949Z"
   },
   {
    "duration": 93,
    "start_time": "2021-11-01T08:54:07.049Z"
   },
   {
    "duration": 54,
    "start_time": "2021-11-01T08:54:07.146Z"
   },
   {
    "duration": 69,
    "start_time": "2021-11-01T08:54:07.203Z"
   },
   {
    "duration": 7920,
    "start_time": "2021-11-01T08:54:07.275Z"
   },
   {
    "duration": 20,
    "start_time": "2021-11-01T08:54:15.199Z"
   },
   {
    "duration": 6484,
    "start_time": "2021-11-01T08:54:15.223Z"
   },
   {
    "duration": 16,
    "start_time": "2021-11-01T08:54:21.712Z"
   },
   {
    "duration": 38,
    "start_time": "2021-11-01T08:54:21.731Z"
   },
   {
    "duration": 46,
    "start_time": "2021-11-01T08:54:21.771Z"
   },
   {
    "duration": 35,
    "start_time": "2021-11-01T08:54:21.819Z"
   },
   {
    "duration": 67,
    "start_time": "2021-11-01T08:54:44.017Z"
   },
   {
    "duration": 62,
    "start_time": "2021-11-01T09:04:23.433Z"
   },
   {
    "duration": 59,
    "start_time": "2021-11-01T09:08:09.128Z"
   },
   {
    "duration": 60,
    "start_time": "2021-11-01T09:08:30.772Z"
   },
   {
    "duration": 34,
    "start_time": "2021-11-01T09:08:36.115Z"
   },
   {
    "duration": 33,
    "start_time": "2021-11-01T09:10:32.767Z"
   },
   {
    "duration": 33,
    "start_time": "2021-11-01T09:11:30.696Z"
   },
   {
    "duration": 26,
    "start_time": "2021-11-01T09:17:35.882Z"
   },
   {
    "duration": 32,
    "start_time": "2021-11-01T09:18:51.276Z"
   },
   {
    "duration": 45,
    "start_time": "2021-11-01T09:19:18.458Z"
   },
   {
    "duration": 92,
    "start_time": "2021-11-01T09:21:03.074Z"
   },
   {
    "duration": 419,
    "start_time": "2021-11-01T09:21:42.143Z"
   },
   {
    "duration": 48,
    "start_time": "2021-11-01T09:21:55.930Z"
   },
   {
    "duration": 60,
    "start_time": "2021-11-01T09:22:15.135Z"
   },
   {
    "duration": 47,
    "start_time": "2021-11-01T09:25:01.207Z"
   },
   {
    "duration": 46,
    "start_time": "2021-11-01T09:25:14.406Z"
   },
   {
    "duration": 116,
    "start_time": "2021-11-01T09:27:50.098Z"
   },
   {
    "duration": 10,
    "start_time": "2021-11-01T09:27:55.036Z"
   },
   {
    "duration": 112,
    "start_time": "2021-11-01T09:30:31.120Z"
   },
   {
    "duration": 9,
    "start_time": "2021-11-01T09:30:36.876Z"
   },
   {
    "duration": 159,
    "start_time": "2021-11-01T09:36:46.254Z"
   },
   {
    "duration": 762,
    "start_time": "2021-11-01T09:37:41.839Z"
   },
   {
    "duration": 77,
    "start_time": "2021-11-01T09:37:56.757Z"
   },
   {
    "duration": 23,
    "start_time": "2021-11-01T09:53:21.240Z"
   },
   {
    "duration": 13,
    "start_time": "2021-11-01T09:54:11.904Z"
   },
   {
    "duration": 26,
    "start_time": "2021-11-01T09:59:52.733Z"
   },
   {
    "duration": 31,
    "start_time": "2021-11-01T10:00:22.358Z"
   },
   {
    "duration": 193,
    "start_time": "2021-11-01T10:01:29.571Z"
   },
   {
    "duration": 254,
    "start_time": "2021-11-01T10:01:42.178Z"
   },
   {
    "duration": 187,
    "start_time": "2021-11-01T10:01:59.540Z"
   },
   {
    "duration": 34,
    "start_time": "2021-11-01T10:02:11.810Z"
   },
   {
    "duration": 31,
    "start_time": "2021-11-01T10:03:39.641Z"
   },
   {
    "duration": 8111,
    "start_time": "2021-11-01T10:04:16.664Z"
   },
   {
    "duration": 9,
    "start_time": "2021-11-01T10:04:50.846Z"
   },
   {
    "duration": 289,
    "start_time": "2021-11-01T10:10:54.127Z"
   },
   {
    "duration": 12,
    "start_time": "2021-11-01T10:11:41.947Z"
   },
   {
    "duration": 143,
    "start_time": "2021-11-01T10:13:46.958Z"
   },
   {
    "duration": 118,
    "start_time": "2021-11-01T10:14:03.372Z"
   },
   {
    "duration": 278,
    "start_time": "2021-11-01T10:14:29.367Z"
   },
   {
    "duration": 306,
    "start_time": "2021-11-01T10:15:11.330Z"
   },
   {
    "duration": 292,
    "start_time": "2021-11-01T10:16:53.893Z"
   },
   {
    "duration": 115,
    "start_time": "2021-11-01T10:17:48.542Z"
   },
   {
    "duration": 297,
    "start_time": "2021-11-01T10:18:05.268Z"
   },
   {
    "duration": 10,
    "start_time": "2021-11-01T10:18:23.961Z"
   },
   {
    "duration": 11,
    "start_time": "2021-11-01T10:18:37.250Z"
   },
   {
    "duration": 304,
    "start_time": "2021-11-01T10:18:46.942Z"
   },
   {
    "duration": 16,
    "start_time": "2021-11-01T10:19:01.982Z"
   },
   {
    "duration": 27,
    "start_time": "2021-11-01T10:21:18.056Z"
   },
   {
    "duration": 27,
    "start_time": "2021-11-01T10:21:25.616Z"
   },
   {
    "duration": 14,
    "start_time": "2021-11-01T10:29:10.249Z"
   },
   {
    "duration": 15,
    "start_time": "2021-11-01T10:29:30.724Z"
   },
   {
    "duration": 109,
    "start_time": "2021-11-01T10:33:44.483Z"
   },
   {
    "duration": 321,
    "start_time": "2021-11-01T10:34:06.918Z"
   },
   {
    "duration": 329,
    "start_time": "2021-11-01T10:34:54.683Z"
   },
   {
    "duration": 94,
    "start_time": "2021-11-01T10:40:15.237Z"
   },
   {
    "duration": 302,
    "start_time": "2021-11-01T10:40:23.144Z"
   },
   {
    "duration": 316,
    "start_time": "2021-11-01T10:41:17.997Z"
   },
   {
    "duration": 91,
    "start_time": "2021-11-01T10:41:44.680Z"
   },
   {
    "duration": 27,
    "start_time": "2021-11-01T10:41:53.960Z"
   },
   {
    "duration": 8,
    "start_time": "2021-11-01T10:42:28.200Z"
   },
   {
    "duration": 275,
    "start_time": "2021-11-01T10:42:42.423Z"
   },
   {
    "duration": 7,
    "start_time": "2021-11-01T10:43:06.399Z"
   },
   {
    "duration": 303,
    "start_time": "2021-11-01T10:43:18.036Z"
   },
   {
    "duration": 343,
    "start_time": "2021-11-01T10:43:39.646Z"
   },
   {
    "duration": 6779,
    "start_time": "2021-11-01T10:44:46.636Z"
   },
   {
    "duration": 6983,
    "start_time": "2021-11-01T10:46:36.502Z"
   },
   {
    "duration": 8,
    "start_time": "2021-11-01T10:47:34.191Z"
   },
   {
    "duration": 8458,
    "start_time": "2021-11-01T10:48:07.053Z"
   },
   {
    "duration": 6889,
    "start_time": "2021-11-01T10:49:45.979Z"
   },
   {
    "duration": 53,
    "start_time": "2021-11-01T10:50:41.641Z"
   },
   {
    "duration": 19,
    "start_time": "2021-11-01T10:51:47.544Z"
   },
   {
    "duration": 339,
    "start_time": "2021-11-01T11:00:50.222Z"
   },
   {
    "duration": 63,
    "start_time": "2021-11-01T11:01:01.050Z"
   },
   {
    "duration": 60,
    "start_time": "2021-11-01T11:01:17.511Z"
   },
   {
    "duration": 63,
    "start_time": "2021-11-01T11:04:51.856Z"
   },
   {
    "duration": 41,
    "start_time": "2021-11-01T11:11:15.306Z"
   },
   {
    "duration": 39,
    "start_time": "2021-11-01T11:11:36.725Z"
   },
   {
    "duration": 49,
    "start_time": "2021-11-01T11:13:08.856Z"
   },
   {
    "duration": 11,
    "start_time": "2021-11-01T11:13:52.446Z"
   },
   {
    "duration": 47,
    "start_time": "2021-11-01T11:15:17.835Z"
   },
   {
    "duration": 9,
    "start_time": "2021-11-01T11:15:37.765Z"
   },
   {
    "duration": 8,
    "start_time": "2021-11-01T11:15:43.765Z"
   },
   {
    "duration": 7,
    "start_time": "2021-11-01T11:15:52.905Z"
   },
   {
    "duration": 9,
    "start_time": "2021-11-01T11:16:39.750Z"
   },
   {
    "duration": 33,
    "start_time": "2021-11-01T11:16:57.066Z"
   },
   {
    "duration": 20,
    "start_time": "2021-11-01T11:17:47.333Z"
   },
   {
    "duration": 19,
    "start_time": "2021-11-01T11:18:24.137Z"
   },
   {
    "duration": 17,
    "start_time": "2021-11-01T11:18:52.941Z"
   },
   {
    "duration": 16,
    "start_time": "2021-11-01T11:19:03.870Z"
   },
   {
    "duration": 17,
    "start_time": "2021-11-01T11:19:20.255Z"
   },
   {
    "duration": 323,
    "start_time": "2021-11-01T11:19:45.099Z"
   },
   {
    "duration": 16,
    "start_time": "2021-11-01T11:20:20.794Z"
   },
   {
    "duration": 298,
    "start_time": "2021-11-01T11:21:46.921Z"
   },
   {
    "duration": 16,
    "start_time": "2021-11-01T11:24:41.315Z"
   },
   {
    "duration": 20,
    "start_time": "2021-11-01T11:27:35.518Z"
   },
   {
    "duration": 19,
    "start_time": "2021-11-01T11:28:17.007Z"
   },
   {
    "duration": 20,
    "start_time": "2021-11-01T11:31:11.634Z"
   },
   {
    "duration": 16,
    "start_time": "2021-11-01T11:31:24.839Z"
   },
   {
    "duration": 17,
    "start_time": "2021-11-01T11:33:43.344Z"
   },
   {
    "duration": 16,
    "start_time": "2021-11-01T11:33:50.529Z"
   },
   {
    "duration": 88,
    "start_time": "2021-11-01T11:35:28.951Z"
   },
   {
    "duration": 96,
    "start_time": "2021-11-01T11:35:36.566Z"
   },
   {
    "duration": 104,
    "start_time": "2021-11-01T11:35:41.705Z"
   },
   {
    "duration": 98,
    "start_time": "2021-11-01T11:35:51.725Z"
   },
   {
    "duration": 266,
    "start_time": "2021-11-01T11:37:26.190Z"
   },
   {
    "duration": 11,
    "start_time": "2021-11-01T11:37:39.150Z"
   },
   {
    "duration": 92,
    "start_time": "2021-11-01T11:38:52.370Z"
   },
   {
    "duration": 12,
    "start_time": "2021-11-01T11:39:02.424Z"
   },
   {
    "duration": 358,
    "start_time": "2021-11-01T11:44:29.365Z"
   },
   {
    "duration": 14,
    "start_time": "2021-11-01T11:44:39.193Z"
   },
   {
    "duration": 830,
    "start_time": "2021-11-01T11:44:56.596Z"
   },
   {
    "duration": 14,
    "start_time": "2021-11-01T11:44:57.429Z"
   },
   {
    "duration": 63,
    "start_time": "2021-11-01T11:44:57.446Z"
   },
   {
    "duration": 6,
    "start_time": "2021-11-01T11:44:57.512Z"
   },
   {
    "duration": 9,
    "start_time": "2021-11-01T11:44:57.521Z"
   },
   {
    "duration": 63,
    "start_time": "2021-11-01T11:44:57.532Z"
   },
   {
    "duration": 11,
    "start_time": "2021-11-01T11:44:57.598Z"
   },
   {
    "duration": 13,
    "start_time": "2021-11-01T11:44:57.611Z"
   },
   {
    "duration": 66,
    "start_time": "2021-11-01T11:44:57.628Z"
   },
   {
    "duration": 9,
    "start_time": "2021-11-01T11:44:57.697Z"
   },
   {
    "duration": 73,
    "start_time": "2021-11-01T11:44:57.708Z"
   },
   {
    "duration": 6,
    "start_time": "2021-11-01T11:44:57.783Z"
   },
   {
    "duration": 40,
    "start_time": "2021-11-01T11:44:57.791Z"
   },
   {
    "duration": 51,
    "start_time": "2021-11-01T11:44:57.834Z"
   },
   {
    "duration": 90,
    "start_time": "2021-11-01T11:44:57.887Z"
   },
   {
    "duration": 102,
    "start_time": "2021-11-01T11:44:57.980Z"
   },
   {
    "duration": 84,
    "start_time": "2021-11-01T11:44:58.085Z"
   },
   {
    "duration": 39,
    "start_time": "2021-11-01T11:44:58.171Z"
   },
   {
    "duration": 80,
    "start_time": "2021-11-01T11:44:58.213Z"
   },
   {
    "duration": 6949,
    "start_time": "2021-11-01T11:44:58.296Z"
   },
   {
    "duration": 33,
    "start_time": "2021-11-01T11:45:05.249Z"
   },
   {
    "duration": 5918,
    "start_time": "2021-11-01T11:45:05.285Z"
   },
   {
    "duration": 12,
    "start_time": "2021-11-01T11:45:11.205Z"
   },
   {
    "duration": 50,
    "start_time": "2021-11-01T11:45:11.220Z"
   },
   {
    "duration": 46,
    "start_time": "2021-11-01T11:45:11.272Z"
   },
   {
    "duration": 84,
    "start_time": "2021-11-01T11:45:11.321Z"
   },
   {
    "duration": 37,
    "start_time": "2021-11-01T11:45:11.410Z"
   },
   {
    "duration": 42,
    "start_time": "2021-11-01T11:45:11.449Z"
   },
   {
    "duration": 123,
    "start_time": "2021-11-01T11:45:11.494Z"
   },
   {
    "duration": 12657,
    "start_time": "2021-11-01T11:44:58.963Z"
   },
   {
    "duration": 12653,
    "start_time": "2021-11-01T11:44:58.968Z"
   },
   {
    "duration": 12651,
    "start_time": "2021-11-01T11:44:58.972Z"
   },
   {
    "duration": 12649,
    "start_time": "2021-11-01T11:44:58.975Z"
   },
   {
    "duration": 45,
    "start_time": "2021-11-01T11:46:24.163Z"
   },
   {
    "duration": 40,
    "start_time": "2021-11-01T11:46:34.286Z"
   },
   {
    "duration": 40,
    "start_time": "2021-11-01T11:46:57.684Z"
   },
   {
    "duration": 50,
    "start_time": "2021-11-01T11:47:17.217Z"
   },
   {
    "duration": 27,
    "start_time": "2021-11-01T12:08:41.934Z"
   },
   {
    "duration": 57,
    "start_time": "2021-11-01T12:19:23.086Z"
   },
   {
    "duration": 57,
    "start_time": "2021-11-01T12:20:28.545Z"
   },
   {
    "duration": 70,
    "start_time": "2021-11-01T12:20:50.900Z"
   },
   {
    "duration": 64,
    "start_time": "2021-11-01T12:25:12.285Z"
   },
   {
    "duration": 61,
    "start_time": "2021-11-01T12:43:35.528Z"
   },
   {
    "duration": 7,
    "start_time": "2021-11-01T12:44:43.679Z"
   },
   {
    "duration": 62,
    "start_time": "2021-11-01T12:45:53.468Z"
   },
   {
    "duration": 103,
    "start_time": "2021-11-01T12:46:25.749Z"
   },
   {
    "duration": 51,
    "start_time": "2021-11-01T12:46:43.113Z"
   },
   {
    "duration": 61,
    "start_time": "2021-11-01T12:59:52.503Z"
   },
   {
    "duration": 455,
    "start_time": "2021-11-01T14:00:54.901Z"
   },
   {
    "duration": 341,
    "start_time": "2021-11-01T14:01:17.753Z"
   },
   {
    "duration": 856,
    "start_time": "2021-11-01T14:01:40.662Z"
   },
   {
    "duration": 14,
    "start_time": "2021-11-01T14:01:41.521Z"
   },
   {
    "duration": 62,
    "start_time": "2021-11-01T14:01:41.539Z"
   },
   {
    "duration": 6,
    "start_time": "2021-11-01T14:01:41.604Z"
   },
   {
    "duration": 14,
    "start_time": "2021-11-01T14:01:41.612Z"
   },
   {
    "duration": 69,
    "start_time": "2021-11-01T14:01:41.629Z"
   },
   {
    "duration": 14,
    "start_time": "2021-11-01T14:01:41.702Z"
   },
   {
    "duration": 16,
    "start_time": "2021-11-01T14:01:41.723Z"
   },
   {
    "duration": 52,
    "start_time": "2021-11-01T14:01:41.768Z"
   },
   {
    "duration": 11,
    "start_time": "2021-11-01T14:01:41.823Z"
   },
   {
    "duration": 72,
    "start_time": "2021-11-01T14:01:41.837Z"
   },
   {
    "duration": 5,
    "start_time": "2021-11-01T14:01:41.912Z"
   },
   {
    "duration": 65,
    "start_time": "2021-11-01T14:01:41.920Z"
   },
   {
    "duration": 29,
    "start_time": "2021-11-01T14:01:41.987Z"
   },
   {
    "duration": 100,
    "start_time": "2021-11-01T14:01:42.019Z"
   },
   {
    "duration": 98,
    "start_time": "2021-11-01T14:01:42.121Z"
   },
   {
    "duration": 88,
    "start_time": "2021-11-01T14:01:42.221Z"
   },
   {
    "duration": 38,
    "start_time": "2021-11-01T14:01:42.312Z"
   },
   {
    "duration": 62,
    "start_time": "2021-11-01T14:01:42.353Z"
   },
   {
    "duration": 6984,
    "start_time": "2021-11-01T14:01:42.418Z"
   },
   {
    "duration": 14,
    "start_time": "2021-11-01T14:01:49.404Z"
   },
   {
    "duration": 5499,
    "start_time": "2021-11-01T14:01:49.421Z"
   },
   {
    "duration": 13,
    "start_time": "2021-11-01T14:01:54.924Z"
   },
   {
    "duration": 48,
    "start_time": "2021-11-01T14:01:54.940Z"
   },
   {
    "duration": 47,
    "start_time": "2021-11-01T14:01:54.990Z"
   },
   {
    "duration": 88,
    "start_time": "2021-11-01T14:01:55.040Z"
   },
   {
    "duration": 87,
    "start_time": "2021-11-01T14:01:55.131Z"
   },
   {
    "duration": 7,
    "start_time": "2021-11-01T14:01:55.221Z"
   },
   {
    "duration": 74,
    "start_time": "2021-11-01T14:01:55.230Z"
   },
   {
    "duration": 60,
    "start_time": "2021-11-01T14:01:55.307Z"
   },
   {
    "duration": 49,
    "start_time": "2021-11-01T14:01:55.370Z"
   },
   {
    "duration": 49,
    "start_time": "2021-11-01T14:31:39.520Z"
   },
   {
    "duration": 820,
    "start_time": "2021-11-01T14:39:02.423Z"
   },
   {
    "duration": 25,
    "start_time": "2021-11-01T14:39:03.246Z"
   },
   {
    "duration": 47,
    "start_time": "2021-11-01T14:39:03.274Z"
   },
   {
    "duration": 7,
    "start_time": "2021-11-01T14:39:03.324Z"
   },
   {
    "duration": 34,
    "start_time": "2021-11-01T14:39:03.334Z"
   },
   {
    "duration": 40,
    "start_time": "2021-11-01T14:39:03.371Z"
   },
   {
    "duration": 12,
    "start_time": "2021-11-01T14:39:03.413Z"
   },
   {
    "duration": 47,
    "start_time": "2021-11-01T14:39:03.428Z"
   },
   {
    "duration": 51,
    "start_time": "2021-11-01T14:39:03.481Z"
   },
   {
    "duration": 38,
    "start_time": "2021-11-01T14:39:03.536Z"
   },
   {
    "duration": 48,
    "start_time": "2021-11-01T14:39:03.576Z"
   },
   {
    "duration": 6,
    "start_time": "2021-11-01T14:39:03.627Z"
   },
   {
    "duration": 62,
    "start_time": "2021-11-01T14:39:03.635Z"
   },
   {
    "duration": 29,
    "start_time": "2021-11-01T14:39:03.700Z"
   },
   {
    "duration": 108,
    "start_time": "2021-11-01T14:39:03.731Z"
   },
   {
    "duration": 94,
    "start_time": "2021-11-01T14:39:03.842Z"
   },
   {
    "duration": 82,
    "start_time": "2021-11-01T14:39:03.938Z"
   },
   {
    "duration": 46,
    "start_time": "2021-11-01T14:39:04.022Z"
   },
   {
    "duration": 47,
    "start_time": "2021-11-01T14:39:04.070Z"
   },
   {
    "duration": 6862,
    "start_time": "2021-11-01T14:39:04.120Z"
   },
   {
    "duration": 15,
    "start_time": "2021-11-01T14:39:10.985Z"
   },
   {
    "duration": 5617,
    "start_time": "2021-11-01T14:39:11.002Z"
   },
   {
    "duration": 12,
    "start_time": "2021-11-01T14:39:16.621Z"
   },
   {
    "duration": 52,
    "start_time": "2021-11-01T14:39:16.637Z"
   },
   {
    "duration": 50,
    "start_time": "2021-11-01T14:39:16.692Z"
   },
   {
    "duration": 82,
    "start_time": "2021-11-01T14:39:16.745Z"
   },
   {
    "duration": 87,
    "start_time": "2021-11-01T14:39:16.832Z"
   },
   {
    "duration": 6,
    "start_time": "2021-11-01T14:39:16.921Z"
   },
   {
    "duration": 73,
    "start_time": "2021-11-01T14:39:16.930Z"
   },
   {
    "duration": 42,
    "start_time": "2021-11-01T14:39:17.005Z"
   },
   {
    "duration": 67,
    "start_time": "2021-11-01T14:39:17.050Z"
   },
   {
    "duration": 852,
    "start_time": "2021-11-01T15:14:43.651Z"
   },
   {
    "duration": 18,
    "start_time": "2021-11-01T15:14:44.506Z"
   },
   {
    "duration": 63,
    "start_time": "2021-11-01T15:14:44.527Z"
   },
   {
    "duration": 6,
    "start_time": "2021-11-01T15:14:44.593Z"
   },
   {
    "duration": 9,
    "start_time": "2021-11-01T15:14:44.601Z"
   },
   {
    "duration": 63,
    "start_time": "2021-11-01T15:14:44.612Z"
   },
   {
    "duration": 10,
    "start_time": "2021-11-01T15:14:44.677Z"
   },
   {
    "duration": 11,
    "start_time": "2021-11-01T15:14:44.689Z"
   },
   {
    "duration": 74,
    "start_time": "2021-11-01T15:14:44.705Z"
   },
   {
    "duration": 8,
    "start_time": "2021-11-01T15:14:44.784Z"
   },
   {
    "duration": 78,
    "start_time": "2021-11-01T15:14:44.795Z"
   },
   {
    "duration": 6,
    "start_time": "2021-11-01T15:14:44.876Z"
   },
   {
    "duration": 34,
    "start_time": "2021-11-01T15:14:44.885Z"
   },
   {
    "duration": 58,
    "start_time": "2021-11-01T15:14:44.922Z"
   },
   {
    "duration": 96,
    "start_time": "2021-11-01T15:14:44.983Z"
   },
   {
    "duration": 100,
    "start_time": "2021-11-01T15:14:45.081Z"
   },
   {
    "duration": 67,
    "start_time": "2021-11-01T15:14:45.184Z"
   },
   {
    "duration": 37,
    "start_time": "2021-11-01T15:14:45.267Z"
   },
   {
    "duration": 70,
    "start_time": "2021-11-01T15:14:45.306Z"
   },
   {
    "duration": 6761,
    "start_time": "2021-11-01T15:14:45.379Z"
   },
   {
    "duration": 33,
    "start_time": "2021-11-01T15:14:52.142Z"
   },
   {
    "duration": 5564,
    "start_time": "2021-11-01T15:14:52.178Z"
   },
   {
    "duration": 25,
    "start_time": "2021-11-01T15:14:57.746Z"
   },
   {
    "duration": 30,
    "start_time": "2021-11-01T15:14:57.773Z"
   },
   {
    "duration": 67,
    "start_time": "2021-11-01T15:14:57.805Z"
   },
   {
    "duration": 61,
    "start_time": "2021-11-01T15:14:57.875Z"
   },
   {
    "duration": 83,
    "start_time": "2021-11-01T15:14:57.941Z"
   },
   {
    "duration": 8,
    "start_time": "2021-11-01T15:14:58.026Z"
   },
   {
    "duration": 73,
    "start_time": "2021-11-01T15:14:58.038Z"
   },
   {
    "duration": 70,
    "start_time": "2021-11-01T15:14:58.114Z"
   },
   {
    "duration": 54,
    "start_time": "2021-11-01T15:14:58.188Z"
   },
   {
    "duration": 955,
    "start_time": "2021-11-02T12:50:06.252Z"
   },
   {
    "duration": 13,
    "start_time": "2021-11-02T12:50:07.209Z"
   },
   {
    "duration": 54,
    "start_time": "2021-11-02T12:50:07.224Z"
   },
   {
    "duration": 5,
    "start_time": "2021-11-02T12:50:07.280Z"
   },
   {
    "duration": 5,
    "start_time": "2021-11-02T12:50:07.287Z"
   },
   {
    "duration": 24,
    "start_time": "2021-11-02T12:50:07.293Z"
   },
   {
    "duration": 7,
    "start_time": "2021-11-02T12:50:07.319Z"
   },
   {
    "duration": 10,
    "start_time": "2021-11-02T12:50:07.328Z"
   },
   {
    "duration": 26,
    "start_time": "2021-11-02T12:50:07.378Z"
   },
   {
    "duration": 7,
    "start_time": "2021-11-02T12:50:07.406Z"
   },
   {
    "duration": 63,
    "start_time": "2021-11-02T12:50:07.416Z"
   },
   {
    "duration": 6,
    "start_time": "2021-11-02T12:50:07.481Z"
   },
   {
    "duration": 36,
    "start_time": "2021-11-02T12:50:07.490Z"
   },
   {
    "duration": 54,
    "start_time": "2021-11-02T12:50:07.529Z"
   },
   {
    "duration": 97,
    "start_time": "2021-11-02T12:50:07.585Z"
   },
   {
    "duration": 94,
    "start_time": "2021-11-02T12:50:07.685Z"
   },
   {
    "duration": 99,
    "start_time": "2021-11-02T12:50:07.781Z"
   },
   {
    "duration": 36,
    "start_time": "2021-11-02T12:50:07.883Z"
   },
   {
    "duration": 67,
    "start_time": "2021-11-02T12:50:07.922Z"
   },
   {
    "duration": 6052,
    "start_time": "2021-11-02T12:50:07.992Z"
   },
   {
    "duration": 11,
    "start_time": "2021-11-02T12:50:14.046Z"
   },
   {
    "duration": 4971,
    "start_time": "2021-11-02T12:50:14.059Z"
   },
   {
    "duration": 14,
    "start_time": "2021-11-02T12:50:19.033Z"
   },
   {
    "duration": 47,
    "start_time": "2021-11-02T12:50:19.049Z"
   },
   {
    "duration": 50,
    "start_time": "2021-11-02T12:50:19.098Z"
   },
   {
    "duration": 65,
    "start_time": "2021-11-02T12:50:19.150Z"
   },
   {
    "duration": 62,
    "start_time": "2021-11-02T12:50:19.218Z"
   },
   {
    "duration": 6,
    "start_time": "2021-11-02T12:50:19.282Z"
   },
   {
    "duration": 39,
    "start_time": "2021-11-02T12:50:19.290Z"
   },
   {
    "duration": 61,
    "start_time": "2021-11-02T12:50:19.332Z"
   },
   {
    "duration": 39,
    "start_time": "2021-11-02T12:50:19.395Z"
   },
   {
    "duration": 203,
    "start_time": "2021-11-04T04:37:13.354Z"
   },
   {
    "duration": 586,
    "start_time": "2021-11-04T04:37:52.711Z"
   },
   {
    "duration": 10,
    "start_time": "2021-11-04T04:37:53.299Z"
   },
   {
    "duration": 30,
    "start_time": "2021-11-04T04:37:53.311Z"
   },
   {
    "duration": 4,
    "start_time": "2021-11-04T04:37:53.343Z"
   },
   {
    "duration": 6,
    "start_time": "2021-11-04T04:37:53.348Z"
   },
   {
    "duration": 53,
    "start_time": "2021-11-04T04:37:53.355Z"
   },
   {
    "duration": 6,
    "start_time": "2021-11-04T04:37:53.410Z"
   },
   {
    "duration": 5,
    "start_time": "2021-11-04T04:37:53.418Z"
   },
   {
    "duration": 19,
    "start_time": "2021-11-04T04:37:53.425Z"
   },
   {
    "duration": 6,
    "start_time": "2021-11-04T04:37:53.445Z"
   },
   {
    "duration": 27,
    "start_time": "2021-11-04T04:37:53.491Z"
   },
   {
    "duration": 3,
    "start_time": "2021-11-04T04:37:53.520Z"
   },
   {
    "duration": 21,
    "start_time": "2021-11-04T04:37:53.525Z"
   },
   {
    "duration": 46,
    "start_time": "2021-11-04T04:37:53.548Z"
   },
   {
    "duration": 50,
    "start_time": "2021-11-04T04:37:53.595Z"
   },
   {
    "duration": 64,
    "start_time": "2021-11-04T04:37:53.647Z"
   },
   {
    "duration": 45,
    "start_time": "2021-11-04T04:37:53.712Z"
   },
   {
    "duration": 43,
    "start_time": "2021-11-04T04:37:53.759Z"
   },
   {
    "duration": 31,
    "start_time": "2021-11-04T04:37:53.803Z"
   },
   {
    "duration": 4723,
    "start_time": "2021-11-04T04:37:53.836Z"
   },
   {
    "duration": 10,
    "start_time": "2021-11-04T04:37:58.561Z"
   },
   {
    "duration": 3851,
    "start_time": "2021-11-04T04:37:58.592Z"
   },
   {
    "duration": 9,
    "start_time": "2021-11-04T04:38:02.446Z"
   },
   {
    "duration": 41,
    "start_time": "2021-11-04T04:38:02.457Z"
   },
   {
    "duration": 29,
    "start_time": "2021-11-04T04:38:02.500Z"
   },
   {
    "duration": 60,
    "start_time": "2021-11-04T04:38:02.531Z"
   },
   {
    "duration": 42,
    "start_time": "2021-11-04T04:38:02.593Z"
   },
   {
    "duration": 234,
    "start_time": "2021-11-04T04:38:02.636Z"
   },
   {
    "duration": 15032,
    "start_time": "2021-11-04T04:37:47.840Z"
   },
   {
    "duration": 15028,
    "start_time": "2021-11-04T04:37:47.845Z"
   },
   {
    "duration": 15024,
    "start_time": "2021-11-04T04:37:47.849Z"
   },
   {
    "duration": 15020,
    "start_time": "2021-11-04T04:37:47.854Z"
   },
   {
    "duration": 182,
    "start_time": "2021-11-04T04:39:12.981Z"
   },
   {
    "duration": 8,
    "start_time": "2021-11-04T04:39:35.000Z"
   },
   {
    "duration": 186,
    "start_time": "2021-11-04T05:16:04.294Z"
   },
   {
    "duration": 535,
    "start_time": "2021-11-04T05:16:27.147Z"
   },
   {
    "duration": 95,
    "start_time": "2021-11-04T05:16:40.982Z"
   },
   {
    "duration": 55,
    "start_time": "2021-11-04T05:16:54.538Z"
   },
   {
    "duration": 8,
    "start_time": "2021-11-04T05:17:08.495Z"
   },
   {
    "duration": 6,
    "start_time": "2021-11-04T05:17:27.978Z"
   },
   {
    "duration": 9,
    "start_time": "2021-11-04T05:17:36.429Z"
   },
   {
    "duration": 8,
    "start_time": "2021-11-04T05:17:52.682Z"
   },
   {
    "duration": 9,
    "start_time": "2021-11-04T05:25:39.862Z"
   },
   {
    "duration": 12,
    "start_time": "2021-11-04T05:26:02.755Z"
   },
   {
    "duration": 180,
    "start_time": "2021-11-04T05:26:19.481Z"
   },
   {
    "duration": 11,
    "start_time": "2021-11-04T05:26:42.996Z"
   },
   {
    "duration": 187,
    "start_time": "2021-11-04T05:26:58.484Z"
   },
   {
    "duration": 61,
    "start_time": "2021-11-04T05:27:17.350Z"
   },
   {
    "duration": 942,
    "start_time": "2021-11-04T05:27:22.844Z"
   },
   {
    "duration": 10,
    "start_time": "2021-11-04T05:27:33.602Z"
   },
   {
    "duration": 10,
    "start_time": "2021-11-04T05:28:51.410Z"
   },
   {
    "duration": 173,
    "start_time": "2021-11-04T05:29:18.643Z"
   },
   {
    "duration": 194,
    "start_time": "2021-11-04T05:29:30.464Z"
   },
   {
    "duration": -19,
    "start_time": "2021-11-04T05:30:23.952Z"
   },
   {
    "duration": 5007,
    "start_time": "2021-11-04T05:30:34.143Z"
   },
   {
    "duration": 11,
    "start_time": "2021-11-04T05:30:59.367Z"
   },
   {
    "duration": 176,
    "start_time": "2021-11-04T05:31:48.484Z"
   },
   {
    "duration": 10,
    "start_time": "2021-11-04T05:32:21.972Z"
   },
   {
    "duration": 11,
    "start_time": "2021-11-04T05:32:50.815Z"
   },
   {
    "duration": 10,
    "start_time": "2021-11-04T05:38:14.185Z"
   },
   {
    "duration": 9,
    "start_time": "2021-11-04T05:38:21.406Z"
   },
   {
    "duration": 10,
    "start_time": "2021-11-04T05:38:49.277Z"
   },
   {
    "duration": 3293,
    "start_time": "2021-11-04T05:39:33.660Z"
   },
   {
    "duration": 431,
    "start_time": "2021-11-04T05:39:49.379Z"
   },
   {
    "duration": 447,
    "start_time": "2021-11-04T05:40:03.696Z"
   },
   {
    "duration": 418,
    "start_time": "2021-11-04T05:40:08.128Z"
   },
   {
    "duration": 9,
    "start_time": "2021-11-04T05:40:33.469Z"
   },
   {
    "duration": 9,
    "start_time": "2021-11-04T05:41:55.560Z"
   },
   {
    "duration": 10,
    "start_time": "2021-11-04T05:42:02.831Z"
   },
   {
    "duration": 10,
    "start_time": "2021-11-04T05:42:29.050Z"
   },
   {
    "duration": 10,
    "start_time": "2021-11-04T05:42:36.173Z"
   },
   {
    "duration": 281,
    "start_time": "2021-11-04T05:43:37.720Z"
   },
   {
    "duration": 10,
    "start_time": "2021-11-04T05:44:01.923Z"
   },
   {
    "duration": 62,
    "start_time": "2021-11-04T05:44:49.317Z"
   },
   {
    "duration": 378,
    "start_time": "2021-11-04T05:45:00.214Z"
   },
   {
    "duration": 185,
    "start_time": "2021-11-04T05:45:56.825Z"
   },
   {
    "duration": 11,
    "start_time": "2021-11-04T05:46:05.773Z"
   },
   {
    "duration": 3301,
    "start_time": "2021-11-04T05:46:41.309Z"
   },
   {
    "duration": 3208,
    "start_time": "2021-11-04T05:47:14.183Z"
   },
   {
    "duration": 10,
    "start_time": "2021-11-04T05:48:21.373Z"
   },
   {
    "duration": 14,
    "start_time": "2021-11-04T05:48:24.285Z"
   },
   {
    "duration": 13,
    "start_time": "2021-11-04T05:48:45.420Z"
   },
   {
    "duration": 13,
    "start_time": "2021-11-04T05:48:49.759Z"
   },
   {
    "duration": 14,
    "start_time": "2021-11-04T05:49:31.759Z"
   },
   {
    "duration": 227,
    "start_time": "2021-11-04T05:49:50.614Z"
   },
   {
    "duration": 169,
    "start_time": "2021-11-04T05:49:53.880Z"
   },
   {
    "duration": 60,
    "start_time": "2021-11-04T05:52:56.116Z"
   },
   {
    "duration": 60,
    "start_time": "2021-11-04T05:53:15.177Z"
   },
   {
    "duration": 173,
    "start_time": "2021-11-04T05:53:37.450Z"
   },
   {
    "duration": 173,
    "start_time": "2021-11-04T05:53:55.079Z"
   },
   {
    "duration": 197,
    "start_time": "2021-11-04T05:55:32.482Z"
   },
   {
    "duration": 66,
    "start_time": "2021-11-04T05:56:05.802Z"
   },
   {
    "duration": 15,
    "start_time": "2021-11-04T05:59:37.342Z"
   },
   {
    "duration": 14,
    "start_time": "2021-11-04T05:59:59.830Z"
   },
   {
    "duration": 60,
    "start_time": "2021-11-04T06:01:18.073Z"
   },
   {
    "duration": 2713,
    "start_time": "2021-11-04T06:01:44.601Z"
   },
   {
    "duration": 185,
    "start_time": "2021-11-04T06:02:34.771Z"
   },
   {
    "duration": 2821,
    "start_time": "2021-11-04T06:02:55.758Z"
   },
   {
    "duration": 188,
    "start_time": "2021-11-04T06:03:45.469Z"
   },
   {
    "duration": 22,
    "start_time": "2021-11-04T06:04:06.918Z"
   },
   {
    "duration": 21,
    "start_time": "2021-11-04T06:04:15.172Z"
   },
   {
    "duration": 19,
    "start_time": "2021-11-04T06:04:34.907Z"
   },
   {
    "duration": 17,
    "start_time": "2021-11-04T06:05:11.157Z"
   },
   {
    "duration": 19,
    "start_time": "2021-11-04T06:05:14.930Z"
   },
   {
    "duration": 31,
    "start_time": "2021-11-04T06:05:27.010Z"
   },
   {
    "duration": 26,
    "start_time": "2021-11-04T06:07:53.796Z"
   },
   {
    "duration": 21,
    "start_time": "2021-11-04T06:08:06.629Z"
   },
   {
    "duration": 3155,
    "start_time": "2021-11-04T06:09:14.664Z"
   },
   {
    "duration": 18,
    "start_time": "2021-11-04T06:09:27.261Z"
   },
   {
    "duration": 190,
    "start_time": "2021-11-04T06:16:14.030Z"
   },
   {
    "duration": 666,
    "start_time": "2021-11-04T06:16:23.607Z"
   },
   {
    "duration": 190,
    "start_time": "2021-11-04T06:17:08.131Z"
   },
   {
    "duration": 19,
    "start_time": "2021-11-04T06:17:39.371Z"
   },
   {
    "duration": 25,
    "start_time": "2021-11-04T06:17:48.683Z"
   },
   {
    "duration": 201,
    "start_time": "2021-11-04T06:18:58.313Z"
   },
   {
    "duration": 3313,
    "start_time": "2021-11-04T06:19:50.117Z"
   },
   {
    "duration": 20,
    "start_time": "2021-11-04T06:20:07.600Z"
   },
   {
    "duration": 186,
    "start_time": "2021-11-04T06:20:11.521Z"
   },
   {
    "duration": 13,
    "start_time": "2021-11-04T06:23:58.690Z"
   },
   {
    "duration": 13,
    "start_time": "2021-11-04T06:24:23.460Z"
   },
   {
    "duration": 15,
    "start_time": "2021-11-04T06:24:30.235Z"
   },
   {
    "duration": 186,
    "start_time": "2021-11-04T06:26:21.804Z"
   },
   {
    "duration": 180,
    "start_time": "2021-11-04T06:26:38.311Z"
   },
   {
    "duration": 185,
    "start_time": "2021-11-04T06:27:46.998Z"
   },
   {
    "duration": 22,
    "start_time": "2021-11-04T06:28:00.801Z"
   },
   {
    "duration": 12,
    "start_time": "2021-11-04T06:28:34.856Z"
   },
   {
    "duration": 198,
    "start_time": "2021-11-04T06:28:55.898Z"
   },
   {
    "duration": 60,
    "start_time": "2021-11-04T06:30:02.392Z"
   },
   {
    "duration": 14,
    "start_time": "2021-11-04T06:30:08.398Z"
   },
   {
    "duration": 2671,
    "start_time": "2021-11-04T06:30:26.407Z"
   },
   {
    "duration": 14,
    "start_time": "2021-11-04T06:30:48.692Z"
   },
   {
    "duration": 14,
    "start_time": "2021-11-04T06:30:58.255Z"
   },
   {
    "duration": 15,
    "start_time": "2021-11-04T06:31:35.365Z"
   },
   {
    "duration": 720,
    "start_time": "2021-11-04T06:32:24.729Z"
   },
   {
    "duration": 677,
    "start_time": "2021-11-04T06:32:54.389Z"
   },
   {
    "duration": 17,
    "start_time": "2021-11-04T06:33:17.058Z"
   },
   {
    "duration": 22,
    "start_time": "2021-11-04T06:33:28.881Z"
   },
   {
    "duration": 20,
    "start_time": "2021-11-04T06:33:37.378Z"
   },
   {
    "duration": 20,
    "start_time": "2021-11-04T06:34:07.955Z"
   },
   {
    "duration": 18,
    "start_time": "2021-11-04T06:34:26.863Z"
   },
   {
    "duration": 706,
    "start_time": "2021-11-04T06:34:51.810Z"
   },
   {
    "duration": 1309,
    "start_time": "2021-11-04T06:35:55.887Z"
   },
   {
    "duration": 21,
    "start_time": "2021-11-04T06:36:20.202Z"
   },
   {
    "duration": 208,
    "start_time": "2021-11-04T06:40:53.860Z"
   },
   {
    "duration": 29,
    "start_time": "2021-11-04T06:41:34.088Z"
   },
   {
    "duration": 180,
    "start_time": "2021-11-04T06:43:48.495Z"
   },
   {
    "duration": 20,
    "start_time": "2021-11-04T06:44:00.007Z"
   },
   {
    "duration": 19,
    "start_time": "2021-11-04T06:44:33.114Z"
   },
   {
    "duration": 58,
    "start_time": "2021-11-04T06:44:39.593Z"
   },
   {
    "duration": 18,
    "start_time": "2021-11-04T06:44:42.764Z"
   },
   {
    "duration": 69,
    "start_time": "2021-11-04T06:45:01.915Z"
   },
   {
    "duration": 21,
    "start_time": "2021-11-04T06:45:11.388Z"
   },
   {
    "duration": 70,
    "start_time": "2021-11-04T06:46:11.061Z"
   },
   {
    "duration": 23,
    "start_time": "2021-11-04T06:46:23.488Z"
   },
   {
    "duration": 19,
    "start_time": "2021-11-04T06:47:44.545Z"
   },
   {
    "duration": 19,
    "start_time": "2021-11-04T06:48:08.623Z"
   },
   {
    "duration": 17,
    "start_time": "2021-11-04T06:48:15.241Z"
   },
   {
    "duration": 17,
    "start_time": "2021-11-04T06:49:45.802Z"
   },
   {
    "duration": 30,
    "start_time": "2021-11-04T06:54:49.240Z"
   },
   {
    "duration": 32,
    "start_time": "2021-11-04T06:55:10.848Z"
   },
   {
    "duration": 11,
    "start_time": "2021-11-04T06:58:24.718Z"
   },
   {
    "duration": 10,
    "start_time": "2021-11-04T06:59:23.680Z"
   },
   {
    "duration": 5100,
    "start_time": "2021-11-04T07:00:59.561Z"
   },
   {
    "duration": 20,
    "start_time": "2021-11-04T07:01:24.448Z"
   },
   {
    "duration": 17,
    "start_time": "2021-11-04T07:02:13.994Z"
   },
   {
    "duration": 58,
    "start_time": "2021-11-04T07:28:37.102Z"
   },
   {
    "duration": 56,
    "start_time": "2021-11-04T07:29:24.294Z"
   },
   {
    "duration": 215,
    "start_time": "2021-11-04T07:29:40.979Z"
   },
   {
    "duration": 216,
    "start_time": "2021-11-04T07:30:56.179Z"
   },
   {
    "duration": 63,
    "start_time": "2021-11-04T07:31:27.201Z"
   },
   {
    "duration": 21,
    "start_time": "2021-11-04T07:31:50.261Z"
   },
   {
    "duration": 19,
    "start_time": "2021-11-04T07:32:17.688Z"
   },
   {
    "duration": 21,
    "start_time": "2021-11-04T07:32:36.800Z"
   },
   {
    "duration": 25,
    "start_time": "2021-11-04T07:32:42.019Z"
   },
   {
    "duration": 25,
    "start_time": "2021-11-04T07:33:20.806Z"
   },
   {
    "duration": 25,
    "start_time": "2021-11-04T07:34:38.484Z"
   },
   {
    "duration": 19,
    "start_time": "2021-11-04T07:34:57.536Z"
   },
   {
    "duration": 19,
    "start_time": "2021-11-04T07:36:55.855Z"
   },
   {
    "duration": 676,
    "start_time": "2021-11-04T09:19:45.120Z"
   },
   {
    "duration": 11,
    "start_time": "2021-11-04T09:19:45.798Z"
   },
   {
    "duration": 31,
    "start_time": "2021-11-04T09:19:45.812Z"
   },
   {
    "duration": 4,
    "start_time": "2021-11-04T09:19:45.845Z"
   },
   {
    "duration": 11,
    "start_time": "2021-11-04T09:19:45.850Z"
   },
   {
    "duration": 26,
    "start_time": "2021-11-04T09:19:45.863Z"
   },
   {
    "duration": 20,
    "start_time": "2021-11-04T09:19:45.890Z"
   },
   {
    "duration": 12,
    "start_time": "2021-11-04T09:19:45.912Z"
   },
   {
    "duration": 25,
    "start_time": "2021-11-04T09:19:45.926Z"
   },
   {
    "duration": 6,
    "start_time": "2021-11-04T09:19:45.953Z"
   },
   {
    "duration": 60,
    "start_time": "2021-11-04T09:19:45.960Z"
   },
   {
    "duration": 4,
    "start_time": "2021-11-04T09:19:46.022Z"
   },
   {
    "duration": 28,
    "start_time": "2021-11-04T09:19:46.028Z"
   },
   {
    "duration": 21,
    "start_time": "2021-11-04T09:19:46.058Z"
   },
   {
    "duration": 72,
    "start_time": "2021-11-04T09:19:46.080Z"
   },
   {
    "duration": 73,
    "start_time": "2021-11-04T09:19:46.154Z"
   },
   {
    "duration": 50,
    "start_time": "2021-11-04T09:19:46.228Z"
   },
   {
    "duration": 41,
    "start_time": "2021-11-04T09:19:46.280Z"
   },
   {
    "duration": 34,
    "start_time": "2021-11-04T09:19:46.323Z"
   },
   {
    "duration": 5474,
    "start_time": "2021-11-04T09:19:46.359Z"
   },
   {
    "duration": 12,
    "start_time": "2021-11-04T09:19:51.834Z"
   },
   {
    "duration": 4736,
    "start_time": "2021-11-04T09:19:51.848Z"
   },
   {
    "duration": 23,
    "start_time": "2021-11-04T09:19:56.586Z"
   },
   {
    "duration": 25,
    "start_time": "2021-11-04T09:19:56.611Z"
   },
   {
    "duration": 32,
    "start_time": "2021-11-04T09:19:56.637Z"
   },
   {
    "duration": 58,
    "start_time": "2021-11-04T09:19:56.671Z"
   },
   {
    "duration": 49,
    "start_time": "2021-11-04T09:19:56.732Z"
   },
   {
    "duration": 41,
    "start_time": "2021-11-04T09:19:56.783Z"
   },
   {
    "duration": 6,
    "start_time": "2021-11-04T09:19:56.826Z"
   },
   {
    "duration": 44,
    "start_time": "2021-11-04T09:19:56.834Z"
   },
   {
    "duration": 33,
    "start_time": "2021-11-04T09:19:56.880Z"
   },
   {
    "duration": 11,
    "start_time": "2021-11-04T09:19:56.915Z"
   },
   {
    "duration": 20,
    "start_time": "2021-11-04T09:19:56.928Z"
   },
   {
    "duration": 65,
    "start_time": "2021-11-04T09:19:56.950Z"
   },
   {
    "duration": 39,
    "start_time": "2021-11-04T09:19:57.017Z"
   },
   {
    "duration": 9,
    "start_time": "2021-11-04T12:35:22.050Z"
   },
   {
    "duration": 191,
    "start_time": "2021-11-04T12:36:55.975Z"
   },
   {
    "duration": 183,
    "start_time": "2021-11-04T12:38:47.381Z"
   },
   {
    "duration": 182,
    "start_time": "2021-11-04T12:39:08.473Z"
   },
   {
    "duration": 64,
    "start_time": "2021-11-04T12:39:15.512Z"
   },
   {
    "duration": 198,
    "start_time": "2021-11-04T12:39:24.938Z"
   },
   {
    "duration": 187,
    "start_time": "2021-11-04T12:40:03.744Z"
   },
   {
    "duration": 181,
    "start_time": "2021-11-04T12:40:34.067Z"
   },
   {
    "duration": 187,
    "start_time": "2021-11-04T12:40:42.051Z"
   },
   {
    "duration": 13,
    "start_time": "2021-11-04T12:41:12.099Z"
   },
   {
    "duration": 4648,
    "start_time": "2021-11-04T12:41:47.045Z"
   },
   {
    "duration": 4112,
    "start_time": "2021-11-04T12:42:06.265Z"
   },
   {
    "duration": 391,
    "start_time": "2021-11-04T12:42:32.380Z"
   },
   {
    "duration": 8,
    "start_time": "2021-11-04T12:42:50.204Z"
   },
   {
    "duration": 8,
    "start_time": "2021-11-04T12:43:09.406Z"
   },
   {
    "duration": 14,
    "start_time": "2021-11-04T12:43:19.894Z"
   },
   {
    "duration": 10,
    "start_time": "2021-11-04T12:44:40.448Z"
   },
   {
    "duration": 8,
    "start_time": "2021-11-04T12:46:11.279Z"
   },
   {
    "duration": 106,
    "start_time": "2021-11-04T12:49:43.811Z"
   },
   {
    "duration": 207,
    "start_time": "2021-11-04T12:50:51.351Z"
   },
   {
    "duration": 7,
    "start_time": "2021-11-04T12:51:25.965Z"
   },
   {
    "duration": 11,
    "start_time": "2021-11-04T12:51:35.085Z"
   },
   {
    "duration": 63,
    "start_time": "2021-11-04T12:51:47.169Z"
   },
   {
    "duration": 14,
    "start_time": "2021-11-04T12:58:36.628Z"
   },
   {
    "duration": 16,
    "start_time": "2021-11-04T12:58:45.188Z"
   },
   {
    "duration": 194,
    "start_time": "2021-11-04T13:00:30.680Z"
   },
   {
    "duration": 13,
    "start_time": "2021-11-04T13:01:35.251Z"
   },
   {
    "duration": 18,
    "start_time": "2021-11-04T13:01:40.923Z"
   },
   {
    "duration": 233,
    "start_time": "2021-11-04T13:02:37.332Z"
   },
   {
    "duration": 182,
    "start_time": "2021-11-04T13:06:58.219Z"
   },
   {
    "duration": 18,
    "start_time": "2021-11-04T13:09:27.296Z"
   },
   {
    "duration": 215,
    "start_time": "2021-11-04T13:10:43.107Z"
   },
   {
    "duration": 384,
    "start_time": "2021-11-04T13:10:50.412Z"
   },
   {
    "duration": 20,
    "start_time": "2021-11-04T13:10:56.592Z"
   },
   {
    "duration": 18,
    "start_time": "2021-11-04T13:12:06.230Z"
   },
   {
    "duration": 6,
    "start_time": "2021-11-04T13:13:01.261Z"
   },
   {
    "duration": 202,
    "start_time": "2021-11-04T13:13:07.903Z"
   },
   {
    "duration": 184,
    "start_time": "2021-11-04T13:13:11.021Z"
   },
   {
    "duration": 7,
    "start_time": "2021-11-04T13:13:33.084Z"
   },
   {
    "duration": 66,
    "start_time": "2021-11-04T13:16:11.295Z"
   },
   {
    "duration": 57,
    "start_time": "2021-11-04T13:17:40.494Z"
   },
   {
    "duration": 203,
    "start_time": "2021-11-04T13:18:00.352Z"
   },
   {
    "duration": 78,
    "start_time": "2021-11-04T13:18:19.657Z"
   },
   {
    "duration": 17,
    "start_time": "2021-11-04T13:18:53.982Z"
   },
   {
    "duration": 15,
    "start_time": "2021-11-04T13:20:12.858Z"
   },
   {
    "duration": 16,
    "start_time": "2021-11-04T13:29:00.317Z"
   },
   {
    "duration": 20,
    "start_time": "2021-11-04T13:35:23.137Z"
   },
   {
    "duration": 12,
    "start_time": "2021-11-04T13:45:45.034Z"
   },
   {
    "duration": 15,
    "start_time": "2021-11-04T13:49:09.645Z"
   },
   {
    "duration": 622,
    "start_time": "2021-11-04T13:56:27.984Z"
   },
   {
    "duration": 10,
    "start_time": "2021-11-04T13:56:28.607Z"
   },
   {
    "duration": 31,
    "start_time": "2021-11-04T13:56:28.618Z"
   },
   {
    "duration": 4,
    "start_time": "2021-11-04T13:56:28.650Z"
   },
   {
    "duration": 8,
    "start_time": "2021-11-04T13:56:28.655Z"
   },
   {
    "duration": 21,
    "start_time": "2021-11-04T13:56:28.692Z"
   },
   {
    "duration": 6,
    "start_time": "2021-11-04T13:56:28.714Z"
   },
   {
    "duration": 10,
    "start_time": "2021-11-04T13:56:28.722Z"
   },
   {
    "duration": 21,
    "start_time": "2021-11-04T13:56:28.734Z"
   },
   {
    "duration": 36,
    "start_time": "2021-11-04T13:56:28.757Z"
   },
   {
    "duration": 28,
    "start_time": "2021-11-04T13:56:28.795Z"
   },
   {
    "duration": 3,
    "start_time": "2021-11-04T13:56:28.825Z"
   },
   {
    "duration": 21,
    "start_time": "2021-11-04T13:56:28.830Z"
   },
   {
    "duration": 47,
    "start_time": "2021-11-04T13:56:28.853Z"
   },
   {
    "duration": 50,
    "start_time": "2021-11-04T13:56:28.901Z"
   },
   {
    "duration": 68,
    "start_time": "2021-11-04T13:56:28.953Z"
   },
   {
    "duration": 45,
    "start_time": "2021-11-04T13:56:29.023Z"
   },
   {
    "duration": 42,
    "start_time": "2021-11-04T13:56:29.070Z"
   },
   {
    "duration": 31,
    "start_time": "2021-11-04T13:56:29.114Z"
   },
   {
    "duration": 4811,
    "start_time": "2021-11-04T13:56:29.147Z"
   },
   {
    "duration": 10,
    "start_time": "2021-11-04T13:56:33.959Z"
   },
   {
    "duration": 3951,
    "start_time": "2021-11-04T13:56:33.970Z"
   },
   {
    "duration": 8,
    "start_time": "2021-11-04T13:56:37.924Z"
   },
   {
    "duration": 20,
    "start_time": "2021-11-04T13:56:37.934Z"
   },
   {
    "duration": 51,
    "start_time": "2021-11-04T13:56:37.956Z"
   },
   {
    "duration": 38,
    "start_time": "2021-11-04T13:56:38.009Z"
   },
   {
    "duration": 67,
    "start_time": "2021-11-04T13:56:38.049Z"
   },
   {
    "duration": 349,
    "start_time": "2021-11-04T13:56:38.118Z"
   },
   {
    "duration": 15,
    "start_time": "2021-11-04T13:56:38.468Z"
   },
   {
    "duration": 8,
    "start_time": "2021-11-04T13:56:38.485Z"
   },
   {
    "duration": 47,
    "start_time": "2021-11-04T13:56:38.495Z"
   },
   {
    "duration": 16,
    "start_time": "2021-11-04T13:56:38.543Z"
   },
   {
    "duration": 33,
    "start_time": "2021-11-04T13:56:38.560Z"
   },
   {
    "duration": 14,
    "start_time": "2021-11-04T13:56:38.594Z"
   },
   {
    "duration": 25,
    "start_time": "2021-11-04T13:56:38.610Z"
   },
   {
    "duration": 13,
    "start_time": "2021-11-04T13:56:38.636Z"
   },
   {
    "duration": 69,
    "start_time": "2021-11-04T13:56:38.650Z"
   },
   {
    "duration": 16,
    "start_time": "2021-11-04T13:56:38.720Z"
   },
   {
    "duration": 29,
    "start_time": "2021-11-04T14:03:10.351Z"
   },
   {
    "duration": 28,
    "start_time": "2021-11-04T14:04:42.818Z"
   },
   {
    "duration": 16,
    "start_time": "2021-11-04T14:07:07.779Z"
   },
   {
    "duration": 15,
    "start_time": "2021-11-04T14:07:17.313Z"
   },
   {
    "duration": 615,
    "start_time": "2021-11-04T14:24:51.301Z"
   },
   {
    "duration": 10,
    "start_time": "2021-11-04T14:24:51.918Z"
   },
   {
    "duration": 31,
    "start_time": "2021-11-04T14:24:51.933Z"
   },
   {
    "duration": 4,
    "start_time": "2021-11-04T14:24:51.992Z"
   },
   {
    "duration": 7,
    "start_time": "2021-11-04T14:24:51.998Z"
   },
   {
    "duration": 22,
    "start_time": "2021-11-04T14:24:52.007Z"
   },
   {
    "duration": 6,
    "start_time": "2021-11-04T14:24:52.031Z"
   },
   {
    "duration": 6,
    "start_time": "2021-11-04T14:24:52.040Z"
   },
   {
    "duration": 59,
    "start_time": "2021-11-04T14:24:52.047Z"
   },
   {
    "duration": 5,
    "start_time": "2021-11-04T14:24:52.108Z"
   },
   {
    "duration": 34,
    "start_time": "2021-11-04T14:24:52.115Z"
   },
   {
    "duration": 3,
    "start_time": "2021-11-04T14:24:52.151Z"
   },
   {
    "duration": 52,
    "start_time": "2021-11-04T14:24:52.156Z"
   },
   {
    "duration": 18,
    "start_time": "2021-11-04T14:24:52.209Z"
   },
   {
    "duration": 63,
    "start_time": "2021-11-04T14:24:52.229Z"
   },
   {
    "duration": 51,
    "start_time": "2021-11-04T14:24:52.294Z"
   },
   {
    "duration": 63,
    "start_time": "2021-11-04T14:24:52.347Z"
   },
   {
    "duration": 22,
    "start_time": "2021-11-04T14:24:52.411Z"
   },
   {
    "duration": 31,
    "start_time": "2021-11-04T14:24:52.435Z"
   },
   {
    "duration": 4777,
    "start_time": "2021-11-04T14:24:52.467Z"
   },
   {
    "duration": 10,
    "start_time": "2021-11-04T14:24:57.246Z"
   },
   {
    "duration": 4001,
    "start_time": "2021-11-04T14:24:57.258Z"
   },
   {
    "duration": 8,
    "start_time": "2021-11-04T14:25:01.261Z"
   },
   {
    "duration": 38,
    "start_time": "2021-11-04T14:25:01.270Z"
   },
   {
    "duration": 29,
    "start_time": "2021-11-04T14:25:01.310Z"
   },
   {
    "duration": 61,
    "start_time": "2021-11-04T14:25:01.341Z"
   },
   {
    "duration": 41,
    "start_time": "2021-11-04T14:25:01.404Z"
   },
   {
    "duration": 361,
    "start_time": "2021-11-04T14:25:01.447Z"
   },
   {
    "duration": 16,
    "start_time": "2021-11-04T14:25:01.810Z"
   },
   {
    "duration": 9,
    "start_time": "2021-11-04T14:25:01.828Z"
   },
   {
    "duration": 59,
    "start_time": "2021-11-04T14:25:01.838Z"
   },
   {
    "duration": 16,
    "start_time": "2021-11-04T14:25:01.899Z"
   },
   {
    "duration": 18,
    "start_time": "2021-11-04T14:25:01.917Z"
   },
   {
    "duration": 14,
    "start_time": "2021-11-04T14:25:01.936Z"
   },
   {
    "duration": 58,
    "start_time": "2021-11-04T14:25:01.951Z"
   },
   {
    "duration": 15,
    "start_time": "2021-11-04T14:25:02.010Z"
   },
   {
    "duration": 39,
    "start_time": "2021-11-04T14:25:02.026Z"
   },
   {
    "duration": 35,
    "start_time": "2021-11-04T14:25:02.067Z"
   },
   {
    "duration": 16,
    "start_time": "2021-11-04T14:25:02.104Z"
   }
  ],
  "kernelspec": {
   "display_name": "Python 3",
   "language": "python",
   "name": "python3"
  },
  "language_info": {
   "codemirror_mode": {
    "name": "ipython",
    "version": 3
   },
   "file_extension": ".py",
   "mimetype": "text/x-python",
   "name": "python",
   "nbconvert_exporter": "python",
   "pygments_lexer": "ipython3",
   "version": "3.8.8"
  },
  "toc": {
   "base_numbering": 1,
   "nav_menu": {
    "height": "12px",
    "width": "160px"
   },
   "number_sections": true,
   "sideBar": true,
   "skip_h1_title": true,
   "title_cell": "Table of Contents",
   "title_sidebar": "Contents",
   "toc_cell": false,
   "toc_position": {},
   "toc_section_display": true,
   "toc_window_display": false
  }
 },
 "nbformat": 4,
 "nbformat_minor": 2
}
